{
 "cells": [
  {
   "cell_type": "markdown",
   "metadata": {},
   "source": [
    "# Training Dialogue Encoder"
   ]
  },
  {
   "cell_type": "markdown",
   "metadata": {},
   "source": [
    "## Data Validation"
   ]
  },
  {
   "cell_type": "code",
   "execution_count": 14,
   "metadata": {},
   "outputs": [],
   "source": [
    "import os\n",
    "import json\n",
    "\n",
    "\n",
    "def validate(path_a, path_b, n_chunks=80):\n",
    "    chunks_a = sorted([filename for filename in os.listdir(path_a) if filename.endswith('.json')])[:n_chunks]\n",
    "    chunks_b = sorted([filename for filename in os.listdir(path_b) if filename.endswith('.json')])[:n_chunks]\n",
    "    \n",
    "    assert len(chunks_a) == len(chunks_b), 'chunk numbers must match'\n",
    "        \n",
    "    def parse(dia):\n",
    "        speaker_alias = \"AB\"\n",
    "        return '\\n'.join([f'[{speaker_alias[item[\"speaker\"]]}] {item[\"utterance\"]}' for item in dia])\n",
    "\n",
    "    for pos_chunk, neg_chunk in zip(chunks_a, chunks_b):\n",
    "        a = json.load(open(os.path.join(path_a, pos_chunk), 'r'))\n",
    "        b = json.load(open(os.path.join(path_b, neg_chunk), 'r'))\n",
    "        assert len(a) == len(b), 'dialogue sizes must match'\n",
    "        for dia_a, dia_b in zip(a, b):\n",
    "            assert parse(dia_a) != parse(dia_b), 'dialogues must not match'"
   ]
  },
  {
   "cell_type": "code",
   "execution_count": 15,
   "metadata": {},
   "outputs": [],
   "source": [
    "path_original = '/home/alekseev_ilya/dialogue-augmentation/nup/dialogues/train'\n",
    "path_positive = '/home/alekseev_ilya/dialogue-augmentation/augmented/insert'\n",
    "path_negative = '/home/alekseev_ilya/dialogue-augmentation/augmented/replace'"
   ]
  },
  {
   "cell_type": "code",
   "execution_count": 16,
   "metadata": {},
   "outputs": [],
   "source": [
    "validate(path_positive, path_negative)"
   ]
  },
  {
   "cell_type": "code",
   "execution_count": 17,
   "metadata": {},
   "outputs": [],
   "source": [
    "validate(path_positive, path_original)"
   ]
  },
  {
   "cell_type": "code",
   "execution_count": 18,
   "metadata": {},
   "outputs": [
    {
     "ename": "AssertionError",
     "evalue": "dialogues must not match",
     "output_type": "error",
     "traceback": [
      "\u001b[0;31m---------------------------------------------------------------------------\u001b[0m",
      "\u001b[0;31mAssertionError\u001b[0m                            Traceback (most recent call last)",
      "\u001b[1;32m/home/alekseev_ilya/dialogue-augmentation/dialogue-encoder/testbed.ipynb Cell 7\u001b[0m line \u001b[0;36m1\n\u001b[0;32m----> <a href='vscode-notebook-cell://ssh-remote%2Blnsigo.mipt.ru/home/alekseev_ilya/dialogue-augmentation/dialogue-encoder/testbed.ipynb#X25sdnNjb2RlLXJlbW90ZQ%3D%3D?line=0'>1</a>\u001b[0m validate(path_negative, path_original)\n",
      "\u001b[1;32m/home/alekseev_ilya/dialogue-augmentation/dialogue-encoder/testbed.ipynb Cell 7\u001b[0m line \u001b[0;36m2\n\u001b[1;32m     <a href='vscode-notebook-cell://ssh-remote%2Blnsigo.mipt.ru/home/alekseev_ilya/dialogue-augmentation/dialogue-encoder/testbed.ipynb#X25sdnNjb2RlLXJlbW90ZQ%3D%3D?line=17'>18</a>\u001b[0m \u001b[39massert\u001b[39;00m \u001b[39mlen\u001b[39m(a) \u001b[39m==\u001b[39m \u001b[39mlen\u001b[39m(b), \u001b[39m'\u001b[39m\u001b[39mdialogue sizes must match\u001b[39m\u001b[39m'\u001b[39m\n\u001b[1;32m     <a href='vscode-notebook-cell://ssh-remote%2Blnsigo.mipt.ru/home/alekseev_ilya/dialogue-augmentation/dialogue-encoder/testbed.ipynb#X25sdnNjb2RlLXJlbW90ZQ%3D%3D?line=18'>19</a>\u001b[0m \u001b[39mfor\u001b[39;00m dia_a, dia_b \u001b[39min\u001b[39;00m \u001b[39mzip\u001b[39m(a, b):\n\u001b[0;32m---> <a href='vscode-notebook-cell://ssh-remote%2Blnsigo.mipt.ru/home/alekseev_ilya/dialogue-augmentation/dialogue-encoder/testbed.ipynb#X25sdnNjb2RlLXJlbW90ZQ%3D%3D?line=19'>20</a>\u001b[0m     \u001b[39massert\u001b[39;00m parse(dia_a) \u001b[39m!=\u001b[39m parse(dia_b), \u001b[39m'\u001b[39m\u001b[39mdialogues must not match\u001b[39m\u001b[39m'\u001b[39m\n",
      "\u001b[0;31mAssertionError\u001b[0m: dialogues must not match"
     ]
    }
   ],
   "source": [
    "validate(path_negative, path_original)"
   ]
  },
  {
   "cell_type": "markdown",
   "metadata": {},
   "source": [
    "## Model"
   ]
  },
  {
   "cell_type": "code",
   "execution_count": null,
   "metadata": {},
   "outputs": [],
   "source": [
    "import os\n",
    "import json\n",
    "\n",
    "\n",
    "n_chunks = 80\n",
    "chunks_original = sorted([filename for filename in os.listdir(path_original) if filename.endswith('.json')])[:n_chunks]\n",
    "chunks_positive = sorted([filename for filename in os.listdir(path_positive) if filename.endswith('.json')])[:n_chunks]"
   ]
  },
  {
   "cell_type": "code",
   "execution_count": null,
   "metadata": {},
   "outputs": [],
   "source": [
    "import os\n",
    "os.environ['TOKENIZERS_PARALLELISM'] = 'false'\n",
    "os.environ['CUDA_VISIBLE_DEVICES'] = '0'\n",
    "\n",
    "import torch\n",
    "torch.set_float32_matmul_precision('medium')    "
   ]
  },
  {
   "cell_type": "code",
   "execution_count": null,
   "metadata": {},
   "outputs": [],
   "source": [
    "from nup.models.dialogue import SimpleDialogueEncoder\n",
    "\n",
    "\n",
    "encoder_name = 'xlnet-base-cased'\n",
    "model = SimpleDialogueEncoder(encoder_name)"
   ]
  },
  {
   "cell_type": "code",
   "execution_count": null,
   "metadata": {},
   "outputs": [],
   "source": [
    "# from nup.models.dialogue import HSSAConfig, HSSADM\n",
    "# config = HSSAConfig(\n",
    "#     max_ut_embeddings=28,\n",
    "#     casual_utterance_attention=False,\n",
    "# )\n",
    "# dialogue_model = HSSADM(\n",
    "#     'microsoft/mpnet-base',\n",
    "#     config,\n",
    "#     pool_utterance_level=False,\n",
    "#     pool_dialogue_level=True\n",
    "# ).cuda()\n",
    "# dialogue_model.requires_grad_(False)"
   ]
  }
 ],
 "metadata": {
  "kernelspec": {
   "display_name": "VENV",
   "language": "python",
   "name": "python3"
  },
  "language_info": {
   "codemirror_mode": {
    "name": "ipython",
    "version": 3
   },
   "file_extension": ".py",
   "mimetype": "text/x-python",
   "name": "python",
   "nbconvert_exporter": "python",
   "pygments_lexer": "ipython3",
   "version": "3.8.10"
  }
 },
 "nbformat": 4,
 "nbformat_minor": 2
}
