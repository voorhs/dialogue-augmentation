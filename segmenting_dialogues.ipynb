{
 "cells": [
  {
   "cell_type": "code",
   "execution_count": 1,
   "metadata": {},
   "outputs": [],
   "source": [
    "import json\n",
    "\n",
    "dataset = json.load(open('aug-data/original.json', 'r'))"
   ]
  },
  {
   "cell_type": "code",
   "execution_count": 11,
   "metadata": {},
   "outputs": [],
   "source": [
    "def show_dia(i_dia):\n",
    "    dia = dataset[i_dia]\n",
    "    speaker_alias = \"AB\"\n",
    "    uts = [f'[{speaker_alias[item[\"speaker\"]]}] {item[\"utterance\"]}' for item in dia]\n",
    "    print('\\n'.join(uts))\n",
    "    print(len(uts))"
   ]
  },
  {
   "cell_type": "code",
   "execution_count": 12,
   "metadata": {},
   "outputs": [
    {
     "name": "stdout",
     "output_type": "stream",
     "text": [
      "[A] I'm looking for a local place to dine in the centre that serves chinese food.\n",
      "[B] I have restaurants matching your criteria in all price ranges. Do you have a preference on price?\n",
      "[A] I need the address, postcode and the price range.\n",
      "[B] Ok how about Charlie Chan, located at Regent Street City Centre. Postcode is cb21db with a cheap price. Can I help you further today?\n",
      "[A] I also need a train. The train should leave after 16:15 and should leave on sunday.\n",
      "[B] Can I have more information for the train you're needing? Where are you departing from and arriving to?\n",
      "[A] I am leaving from Cambridge and going to Norwich.\n",
      "[B] I have train TR1840 leaving at 16:36 is that okay?\n",
      "[A] book for 5 people and get me the reference number\n",
      "[B] You're all set. Reference number is NJB87PAP . Is there anything else I can help you with today?\n",
      "[A] No, this is all I will need. Thank you.\n",
      "[B] Thank for calling us today. I hope you have a good trip.\n",
      "12\n"
     ]
    }
   ],
   "source": [
    "show_dia(0)"
   ]
  },
  {
   "cell_type": "code",
   "execution_count": null,
   "metadata": {},
   "outputs": [],
   "source": [
    "[0, 0, 0, 0, 1, 1, 1, 1, 1, 1, 2, 2]"
   ]
  },
  {
   "cell_type": "code",
   "execution_count": 13,
   "metadata": {},
   "outputs": [
    {
     "name": "stdout",
     "output_type": "stream",
     "text": [
      "[A] My husband and I are celebrating our anniversary and want to find a great place to stay in town.\n",
      "[B] Congratulations on your upcoming anniversary! Cambridge offers a variety of lodging options, what is your price range?\n",
      "[A] I would like a 4 star guesthouse that includes free parking.\n",
      "[B] I have several options for you, is there a particular area you are interested in during your stay?\n",
      "[A] yes should be in the west\n",
      "[B] I have one guesthouse that fits that criteria, Finches Bed and Breakfast. Would you like me to book for you?\n",
      "[A] Yes, please! We'll arrive on Monday and stay 2 nights. Just the two of us, of course!\n",
      "[B] Ok, your hotel stay at Finches Bed and Breakfast is booked, Reference number FKRO2HOW . Will there be anything else?\n",
      "[A] I am wanting to know more about the Cambridge Museum of Technology.\n",
      "[B] Sure, it's located in the centre area of town. The phone number is 01223368650. The entrance fee is 5 pounds.\n",
      "[A] What is the address, please.\n",
      "[B] The address is the old pumping station, cheddars lane. Did you want any more information about the museum?\n",
      "[A] Yes, I need the entrance fee. I will also need a taxi to pick me up by 24:30. I need the contact number and car type please.\n",
      "[B] The entrance fee is 5 pounds.\n",
      "[A] Can you book the taxi for me at 24:30 leaving from the museum please. I will need the contact number and the car type.\n",
      "[B] and what is your destination ?\n",
      "[A] I will leave the Cambridge Museum at 24:30, going to the the Finches Bed and Breakfast.\n",
      "[B] Your taxi has been booked. It will be a grey volvo and the contact number is 07239297218.\n",
      "[A] Thanks so much. That is all I need for today. Bye.\n",
      "[B] Have a nice stay!\n",
      "20\n"
     ]
    }
   ],
   "source": [
    "show_dia(1)"
   ]
  },
  {
   "cell_type": "code",
   "execution_count": 6,
   "metadata": {},
   "outputs": [
    {
     "data": {
      "text/plain": [
       "[0, 0, 0, 0, 0, 0, 0, 0, 1, 1, 1, 1, 1, 1, 2, 2, 2, 2, 3, 3]"
      ]
     },
     "execution_count": 6,
     "metadata": {},
     "output_type": "execute_result"
    }
   ],
   "source": [
    "[0, 0, 0, 0, 0, 0, 0, 0, 1, 1, 1, 1, [1, 2], 1, 2, 2, 2, 2, 3, 3]"
   ]
  },
  {
   "cell_type": "code",
   "execution_count": 15,
   "metadata": {},
   "outputs": [
    {
     "name": "stdout",
     "output_type": "stream",
     "text": [
      "[A] I need a taxi to come to backstreet bistro by 19:30.\n",
      "[B] Where would you be coming from?\n",
      "[A] I'm coming from sesame restaurant and bar.\n",
      "[B] I can book you a Grey BMW with the contact number 07216877402. Is there anything else I can do for you today?\n",
      "[A] Nope, that is everything! Thanks!\n",
      "[B] Thank you for contacting us and have a great day.\n",
      "6\n"
     ]
    }
   ],
   "source": [
    "show_dia(2)"
   ]
  },
  {
   "cell_type": "code",
   "execution_count": 16,
   "metadata": {},
   "outputs": [
    {
     "data": {
      "text/plain": [
       "[0, 0, 0, 0, 1, 1]"
      ]
     },
     "execution_count": 16,
     "metadata": {},
     "output_type": "execute_result"
    }
   ],
   "source": [
    "[0, 0, 0, 0, 1, 1]"
   ]
  },
  {
   "cell_type": "code",
   "execution_count": 17,
   "metadata": {},
   "outputs": [
    {
     "name": "stdout",
     "output_type": "stream",
     "text": [
      "[A] I'm looking for a place to go in the west of town.\n",
      "[B] Do you have a specific place in mind that you will like to visit?\n",
      "[A] A college I think would be best.\n",
      "[B] There are five colleges in that area that you can visit. Three of them are free to visit and two have a small entrance fee. What is your preference as far as that goes?\n",
      "[A] can i get the college's phone number. i am also looking for a train to birmingham new street and should depart from cambridge looking for a train\n",
      "[B] The phone for Churchill College is 01223336233. As far as the train goes, what day and time would you like to travel?\n",
      "[A] I would like to leave on Sunday and arrive by 17:15.\n",
      "[B] Okay, I have a train leaving at 14:01 and arriving by 16:44. Would you like me to book it for you?\n",
      "[A] No, but could you please show me the specific travel time?\n",
      "[B] The travel duration is 163 minutes, is there anything else I can do for you?\n",
      "[A] No, that is all. Thank you! Goodbye!\n",
      "[B] Okay. Thank you for choosing help desk.\n",
      "12\n"
     ]
    }
   ],
   "source": [
    "show_dia(3)"
   ]
  },
  {
   "cell_type": "code",
   "execution_count": 10,
   "metadata": {},
   "outputs": [
    {
     "data": {
      "text/plain": [
       "[0, 0, 0, 0, [0, 1], [0, 1], 1, 1, 1, 1, 2, 2]"
      ]
     },
     "execution_count": 10,
     "metadata": {},
     "output_type": "execute_result"
    }
   ],
   "source": [
    "[0, 0, 0, 0, [0, 1], [0, 1], 1, 1, 1, 1, 2, 2]"
   ]
  },
  {
   "cell_type": "code",
   "execution_count": 18,
   "metadata": {},
   "outputs": [
    {
     "name": "stdout",
     "output_type": "stream",
     "text": [
      "[A] I'm looking for an expensive restaurant in the centre.\n",
      "[B] I can recommend several restaurants in the centre of town. Are you looking for any type of food in particular\n",
      "[A] Yes, Caribbean food please.\n",
      "[B] There is no matching restaurant. Would you like to change your search criteria?\n",
      "[A] What about a restaurant that serves european food?\n",
      "[B] I found 2 expensive european restaurants and 1 expensive modern european restaurant. Which kind would you prefer?\n",
      "[A] I don't have a preference.\n",
      "[B] Okay, I can book your table at Eraina. They serve european food. How many in your party, what day and time please?\n",
      "[A] I would like to book for Tuesday at 12:45.\n",
      "[B] Are you looking to book for just yourself?\n",
      "[A] Yes. Just one person.\n",
      "[B] Great your reference number is 2K1P6FTA . Thank you.\n",
      "[A] I also need to find a train from stansted airport to cambridge that arrives by 8:00 on tuesday.\n",
      "[B] Alright, there are three different trains leaving that morning that will get you there on time. Each one has a duration of twenty-eight minutes, should I book one of them?\n",
      "[A] Yes please, just one ticket. Could I get the reference number for the train you book please?\n",
      "[B] OK, I've booked you 1 ticket on TR0514, departing stansted airport at 7:24 and arriving cambridge at 7:52. The reference number is P1C2KKFQ . Total fee is 10.1 GBP.\n",
      "[A] Perfect, thank you!\n",
      "[B] Is there anything else I can do for you?\n",
      "[A] No, thank so much for all your help.\n",
      "[B] Alright. I am glad I could be of assistance. If you need anything else feel free to say so. Goodbye.\n",
      "20\n"
     ]
    }
   ],
   "source": [
    "show_dia(4)"
   ]
  },
  {
   "cell_type": "code",
   "execution_count": 19,
   "metadata": {},
   "outputs": [
    {
     "data": {
      "text/plain": [
       "[0, 0, 0, 0, 0, 0, 0, 0, 0, 0, 0, 0, 1, 1, 1, 1, 2, 2, 2, 2]"
      ]
     },
     "execution_count": 19,
     "metadata": {},
     "output_type": "execute_result"
    }
   ],
   "source": [
    "[0, 0, 0, 0, 0, 0, 0, 0, 0, 0, 0, 0, 1, 1, 1, 1, 2, 2, 2, 2]"
   ]
  },
  {
   "cell_type": "code",
   "execution_count": 20,
   "metadata": {},
   "outputs": [
    {
     "name": "stdout",
     "output_type": "stream",
     "text": [
      "[A] I want general information on places to go in the centre area of town.\n",
      "[B] There are many attractions available, including architecture, theatre, swimming pools, parks, night clubs, museums, and cinemas. What are you most interested in?\n",
      "[A] It doesn't really matter, maybe a museum? I'll need the entrance fee also please.\n",
      "[B] i would recommend primavera located in 10 king s parade, cb21sj. phone number is 01223357708.\n",
      "[A] Okay. Can you find me a train to Broxbourne. I need to arrive by 21:00.\n",
      "[B] Where will you be departing from?\n",
      "[A] I'm leaving from Cambridge\n",
      "[B] The first train leaves at 5:01.\n",
      "[A] Ok, I need to book the train for 6 people please.\n",
      "[B] Booking was successful, the total fee is 107.4 GBP payable at the station . Reference number is : AEE0QDGA . Is there anything else I can help with?\n",
      "[A] No. You took care of everything. Thanks. Goodbye.\n",
      "[B] Okay fantastic, have a great day.\n",
      "12\n"
     ]
    }
   ],
   "source": [
    "show_dia(5)"
   ]
  },
  {
   "cell_type": "code",
   "execution_count": 21,
   "metadata": {},
   "outputs": [
    {
     "data": {
      "text/plain": [
       "[0, 0, 0, 0, 1, 1, 1, 1, 1, 1, 2, 2]"
      ]
     },
     "execution_count": 21,
     "metadata": {},
     "output_type": "execute_result"
    }
   ],
   "source": [
    "[0, 0, 0, 0, 1, 1, 1, 1, 1, 1, 2, 2]"
   ]
  },
  {
   "cell_type": "code",
   "execution_count": 22,
   "metadata": {},
   "outputs": [
    {
     "name": "stdout",
     "output_type": "stream",
     "text": [
      "[A] i want information about a place i can see local attractions.\n",
      "[B] Okay! What part of town would you like to visit?\n",
      "[A] Come to think of it, let's put that off for now. I was thinking of trying some new cuisine while we are in town. Something expensive.\n",
      "[B] Okay! What cuisine would you like to try?\n",
      "[A] I've got a couple of Jamaican buddies and I want to make them feel at home.\n",
      "[B] We don't have any expensive Jamaican places in town. Do you want to try something else?\n",
      "[A] How about something that serves African food?\n",
      "[B] The Bedouin in the city centre is an expensive African restaurant. Would you like me to book it for you?\n",
      "[A] I don't need a table right now, but I do need the postcode and phone number for that restaurant.\n",
      "[B] the phone number is 01223367660 and the postcode is cb12bd\n",
      "[A] Thanks for that info. I also need attractions in the same section of town as the restaurant. Do you have any boat activities?\n",
      "[B] There are 2 in that area. They are Scudamores Punting Co and The Cambridge Punter.\n",
      "[A] I want to try Scudamores Punting Co. What is their postcode and phone number, please?\n",
      "[B] The postcode is cb21rs, and the phone number is 01223359750\n",
      "[A] cool, thanks. i don't need anything more. see ya!\n",
      "[B] Bye. I hope you enjoy your visit.\n",
      "16\n"
     ]
    }
   ],
   "source": [
    "show_dia(6)"
   ]
  },
  {
   "cell_type": "code",
   "execution_count": 23,
   "metadata": {},
   "outputs": [
    {
     "data": {
      "text/plain": [
       "[0, 0, 0, 0, 0, 0, 0, 0, 0, 0, 1, 1, 1, 1, 2, 2]"
      ]
     },
     "execution_count": 23,
     "metadata": {},
     "output_type": "execute_result"
    }
   ],
   "source": [
    "[0, 0, 0, 0, 0, 0, 0, 0, 0, 0, 1, 1, 1, 1, 2, 2]"
   ]
  },
  {
   "cell_type": "code",
   "execution_count": 24,
   "metadata": {},
   "outputs": [
    {
     "name": "stdout",
     "output_type": "stream",
     "text": [
      "[A] I'm looking to play a variety of sports. Are there facilities that cater to that?\n",
      "[B] Yes, there is one such facility, The Cherry Hinton Village Centre, located at colville road, cherry hinton in the east side of town.\n",
      "[A] Do you have anything like that in the centre?\n",
      "[B] Unfortunately, we do not.\n",
      "[A] What about a museum in the center?\n",
      "[B] I have listings for 5, can i recommend one?\n",
      "[A] Yes please, and I'm going to need the address.\n",
      "[B] You may want to try castle galleries.\n",
      "[A] What is their address?\n",
      "[B] The Castle Galleries is located at Unit SU43, Grande Arcade, Saint Andrews Street. It's in the City Centre.\n",
      "[A] Okay, that sounds great. I also need a train that leaves on Sunday after 17:30 from Cambridge going to Stevenage.\n",
      "[B] I have train TR8726 that would leave at 19:21 and get you to Stevenage at 20:10. Would that work for you?\n",
      "[A] Yeah, can you book 4 tickets for me?\n",
      "[B] Booking was successful, the total fee is 40.96 GBP payable at the station . Reference number is : MVFN99UC .\n",
      "[A] Thanks a bunch! I couldn't have done it without you. Bye.\n",
      "[B] You are welcome. Thank you for contacting the Cambridge TownInfo centre. Goodbye.\n",
      "16\n"
     ]
    }
   ],
   "source": [
    "show_dia(7)"
   ]
  },
  {
   "cell_type": "code",
   "execution_count": 25,
   "metadata": {},
   "outputs": [
    {
     "data": {
      "text/plain": [
       "[0, 0, 0, 0, 1, 1, 1, 1, 1, 1, 2, 2, 2, 2, 3, 3]"
      ]
     },
     "execution_count": 25,
     "metadata": {},
     "output_type": "execute_result"
    }
   ],
   "source": [
    "[0, 0, 0, 0, 1, 1, 1, 1, 1, 1, 2, 2, 2, 2, 3, 3]"
   ]
  },
  {
   "cell_type": "code",
   "execution_count": 26,
   "metadata": {},
   "outputs": [
    {
     "name": "stdout",
     "output_type": "stream",
     "text": [
      "[A] Are there any accommodations in the east part of town that off free parking?\n",
      "[B] I have 6 places. Would you prefer a guesthouse or a hotel?\n",
      "[A] I want it to be a hotel and also include free wifi.\n",
      "[B] I have the express by holiday inn cambridge. Would you like me to book it for you?\n",
      "[A] What is their star rating?\n",
      "[B] it has a two star rating\n",
      "[A] Can you also tell me the address?\n",
      "[B] It is located at 15-17 norman way, coldhams business park.\n",
      "[A] I need a train, as well. It should leave on tuesday and go to london liverpool street.\n",
      "[B] great, what is your departure site?\n",
      "[A] My departure site is Cambridge please.\n",
      "[B] And what time will you be needing to leave after or arrive by?\n",
      "[A] I will need to leave after 15:45\n",
      "[B] TR4276 leaves at 15:59, will this option work for you?\n",
      "[A] Yes that train will work for me.\n",
      "[B] for how many people do i book?\n",
      "[A] Just one person please and I need a reference number\n",
      "[B] I have booked one seat on TR4276. Your reference number is FKIX0BCE . Can I be of further assistance?\n",
      "[A] Great, thank you. That is all I need.\n",
      "[B] Do you need a taxi?\n",
      "[A] No, I think that was it. Have a good day.\n",
      "[B] you are welcome\n",
      "[A] Thanks a gain for your help.\n",
      "[B] the pleasure is all mine\n",
      "[A] Actually, I do need a taxi to get to the train station. Can you look one up for me?\n",
      "[B] Wow just wow! Where will the taxi be from and what time?\n",
      "[A] Sorry, my friend was talking to me while I was trying to get all of this taken care of. I have all the information I need. Have a nice day!\n",
      "[B] I'm glad we could help you today. Good-bye.\n",
      "28\n"
     ]
    }
   ],
   "source": [
    "show_dia(8)"
   ]
  },
  {
   "cell_type": "code",
   "execution_count": 28,
   "metadata": {},
   "outputs": [
    {
     "data": {
      "text/plain": [
       "[0,\n",
       " 0,\n",
       " 0,\n",
       " 0,\n",
       " 0,\n",
       " 0,\n",
       " 0,\n",
       " 0,\n",
       " 1,\n",
       " 1,\n",
       " 1,\n",
       " 1,\n",
       " 1,\n",
       " 1,\n",
       " 1,\n",
       " 1,\n",
       " 1,\n",
       " 1,\n",
       " 1,\n",
       " 2,\n",
       " 2,\n",
       " 3,\n",
       " 3,\n",
       " 3,\n",
       " 4,\n",
       " 4,\n",
       " 5,\n",
       " 5]"
      ]
     },
     "execution_count": 28,
     "metadata": {},
     "output_type": "execute_result"
    }
   ],
   "source": [
    "[0, 0, 0, 0, 0, 0, 0, 0, 1, 1, 1, 1, 1, 1, 1, 1, 1, 1, 1, 2, 2, 3, 3, 3, 4, 4, 5, 5]"
   ]
  },
  {
   "cell_type": "code",
   "execution_count": 30,
   "metadata": {},
   "outputs": [
    {
     "name": "stdout",
     "output_type": "stream",
     "text": [
      "[A] I need to book a train for Monday going to Cambridge please.\n",
      "[B] There are quite a few trains that could suit your needs. Can you tell me where you would like to depart from?\n",
      "[A] I'll be at London's Kings Cross and wanting to leave after 11:45 am.\n",
      "[B] There is a train that leaves London Kings Cross at 13:17 and arrives in Cambridge at 14:08. Does that time work for you?\n",
      "[A] Yes, that sounds fine. Can you book me tickets for 8 people, please?\n",
      "[B] Your booking was successful. The total fee is 188.8 GBP payable at the station. The reference number is 2EGCVFWC\n",
      "[A] Thank you goodbye\n",
      "[B] Thank you and goodbye.\n",
      "[A] Before you go, could you help me find an expensive restaurant in the city centre?\n",
      "[B] Do you have a preference for the type of food?\n",
      "[A] Yes, I'd like some classic British cuisine.\n",
      "[B] Midsummer House Restaurant serves British food. Would you like me to book you a table?\n",
      "[A] Yes, that place sounds perfect. If I could book for 8 on the same day at 15:00 it would be great.\n",
      "[B] Booking was successful. The table will be reserved for 15 minutes. Reference number is : P0T1HLVC . Is there anything more I can do for you?\n",
      "[A] That will be all. Thanks for your time. Bye.\n",
      "[B] You're very welcome, enjoy your Cambridge visit!\n",
      "16\n"
     ]
    }
   ],
   "source": [
    "show_dia(9)"
   ]
  },
  {
   "cell_type": "code",
   "execution_count": 31,
   "metadata": {},
   "outputs": [
    {
     "data": {
      "text/plain": [
       "[0, 0, 0, 0, 0, 0, 1, 1, 2, 2, 2, 2, 2, 2, 3, 3]"
      ]
     },
     "execution_count": 31,
     "metadata": {},
     "output_type": "execute_result"
    }
   ],
   "source": [
    "[0, 0, 0, 0, 0, 0, 1, 1, 2, 2, 2, 2, 2, 2, 3, 3]"
   ]
  },
  {
   "cell_type": "code",
   "execution_count": 32,
   "metadata": {},
   "outputs": [
    {
     "name": "stdout",
     "output_type": "stream",
     "text": [
      "[A] I need a train going to bishops stortford.\n",
      "[B] Ok. and where are you departing from?\n",
      "[A] I'll be departing from Cambridge.\n",
      "[B] And what day will you be traveling on?\n",
      "[A] I would like to travel on Sunday.\n",
      "[B] Is there a certain time you would like to leave after or arrive by?\n",
      "[A] I can't leave until after 20:30.\n",
      "[B] TR1389 leaves at 21:29\n",
      "[A] Can you arrange travel for 7 people for TR1389 on Sunday?\n",
      "[B] Of course. The reference number is NI1LNIIP . The total fee is 56.56 which can be paid at the station.\n",
      "[A] Great, thank you. I am also looking for a modern European restaurant.\n",
      "[B] I have 5 options for you. Do you have a price range in mind?\n",
      "[A] Yes. It should be in the moderate price range.\n",
      "[B] The three choices are Restaurant Alimentum, De Luca Cucina, and Riverside Brasserie. Do you require me to book the table?\n",
      "[A] The Riverside Brasserie sounds good. Can you tell me the area they are located in?\n",
      "[B] Riverside Brasserie is located in the centre. Can I help you with anything else today?\n",
      "[A] I don't know that area very well, can you give me the exact address? I'll use gps to get there. Thanks!\n",
      "[B] Doubletree by Hilton Cambridge Granta Place Mill Lane is the address\n",
      "[A] What area is that in?\n",
      "[B] It is located in the centre, would you like a reservation?\n",
      "[A] No thank you, I will just need the area and address, can you confirm both of those please?\n",
      "[B] Sure. The Riverside Brasserie is located in the center area of town and the address is Doubletree by Hilton Cambridge Granta Place Mill Lane. Anything else today?\n",
      "[A] That's it, thank you very much for your help.\n",
      "[B] It seems there was a glitch in our system. Let me just confirm with you...is there anything else I can help you with today?\n",
      "[A] That's okay. I know how that is sometimes. That was it. Thanks for your help and have a great day.\n",
      "[B] Thank you for contacting us today. Let us know if we can be of further assistance. Good-bye.\n",
      "26\n"
     ]
    }
   ],
   "source": [
    "show_dia(10)"
   ]
  },
  {
   "cell_type": "code",
   "execution_count": 33,
   "metadata": {},
   "outputs": [
    {
     "data": {
      "text/plain": [
       "[0, 0, 0, 0, 0, 0, 0, 0, 0, 0, 1, 1, 1, 1, 1, 1, 1, 1, 1, 1, 1, 1, 2, 3, 3, 3]"
      ]
     },
     "execution_count": 33,
     "metadata": {},
     "output_type": "execute_result"
    }
   ],
   "source": [
    "[0, 0, 0, 0, 0, 0, 0, 0, 0, 0, 1, 1, 1, 1, 1, 1, 1, 1, 1, 1, 1, 1, 2, 3, 3, 3]"
   ]
  },
  {
   "cell_type": "code",
   "execution_count": 34,
   "metadata": {},
   "outputs": [
    {
     "name": "stdout",
     "output_type": "stream",
     "text": [
      "[A] I'd like to find a train from Leiceter on Saturday.\n",
      "[B] Where will you be heading?\n",
      "[A] I am going to cambridge and need to leave after 12:00\n",
      "[B] The TR7248 leaves at 12:09, would you like a ticket on that train?\n",
      "[A] I don't need to book just yet. But can I get the arrival time and price per ticket.\n",
      "[B] Yes the train arrives in Cambridge at 13:54 and the total cost of the journey is 30.24 pounds.\n",
      "[A] Okay great. That is all I needed to know.\n",
      "[B] Glad to help. Contact me again if you would like a booking. Have a nice day. Bye.\n",
      "8\n"
     ]
    }
   ],
   "source": [
    "show_dia(11)"
   ]
  },
  {
   "cell_type": "code",
   "execution_count": 35,
   "metadata": {},
   "outputs": [
    {
     "data": {
      "text/plain": [
       "[0, 0, 0, 0, 0, 0, 1, 1]"
      ]
     },
     "execution_count": 35,
     "metadata": {},
     "output_type": "execute_result"
    }
   ],
   "source": [
    "[0, 0, 0, 0, 0, 0, 1, 1]"
   ]
  },
  {
   "cell_type": "code",
   "execution_count": 36,
   "metadata": {},
   "outputs": [
    {
     "name": "stdout",
     "output_type": "stream",
     "text": [
      "[A] I'm looking for a nice place to stay, somewhere expensive and luxurious with all the amenities like free wifi. Can you recommend something like that?\n",
      "[B] i have at least five options for you. do you need free parking too?\n",
      "[A] I don't need it, but either way. As long as the hotel is expensive and has free wifi I don't mind. Are any located in the centre?\n",
      "[B] Yes, I recommend the University Arms Hotel. Would you like ma to make a reservation for you?\n",
      "[A] No may I just have the postcode and star rating of the hotel.\n",
      "[B] Sure, their postcode is cb21ad and it's rated 4 stars.\n",
      "[A] Also, i need a train on Tuesday around 09:45.\n",
      "[B] Where are you heading to and departing from please?\n",
      "[A] I am leaving from Ely heading to Cambridge.\n",
      "[B] I have train TR3412 leaving at 11:35 and arriving at 11:52.\n",
      "[A] That sounds great. Can you please book it for four people?\n",
      "[B] Booking was successful, the total fee is 17.6 GBP payable at the station . Reference number is : 6VFKQ7J6 .\n",
      "[A] Thank you for your help.\n",
      "[B] Can I help you with anything else?\n",
      "[A] No thank you have a nice day.\n",
      "[B] Have a great trip.\n",
      "[A] Thank you for your help today\n",
      "[B] Thank you for using Cambridge TownInfo centre. Have a good day!\n",
      "18\n"
     ]
    }
   ],
   "source": [
    "show_dia(12)"
   ]
  },
  {
   "cell_type": "code",
   "execution_count": 37,
   "metadata": {},
   "outputs": [
    {
     "data": {
      "text/plain": [
       "[0, 0, 0, 0, 0, 0, 1, 1, 1, 1, 1, 1, 2, 2, 2, 2, 2, 2]"
      ]
     },
     "execution_count": 37,
     "metadata": {},
     "output_type": "execute_result"
    }
   ],
   "source": [
    "[0, 0, 0, 0, 0, 0, 1, 1, 1, 1, 1, 1, 2, 2, 2, 2, 2, 2]"
   ]
  },
  {
   "cell_type": "code",
   "execution_count": 38,
   "metadata": {},
   "outputs": [
    {
     "name": "stdout",
     "output_type": "stream",
     "text": [
      "[A] I'm looking for a train leaving on Wednesday that's going to Cambridge.\n",
      "[B] Okay, where are you departing?\n",
      "[A] I'm leaving from ely to cambridge.\n",
      "[B] Sure I can help with that, the first train leaves ely at 05:35 and the last one runs at 13:35, do you have a particular time in mind?\n",
      "[A] The last train sounds like it will work best. Can you book me 4 tickets for that one please?\n",
      "[B] Booked! You'll play 17.6 GBP at the station. Reference number: OJUFDKX1 .\n",
      "[A] Great I also need some information about the Ruskin Gallery attraction.\n",
      "[B] Certainly. The Ruskin Gallery is a museum in the centre of town. It's free to enter. Would you like more information?\n",
      "[A] phone number, and address please\n",
      "[B] Their address is Anglia Ruskin University, East Road. And their phone number is 01245493131. Need anything else?\n",
      "[A] Nope, that's all I need today. Thank you for all your help.\n",
      "[B] You're very welcome. Have a great time!\n",
      "12\n"
     ]
    }
   ],
   "source": [
    "show_dia(13)"
   ]
  },
  {
   "cell_type": "code",
   "execution_count": 39,
   "metadata": {},
   "outputs": [
    {
     "data": {
      "text/plain": [
       "[0, 0, 0, 0, 0, 0, 1, 1, 1, 1, 2, 2]"
      ]
     },
     "execution_count": 39,
     "metadata": {},
     "output_type": "execute_result"
    }
   ],
   "source": [
    "[0, 0, 0, 0, 0, 0, 1, 1, 1, 1, 2, 2]"
   ]
  },
  {
   "cell_type": "code",
   "execution_count": 40,
   "metadata": {},
   "outputs": [
    {
     "name": "stdout",
     "output_type": "stream",
     "text": [
      "[A] I need a train from birmingham new street to cambridge, please.\n",
      "[B] There are 133 trains traveling that path. What day would you like to travel on?\n",
      "[A] I would like to leave on Wednesday sometime after 11:30.\n",
      "[B] How about the TR1670? It meets your specifications and leaves at 11:40.\n",
      "[A] How long is the train ride?\n",
      "[B] The train ride is 163 minutes, does this suit your needs?\n",
      "[A] How much is the fare on that train?\n",
      "[B] It is 75.10 pounds.\n",
      "[A] What is the exact arrival time? I'm also looking for a place to dine in the centre of town. I'm looking for an expensive modern european restaurant.\n",
      "[B] Let's take care of the train first. The train will arrive by 14:23 in Cambridge. Would you like to book a ticket?\n",
      "[A] Thank you I do not need to book the train, but I am looking for an expensive restaurant in the centre of town.\n",
      "[B] We have many expensive places in the center of town! Is there a particular type of cuisine you'd like to try?\n",
      "[A] I would like modern European food.\n",
      "[B] How about darrys cookhouse and wine shop?\n",
      "[A] Yeah that should work can I please get the address post code and phone number?\n",
      "[B] They are located at 40270 King Street City Centre. Postcode is cb11ln. Phone number is 01223505015. Can I book a table for you?\n",
      "[A] No thank you. I will go ahead and book myself. Thank you so much. This was all the info I needed. Have a good day.\n",
      "[B] We appreciate your business. Thank for using the Cambridge Towninfo centre! Have a great day!\n",
      "18\n"
     ]
    }
   ],
   "source": [
    "show_dia(14)"
   ]
  },
  {
   "cell_type": "code",
   "execution_count": 41,
   "metadata": {},
   "outputs": [
    {
     "data": {
      "text/plain": [
       "[0, 0, 0, 0, 0, 0, 0, 0, [0, 1], 0, [0, 1], 1, 1, 1, 1, 1, 2, 2]"
      ]
     },
     "execution_count": 41,
     "metadata": {},
     "output_type": "execute_result"
    }
   ],
   "source": [
    "[0, 0, 0, 0, 0, 0, 0, 0, [0, 1], 0, [0, 1], 1, 1, 1, 1, 1, 2, 2]"
   ]
  }
 ],
 "metadata": {
  "kernelspec": {
   "display_name": "VENV",
   "language": "python",
   "name": "python3"
  },
  "language_info": {
   "codemirror_mode": {
    "name": "ipython",
    "version": 3
   },
   "file_extension": ".py",
   "mimetype": "text/x-python",
   "name": "python",
   "nbconvert_exporter": "python",
   "pygments_lexer": "ipython3",
   "version": "3.8.10"
  },
  "orig_nbformat": 4
 },
 "nbformat": 4,
 "nbformat_minor": 2
}
