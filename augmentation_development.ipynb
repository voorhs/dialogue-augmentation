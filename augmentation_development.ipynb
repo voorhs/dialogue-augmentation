{
 "cells": [
  {
   "cell_type": "markdown",
   "metadata": {},
   "source": [
    "# Variuos Stuff"
   ]
  },
  {
   "cell_type": "markdown",
   "metadata": {},
   "source": [
    "## Load Data and Extract Utterances"
   ]
  },
  {
   "cell_type": "code",
   "execution_count": 3,
   "metadata": {},
   "outputs": [
    {
     "name": "stderr",
     "output_type": "stream",
     "text": [
      "No config specified, defaulting to: multi_woz_v22/v2.2_active_only\n",
      "Reusing dataset multi_woz_v22 (/home/ilya/.cache/huggingface/datasets/multi_woz_v22/v2.2_active_only/2.2.0/7452f16a8b502e97df5c04cc4ee5436464762fa93b1ce778dd14181e79d8b51a)\n"
     ]
    },
    {
     "data": {
      "application/vnd.jupyter.widget-view+json": {
       "model_id": "a41df39e7ddb4809bc3c1bb7dd02b621",
       "version_major": 2,
       "version_minor": 0
      },
      "text/plain": [
       "  0%|          | 0/3 [00:00<?, ?it/s]"
      ]
     },
     "metadata": {},
     "output_type": "display_data"
    },
    {
     "data": {
      "text/plain": [
       "DatasetDict({\n",
       "    train: Dataset({\n",
       "        features: ['dialogue_id', 'services', 'turns'],\n",
       "        num_rows: 8437\n",
       "    })\n",
       "    validation: Dataset({\n",
       "        features: ['dialogue_id', 'services', 'turns'],\n",
       "        num_rows: 1000\n",
       "    })\n",
       "    test: Dataset({\n",
       "        features: ['dialogue_id', 'services', 'turns'],\n",
       "        num_rows: 1000\n",
       "    })\n",
       "})"
      ]
     },
     "execution_count": 3,
     "metadata": {},
     "output_type": "execute_result"
    }
   ],
   "source": [
    "from datasets import load_dataset\n",
    "\n",
    "dataset = load_dataset(\"multi_woz_v22\")\n",
    "dataset"
   ]
  },
  {
   "cell_type": "code",
   "execution_count": 4,
   "metadata": {},
   "outputs": [],
   "source": [
    "import pandas as pd\n",
    "import json\n",
    "\n",
    "# data for all further experiments\n",
    "n_dialogues = 15\n",
    "data = dataset['validation']['turns'][:n_dialogues]\n",
    "\n",
    "# get single list of utterances\n",
    "utterances = []\n",
    "speaker = []\n",
    "for dia in data:\n",
    "    utterances.extend(dia['utterance'])\n",
    "    speaker.extend(dia['speaker'])\n",
    "df = pd.DataFrame({'text': utterances})\n",
    "df.to_csv('aug-data/original.csv')\n",
    "json.dump(speaker, open('aug-data/speaker.json', 'w'))\n",
    "\n",
    "# lengths of dialogues (to be able to restore them and all dialogues from augmented utterances)\n",
    "rle = [len(dia['utterance']) for dia in data]\n",
    "json.dump(rle, open('aug-data/rle.json', 'w'))"
   ]
  },
  {
   "cell_type": "code",
   "execution_count": 6,
   "metadata": {},
   "outputs": [],
   "source": [
    "from transformers import AutoTokenizer\n",
    "from visualization_utils import get_dialogue\n",
    "tok = AutoTokenizer.from_pretrained('microsoft/mpnet-base')\n",
    "res = tok(['\\n'.join(get_dialogue(i, 'original')) for i in range(15)])"
   ]
  },
  {
   "cell_type": "code",
   "execution_count": 8,
   "metadata": {},
   "outputs": [
    {
     "name": "stdout",
     "output_type": "stream",
     "text": [
      "213\n",
      "370\n",
      "87\n",
      "229\n",
      "342\n",
      "212\n",
      "296\n",
      "269\n",
      "359\n",
      "282\n",
      "440\n",
      "133\n",
      "279\n",
      "219\n",
      "332\n"
     ]
    }
   ],
   "source": [
    "for seq in res['input_ids']:\n",
    "    print(len(seq))"
   ]
  },
  {
   "cell_type": "markdown",
   "metadata": {},
   "source": [
    "## `textattack` package"
   ]
  },
  {
   "cell_type": "markdown",
   "metadata": {},
   "source": [
    "[textattack augment](https://github.com/QData/TextAttack#augmenting-text-textattack-augment\n",
    ")"
   ]
  },
  {
   "cell_type": "markdown",
   "metadata": {},
   "source": [
    "### Embedding"
   ]
  },
  {
   "cell_type": "markdown",
   "metadata": {},
   "source": [
    "Заменяем слово на другое слово, эмбеддинг которого ближе всех к эмбеддингу заменяемого слова "
   ]
  },
  {
   "cell_type": "code",
   "execution_count": 1,
   "metadata": {},
   "outputs": [
    {
     "name": "stdout",
     "output_type": "stream",
     "text": [
      "2023-07-29 22:05:42.307575: I tensorflow/core/platform/cpu_feature_guard.cc:182] This TensorFlow binary is optimized to use available CPU instructions in performance-critical operations.\n",
      "To enable the following instructions: AVX2 FMA, in other operations, rebuild TensorFlow with the appropriate compiler flags.\n",
      "2023-07-29 22:05:43.003568: W tensorflow/compiler/tf2tensorrt/utils/py_utils.cc:38] TF-TRT Warning: Could not find TensorRT\n",
      "2023-07-29 22:05:45.185052: I tensorflow/compiler/xla/stream_executor/cuda/cuda_gpu_executor.cc:995] successful NUMA node read from SysFS had negative value (-1), but there must be at least one NUMA node, so returning NUMA node zero. See more at https://github.com/torvalds/linux/blob/v6.0/Documentation/ABI/testing/sysfs-bus-pci#L344-L355\n",
      "2023-07-29 22:05:45.185456: W tensorflow/core/common_runtime/gpu/gpu_device.cc:1960] Cannot dlopen some GPU libraries. Please make sure the missing libraries mentioned above are installed properly if you would like to use GPU. Follow the guide at https://www.tensorflow.org/install/gpu for how to download and setup the required libraries for your platform.\n",
      "Skipping registering GPU devices...\n",
      "\u001b[34;1mtextattack\u001b[0m: Read 240 rows from aug-data/original.csv. Found columns {'', 'text'}.\n",
      "Augmenting rows: 100%|████████████████████████| 240/240 [00:13<00:00, 18.04it/s]\n",
      "\u001b[34;1mtextattack\u001b[0m: Wrote 240 augmentations to aug-data/embedding1.csv in 16.632235288619995s.\n"
     ]
    }
   ],
   "source": [
    "! textattack augment\\\n",
    "    --input-csv aug-data/original.csv\\\n",
    "    --output-csv aug-data/embedding1.csv\\\n",
    "    --input-column text\\\n",
    "    --recipe embedding\\\n",
    "    --pct-words-to-swap .1\\\n",
    "    --transformations-per-example 1\\\n",
    "    --exclude-original"
   ]
  },
  {
   "cell_type": "code",
   "execution_count": 3,
   "metadata": {},
   "outputs": [
    {
     "name": "stdout",
     "output_type": "stream",
     "text": [
      "2023-07-29 22:11:09.489463: I tensorflow/core/platform/cpu_feature_guard.cc:182] This TensorFlow binary is optimized to use available CPU instructions in performance-critical operations.\n",
      "To enable the following instructions: AVX2 FMA, in other operations, rebuild TensorFlow with the appropriate compiler flags.\n",
      "2023-07-29 22:11:10.525161: W tensorflow/compiler/tf2tensorrt/utils/py_utils.cc:38] TF-TRT Warning: Could not find TensorRT\n",
      "2023-07-29 22:11:13.182493: I tensorflow/compiler/xla/stream_executor/cuda/cuda_gpu_executor.cc:995] successful NUMA node read from SysFS had negative value (-1), but there must be at least one NUMA node, so returning NUMA node zero. See more at https://github.com/torvalds/linux/blob/v6.0/Documentation/ABI/testing/sysfs-bus-pci#L344-L355\n",
      "2023-07-29 22:11:13.182931: W tensorflow/core/common_runtime/gpu/gpu_device.cc:1960] Cannot dlopen some GPU libraries. Please make sure the missing libraries mentioned above are installed properly if you would like to use GPU. Follow the guide at https://www.tensorflow.org/install/gpu for how to download and setup the required libraries for your platform.\n",
      "Skipping registering GPU devices...\n",
      "\u001b[34;1mtextattack\u001b[0m: Read 240 rows from aug-data/original.csv. Found columns {'', 'text'}.\n",
      "Augmenting rows: 100%|████████████████████████| 240/240 [00:35<00:00,  6.76it/s]\n",
      "\u001b[34;1mtextattack\u001b[0m: Wrote 240 augmentations to aug-data/embedding3.csv in 38.67927861213684s.\n"
     ]
    }
   ],
   "source": [
    "! textattack augment\\\n",
    "    --input-csv aug-data/original.csv\\\n",
    "    --output-csv aug-data/embedding3.csv\\\n",
    "    --input-column text\\\n",
    "    --recipe embedding\\\n",
    "    --pct-words-to-swap .3\\\n",
    "    --transformations-per-example 1\\\n",
    "    --exclude-original"
   ]
  },
  {
   "cell_type": "code",
   "execution_count": 4,
   "metadata": {},
   "outputs": [
    {
     "name": "stdout",
     "output_type": "stream",
     "text": [
      "2023-07-29 22:11:56.250542: I tensorflow/core/platform/cpu_feature_guard.cc:182] This TensorFlow binary is optimized to use available CPU instructions in performance-critical operations.\n",
      "To enable the following instructions: AVX2 FMA, in other operations, rebuild TensorFlow with the appropriate compiler flags.\n",
      "2023-07-29 22:11:56.994763: W tensorflow/compiler/tf2tensorrt/utils/py_utils.cc:38] TF-TRT Warning: Could not find TensorRT\n",
      "2023-07-29 22:11:59.231507: I tensorflow/compiler/xla/stream_executor/cuda/cuda_gpu_executor.cc:995] successful NUMA node read from SysFS had negative value (-1), but there must be at least one NUMA node, so returning NUMA node zero. See more at https://github.com/torvalds/linux/blob/v6.0/Documentation/ABI/testing/sysfs-bus-pci#L344-L355\n",
      "2023-07-29 22:11:59.231928: W tensorflow/core/common_runtime/gpu/gpu_device.cc:1960] Cannot dlopen some GPU libraries. Please make sure the missing libraries mentioned above are installed properly if you would like to use GPU. Follow the guide at https://www.tensorflow.org/install/gpu for how to download and setup the required libraries for your platform.\n",
      "Skipping registering GPU devices...\n",
      "\u001b[34;1mtextattack\u001b[0m: Read 240 rows from aug-data/original.csv. Found columns {'', 'text'}.\n",
      "Augmenting rows: 100%|████████████████████████| 240/240 [00:49<00:00,  4.86it/s]\n",
      "\u001b[34;1mtextattack\u001b[0m: Wrote 240 augmentations to aug-data/embedding5.csv in 52.29889225959778s.\n"
     ]
    }
   ],
   "source": [
    "! textattack augment\\\n",
    "    --input-csv aug-data/original.csv\\\n",
    "    --output-csv aug-data/embedding5.csv\\\n",
    "    --input-column text\\\n",
    "    --recipe embedding\\\n",
    "    --pct-words-to-swap .5\\\n",
    "    --transformations-per-example 1\\\n",
    "    --exclude-original"
   ]
  },
  {
   "cell_type": "code",
   "execution_count": 5,
   "metadata": {},
   "outputs": [
    {
     "name": "stdout",
     "output_type": "stream",
     "text": [
      "embedding1\n"
     ]
    },
    {
     "data": {
      "text/markdown": [
       "[A] I <span style='color:red;font-weight:700;text-decoration:line-through;'>need </span><span style='color:green;font-weight:700;'>require </span>a train from birmingham new street to cambridge, please. \n",
       "\n",
       "[B] There are 133 trains <span style='color:red;font-weight:700;text-decoration:line-through;'>traveling </span><span style='color:green;font-weight:700;'>trip </span>that path. What day would you like to travel on? \n",
       "\n",
       "[A] I would like to leave on <span style='color:red;font-weight:700;text-decoration:line-through;'>Wednesday </span><span style='color:green;font-weight:700;'>Monday </span>sometime after 11:30. \n",
       "\n",
       "[B] How about the TR1670? It meets your specifications and <span style='color:red;font-weight:700;text-decoration:line-through;'>leaves </span><span style='color:green;font-weight:700;'>sheets </span>at 11:40. \n",
       "\n",
       "[A] How <span style='color:red;font-weight:700;text-decoration:line-through;'>long </span><span style='color:green;font-weight:700;'>longue </span>is the train ride? \n",
       "\n",
       "[B] The train ride is 163 <span style='color:red;font-weight:700;text-decoration:line-through;'>minutes, </span><span style='color:green;font-weight:700;'>mins, </span>does this suit your needs? \n",
       "\n",
       "[A] <span style='color:red;font-weight:700;text-decoration:line-through;'>How </span><span style='color:green;font-weight:700;'>Mode </span>much is the fare on that train? \n",
       "\n",
       "[B] It is 75.10 <span style='color:red;font-weight:700;text-decoration:line-through;'>pounds. ¶ [A] What </span><span style='color:green;font-weight:700;'>pound. </span>\n",
       "\n",
       "<span style='color:green;font-weight:700;'>[A] Quoi </span>is the exact arrival time? I'm also looking for a place to dine in the centre of town. I'm looking for an expensive modern european <span style='color:red;font-weight:700;text-decoration:line-through;'>restaurant. </span><span style='color:green;font-weight:700;'>lunchroom. </span>\n",
       "\n",
       "[B] Let's take <span style='color:red;font-weight:700;text-decoration:line-through;'>care </span><span style='color:green;font-weight:700;'>healthcare </span>of the train first. The train will arrive by 14:23 in Cambridge. Would you like to book a <span style='color:red;font-weight:700;text-decoration:line-through;'>ticket? </span><span style='color:green;font-weight:700;'>tickets? </span>\n",
       "\n",
       "[A] Thank you I do not <span style='color:red;font-weight:700;text-decoration:line-through;'>need to book </span><span style='color:green;font-weight:700;'>gotta to cookbook </span>the train, but I am looking for an expensive restaurant in the centre of town. \n",
       "\n",
       "[B] We have many expensive places in the center of town! Is there a <span style='color:red;font-weight:700;text-decoration:line-through;'>particular </span><span style='color:green;font-weight:700;'>singular </span>type of cuisine you'd <span style='color:red;font-weight:700;text-decoration:line-through;'>like </span><span style='color:green;font-weight:700;'>fond </span>to try? \n",
       "\n",
       "[A] I would like modern European <span style='color:red;font-weight:700;text-decoration:line-through;'>food. </span><span style='color:green;font-weight:700;'>diet. </span>\n",
       "\n",
       "[B] How about darrys cookhouse and <span style='color:red;font-weight:700;text-decoration:line-through;'>wine </span><span style='color:green;font-weight:700;'>vineyard </span>shop? \n",
       "\n",
       "[A] Yeah that should work can I please get the <span style='color:red;font-weight:700;text-decoration:line-through;'>address </span><span style='color:green;font-weight:700;'>addressing </span>post code and phone number? \n",
       "\n",
       "[B] They are <span style='color:red;font-weight:700;text-decoration:line-through;'>located </span><span style='color:green;font-weight:700;'>positioned </span>at 40270 King Street City Centre. Postcode is cb11ln. Phone number is 01223505015. Can I book a <span style='color:red;font-weight:700;text-decoration:line-through;'>table </span><span style='color:green;font-weight:700;'>chalkboard </span>for you? \n",
       "\n",
       "[A] No thank you. I will go <span style='color:red;font-weight:700;text-decoration:line-through;'>ahead </span><span style='color:green;font-weight:700;'>upcoming </span>and book myself. Thank you so much. This was all the info I <span style='color:red;font-weight:700;text-decoration:line-through;'>needed. </span><span style='color:green;font-weight:700;'>required. </span>Have a good day. \n",
       "\n",
       "[B] <span style='color:red;font-weight:700;text-decoration:line-through;'>We </span><span style='color:green;font-weight:700;'>Ours </span>appreciate your business. Thank for using the Cambridge Towninfo centre! Have a great day!"
      ],
      "text/plain": [
       "<IPython.core.display.Markdown object>"
      ]
     },
     "metadata": {},
     "output_type": "display_data"
    },
    {
     "name": "stdout",
     "output_type": "stream",
     "text": [
      "embedding3\n"
     ]
    },
    {
     "data": {
      "text/markdown": [
       "[A] I <span style='color:red;font-weight:700;text-decoration:line-through;'>need </span><span style='color:green;font-weight:700;'>needs </span>a train from birmingham <span style='color:red;font-weight:700;text-decoration:line-through;'>new </span><span style='color:green;font-weight:700;'>novo </span>street to cambridge, <span style='color:red;font-weight:700;text-decoration:line-through;'>please. </span><span style='color:green;font-weight:700;'>invites. </span>\n",
       "\n",
       "[B] There are 133 trains <span style='color:red;font-weight:700;text-decoration:line-through;'>traveling </span><span style='color:green;font-weight:700;'>trips </span>that <span style='color:red;font-weight:700;text-decoration:line-through;'>path. </span><span style='color:green;font-weight:700;'>camino. </span>What day would you <span style='color:red;font-weight:700;text-decoration:line-through;'>like to travel </span><span style='color:green;font-weight:700;'>loves to trips </span>on? \n",
       "\n",
       "[A] I would <span style='color:red;font-weight:700;text-decoration:line-through;'>like to leave </span><span style='color:green;font-weight:700;'>iike to letting </span>on Wednesday <span style='color:red;font-weight:700;text-decoration:line-through;'>sometime </span><span style='color:green;font-weight:700;'>occasionally </span>after 11:30. \n",
       "\n",
       "[B] How about the TR1670? It <span style='color:red;font-weight:700;text-decoration:line-through;'>meets </span><span style='color:green;font-weight:700;'>fulfils </span>your <span style='color:red;font-weight:700;text-decoration:line-through;'>specifications and leaves </span><span style='color:green;font-weight:700;'>hallmarks and sheets </span>at 11:40. \n",
       "\n",
       "[A] How <span style='color:red;font-weight:700;text-decoration:line-through;'>long </span><span style='color:green;font-weight:700;'>longue </span>is the train ride? \n",
       "\n",
       "[B] The <span style='color:red;font-weight:700;text-decoration:line-through;'>train </span><span style='color:green;font-weight:700;'>forming </span>ride is 163 <span style='color:red;font-weight:700;text-decoration:line-through;'>minutes, </span><span style='color:green;font-weight:700;'>mins, </span>does this suit your <span style='color:red;font-weight:700;text-decoration:line-through;'>needs? </span><span style='color:green;font-weight:700;'>require? </span>\n",
       "\n",
       "[A] How much is the <span style='color:red;font-weight:700;text-decoration:line-through;'>fare </span><span style='color:green;font-weight:700;'>tariffs </span>on that <span style='color:red;font-weight:700;text-decoration:line-through;'>train? </span><span style='color:green;font-weight:700;'>forming? </span>\n",
       "\n",
       "[B] It is 75.10 <span style='color:red;font-weight:700;text-decoration:line-through;'>pounds. </span><span style='color:green;font-weight:700;'>lb. </span>\n",
       "\n",
       "[A] What is the <span style='color:red;font-weight:700;text-decoration:line-through;'>exact </span><span style='color:green;font-weight:700;'>correct </span>arrival <span style='color:red;font-weight:700;text-decoration:line-through;'>time? </span><span style='color:green;font-weight:700;'>moment? </span>I'm <span style='color:red;font-weight:700;text-decoration:line-through;'>also looking </span><span style='color:green;font-weight:700;'>similarly researching </span>for a place to <span style='color:red;font-weight:700;text-decoration:line-through;'>dine in the centre of town. </span><span style='color:green;font-weight:700;'>lunches in the centers of cities. </span>I'm <span style='color:red;font-weight:700;text-decoration:line-through;'>looking </span><span style='color:green;font-weight:700;'>quest </span>for an expensive modern european restaurant. \n",
       "\n",
       "[B] Let's take care of the <span style='color:red;font-weight:700;text-decoration:line-through;'>train first. </span><span style='color:green;font-weight:700;'>forming outset. </span>The <span style='color:red;font-weight:700;text-decoration:line-through;'>train </span><span style='color:green;font-weight:700;'>forming </span>will <span style='color:red;font-weight:700;text-decoration:line-through;'>arrive </span><span style='color:green;font-weight:700;'>arrived </span>by 14:23 in Cambridge. Would you <span style='color:red;font-weight:700;text-decoration:line-through;'>like to book </span><span style='color:green;font-weight:700;'>likes to cookbook </span>a ticket? \n",
       "\n",
       "[A] <span style='color:red;font-weight:700;text-decoration:line-through;'>Thank </span><span style='color:green;font-weight:700;'>Thanks </span>you I do not <span style='color:red;font-weight:700;text-decoration:line-through;'>need </span><span style='color:green;font-weight:700;'>required </span>to book the <span style='color:red;font-weight:700;text-decoration:line-through;'>train, </span><span style='color:green;font-weight:700;'>forming, </span>but I am <span style='color:red;font-weight:700;text-decoration:line-through;'>looking </span><span style='color:green;font-weight:700;'>quest </span>for an expensive restaurant in the <span style='color:red;font-weight:700;text-decoration:line-through;'>centre of town. </span><span style='color:green;font-weight:700;'>centering of ciudad. </span>\n",
       "\n",
       "[B] We have many expensive <span style='color:red;font-weight:700;text-decoration:line-through;'>places in the center of town! </span><span style='color:green;font-weight:700;'>sites in the centro of municipality! </span>Is there a <span style='color:red;font-weight:700;text-decoration:line-through;'>particular </span><span style='color:green;font-weight:700;'>especial </span>type of <span style='color:red;font-weight:700;text-decoration:line-through;'>cuisine </span><span style='color:green;font-weight:700;'>cooking </span>you'd <span style='color:red;font-weight:700;text-decoration:line-through;'>like </span><span style='color:green;font-weight:700;'>likes </span>to try? \n",
       "\n",
       "[A] I <span style='color:red;font-weight:700;text-decoration:line-through;'>would </span><span style='color:green;font-weight:700;'>ought </span>like modern European food. \n",
       "\n",
       "[B] How about darrys cookhouse and <span style='color:red;font-weight:700;text-decoration:line-through;'>wine shop? ¶ [A] Yeah </span><span style='color:green;font-weight:700;'>winemaking storing? </span>\n",
       "\n",
       "<span style='color:green;font-weight:700;'>[A] Yep </span>that should <span style='color:red;font-weight:700;text-decoration:line-through;'>work </span><span style='color:green;font-weight:700;'>collaborating </span>can I <span style='color:red;font-weight:700;text-decoration:line-through;'>please </span><span style='color:green;font-weight:700;'>invite </span>get the <span style='color:red;font-weight:700;text-decoration:line-through;'>address </span><span style='color:green;font-weight:700;'>addresses </span>post code and phone number? \n",
       "\n",
       "[B] They are <span style='color:red;font-weight:700;text-decoration:line-through;'>located </span><span style='color:green;font-weight:700;'>situated </span>at 40270 <span style='color:red;font-weight:700;text-decoration:line-through;'>King </span><span style='color:green;font-weight:700;'>Emperor </span>Street City <span style='color:red;font-weight:700;text-decoration:line-through;'>Centre. </span><span style='color:green;font-weight:700;'>Centres. </span>Postcode is cb11ln. <span style='color:red;font-weight:700;text-decoration:line-through;'>Phone </span><span style='color:green;font-weight:700;'>Telefono </span>number is 01223505015. Can I <span style='color:red;font-weight:700;text-decoration:line-through;'>book a table </span><span style='color:green;font-weight:700;'>ledger a tables </span>for you? \n",
       "\n",
       "[A] <span style='color:red;font-weight:700;text-decoration:line-through;'>No thank </span><span style='color:green;font-weight:700;'>Nos gratitude </span>you. I will go ahead and <span style='color:red;font-weight:700;text-decoration:line-through;'>book </span><span style='color:green;font-weight:700;'>cookbook </span>myself. <span style='color:red;font-weight:700;text-decoration:line-through;'>Thank </span><span style='color:green;font-weight:700;'>Thanks </span>you so much. This was all the <span style='color:red;font-weight:700;text-decoration:line-through;'>info I needed. </span><span style='color:green;font-weight:700;'>informations I required. </span>Have a <span style='color:red;font-weight:700;text-decoration:line-through;'>good </span><span style='color:green;font-weight:700;'>buena </span>day. \n",
       "\n",
       "[B] We <span style='color:red;font-weight:700;text-decoration:line-through;'>appreciate </span><span style='color:green;font-weight:700;'>grateful </span>your business. Thank for <span style='color:red;font-weight:700;text-decoration:line-through;'>using </span><span style='color:green;font-weight:700;'>use </span>the Cambridge Towninfo <span style='color:red;font-weight:700;text-decoration:line-through;'>centre! </span><span style='color:green;font-weight:700;'>center! </span>Have a <span style='color:red;font-weight:700;text-decoration:line-through;'>great </span><span style='color:green;font-weight:700;'>gorgeous </span>day!"
      ],
      "text/plain": [
       "<IPython.core.display.Markdown object>"
      ]
     },
     "metadata": {},
     "output_type": "display_data"
    },
    {
     "name": "stdout",
     "output_type": "stream",
     "text": [
      "embedding5\n"
     ]
    },
    {
     "data": {
      "text/markdown": [
       "[A] I <span style='color:red;font-weight:700;text-decoration:line-through;'>need a train </span><span style='color:green;font-weight:700;'>required a forming </span>from birmingham <span style='color:red;font-weight:700;text-decoration:line-through;'>new street </span><span style='color:green;font-weight:700;'>newest thoroughfare </span>to cambridge, <span style='color:red;font-weight:700;text-decoration:line-through;'>please. </span><span style='color:green;font-weight:700;'>invites. </span>\n",
       "\n",
       "[B] There are 133 trains <span style='color:red;font-weight:700;text-decoration:line-through;'>traveling </span><span style='color:green;font-weight:700;'>travel </span>that <span style='color:red;font-weight:700;text-decoration:line-through;'>path. What </span><span style='color:green;font-weight:700;'>trajectories. Quel </span>day <span style='color:red;font-weight:700;text-decoration:line-through;'>would you like to travel </span><span style='color:green;font-weight:700;'>ought you iike to travelling </span>on? \n",
       "\n",
       "[A] I <span style='color:red;font-weight:700;text-decoration:line-through;'>would like to leave </span><span style='color:green;font-weight:700;'>ought likes to walkout </span>on <span style='color:red;font-weight:700;text-decoration:line-through;'>Wednesday sometime </span><span style='color:green;font-weight:700;'>Yesterday sometimes </span>after 11:30. \n",
       "\n",
       "[B] <span style='color:red;font-weight:700;text-decoration:line-through;'>How </span><span style='color:green;font-weight:700;'>Mode </span>about the TR1670? It <span style='color:red;font-weight:700;text-decoration:line-through;'>meets </span><span style='color:green;font-weight:700;'>fulfils </span>your <span style='color:red;font-weight:700;text-decoration:line-through;'>specifications and leaves </span><span style='color:green;font-weight:700;'>hallmarks and departs </span>at 11:40. \n",
       "\n",
       "[A] <span style='color:red;font-weight:700;text-decoration:line-through;'>How long is the train </span><span style='color:green;font-weight:700;'>Mode lang is the forming </span>ride? \n",
       "\n",
       "[B] The <span style='color:red;font-weight:700;text-decoration:line-through;'>train </span><span style='color:green;font-weight:700;'>forming </span>ride is 163 <span style='color:red;font-weight:700;text-decoration:line-through;'>minutes, </span><span style='color:green;font-weight:700;'>mins, </span>does this suit your <span style='color:red;font-weight:700;text-decoration:line-through;'>needs? ¶ [A] How much is the fare </span><span style='color:green;font-weight:700;'>should? </span>\n",
       "\n",
       "<span style='color:green;font-weight:700;'>[A] Mode very is the tariffs </span>on that <span style='color:red;font-weight:700;text-decoration:line-through;'>train? </span><span style='color:green;font-weight:700;'>forming? </span>\n",
       "\n",
       "[B] It is 75.10 <span style='color:red;font-weight:700;text-decoration:line-through;'>pounds. </span><span style='color:green;font-weight:700;'>pound. </span>\n",
       "\n",
       "[A] What is the <span style='color:red;font-weight:700;text-decoration:line-through;'>exact arrival time? </span><span style='color:green;font-weight:700;'>precision coming times? </span>I'm <span style='color:red;font-weight:700;text-decoration:line-through;'>also looking for a place to dine in the centre of town. </span><span style='color:green;font-weight:700;'>moreover searching for a placing to dinner in the centered of urban. </span>I'm <span style='color:red;font-weight:700;text-decoration:line-through;'>looking </span><span style='color:green;font-weight:700;'>quest </span>for an expensive <span style='color:red;font-weight:700;text-decoration:line-through;'>modern european restaurant. </span><span style='color:green;font-weight:700;'>fashionable europe restaurants. </span>\n",
       "\n",
       "[B] Let's <span style='color:red;font-weight:700;text-decoration:line-through;'>take care of the train first. </span><span style='color:green;font-weight:700;'>taking caring of the forming firstly. </span>The <span style='color:red;font-weight:700;text-decoration:line-through;'>train </span><span style='color:green;font-weight:700;'>forming </span>will <span style='color:red;font-weight:700;text-decoration:line-through;'>arrive </span><span style='color:green;font-weight:700;'>come </span>by 14:23 in <span style='color:red;font-weight:700;text-decoration:line-through;'>Cambridge. Would you like to book a ticket? ¶ [A] Thank </span><span style='color:green;font-weight:700;'>Oxford. Ought you loves to ledger a airfare? </span>\n",
       "\n",
       "<span style='color:green;font-weight:700;'>[A] Thanked </span>you I do not <span style='color:red;font-weight:700;text-decoration:line-through;'>need to book the train, </span><span style='color:green;font-weight:700;'>necessary to cookbook the forming, </span>but I am <span style='color:red;font-weight:700;text-decoration:line-through;'>looking </span><span style='color:green;font-weight:700;'>quest </span>for an <span style='color:green;font-weight:700;'>pricey lunchroom in the centers of municipal. </span>\n",
       "\n",
       "<span style='color:green;font-weight:700;'>[B] Ours have innumerable </span>expensive <span style='color:red;font-weight:700;text-decoration:line-through;'>restaurant in the centre of town. ¶ [B] We have many expensive places in the center of town! </span><span style='color:green;font-weight:700;'>spaces in the centres of ville! </span>Is there a <span style='color:red;font-weight:700;text-decoration:line-through;'>particular type of cuisine </span><span style='color:green;font-weight:700;'>peculiar types of gastronomy </span>you'd <span style='color:red;font-weight:700;text-decoration:line-through;'>like to try? </span><span style='color:green;font-weight:700;'>adores to strive? </span>\n",
       "\n",
       "[A] I would <span style='color:red;font-weight:700;text-decoration:line-through;'>like modern </span><span style='color:green;font-weight:700;'>loves modernity </span>European <span style='color:red;font-weight:700;text-decoration:line-through;'>food. ¶ [B] How </span><span style='color:green;font-weight:700;'>nutritional. </span>\n",
       "\n",
       "<span style='color:green;font-weight:700;'>[B] Mode </span>about darrys cookhouse and <span style='color:red;font-weight:700;text-decoration:line-through;'>wine shop? ¶ [A] Yeah </span><span style='color:green;font-weight:700;'>vin stores? </span>\n",
       "\n",
       "<span style='color:green;font-weight:700;'>[A] Yup </span>that should <span style='color:red;font-weight:700;text-decoration:line-through;'>work </span><span style='color:green;font-weight:700;'>worked </span>can I <span style='color:red;font-weight:700;text-decoration:line-through;'>please get the address </span><span style='color:green;font-weight:700;'>invite obtains the solve </span>post <span style='color:red;font-weight:700;text-decoration:line-through;'>code and phone </span><span style='color:green;font-weight:700;'>codes and telephone </span>number? \n",
       "\n",
       "[B] They are <span style='color:red;font-weight:700;text-decoration:line-through;'>located </span><span style='color:green;font-weight:700;'>positioned </span>at 40270 <span style='color:red;font-weight:700;text-decoration:line-through;'>King Street City Centre. </span><span style='color:green;font-weight:700;'>Emperor Rue Town Centres. </span>Postcode is cb11ln. <span style='color:red;font-weight:700;text-decoration:line-through;'>Phone </span><span style='color:green;font-weight:700;'>Tel </span>number is 01223505015. Can I <span style='color:red;font-weight:700;text-decoration:line-through;'>book a table </span><span style='color:green;font-weight:700;'>ledger a tableau </span>for you? \n",
       "\n",
       "[A] <span style='color:red;font-weight:700;text-decoration:line-through;'>No thank </span><span style='color:green;font-weight:700;'>Not thanks </span>you. I will <span style='color:red;font-weight:700;text-decoration:line-through;'>go ahead and book </span><span style='color:green;font-weight:700;'>going forthcoming and ledger </span>myself. <span style='color:red;font-weight:700;text-decoration:line-through;'>Thank </span><span style='color:green;font-weight:700;'>Thanking </span>you so <span style='color:red;font-weight:700;text-decoration:line-through;'>much. </span><span style='color:green;font-weight:700;'>very. </span>This was all the <span style='color:red;font-weight:700;text-decoration:line-through;'>info I needed. Have a good </span><span style='color:green;font-weight:700;'>informational I require. Had a alright </span>day. \n",
       "\n",
       "[B] We <span style='color:red;font-weight:700;text-decoration:line-through;'>appreciate </span><span style='color:green;font-weight:700;'>grateful </span>your <span style='color:red;font-weight:700;text-decoration:line-through;'>business. Thank for using </span><span style='color:green;font-weight:700;'>firms. Thanked for employs </span>the Cambridge Towninfo <span style='color:red;font-weight:700;text-decoration:line-through;'>centre! Have a great </span><span style='color:green;font-weight:700;'>centres! Has a resplendent </span>day!"
      ],
      "text/plain": [
       "<IPython.core.display.Markdown object>"
      ]
     },
     "metadata": {},
     "output_type": "display_data"
    }
   ],
   "source": [
    "from visualization_utils import show_augmented\n",
    "\n",
    "\n",
    "for name in ['embedding1', 'embedding3', 'embedding5']:\n",
    "    print(name)\n",
    "    show_augmented(14, name)"
   ]
  },
  {
   "cell_type": "markdown",
   "metadata": {},
   "source": [
    "Безконтекстная замена создает грамматические ошибки"
   ]
  },
  {
   "cell_type": "markdown",
   "metadata": {},
   "source": [
    "### Checklist"
   ]
  },
  {
   "cell_type": "markdown",
   "metadata": {},
   "source": [
    "Заменить названия, числа, удлиннить или укоротить фразы."
   ]
  },
  {
   "cell_type": "code",
   "execution_count": 1,
   "metadata": {},
   "outputs": [
    {
     "name": "stdout",
     "output_type": "stream",
     "text": [
      "2023-07-29 22:19:59.199016: I tensorflow/core/platform/cpu_feature_guard.cc:182] This TensorFlow binary is optimized to use available CPU instructions in performance-critical operations.\n",
      "To enable the following instructions: AVX2 FMA, in other operations, rebuild TensorFlow with the appropriate compiler flags.\n",
      "2023-07-29 22:20:00.260409: W tensorflow/compiler/tf2tensorrt/utils/py_utils.cc:38] TF-TRT Warning: Could not find TensorRT\n",
      "2023-07-29 22:20:04.345714: I tensorflow/compiler/xla/stream_executor/cuda/cuda_gpu_executor.cc:995] successful NUMA node read from SysFS had negative value (-1), but there must be at least one NUMA node, so returning NUMA node zero. See more at https://github.com/torvalds/linux/blob/v6.0/Documentation/ABI/testing/sysfs-bus-pci#L344-L355\n",
      "2023-07-29 22:20:04.346156: W tensorflow/core/common_runtime/gpu/gpu_device.cc:1960] Cannot dlopen some GPU libraries. Please make sure the missing libraries mentioned above are installed properly if you would like to use GPU. Follow the guide at https://www.tensorflow.org/install/gpu for how to download and setup the required libraries for your platform.\n",
      "Skipping registering GPU devices...\n",
      "\u001b[34;1mtextattack\u001b[0m: Read 240 rows from aug-data/original.csv. Found columns {'', 'text'}.\n",
      "Augmenting rows:   0%|                                  | 0/240 [00:00<?, ?it/s]2023-07-29 22:20:10,748 SequenceTagger predicts: Dictionary with 20 tags: <unk>, O, S-ORG, S-MISC, B-PER, E-PER, S-LOC, B-ORG, E-ORG, I-PER, S-PER, B-MISC, I-MISC, E-MISC, I-ORG, B-LOC, E-LOC, I-LOC, <START>, <STOP>\n",
      "Augmenting rows: 100%|████████████████████████| 240/240 [03:59<00:00,  1.00it/s]\n",
      "\u001b[34;1mtextattack\u001b[0m: Wrote 240 augmentations to aug-data/checklist1.csv in 239.09341764450073s.\n"
     ]
    }
   ],
   "source": [
    "! textattack augment\\\n",
    "    --input-csv aug-data/original.csv\\\n",
    "    --output-csv aug-data/checklist1.csv\\\n",
    "    --input-column text\\\n",
    "    --recipe checklist\\\n",
    "    --pct-words-to-swap .1\\\n",
    "    --transformations-per-example 1\\\n",
    "    --exclude-original"
   ]
  },
  {
   "cell_type": "code",
   "execution_count": 2,
   "metadata": {},
   "outputs": [
    {
     "name": "stdout",
     "output_type": "stream",
     "text": [
      "2023-07-29 22:24:21.229723: I tensorflow/core/platform/cpu_feature_guard.cc:182] This TensorFlow binary is optimized to use available CPU instructions in performance-critical operations.\n",
      "To enable the following instructions: AVX2 FMA, in other operations, rebuild TensorFlow with the appropriate compiler flags.\n",
      "2023-07-29 22:24:21.996574: W tensorflow/compiler/tf2tensorrt/utils/py_utils.cc:38] TF-TRT Warning: Could not find TensorRT\n",
      "2023-07-29 22:24:24.224325: I tensorflow/compiler/xla/stream_executor/cuda/cuda_gpu_executor.cc:995] successful NUMA node read from SysFS had negative value (-1), but there must be at least one NUMA node, so returning NUMA node zero. See more at https://github.com/torvalds/linux/blob/v6.0/Documentation/ABI/testing/sysfs-bus-pci#L344-L355\n",
      "2023-07-29 22:24:24.224736: W tensorflow/core/common_runtime/gpu/gpu_device.cc:1960] Cannot dlopen some GPU libraries. Please make sure the missing libraries mentioned above are installed properly if you would like to use GPU. Follow the guide at https://www.tensorflow.org/install/gpu for how to download and setup the required libraries for your platform.\n",
      "Skipping registering GPU devices...\n",
      "\u001b[34;1mtextattack\u001b[0m: Read 240 rows from aug-data/original.csv. Found columns {'', 'text'}.\n",
      "Augmenting rows:   0%|                                  | 0/240 [00:00<?, ?it/s]2023-07-29 22:24:26,829 SequenceTagger predicts: Dictionary with 20 tags: <unk>, O, S-ORG, S-MISC, B-PER, E-PER, S-LOC, B-ORG, E-ORG, I-PER, S-PER, B-MISC, I-MISC, E-MISC, I-ORG, B-LOC, E-LOC, I-LOC, <START>, <STOP>\n",
      "Augmenting rows: 100%|████████████████████████| 240/240 [06:27<00:00,  1.62s/it]\n",
      "\u001b[34;1mtextattack\u001b[0m: Wrote 240 augmentations to aug-data/checklist3.csv in 387.97828555107117s.\n"
     ]
    }
   ],
   "source": [
    "! textattack augment\\\n",
    "    --input-csv aug-data/original.csv\\\n",
    "    --output-csv aug-data/checklist3.csv\\\n",
    "    --input-column text\\\n",
    "    --recipe checklist\\\n",
    "    --pct-words-to-swap .3\\\n",
    "    --transformations-per-example 1\\\n",
    "    --exclude-original"
   ]
  },
  {
   "cell_type": "code",
   "execution_count": 2,
   "metadata": {},
   "outputs": [
    {
     "name": "stdout",
     "output_type": "stream",
     "text": [
      "2023-07-29 22:34:21.390622: I tensorflow/core/platform/cpu_feature_guard.cc:182] This TensorFlow binary is optimized to use available CPU instructions in performance-critical operations.\n",
      "To enable the following instructions: AVX2 FMA, in other operations, rebuild TensorFlow with the appropriate compiler flags.\n",
      "2023-07-29 22:34:22.038400: W tensorflow/compiler/tf2tensorrt/utils/py_utils.cc:38] TF-TRT Warning: Could not find TensorRT\n",
      "2023-07-29 22:34:24.171847: I tensorflow/compiler/xla/stream_executor/cuda/cuda_gpu_executor.cc:995] successful NUMA node read from SysFS had negative value (-1), but there must be at least one NUMA node, so returning NUMA node zero. See more at https://github.com/torvalds/linux/blob/v6.0/Documentation/ABI/testing/sysfs-bus-pci#L344-L355\n",
      "2023-07-29 22:34:24.172271: W tensorflow/core/common_runtime/gpu/gpu_device.cc:1960] Cannot dlopen some GPU libraries. Please make sure the missing libraries mentioned above are installed properly if you would like to use GPU. Follow the guide at https://www.tensorflow.org/install/gpu for how to download and setup the required libraries for your platform.\n",
      "Skipping registering GPU devices...\n",
      "\u001b[34;1mtextattack\u001b[0m: Read 240 rows from aug-data/original.csv. Found columns {'', 'text'}.\n",
      "Augmenting rows:   0%|                                  | 0/240 [00:00<?, ?it/s]2023-07-29 22:34:26,880 SequenceTagger predicts: Dictionary with 20 tags: <unk>, O, S-ORG, S-MISC, B-PER, E-PER, S-LOC, B-ORG, E-ORG, I-PER, S-PER, B-MISC, I-MISC, E-MISC, I-ORG, B-LOC, E-LOC, I-LOC, <START>, <STOP>\n",
      "Augmenting rows: 100%|████████████████████████| 240/240 [06:57<00:00,  1.74s/it]\n",
      "\u001b[34;1mtextattack\u001b[0m: Wrote 240 augmentations to aug-data/checklist5.csv in 417.7566545009613s.\n"
     ]
    }
   ],
   "source": [
    "! textattack augment\\\n",
    "    --input-csv aug-data/original.csv\\\n",
    "    --output-csv aug-data/checklist5.csv\\\n",
    "    --input-column text\\\n",
    "    --recipe checklist\\\n",
    "    --pct-words-to-swap .5\\\n",
    "    --transformations-per-example 1\\\n",
    "    --exclude-original"
   ]
  },
  {
   "cell_type": "code",
   "execution_count": 36,
   "metadata": {},
   "outputs": [
    {
     "data": {
      "text/markdown": [
       "[A] I need a train from <span style='color:red;font-weight:700;text-decoration:line-through;'>birmingham </span><span style='color:green;font-weight:700;'>St. Cloud </span>new street to cambridge, please. \n",
       "\n",
       "[B] There are <span style='color:red;font-weight:700;text-decoration:line-through;'>133 </span><span style='color:green;font-weight:700;'>93 </span>trains traveling that path. What day would you like to travel on? \n",
       "\n",
       "[A] I would like to leave on Wednesday sometime after <span style='color:red;font-weight:700;text-decoration:line-through;'>11:30. </span><span style='color:green;font-weight:700;'>11:4. </span>\n",
       "\n",
       "[B] How about the TR1670? It meets your specifications and leaves at <span style='color:red;font-weight:700;text-decoration:line-through;'>11:40. </span><span style='color:green;font-weight:700;'>13:40. </span>\n",
       "\n",
       "[A] How long is the train ride? \n",
       "\n",
       "[B] The train ride is <span style='color:red;font-weight:700;text-decoration:line-through;'>163 </span><span style='color:green;font-weight:700;'>249 </span>minutes, does this suit your needs? \n",
       "\n",
       "[A] How much is the fare on that train? \n",
       "\n",
       "[B] It is <span style='color:red;font-weight:700;text-decoration:line-through;'>75.10 </span><span style='color:green;font-weight:700;'>75.16 </span>pounds. \n",
       "\n",
       "[A] What is the exact arrival time? I'm also looking for a place to dine in the centre of town. <span style='color:red;font-weight:700;text-decoration:line-through;'>I'm </span><span style='color:green;font-weight:700;'>I am </span>looking for an expensive modern european restaurant. \n",
       "\n",
       "[B] <span style='color:red;font-weight:700;text-decoration:line-through;'>Let's </span><span style='color:green;font-weight:700;'>Shon </span>take care of the train first. The train will arrive by <span style='color:red;font-weight:700;text-decoration:line-through;'>14:23 </span><span style='color:green;font-weight:700;'>14:37 </span>in Cambridge. Would you like to book a ticket? \n",
       "\n",
       "[A] Thank you I <span style='color:red;font-weight:700;text-decoration:line-through;'>do not </span><span style='color:green;font-weight:700;'>don't </span>need to book the train, but <span style='color:red;font-weight:700;text-decoration:line-through;'>I am </span><span style='color:green;font-weight:700;'>I'm </span>looking for an expensive restaurant in the centre of town. \n",
       "\n",
       "[B] We have many expensive places in the center of town! Is there a particular type of cuisine <span style='color:red;font-weight:700;text-decoration:line-through;'>you'd </span><span style='color:green;font-weight:700;'>you would </span>like to try? \n",
       "\n",
       "[A] <span style='color:red;font-weight:700;text-decoration:line-through;'>I would </span><span style='color:green;font-weight:700;'>I'd </span>like modern European food. \n",
       "\n",
       "[B] How about darrys cookhouse and wine shop? \n",
       "\n",
       "[A] Yeah that should work can I please get the address post code and phone number? \n",
       "\n",
       "[B] They are located at <span style='color:red;font-weight:700;text-decoration:line-through;'>40270 </span><span style='color:green;font-weight:700;'>35271 </span>King Street City Centre. Postcode is cb11ln. Phone number is <span style='color:red;font-weight:700;text-decoration:line-through;'>01223505015. </span><span style='color:green;font-weight:700;'>46547340. </span>Can I book a table for you? \n",
       "\n",
       "[A] No thank you. <span style='color:red;font-weight:700;text-decoration:line-through;'>I will </span><span style='color:green;font-weight:700;'>I'll </span>go ahead and book myself. Thank you so much. This was all the info I needed. Have a good day. \n",
       "\n",
       "[B] We appreciate your business. Thank for using the Cambridge Towninfo centre! Have a great day!"
      ],
      "text/plain": [
       "<IPython.core.display.Markdown object>"
      ]
     },
     "metadata": {},
     "output_type": "display_data"
    }
   ],
   "source": [
    "from visualization_utils import show_augmented\n",
    "\n",
    "\n",
    "for name in ['embedding1', 'embedding3', 'embedding5']:\n",
    "    print(f'======= {name} =======')\n",
    "    show_augmented(14, name)"
   ]
  },
  {
   "cell_type": "markdown",
   "metadata": {},
   "source": [
    "### CLARE"
   ]
  },
  {
   "cell_type": "markdown",
   "metadata": {},
   "source": [
    "Это супер медленно!"
   ]
  },
  {
   "cell_type": "markdown",
   "metadata": {},
   "source": [
    "Заменяем токены, вставляем, соединяем и заменяем --- с помощью MLM."
   ]
  },
  {
   "cell_type": "code",
   "execution_count": 54,
   "metadata": {},
   "outputs": [
    {
     "name": "stdout",
     "output_type": "stream",
     "text": [
      "2023-07-28 16:24:01.653839: I tensorflow/core/platform/cpu_feature_guard.cc:182] This TensorFlow binary is optimized to use available CPU instructions in performance-critical operations.\n",
      "To enable the following instructions: AVX2 FMA, in other operations, rebuild TensorFlow with the appropriate compiler flags.\n",
      "2023-07-28 16:24:02.255426: W tensorflow/compiler/tf2tensorrt/utils/py_utils.cc:38] TF-TRT Warning: Could not find TensorRT\n",
      "2023-07-28 16:24:04.327086: I tensorflow/compiler/xla/stream_executor/cuda/cuda_gpu_executor.cc:995] successful NUMA node read from SysFS had negative value (-1), but there must be at least one NUMA node, so returning NUMA node zero. See more at https://github.com/torvalds/linux/blob/v6.0/Documentation/ABI/testing/sysfs-bus-pci#L344-L355\n",
      "2023-07-28 16:24:04.327460: W tensorflow/core/common_runtime/gpu/gpu_device.cc:1960] Cannot dlopen some GPU libraries. Please make sure the missing libraries mentioned above are installed properly if you would like to use GPU. Follow the guide at https://www.tensorflow.org/install/gpu for how to download and setup the required libraries for your platform.\n",
      "Skipping registering GPU devices...\n",
      "\u001b[34;1mtextattack\u001b[0m: Read 240 rows from utterances.csv. Found columns {'', 'text'}.\n",
      "If you want to use `RobertaLMHeadModel` as a standalone, add `is_decoder=True.`\n",
      "Augmenting rows:   0%|                                  | 0/240 [00:00<?, ?it/s]2023-07-28 16:24:12,118 SequenceTagger predicts: Dictionary with 19 tags: <unk>, NOUN, VERB, PUNCT, ADP, DET, PROPN, PRON, ADJ, ADV, CCONJ, PART, NUM, AUX, INTJ, SYM, X, <START>, <STOP>\n",
      "2023-07-28 16:26:55.027545: W tensorflow/tsl/framework/cpu_allocator_impl.cc:83] Allocation of 34133760 exceeds 10% of free system memory.\n",
      "2023-07-28 16:26:55.042949: W tensorflow/tsl/framework/cpu_allocator_impl.cc:83] Allocation of 34133760 exceeds 10% of free system memory.\n",
      "2023-07-28 16:26:55.056589: W tensorflow/tsl/framework/cpu_allocator_impl.cc:83] Allocation of 34133760 exceeds 10% of free system memory.\n",
      "2023-07-28 16:26:55.069804: W tensorflow/tsl/framework/cpu_allocator_impl.cc:83] Allocation of 34133760 exceeds 10% of free system memory.\n",
      "2023-07-28 16:26:55.082965: W tensorflow/tsl/framework/cpu_allocator_impl.cc:83] Allocation of 34133760 exceeds 10% of free system memory.\n",
      "Augmenting rows: 100%|████████████████████████| 240/240 [13:41<00:00,  3.42s/it]\n",
      "\u001b[34;1mtextattack\u001b[0m: Wrote 240 augmentations to aug-clare.csv in 825.4834976196289s.\n"
     ]
    }
   ],
   "source": [
    "! textattack augment\\\n",
    "    --input-csv aug-data/original.csv\\\n",
    "    --output-csv aug-data/clare1.csv\\\n",
    "    --input-column text\\\n",
    "    --recipe clare\\\n",
    "    --pct-words-to-swap .1\\\n",
    "    --transformations-per-example 1\\\n",
    "    --exclude-original"
   ]
  },
  {
   "cell_type": "code",
   "execution_count": 1,
   "metadata": {},
   "outputs": [
    {
     "name": "stdout",
     "output_type": "stream",
     "text": [
      "2023-07-29 23:06:27.875263: I tensorflow/core/platform/cpu_feature_guard.cc:182] This TensorFlow binary is optimized to use available CPU instructions in performance-critical operations.\n",
      "To enable the following instructions: AVX2 FMA, in other operations, rebuild TensorFlow with the appropriate compiler flags.\n",
      "2023-07-29 23:06:28.639759: W tensorflow/compiler/tf2tensorrt/utils/py_utils.cc:38] TF-TRT Warning: Could not find TensorRT\n",
      "2023-07-29 23:06:31.112069: I tensorflow/compiler/xla/stream_executor/cuda/cuda_gpu_executor.cc:995] successful NUMA node read from SysFS had negative value (-1), but there must be at least one NUMA node, so returning NUMA node zero. See more at https://github.com/torvalds/linux/blob/v6.0/Documentation/ABI/testing/sysfs-bus-pci#L344-L355\n",
      "2023-07-29 23:06:31.112455: W tensorflow/core/common_runtime/gpu/gpu_device.cc:1960] Cannot dlopen some GPU libraries. Please make sure the missing libraries mentioned above are installed properly if you would like to use GPU. Follow the guide at https://www.tensorflow.org/install/gpu for how to download and setup the required libraries for your platform.\n",
      "Skipping registering GPU devices...\n",
      "\u001b[34;1mtextattack\u001b[0m: Read 240 rows from aug-data/original.csv. Found columns {'', 'text'}.\n",
      "If you want to use `RobertaLMHeadModel` as a standalone, add `is_decoder=True.`\n",
      "Augmenting rows:   0%|                                  | 0/240 [00:00<?, ?it/s]2023-07-29 23:06:39,933 SequenceTagger predicts: Dictionary with 19 tags: <unk>, NOUN, VERB, PUNCT, ADP, DET, PROPN, PRON, ADJ, ADV, CCONJ, PART, NUM, AUX, INTJ, SYM, X, <START>, <STOP>\n",
      "Augmenting rows: 100%|████████████████████████| 240/240 [26:34<00:00,  6.65s/it]\n",
      "\u001b[34;1mtextattack\u001b[0m: Wrote 240 augmentations to aug-data/clare3.csv in 1599.3306756019592s.\n"
     ]
    }
   ],
   "source": [
    "! textattack augment\\\n",
    "    --input-csv aug-data/original.csv\\\n",
    "    --output-csv aug-data/clare3.csv\\\n",
    "    --input-column text\\\n",
    "    --recipe clare\\\n",
    "    --pct-words-to-swap .3\\\n",
    "    --transformations-per-example 1\\\n",
    "    --exclude-original"
   ]
  },
  {
   "cell_type": "code",
   "execution_count": 2,
   "metadata": {},
   "outputs": [
    {
     "name": "stdout",
     "output_type": "stream",
     "text": [
      "2023-07-29 23:33:36.109604: I tensorflow/core/platform/cpu_feature_guard.cc:182] This TensorFlow binary is optimized to use available CPU instructions in performance-critical operations.\n",
      "To enable the following instructions: AVX2 FMA, in other operations, rebuild TensorFlow with the appropriate compiler flags.\n",
      "2023-07-29 23:33:36.683459: W tensorflow/compiler/tf2tensorrt/utils/py_utils.cc:38] TF-TRT Warning: Could not find TensorRT\n",
      "2023-07-29 23:33:38.520308: I tensorflow/compiler/xla/stream_executor/cuda/cuda_gpu_executor.cc:995] successful NUMA node read from SysFS had negative value (-1), but there must be at least one NUMA node, so returning NUMA node zero. See more at https://github.com/torvalds/linux/blob/v6.0/Documentation/ABI/testing/sysfs-bus-pci#L344-L355\n",
      "2023-07-29 23:33:38.520671: W tensorflow/core/common_runtime/gpu/gpu_device.cc:1960] Cannot dlopen some GPU libraries. Please make sure the missing libraries mentioned above are installed properly if you would like to use GPU. Follow the guide at https://www.tensorflow.org/install/gpu for how to download and setup the required libraries for your platform.\n",
      "Skipping registering GPU devices...\n",
      "\u001b[34;1mtextattack\u001b[0m: Read 240 rows from aug-data/original.csv. Found columns {'', 'text'}.\n",
      "If you want to use `RobertaLMHeadModel` as a standalone, add `is_decoder=True.`\n",
      "Augmenting rows:   0%|                                  | 0/240 [00:00<?, ?it/s]2023-07-29 23:33:45,802 SequenceTagger predicts: Dictionary with 19 tags: <unk>, NOUN, VERB, PUNCT, ADP, DET, PROPN, PRON, ADJ, ADV, CCONJ, PART, NUM, AUX, INTJ, SYM, X, <START>, <STOP>\n",
      "Augmenting rows: 100%|████████████████████████| 240/240 [41:16<00:00, 10.32s/it]\n",
      "\u001b[34;1mtextattack\u001b[0m: Wrote 240 augmentations to aug-data/clare5.csv in 2479.451818704605s.\n"
     ]
    }
   ],
   "source": [
    "! textattack augment\\\n",
    "    --input-csv aug-data/original.csv\\\n",
    "    --output-csv aug-data/clare5.csv\\\n",
    "    --input-column text\\\n",
    "    --recipe clare\\\n",
    "    --pct-words-to-swap .5\\\n",
    "    --transformations-per-example 1\\\n",
    "    --exclude-original"
   ]
  },
  {
   "cell_type": "code",
   "execution_count": 4,
   "metadata": {},
   "outputs": [
    {
     "name": "stdout",
     "output_type": "stream",
     "text": [
      "======= clare =======\n"
     ]
    },
    {
     "data": {
      "text/markdown": [
       "[A] I need a <span style='color:green;font-weight:700;'>carriage </span>train from birmingham new street to cambridge, please. \n",
       "\n",
       "[B] There are <span style='color:green;font-weight:700;'>about </span>133 trains traveling that path. What day would you like to travel on? \n",
       "\n",
       "[A] I <span style='color:green;font-weight:700;'>absolutely </span>would like to leave on Wednesday sometime after 11:30. \n",
       "\n",
       "[B] How about the TR1670? It meets your specifications and leaves at <span style='color:green;font-weight:700;'>the </span>11:40. \n",
       "\n",
       "[A] How long is <span style='color:green;font-weight:700;'>not </span>the train ride? \n",
       "\n",
       "[B] The train ride is <span style='color:green;font-weight:700;'>barely </span>163 minutes, does this suit your needs? \n",
       "\n",
       "[A] How much is the fare <span style='color:green;font-weight:700;'>calculated </span>on that train? \n",
       "\n",
       "[B] It is 75.10 <span style='color:green;font-weight:700;'>lb </span>pounds. \n",
       "\n",
       "[A] What is <span style='color:green;font-weight:700;'>often </span>the exact arrival time? I'm also looking for a place to dine in the centre of town. I'm looking for an expensive modern european restaurant. \n",
       "\n",
       "[B] Let's take care of the train <span style='color:red;font-weight:700;text-decoration:line-through;'>first. </span><span style='color:green;font-weight:700;'>logistics. </span>The train will arrive by 14:23 in Cambridge. Would you like to book a <span style='color:green;font-weight:700;'>tour </span>ticket? \n",
       "\n",
       "[A] Thank you <span style='color:green;font-weight:700;'>guys </span>I do not need to book the train, but I am looking for an expensive restaurant in the centre of town. \n",
       "\n",
       "[B] We have many expensive places in the center of town! Is there a particular type <span style='color:green;font-weight:700;'>fare </span>of cuisine you'd like to try? \n",
       "\n",
       "[A] I would like modern <span style='color:red;font-weight:700;text-decoration:line-through;'>European </span><span style='color:green;font-weight:700;'>Asian </span>food. \n",
       "\n",
       "[B] How about darrys cookhouse and wine <span style='color:green;font-weight:700;'>glasses </span>shop? \n",
       "\n",
       "[A] Yeah that should work can I please <span style='color:green;font-weight:700;'>try </span>get the address post code and phone number? \n",
       "\n",
       "[B] They are located at 40270 King <span style='color:red;font-weight:700;text-decoration:line-through;'>Street City </span><span style='color:green;font-weight:700;'>don </span>Centre. <span style='color:red;font-weight:700;text-decoration:line-through;'>Postcode </span><span style='color:green;font-weight:700;'>Name </span>is cb11ln. Phone number is 01223505015. Can I book a table for you? \n",
       "\n",
       "[A] No thank you. I will go ahead and book myself. <span style='color:green;font-weight:700;'>Seriously </span>Thank you so much. This was all the info I needed. Have a good day. \n",
       "\n",
       "[B] We appreciate your <span style='color:red;font-weight:700;text-decoration:line-through;'>business. </span><span style='color:green;font-weight:700;'>inconvenience. </span>Thank for using the Cambridge Towninfo centre! Have a great day!"
      ],
      "text/plain": [
       "<IPython.core.display.Markdown object>"
      ]
     },
     "metadata": {},
     "output_type": "display_data"
    },
    {
     "name": "stdout",
     "output_type": "stream",
     "text": [
      "======= clare3 =======\n"
     ]
    },
    {
     "data": {
      "text/markdown": [
       "[A] I need a train from <span style='color:red;font-weight:700;text-decoration:line-through;'>birmingham </span><span style='color:green;font-weight:700;'>whole </span>new street to <span style='color:green;font-weight:700;'>stupid </span>cambridge, please. \n",
       "\n",
       "[B] There are 133 trains traveling <span style='color:green;font-weight:700;'>parallel </span>that path. What <span style='color:red;font-weight:700;text-decoration:line-through;'>day </span><span style='color:green;font-weight:700;'>paths longer </span>would you like to travel on? \n",
       "\n",
       "[A] <span style='color:red;font-weight:700;text-decoration:line-through;'>I </span><span style='color:green;font-weight:700;'>They </span>would like to leave on Wednesday sometime after <span style='color:green;font-weight:700;'>this </span>11:30. \n",
       "\n",
       "[B] How about <span style='color:green;font-weight:700;'>replacing </span>the TR1670? It meets your specifications and <span style='color:red;font-weight:700;text-decoration:line-through;'>leaves </span><span style='color:green;font-weight:700;'>start </span>at 11:40. \n",
       "\n",
       "[A] How long is the train <span style='color:red;font-weight:700;text-decoration:line-through;'>ride? </span><span style='color:green;font-weight:700;'>up? </span>\n",
       "\n",
       "[B] The <span style='color:green;font-weight:700;'>shortest </span>train ride is 163 minutes, does this suit your <span style='color:green;font-weight:700;'>ride </span>needs? \n",
       "\n",
       "[A] How much is the <span style='color:red;font-weight:700;text-decoration:line-through;'>fare </span><span style='color:green;font-weight:700;'>pineapple </span>on that <span style='color:red;font-weight:700;text-decoration:line-through;'>train? </span><span style='color:green;font-weight:700;'>burger? </span>\n",
       "\n",
       "[B] It is <span style='color:red;font-weight:700;text-decoration:line-through;'>75.10 </span><span style='color:green;font-weight:700;'>75.Average 10 </span>pounds. \n",
       "\n",
       "[A] What is the <span style='color:green;font-weight:700;'>tourists </span>exact arrival time? I'm <span style='color:green;font-weight:700;'>then </span>also looking for a place to dine in the centre <span style='color:green;font-weight:700;'>circle </span>of town. <span style='color:red;font-weight:700;text-decoration:line-through;'>I'm </span><span style='color:green;font-weight:700;'>But </span>looking for an expensive modern european <span style='color:red;font-weight:700;text-decoration:line-through;'>restaurant. </span><span style='color:green;font-weight:700;'>inn. </span>\n",
       "\n",
       "[B] Let's take care <span style='color:red;font-weight:700;text-decoration:line-through;'>of the train first. </span><span style='color:green;font-weight:700;'>details of the train etiquette. </span>The train will arrive by 14:23 in Cambridge. Would you <span style='color:green;font-weight:700;'>even </span>like to book a <span style='color:green;font-weight:700;'>quicker </span>ticket? \n",
       "\n",
       "[A] Thank you I do <span style='color:green;font-weight:700;'>certainly </span>not need to book <span style='color:green;font-weight:700;'>up </span>the train, but I am looking for <span style='color:green;font-weight:700;'>only </span>an expensive restaurant in the <span style='color:red;font-weight:700;text-decoration:line-through;'>centre </span><span style='color:green;font-weight:700;'>name </span>of town. \n",
       "\n",
       "[B] We have many expensive places in the center <span style='color:red;font-weight:700;text-decoration:line-through;'>of </span><span style='color:green;font-weight:700;'>downtown of Boston </span>town! Is there a particular type of cuisine you'd like to <span style='color:green;font-weight:700;'>personally </span>try? \n",
       "\n",
       "[A] I would like <span style='color:red;font-weight:700;text-decoration:line-through;'>modern European </span><span style='color:green;font-weight:700;'>healthier </span>food. \n",
       "\n",
       "[B] How about darrys cookhouse and wine <span style='color:green;font-weight:700;'>bottle </span>shop? \n",
       "\n",
       "[A] Yeah that should work can I <span style='color:green;font-weight:700;'>ma </span>please get <span style='color:green;font-weight:700;'>thru </span>the address post code and phone number? \n",
       "\n",
       "[B] They are <span style='color:red;font-weight:700;text-decoration:line-through;'>located </span><span style='color:green;font-weight:700;'>currently </span>at 40270 King <span style='color:red;font-weight:700;text-decoration:line-through;'>Street City </span><span style='color:green;font-weight:700;'>Shopping </span>Centre. Postcode <span style='color:green;font-weight:700;'>numbers </span>is cb11ln. Phone number is 01223505015. Can I <span style='color:green;font-weight:700;'>actually </span>book a table for you? \n",
       "\n",
       "[A] No <span style='color:green;font-weight:700;'>worries </span>thank you. I will <span style='color:green;font-weight:700;'>soon </span>go ahead and book myself. Thank you so much. <span style='color:red;font-weight:700;text-decoration:line-through;'>This </span><span style='color:green;font-weight:700;'>Inside </span>was all the info I needed. Have a good <span style='color:green;font-weight:700;'>business </span>day. \n",
       "\n",
       "[B] We appreciate your business. <span style='color:green;font-weight:700;'>More </span>Thank for using the Cambridge Towninfo centre! <span style='color:green;font-weight:700;'>Your </span>Have a <span style='color:red;font-weight:700;text-decoration:line-through;'>great </span><span style='color:green;font-weight:700;'>decent </span>day!"
      ],
      "text/plain": [
       "<IPython.core.display.Markdown object>"
      ]
     },
     "metadata": {},
     "output_type": "display_data"
    },
    {
     "name": "stdout",
     "output_type": "stream",
     "text": [
      "======= clare5 =======\n"
     ]
    },
    {
     "data": {
      "text/markdown": [
       "[A] I need <span style='color:red;font-weight:700;text-decoration:line-through;'>a </span><span style='color:green;font-weight:700;'>send a wooden </span>train from birmingham new <span style='color:green;font-weight:700;'>ish </span>street to cambridge, please. \n",
       "\n",
       "[B] There are 133 <span style='color:red;font-weight:700;text-decoration:line-through;'>trains traveling that </span><span style='color:green;font-weight:700;'>miles walking </span>path. What day <span style='color:green;font-weight:700;'>routes </span>would <span style='color:red;font-weight:700;text-decoration:line-through;'>you like to </span><span style='color:green;font-weight:700;'>take you like to do </span>travel on? \n",
       "\n",
       "[A] I would like <span style='color:red;font-weight:700;text-decoration:line-through;'>to </span><span style='color:green;font-weight:700;'>you to soon </span>leave on <span style='color:green;font-weight:700;'>Sheffield </span>Wednesday sometime after 11:30. \n",
       "\n",
       "[B] <span style='color:red;font-weight:700;text-decoration:line-through;'>How </span><span style='color:green;font-weight:700;'>Asked </span>about the TR1670? <span style='color:red;font-weight:700;text-decoration:line-through;'>It meets </span><span style='color:green;font-weight:700;'>UPS set </span>your <span style='color:red;font-weight:700;text-decoration:line-through;'>specifications </span><span style='color:green;font-weight:700;'>deadline </span>and <span style='color:green;font-weight:700;'>Santa </span>leaves at 11:40. \n",
       "\n",
       "[A] How <span style='color:red;font-weight:700;text-decoration:line-through;'>long </span><span style='color:green;font-weight:700;'>predictable BART </span>is the train <span style='color:red;font-weight:700;text-decoration:line-through;'>ride? </span><span style='color:green;font-weight:700;'>station? </span>\n",
       "\n",
       "[B] The <span style='color:red;font-weight:700;text-decoration:line-through;'>train ride </span><span style='color:green;font-weight:700;'>demo format </span>is 163 minutes, does this <span style='color:green;font-weight:700;'>not </span>suit your <span style='color:red;font-weight:700;text-decoration:line-through;'>needs? </span><span style='color:green;font-weight:700;'>specifications? </span>\n",
       "\n",
       "[A] How <span style='color:green;font-weight:700;'>else </span>much is the fare <span style='color:green;font-weight:700;'>tag </span>on that train? \n",
       "\n",
       "[B] It is <span style='color:red;font-weight:700;text-decoration:line-through;'>75.10 pounds. </span><span style='color:green;font-weight:700;'>75.Just 10 degrees. </span>\n",
       "\n",
       "[A] What is <span style='color:green;font-weight:700;'>indeed </span>the exact arrival time? I'm also looking for a place to <span style='color:green;font-weight:700;'>traditionally </span>dine in <span style='color:green;font-weight:700;'>inside </span>the centre of town. I'm <span style='color:red;font-weight:700;text-decoration:line-through;'>looking for </span><span style='color:green;font-weight:700;'>going for only </span>an <span style='color:green;font-weight:700;'>uber </span>expensive modern european <span style='color:green;font-weight:700;'>neighbourhood </span>restaurant. \n",
       "\n",
       "[B] Let's take care <span style='color:green;font-weight:700;'>all </span>of the train first. The <span style='color:green;font-weight:700;'>passenger </span>train will arrive <span style='color:green;font-weight:700;'>tomorrow </span>by 14:23 <span style='color:green;font-weight:700;'>BST </span>in Cambridge. Would you like to book <span style='color:red;font-weight:700;text-decoration:line-through;'>a </span><span style='color:green;font-weight:700;'>on a standby </span>ticket? \n",
       "\n",
       "[A] Thank you I <span style='color:green;font-weight:700;'>simply </span>do not <span style='color:red;font-weight:700;text-decoration:line-through;'>need </span><span style='color:green;font-weight:700;'>HAVE </span>to book the <span style='color:green;font-weight:700;'>entire </span>train, <span style='color:green;font-weight:700;'>no </span>but <span style='color:green;font-weight:700;'>perhaps </span>I am looking <span style='color:green;font-weight:700;'>ahead </span>for an expensive restaurant in the <span style='color:red;font-weight:700;text-decoration:line-through;'>centre </span><span style='color:green;font-weight:700;'>corner </span>of town. \n",
       "\n",
       "[B] We have <span style='color:green;font-weight:700;'>to </span>many expensive places in <span style='color:green;font-weight:700;'>Charlotte </span>the center of town! Is there a <span style='color:green;font-weight:700;'>pretty </span>particular type of cuisine you'd like <span style='color:red;font-weight:700;text-decoration:line-through;'>to </span><span style='color:green;font-weight:700;'>guys to finally </span>try? \n",
       "\n",
       "[A] I <span style='color:green;font-weight:700;'>too </span>would like modern <span style='color:green;font-weight:700;'>ized </span>European food. \n",
       "\n",
       "[B] How <span style='color:green;font-weight:700;'>goes </span>about <span style='color:red;font-weight:700;text-decoration:line-through;'>darrys </span><span style='color:green;font-weight:700;'>vegetarian </span>cookhouse and <span style='color:red;font-weight:700;text-decoration:line-through;'>wine </span><span style='color:green;font-weight:700;'>butcher </span>shop? \n",
       "\n",
       "[A] <span style='color:red;font-weight:700;text-decoration:line-through;'>Yeah </span><span style='color:green;font-weight:700;'>So </span>that <span style='color:green;font-weight:700;'>thing </span>should work can I please <span style='color:green;font-weight:700;'>you </span>get the address <span style='color:green;font-weight:700;'>plus </span>post code and <span style='color:red;font-weight:700;text-decoration:line-through;'>phone </span><span style='color:green;font-weight:700;'>subscriber </span>number? \n",
       "\n",
       "[B] They are <span style='color:red;font-weight:700;text-decoration:line-through;'>located </span><span style='color:green;font-weight:700;'>currently </span>at 40270 King <span style='color:red;font-weight:700;text-decoration:line-through;'>Street </span><span style='color:green;font-weight:700;'>Auckland </span>City Centre. Postcode <span style='color:green;font-weight:700;'>Card </span>is cb11ln. <span style='color:red;font-weight:700;text-decoration:line-through;'>Phone </span><span style='color:green;font-weight:700;'>Account Group </span>number <span style='color:green;font-weight:700;'>ID </span>is 01223505015. Can I book a table <span style='color:green;font-weight:700;'>arrangement </span>for you? \n",
       "\n",
       "[A] No <span style='color:green;font-weight:700;'>sir </span>thank you. I will <span style='color:red;font-weight:700;text-decoration:line-through;'>go </span><span style='color:green;font-weight:700;'>follow up </span>ahead and book <span style='color:green;font-weight:700;'>list </span>myself. <span style='color:green;font-weight:700;'>Okay </span>Thank you <span style='color:green;font-weight:700;'>by </span>so much. This was all the <span style='color:red;font-weight:700;text-decoration:line-through;'>info </span><span style='color:green;font-weight:700;'>training </span>I needed. Have a good day. \n",
       "\n",
       "[B] We appreciate <span style='color:green;font-weight:700;'>opening </span>your business. <span style='color:green;font-weight:700;'>SS </span>Thank for using the Cambridge <span style='color:red;font-weight:700;text-decoration:line-through;'>Towninfo </span><span style='color:green;font-weight:700;'>events business </span>centre! Have a great day!"
      ],
      "text/plain": [
       "<IPython.core.display.Markdown object>"
      ]
     },
     "metadata": {},
     "output_type": "display_data"
    }
   ],
   "source": [
    "from visualization_utils import show_augmented\n",
    "\n",
    "\n",
    "for name in ['clare1', 'clare3', 'clare5']:\n",
    "    print(f'======= {name} =======')\n",
    "    show_augmented(14, name)"
   ]
  },
  {
   "cell_type": "markdown",
   "metadata": {},
   "source": [
    "### Easy Data Augmentation"
   ]
  },
  {
   "cell_type": "markdown",
   "metadata": {},
   "source": [
    "Это супер быстро!"
   ]
  },
  {
   "cell_type": "markdown",
   "metadata": {},
   "source": [
    "An implementation of Easy Data Augmentation, which combines:\n",
    "\n",
    "- WordNet synonym replacement\n",
    "    - Randomly replace words with their synonyms.\n",
    "- Word deletion\n",
    "    - Randomly remove words from the sentence.\n",
    "- Word order swaps\n",
    "    - Randomly swap the position of words in the sentence.\n",
    "- Random synonym insertion\n",
    "    - Insert a random synonym of a random word at a random location."
   ]
  },
  {
   "cell_type": "code",
   "execution_count": 7,
   "metadata": {},
   "outputs": [
    {
     "name": "stdout",
     "output_type": "stream",
     "text": [
      "2023-07-29 22:55:47.601277: I tensorflow/core/platform/cpu_feature_guard.cc:182] This TensorFlow binary is optimized to use available CPU instructions in performance-critical operations.\n",
      "To enable the following instructions: AVX2 FMA, in other operations, rebuild TensorFlow with the appropriate compiler flags.\n",
      "2023-07-29 22:55:48.305955: W tensorflow/compiler/tf2tensorrt/utils/py_utils.cc:38] TF-TRT Warning: Could not find TensorRT\n",
      "2023-07-29 22:55:50.362310: I tensorflow/compiler/xla/stream_executor/cuda/cuda_gpu_executor.cc:995] successful NUMA node read from SysFS had negative value (-1), but there must be at least one NUMA node, so returning NUMA node zero. See more at https://github.com/torvalds/linux/blob/v6.0/Documentation/ABI/testing/sysfs-bus-pci#L344-L355\n",
      "2023-07-29 22:55:50.362663: W tensorflow/core/common_runtime/gpu/gpu_device.cc:1960] Cannot dlopen some GPU libraries. Please make sure the missing libraries mentioned above are installed properly if you would like to use GPU. Follow the guide at https://www.tensorflow.org/install/gpu for how to download and setup the required libraries for your platform.\n",
      "Skipping registering GPU devices...\n",
      "\u001b[34;1mtextattack\u001b[0m: Read 240 rows from aug-data/original.csv. Found columns {'', 'text'}.\n",
      "[nltk_data] Downloading package omw-1.4 to /home/ilya/nltk_data...\n",
      "[nltk_data]   Package omw-1.4 is already up-to-date!\n",
      "Augmenting rows: 100%|████████████████████████| 240/240 [00:04<00:00, 49.75it/s]\n",
      "\u001b[34;1mtextattack\u001b[0m: Wrote 240 augmentations to aug-data/eda1.csv in 5.79195761680603s.\n"
     ]
    }
   ],
   "source": [
    "! textattack augment\\\n",
    "    --input-csv aug-data/original.csv\\\n",
    "    --output-csv aug-data/eda1.csv\\\n",
    "    --input-column text\\\n",
    "    --recipe eda\\\n",
    "    --pct-words-to-swap .1\\\n",
    "    --transformations-per-example 1\\\n",
    "    --exclude-original"
   ]
  },
  {
   "cell_type": "code",
   "execution_count": 6,
   "metadata": {},
   "outputs": [
    {
     "name": "stdout",
     "output_type": "stream",
     "text": [
      "2023-07-29 22:55:12.114556: I tensorflow/core/platform/cpu_feature_guard.cc:182] This TensorFlow binary is optimized to use available CPU instructions in performance-critical operations.\n",
      "To enable the following instructions: AVX2 FMA, in other operations, rebuild TensorFlow with the appropriate compiler flags.\n",
      "2023-07-29 22:55:12.791880: W tensorflow/compiler/tf2tensorrt/utils/py_utils.cc:38] TF-TRT Warning: Could not find TensorRT\n",
      "2023-07-29 22:55:14.817800: I tensorflow/compiler/xla/stream_executor/cuda/cuda_gpu_executor.cc:995] successful NUMA node read from SysFS had negative value (-1), but there must be at least one NUMA node, so returning NUMA node zero. See more at https://github.com/torvalds/linux/blob/v6.0/Documentation/ABI/testing/sysfs-bus-pci#L344-L355\n",
      "2023-07-29 22:55:14.818226: W tensorflow/core/common_runtime/gpu/gpu_device.cc:1960] Cannot dlopen some GPU libraries. Please make sure the missing libraries mentioned above are installed properly if you would like to use GPU. Follow the guide at https://www.tensorflow.org/install/gpu for how to download and setup the required libraries for your platform.\n",
      "Skipping registering GPU devices...\n",
      "\u001b[34;1mtextattack\u001b[0m: Read 240 rows from aug-data/original.csv. Found columns {'', 'text'}.\n",
      "[nltk_data] Downloading package omw-1.4 to /home/ilya/nltk_data...\n",
      "[nltk_data]   Package omw-1.4 is already up-to-date!\n",
      "Augmenting rows: 100%|████████████████████████| 240/240 [00:12<00:00, 18.98it/s]\n",
      "\u001b[34;1mtextattack\u001b[0m: Wrote 240 augmentations to aug-data/eda3.csv in 13.750178337097168s.\n"
     ]
    }
   ],
   "source": [
    "! textattack augment\\\n",
    "    --input-csv aug-data/original.csv\\\n",
    "    --output-csv aug-data/eda3.csv\\\n",
    "    --input-column text\\\n",
    "    --recipe eda\\\n",
    "    --pct-words-to-swap .3\\\n",
    "    --transformations-per-example 1\\\n",
    "    --exclude-original"
   ]
  },
  {
   "cell_type": "code",
   "execution_count": 8,
   "metadata": {},
   "outputs": [
    {
     "name": "stdout",
     "output_type": "stream",
     "text": [
      "2023-07-29 22:56:05.174414: I tensorflow/core/platform/cpu_feature_guard.cc:182] This TensorFlow binary is optimized to use available CPU instructions in performance-critical operations.\n",
      "To enable the following instructions: AVX2 FMA, in other operations, rebuild TensorFlow with the appropriate compiler flags.\n",
      "2023-07-29 22:56:05.932334: W tensorflow/compiler/tf2tensorrt/utils/py_utils.cc:38] TF-TRT Warning: Could not find TensorRT\n",
      "2023-07-29 22:56:08.404231: I tensorflow/compiler/xla/stream_executor/cuda/cuda_gpu_executor.cc:995] successful NUMA node read from SysFS had negative value (-1), but there must be at least one NUMA node, so returning NUMA node zero. See more at https://github.com/torvalds/linux/blob/v6.0/Documentation/ABI/testing/sysfs-bus-pci#L344-L355\n",
      "2023-07-29 22:56:08.404716: W tensorflow/core/common_runtime/gpu/gpu_device.cc:1960] Cannot dlopen some GPU libraries. Please make sure the missing libraries mentioned above are installed properly if you would like to use GPU. Follow the guide at https://www.tensorflow.org/install/gpu for how to download and setup the required libraries for your platform.\n",
      "Skipping registering GPU devices...\n",
      "\u001b[34;1mtextattack\u001b[0m: Read 240 rows from aug-data/original.csv. Found columns {'', 'text'}.\n",
      "[nltk_data] Downloading package omw-1.4 to /home/ilya/nltk_data...\n",
      "[nltk_data]   Package omw-1.4 is already up-to-date!\n",
      "Augmenting rows: 100%|████████████████████████| 240/240 [00:15<00:00, 15.13it/s]\n",
      "\u001b[34;1mtextattack\u001b[0m: Wrote 240 augmentations to aug-data/eda5.csv in 16.967952013015747s.\n"
     ]
    }
   ],
   "source": [
    "! textattack augment\\\n",
    "    --input-csv aug-data/original.csv\\\n",
    "    --output-csv aug-data/eda5.csv\\\n",
    "    --input-column text\\\n",
    "    --recipe eda\\\n",
    "    --pct-words-to-swap .5\\\n",
    "    --transformations-per-example 1\\\n",
    "    --exclude-original"
   ]
  },
  {
   "cell_type": "code",
   "execution_count": 9,
   "metadata": {},
   "outputs": [
    {
     "name": "stdout",
     "output_type": "stream",
     "text": [
      "======= eda1 =======\n"
     ]
    },
    {
     "data": {
      "text/markdown": [
       "[A] I <span style='color:red;font-weight:700;text-decoration:line-through;'>need </span><span style='color:green;font-weight:700;'>require </span>a train from birmingham new street to cambridge, please. \n",
       "\n",
       "[B] There are 133 trains traveling that path. What <span style='color:green;font-weight:700;'>to would you like </span>day <span style='color:red;font-weight:700;text-decoration:line-through;'>would you like to </span>travel on? \n",
       "\n",
       "[A] <span style='color:red;font-weight:700;text-decoration:line-through;'>I </span><span style='color:green;font-weight:700;'>unity </span>would like to leave on Wednesday sometime after 11:30. \n",
       "\n",
       "[B] How about <span style='color:green;font-weight:700;'>xi </span>the TR1670? It meets your specifications and leaves at 11:40. \n",
       "\n",
       "[A] How long is the <span style='color:red;font-weight:700;text-decoration:line-through;'>train </span>ride? \n",
       "\n",
       "[B] The train ride is 163 minutes, does this <span style='color:red;font-weight:700;text-decoration:line-through;'>suit </span><span style='color:green;font-weight:700;'>needs </span>your <span style='color:red;font-weight:700;text-decoration:line-through;'>needs? </span><span style='color:green;font-weight:700;'>suit? </span>\n",
       "\n",
       "[A] How much is the fare on that <span style='color:red;font-weight:700;text-decoration:line-through;'>train? ¶ [B] </span><span style='color:green;font-weight:700;'>civilise? </span>\n",
       "\n",
       "<span style='color:green;font-weight:700;'>[B] IT </span>It is 75.10 pounds. \n",
       "\n",
       "[A] What is <span style='color:red;font-weight:700;text-decoration:line-through;'>the </span>exact arrival time? I'm also looking for <span style='color:red;font-weight:700;text-decoration:line-through;'>a </span>place to dine in the centre of town. I'm looking for an expensive modern european restaurant. \n",
       "\n",
       "[B] Let's take care <span style='color:red;font-weight:700;text-decoration:line-through;'>of </span><span style='color:green;font-weight:700;'>to </span>the train first. The train will arrive by 14:23 in Cambridge. Would you like <span style='color:red;font-weight:700;text-decoration:line-through;'>to </span><span style='color:green;font-weight:700;'>of </span>book a ticket? \n",
       "\n",
       "[A] <span style='color:red;font-weight:700;text-decoration:line-through;'>Thank </span>you I do not need to book the train, but I am looking for an expensive restaurant in <span style='color:red;font-weight:700;text-decoration:line-through;'>the </span>centre of town. \n",
       "\n",
       "[B] We have <span style='color:green;font-weight:700;'>stimulate </span>many expensive places in the center of town! Is there a particular type of cuisine you'd like to try? \n",
       "\n",
       "[A] I would like modern <span style='color:red;font-weight:700;text-decoration:line-through;'>European </span>food. \n",
       "\n",
       "[B] How <span style='color:red;font-weight:700;text-decoration:line-through;'>about </span><span style='color:green;font-weight:700;'>wine </span>darrys cookhouse and <span style='color:red;font-weight:700;text-decoration:line-through;'>wine </span><span style='color:green;font-weight:700;'>about </span>shop? \n",
       "\n",
       "[A] Yeah <span style='color:red;font-weight:700;text-decoration:line-through;'>that </span><span style='color:green;font-weight:700;'>number </span>should work can I please get the address post code and phone <span style='color:red;font-weight:700;text-decoration:line-through;'>number? </span><span style='color:green;font-weight:700;'>that? </span>\n",
       "\n",
       "[B] They are located <span style='color:red;font-weight:700;text-decoration:line-through;'>at </span>40270 King Street City Centre. Postcode is cb11ln. Phone number is 01223505015. Can I book a table <span style='color:red;font-weight:700;text-decoration:line-through;'>for </span>you? \n",
       "\n",
       "[A] No thank you. I will go ahead and book myself. Thank you <span style='color:red;font-weight:700;text-decoration:line-through;'>so </span><span style='color:green;font-weight:700;'>good </span>much. This was all the info I needed. Have a <span style='color:red;font-weight:700;text-decoration:line-through;'>good </span><span style='color:green;font-weight:700;'>so </span>day. \n",
       "\n",
       "[B] <span style='color:red;font-weight:700;text-decoration:line-through;'>We </span><span style='color:green;font-weight:700;'>business </span>appreciate your <span style='color:red;font-weight:700;text-decoration:line-through;'>business. </span><span style='color:green;font-weight:700;'>We. </span>Thank for using the Cambridge Towninfo centre! Have a great day!"
      ],
      "text/plain": [
       "<IPython.core.display.Markdown object>"
      ]
     },
     "metadata": {},
     "output_type": "display_data"
    },
    {
     "name": "stdout",
     "output_type": "stream",
     "text": [
      "======= eda3 =======\n"
     ]
    },
    {
     "data": {
      "text/markdown": [
       "[A] I need a <span style='color:green;font-weight:700;'>train </span>train from birmingham new street to <span style='color:green;font-weight:700;'>gearing </span>cambridge, please. \n",
       "\n",
       "[B] There are 133 trains <span style='color:green;font-weight:700;'>wish </span>traveling that path. What day would you like to <span style='color:green;font-weight:700;'>way </span>travel on? \n",
       "\n",
       "[A] <span style='color:red;font-weight:700;text-decoration:line-through;'>I </span><span style='color:green;font-weight:700;'>after </span>would like to leave <span style='color:red;font-weight:700;text-decoration:line-through;'>on </span><span style='color:green;font-weight:700;'>I </span>Wednesday sometime <span style='color:red;font-weight:700;text-decoration:line-through;'>after </span><span style='color:green;font-weight:700;'>on </span>11:30. \n",
       "\n",
       "[B] How about the TR1670? It meets <span style='color:green;font-weight:700;'>eleven </span>your specifications and leaves at <span style='color:green;font-weight:700;'>spec </span>11:40. \n",
       "\n",
       "[A] How long is <span style='color:red;font-weight:700;text-decoration:line-through;'>the </span>train ride? \n",
       "\n",
       "[B] <span style='color:green;font-weight:700;'>163 train needs is </span>The <span style='color:red;font-weight:700;text-decoration:line-through;'>train ride is 163 </span>minutes, does this suit your <span style='color:red;font-weight:700;text-decoration:line-through;'>needs? </span><span style='color:green;font-weight:700;'>ride? </span>\n",
       "\n",
       "[A] How much <span style='color:green;font-weight:700;'>be </span>is the fare on that train? \n",
       "\n",
       "[B] It <span style='color:red;font-weight:700;text-decoration:line-through;'>is 75.10 </span><span style='color:green;font-weight:700;'>10 75.is </span>pounds. \n",
       "\n",
       "[A] What is the exact <span style='color:red;font-weight:700;text-decoration:line-through;'>arrival time? </span><span style='color:green;font-weight:700;'>comer metre? </span>I'm also looking for a <span style='color:red;font-weight:700;text-decoration:line-through;'>place </span><span style='color:green;font-weight:700;'>direct </span>to dine in the <span style='color:red;font-weight:700;text-decoration:line-through;'>centre of town. </span><span style='color:green;font-weight:700;'>marrow of township. </span>I'm <span style='color:red;font-weight:700;text-decoration:line-through;'>looking </span><span style='color:green;font-weight:700;'>expect </span>for an expensive <span style='color:red;font-weight:700;text-decoration:line-through;'>modern european </span><span style='color:green;font-weight:700;'>advanced European </span>restaurant. \n",
       "\n",
       "[B] <span style='color:green;font-weight:700;'>same </span>Let's take <span style='color:green;font-weight:700;'>xxiii </span>care of the train <span style='color:green;font-weight:700;'>beginning </span>first. The train will arrive by 14:23 in Cambridge. Would you like to book a ticket? \n",
       "\n",
       "[A] Thank <span style='color:green;font-weight:700;'>Town </span>you I do <span style='color:green;font-weight:700;'>be </span>not need to book the train, but I am looking for an expensive restaurant <span style='color:green;font-weight:700;'>prepare </span>in the centre of town. \n",
       "\n",
       "[B] We have <span style='color:green;font-weight:700;'>get </span>many expensive places in the center <span style='color:green;font-weight:700;'>exceptional </span>of town! Is there a particular type of cuisine <span style='color:green;font-weight:700;'>engender </span>you'd like to try? \n",
       "\n",
       "[A] I would like <span style='color:red;font-weight:700;text-decoration:line-through;'>modern </span><span style='color:green;font-weight:700;'>Bodoni </span>European food. \n",
       "\n",
       "[B] How about darrys cookhouse and <span style='color:red;font-weight:700;text-decoration:line-through;'>wine shop? </span><span style='color:green;font-weight:700;'>vino patronise? </span>\n",
       "\n",
       "[A] Yeah that should <span style='color:green;font-weight:700;'>fetch </span>work can <span style='color:green;font-weight:700;'>delight </span>I please get the address post code and phone number? \n",
       "\n",
       "[B] <span style='color:red;font-weight:700;text-decoration:line-through;'>They </span><span style='color:green;font-weight:700;'>number </span>are <span style='color:red;font-weight:700;text-decoration:line-through;'>located at </span><span style='color:green;font-weight:700;'>01223505015 I </span>40270 King Street City Centre. Postcode is cb11ln. Phone <span style='color:red;font-weight:700;text-decoration:line-through;'>number is 01223505015. </span><span style='color:green;font-weight:700;'>They is located. </span>Can <span style='color:red;font-weight:700;text-decoration:line-through;'>I </span><span style='color:green;font-weight:700;'>at </span>book a table for you? \n",
       "\n",
       "[A] No thank you. I will <span style='color:red;font-weight:700;text-decoration:line-through;'>go ahead </span><span style='color:green;font-weight:700;'>plump beforehand </span>and <span style='color:red;font-weight:700;text-decoration:line-through;'>book </span><span style='color:green;font-weight:700;'>Koran </span>myself. Thank you so much. This was all the info <span style='color:red;font-weight:700;text-decoration:line-through;'>I needed. Have a good </span><span style='color:green;font-weight:700;'>unity requisite. bear a just </span>day. \n",
       "\n",
       "[B] We <span style='color:red;font-weight:700;text-decoration:line-through;'>appreciate </span><span style='color:green;font-weight:700;'>treasure </span>your business. Thank for <span style='color:red;font-weight:700;text-decoration:line-through;'>using </span><span style='color:green;font-weight:700;'>victimisation </span>the Cambridge Towninfo <span style='color:red;font-weight:700;text-decoration:line-through;'>centre! </span><span style='color:green;font-weight:700;'>eye! </span>Have a <span style='color:red;font-weight:700;text-decoration:line-through;'>great </span><span style='color:green;font-weight:700;'>bang-up </span>day!"
      ],
      "text/plain": [
       "<IPython.core.display.Markdown object>"
      ]
     },
     "metadata": {},
     "output_type": "display_data"
    },
    {
     "name": "stdout",
     "output_type": "stream",
     "text": [
      "======= eda5 =======\n"
     ]
    },
    {
     "data": {
      "text/markdown": [
       "[A] <span style='color:red;font-weight:700;text-decoration:line-through;'>I need a train </span><span style='color:green;font-weight:700;'>iodin demand a develop </span>from birmingham <span style='color:red;font-weight:700;text-decoration:line-through;'>new </span><span style='color:green;font-weight:700;'>freshly </span>street to <span style='color:red;font-weight:700;text-decoration:line-through;'>cambridge, </span><span style='color:green;font-weight:700;'>Cambridge, </span>please. \n",
       "\n",
       "[B] <span style='color:red;font-weight:700;text-decoration:line-through;'>There are 133 </span><span style='color:green;font-weight:700;'>would that you </span>trains traveling <span style='color:red;font-weight:700;text-decoration:line-through;'>that </span><span style='color:green;font-weight:700;'>are </span>path. <span style='color:red;font-weight:700;text-decoration:line-through;'>What </span><span style='color:green;font-weight:700;'>on </span>day <span style='color:green;font-weight:700;'>There 133 like to travel What? </span>\n",
       "\n",
       "<span style='color:green;font-weight:700;'>[A] iodine </span>would <span style='color:red;font-weight:700;text-decoration:line-through;'>you like to travel on? ¶ [A] I would like to leave </span><span style='color:green;font-weight:700;'>similar to leave-taking </span>on Wednesday <span style='color:red;font-weight:700;text-decoration:line-through;'>sometime </span><span style='color:green;font-weight:700;'>former </span>after <span style='color:red;font-weight:700;text-decoration:line-through;'>11:30. ¶ [B] How </span><span style='color:green;font-weight:700;'>xi:30. </span>\n",
       "\n",
       "<span style='color:green;font-weight:700;'>[B] How astatine </span>about the <span style='color:green;font-weight:700;'>spec </span>TR1670? It <span style='color:green;font-weight:700;'>IT </span>meets your specifications and leaves at 11:40. \n",
       "\n",
       "[A] How <span style='color:green;font-weight:700;'>hanker </span>long is <span style='color:green;font-weight:700;'>personify </span>the train ride? \n",
       "\n",
       "[B] The train ride <span style='color:red;font-weight:700;text-decoration:line-through;'>is </span>163 minutes, <span style='color:red;font-weight:700;text-decoration:line-through;'>does this suit your needs? ¶ [A] How much is the fare </span><span style='color:green;font-weight:700;'>suit? </span>\n",
       "\n",
       "<span style='color:green;font-weight:700;'>[A] How lots is the do </span>on that <span style='color:red;font-weight:700;text-decoration:line-through;'>train? </span><span style='color:green;font-weight:700;'>coach? </span>\n",
       "\n",
       "[B] It is <span style='color:red;font-weight:700;text-decoration:line-through;'>75.10 pounds. </span><span style='color:green;font-weight:700;'>75.tenner punt. </span>\n",
       "\n",
       "[A] What is the <span style='color:red;font-weight:700;text-decoration:line-through;'>exact arrival time? </span><span style='color:green;font-weight:700;'>accurate comer meter? </span>I'm <span style='color:red;font-weight:700;text-decoration:line-through;'>also looking for a place </span><span style='color:green;font-weight:700;'>besides reckon for a identify </span>to dine in the <span style='color:red;font-weight:700;text-decoration:line-through;'>centre of town. </span><span style='color:green;font-weight:700;'>Centre of townsfolk. </span>I'm <span style='color:red;font-weight:700;text-decoration:line-through;'>looking </span><span style='color:green;font-weight:700;'>bet </span>for an expensive <span style='color:red;font-weight:700;text-decoration:line-through;'>modern european restaurant. </span><span style='color:green;font-weight:700;'>innovative European eatery. </span>\n",
       "\n",
       "[B] Let's <span style='color:red;font-weight:700;text-decoration:line-through;'>take care of the train first. </span><span style='color:green;font-weight:700;'>assume deal of the educate initiative. </span>The <span style='color:red;font-weight:700;text-decoration:line-through;'>train </span><span style='color:green;font-weight:700;'>check </span>will <span style='color:red;font-weight:700;text-decoration:line-through;'>arrive </span><span style='color:green;font-weight:700;'>come </span>by <span style='color:red;font-weight:700;text-decoration:line-through;'>14:23 </span><span style='color:green;font-weight:700;'>XIV:twenty-three </span>in Cambridge. Would you <span style='color:red;font-weight:700;text-decoration:line-through;'>like to book a ticket? ¶ [A] Thank you I </span><span style='color:green;font-weight:700;'>similar to Bible a tag? </span>\n",
       "\n",
       "<span style='color:green;font-weight:700;'>[A] thank you ace </span>do not <span style='color:red;font-weight:700;text-decoration:line-through;'>need to book the train, </span><span style='color:green;font-weight:700;'>require to Bible the cultivate, </span>but <span style='color:red;font-weight:700;text-decoration:line-through;'>I </span><span style='color:green;font-weight:700;'>i </span>am <span style='color:red;font-weight:700;text-decoration:line-through;'>looking </span><span style='color:green;font-weight:700;'>look </span>for an expensive <span style='color:red;font-weight:700;text-decoration:line-through;'>restaurant in the centre of town. </span><span style='color:green;font-weight:700;'>eatery in the kernel of township. </span>\n",
       "\n",
       "[B] We have many expensive places in the center of town! Is there a <span style='color:green;font-weight:700;'>township </span>particular <span style='color:green;font-weight:700;'>indium </span>type <span style='color:green;font-weight:700;'>pose </span>of cuisine you'd <span style='color:green;font-weight:700;'>be </span>like <span style='color:green;font-weight:700;'>town </span>to try? \n",
       "\n",
       "[A] I <span style='color:green;font-weight:700;'>European food modern </span>would <span style='color:red;font-weight:700;text-decoration:line-through;'>like modern European food. ¶ [B] How </span><span style='color:green;font-weight:700;'>like. </span>\n",
       "\n",
       "<span style='color:green;font-weight:700;'>[B] wine </span>about darrys cookhouse <span style='color:green;font-weight:700;'>How </span>and <span style='color:red;font-weight:700;text-decoration:line-through;'>wine </span>shop? \n",
       "\n",
       "[A] Yeah <span style='color:red;font-weight:700;text-decoration:line-through;'>that </span>should <span style='color:red;font-weight:700;text-decoration:line-through;'>work can I </span>please get the address <span style='color:red;font-weight:700;text-decoration:line-through;'>post </span>code <span style='color:red;font-weight:700;text-decoration:line-through;'>and phone </span>number? \n",
       "\n",
       "[B] They are <span style='color:red;font-weight:700;text-decoration:line-through;'>located </span><span style='color:green;font-weight:700;'>situated </span>at 40270 <span style='color:red;font-weight:700;text-decoration:line-through;'>King Street </span><span style='color:green;font-weight:700;'>magnate street </span>City <span style='color:red;font-weight:700;text-decoration:line-through;'>Centre. Postcode </span><span style='color:green;font-weight:700;'>center. postcode </span>is cb11ln. <span style='color:red;font-weight:700;text-decoration:line-through;'>Phone number </span><span style='color:green;font-weight:700;'>phone figure </span>is 01223505015. <span style='color:red;font-weight:700;text-decoration:line-through;'>Can I book a table </span><span style='color:green;font-weight:700;'>stool 1 al-Qur'an a mesa </span>for you? \n",
       "\n",
       "[A] <span style='color:red;font-weight:700;text-decoration:line-through;'>No </span><span style='color:green;font-weight:700;'>nobelium </span>thank you. <span style='color:red;font-weight:700;text-decoration:line-through;'>I </span><span style='color:green;font-weight:700;'>ane </span>will <span style='color:red;font-weight:700;text-decoration:line-through;'>go ahead </span><span style='color:green;font-weight:700;'>function onward </span>and <span style='color:red;font-weight:700;text-decoration:line-through;'>book </span><span style='color:green;font-weight:700;'>Scripture </span>myself. <span style='color:red;font-weight:700;text-decoration:line-through;'>Thank </span><span style='color:green;font-weight:700;'>thank </span>you so much. This was all the <span style='color:red;font-weight:700;text-decoration:line-through;'>info I needed. Have a good day. </span><span style='color:green;font-weight:700;'>information 1 required. take a secure Day. </span>\n",
       "\n",
       "[B] We appreciate your business. Thank <span style='color:green;font-weight:700;'>daytime </span>for using the <span style='color:green;font-weight:700;'>daylight </span>Cambridge Towninfo <span style='color:green;font-weight:700;'>occupation </span>centre! Have a <span style='color:green;font-weight:700;'>apprize </span>great day!"
      ],
      "text/plain": [
       "<IPython.core.display.Markdown object>"
      ]
     },
     "metadata": {},
     "output_type": "display_data"
    }
   ],
   "source": [
    "from visualization_utils import show_augmented\n",
    "\n",
    "\n",
    "for name in ['eda1', 'eda3', 'eda5']:\n",
    "    print(f'======= {name} =======')\n",
    "    show_augmented(14, name)"
   ]
  },
  {
   "cell_type": "markdown",
   "metadata": {},
   "source": [
    "### Back Translation"
   ]
  },
  {
   "cell_type": "code",
   "execution_count": 5,
   "metadata": {},
   "outputs": [
    {
     "name": "stdout",
     "output_type": "stream",
     "text": [
      "2023-07-30 00:29:06.196491: I tensorflow/core/platform/cpu_feature_guard.cc:182] This TensorFlow binary is optimized to use available CPU instructions in performance-critical operations.\n",
      "To enable the following instructions: AVX2 FMA, in other operations, rebuild TensorFlow with the appropriate compiler flags.\n",
      "2023-07-30 00:29:06.765555: W tensorflow/compiler/tf2tensorrt/utils/py_utils.cc:38] TF-TRT Warning: Could not find TensorRT\n",
      "2023-07-30 00:29:08.530649: I tensorflow/compiler/xla/stream_executor/cuda/cuda_gpu_executor.cc:995] successful NUMA node read from SysFS had negative value (-1), but there must be at least one NUMA node, so returning NUMA node zero. See more at https://github.com/torvalds/linux/blob/v6.0/Documentation/ABI/testing/sysfs-bus-pci#L344-L355\n",
      "2023-07-30 00:29:08.530955: W tensorflow/core/common_runtime/gpu/gpu_device.cc:1960] Cannot dlopen some GPU libraries. Please make sure the missing libraries mentioned above are installed properly if you would like to use GPU. Follow the guide at https://www.tensorflow.org/install/gpu for how to download and setup the required libraries for your platform.\n",
      "Skipping registering GPU devices...\n",
      "\u001b[34;1mtextattack\u001b[0m: Read 240 rows from aug-data/original.csv. Found columns {'', 'text'}.\n",
      "Downloading (…)lve/main/config.json: 100%|█| 1.40k/1.40k [00:00<00:00, 11.0MB/s]\n",
      "Downloading pytorch_model.bin: 100%|█████████| 312M/312M [00:51<00:00, 6.03MB/s]\n",
      "Downloading (…)neration_config.json: 100%|█████| 293/293 [00:00<00:00, 2.70MB/s]\n",
      "Downloading (…)olve/main/source.spm: 100%|███| 779k/779k [00:00<00:00, 1.87MB/s]\n",
      "Downloading (…)olve/main/target.spm: 100%|███| 799k/799k [00:00<00:00, 1.91MB/s]\n",
      "Downloading (…)olve/main/vocab.json: 100%|█| 1.46M/1.46M [00:00<00:00, 10.5MB/s]\n",
      "Downloading (…)okenizer_config.json: 100%|█████| 265/265 [00:00<00:00, 2.57MB/s]\n",
      "/home/ilya/.local/lib/python3.10/site-packages/transformers/models/marian/tokenization_marian.py:194: UserWarning: Recommended: pip install sacremoses.\n",
      "  warnings.warn(\"Recommended: pip install sacremoses.\")\n",
      "Downloading (…)lve/main/config.json: 100%|█| 1.37k/1.37k [00:00<00:00, 12.3MB/s]\n",
      "Downloading pytorch_model.bin: 100%|█████████| 312M/312M [00:51<00:00, 6.02MB/s]\n",
      "Downloading (…)neration_config.json: 100%|█████| 293/293 [00:00<00:00, 1.85MB/s]\n",
      "Downloading (…)olve/main/source.spm: 100%|███| 800k/800k [00:00<00:00, 5.40MB/s]\n",
      "Downloading (…)olve/main/target.spm: 100%|███| 779k/779k [00:00<00:00, 1.21MB/s]\n",
      "Downloading (…)olve/main/vocab.json: 100%|█| 1.46M/1.46M [00:00<00:00, 2.61MB/s]\n",
      "Downloading (…)okenizer_config.json: 100%|█████| 265/265 [00:00<00:00, 2.54MB/s]\n",
      "Augmenting rows:   0%|                                  | 0/240 [00:00<?, ?it/s]/home/ilya/.local/lib/python3.10/site-packages/transformers/tokenization_utils_base.py:3707: FutureWarning: \n",
      "`prepare_seq2seq_batch` is deprecated and will be removed in version 5 of HuggingFace Transformers. Use the regular\n",
      "`__call__` method to prepare your inputs and targets.\n",
      "\n",
      "Here is a short example:\n",
      "\n",
      "model_inputs = tokenizer(src_texts, text_target=tgt_texts, ...)\n",
      "\n",
      "If you either need to use different keyword arguments for the source and target texts, you should do two calls like\n",
      "this:\n",
      "\n",
      "model_inputs = tokenizer(src_texts, ...)\n",
      "labels = tokenizer(text_target=tgt_texts, ...)\n",
      "model_inputs[\"labels\"] = labels[\"input_ids\"]\n",
      "\n",
      "See the documentation of your specific tokenizer for more details on the specific arguments to the tokenizer of choice.\n",
      "For a more complete example, see the implementation of `prepare_seq2seq_batch`.\n",
      "\n",
      "  warnings.warn(formatted_warning, FutureWarning)\n",
      "/home/ilya/.local/lib/python3.10/site-packages/transformers/generation/utils.py:1273: UserWarning: Neither `max_length` nor `max_new_tokens` has been set, `max_length` will default to 512 (`generation_config.max_length`). Controlling `max_length` via the config is deprecated and `max_length` will be removed from the config in v5 of Transformers -- we recommend using `max_new_tokens` to control the maximum length of the generation.\n",
      "  warnings.warn(\n",
      "Augmenting rows: 100%|████████████████████████| 240/240 [28:54<00:00,  7.23s/it]\n",
      "\u001b[34;1mtextattack\u001b[0m: Wrote 240 augmentations to aug-data/back_trans1.csv in 1850.1407101154327s.\n"
     ]
    }
   ],
   "source": [
    "! textattack augment\\\n",
    "    --input-csv aug-data/original.csv\\\n",
    "    --output-csv aug-data/back_trans1.csv\\\n",
    "    --input-column text\\\n",
    "    --recipe back_trans\\\n",
    "    --pct-words-to-swap .1\\\n",
    "    --transformations-per-example 1\\\n",
    "    --exclude-original"
   ]
  },
  {
   "cell_type": "markdown",
   "metadata": {},
   "source": [
    "## `googletrans` package"
   ]
  },
  {
   "cell_type": "markdown",
   "metadata": {},
   "source": [
    "Это неофициальное API"
   ]
  },
  {
   "cell_type": "code",
   "execution_count": 14,
   "metadata": {},
   "outputs": [
    {
     "ename": "AttributeError",
     "evalue": "'NoneType' object has no attribute 'group'",
     "output_type": "error",
     "traceback": [
      "\u001b[0;31m---------------------------------------------------------------------------\u001b[0m",
      "\u001b[0;31mAttributeError\u001b[0m                            Traceback (most recent call last)",
      "Cell \u001b[0;32mIn[14], line 6\u001b[0m\n\u001b[1;32m      4\u001b[0m original \u001b[39m=\u001b[39m read_csv(\u001b[39m'\u001b[39m\u001b[39maug-data/original.csv\u001b[39m\u001b[39m'\u001b[39m)\n\u001b[1;32m      5\u001b[0m translator \u001b[39m=\u001b[39m Translator([\u001b[39m'\u001b[39m\u001b[39mtranslate.google.ru\u001b[39m\u001b[39m'\u001b[39m])\n\u001b[0;32m----> 6\u001b[0m ru \u001b[39m=\u001b[39m translator\u001b[39m.\u001b[39;49mtranslate(original[\u001b[39m0\u001b[39;49m], src\u001b[39m=\u001b[39;49m\u001b[39m'\u001b[39;49m\u001b[39men\u001b[39;49m\u001b[39m'\u001b[39;49m, dest\u001b[39m=\u001b[39;49m\u001b[39m'\u001b[39;49m\u001b[39mru\u001b[39;49m\u001b[39m'\u001b[39;49m)\u001b[39m.\u001b[39mtext\n\u001b[1;32m      7\u001b[0m aug \u001b[39m=\u001b[39m translator\u001b[39m.\u001b[39mtranslate(ru, src\u001b[39m=\u001b[39m\u001b[39m'\u001b[39m\u001b[39mru\u001b[39m\u001b[39m'\u001b[39m, dest\u001b[39m=\u001b[39m\u001b[39m'\u001b[39m\u001b[39men\u001b[39m\u001b[39m'\u001b[39m)\n",
      "File \u001b[0;32m~/.local/lib/python3.10/site-packages/googletrans/client.py:182\u001b[0m, in \u001b[0;36mTranslator.translate\u001b[0;34m(self, text, dest, src, **kwargs)\u001b[0m\n\u001b[1;32m    179\u001b[0m     \u001b[39mreturn\u001b[39;00m result\n\u001b[1;32m    181\u001b[0m origin \u001b[39m=\u001b[39m text\n\u001b[0;32m--> 182\u001b[0m data \u001b[39m=\u001b[39m \u001b[39mself\u001b[39;49m\u001b[39m.\u001b[39;49m_translate(text, dest, src, kwargs)\n\u001b[1;32m    184\u001b[0m \u001b[39m# this code will be updated when the format is changed.\u001b[39;00m\n\u001b[1;32m    185\u001b[0m translated \u001b[39m=\u001b[39m \u001b[39m'\u001b[39m\u001b[39m'\u001b[39m\u001b[39m.\u001b[39mjoin([d[\u001b[39m0\u001b[39m] \u001b[39mif\u001b[39;00m d[\u001b[39m0\u001b[39m] \u001b[39melse\u001b[39;00m \u001b[39m'\u001b[39m\u001b[39m'\u001b[39m \u001b[39mfor\u001b[39;00m d \u001b[39min\u001b[39;00m data[\u001b[39m0\u001b[39m]])\n",
      "File \u001b[0;32m~/.local/lib/python3.10/site-packages/googletrans/client.py:78\u001b[0m, in \u001b[0;36mTranslator._translate\u001b[0;34m(self, text, dest, src, override)\u001b[0m\n\u001b[1;32m     77\u001b[0m \u001b[39mdef\u001b[39;00m \u001b[39m_translate\u001b[39m(\u001b[39mself\u001b[39m, text, dest, src, override):\n\u001b[0;32m---> 78\u001b[0m     token \u001b[39m=\u001b[39m \u001b[39mself\u001b[39;49m\u001b[39m.\u001b[39;49mtoken_acquirer\u001b[39m.\u001b[39;49mdo(text)\n\u001b[1;32m     79\u001b[0m     params \u001b[39m=\u001b[39m utils\u001b[39m.\u001b[39mbuild_params(query\u001b[39m=\u001b[39mtext, src\u001b[39m=\u001b[39msrc, dest\u001b[39m=\u001b[39mdest,\n\u001b[1;32m     80\u001b[0m                                 token\u001b[39m=\u001b[39mtoken, override\u001b[39m=\u001b[39moverride)\n\u001b[1;32m     82\u001b[0m     url \u001b[39m=\u001b[39m urls\u001b[39m.\u001b[39mTRANSLATE\u001b[39m.\u001b[39mformat(host\u001b[39m=\u001b[39m\u001b[39mself\u001b[39m\u001b[39m.\u001b[39m_pick_service_url())\n",
      "File \u001b[0;32m~/.local/lib/python3.10/site-packages/googletrans/gtoken.py:194\u001b[0m, in \u001b[0;36mTokenAcquirer.do\u001b[0;34m(self, text)\u001b[0m\n\u001b[1;32m    193\u001b[0m \u001b[39mdef\u001b[39;00m \u001b[39mdo\u001b[39m(\u001b[39mself\u001b[39m, text):\n\u001b[0;32m--> 194\u001b[0m     \u001b[39mself\u001b[39;49m\u001b[39m.\u001b[39;49m_update()\n\u001b[1;32m    195\u001b[0m     tk \u001b[39m=\u001b[39m \u001b[39mself\u001b[39m\u001b[39m.\u001b[39macquire(text)\n\u001b[1;32m    196\u001b[0m     \u001b[39mreturn\u001b[39;00m tk\n",
      "File \u001b[0;32m~/.local/lib/python3.10/site-packages/googletrans/gtoken.py:62\u001b[0m, in \u001b[0;36mTokenAcquirer._update\u001b[0;34m(self)\u001b[0m\n\u001b[1;32m     59\u001b[0m     \u001b[39mreturn\u001b[39;00m\n\u001b[1;32m     61\u001b[0m \u001b[39m# this will be the same as python code after stripping out a reserved word 'var'\u001b[39;00m\n\u001b[0;32m---> 62\u001b[0m code \u001b[39m=\u001b[39m \u001b[39mself\u001b[39;49m\u001b[39m.\u001b[39;49mRE_TKK\u001b[39m.\u001b[39;49msearch(r\u001b[39m.\u001b[39;49mtext)\u001b[39m.\u001b[39;49mgroup(\u001b[39m1\u001b[39m)\u001b[39m.\u001b[39mreplace(\u001b[39m'\u001b[39m\u001b[39mvar \u001b[39m\u001b[39m'\u001b[39m, \u001b[39m'\u001b[39m\u001b[39m'\u001b[39m)\n\u001b[1;32m     63\u001b[0m \u001b[39m# unescape special ascii characters such like a \\x3d(=)\u001b[39;00m\n\u001b[1;32m     64\u001b[0m code \u001b[39m=\u001b[39m code\u001b[39m.\u001b[39mencode()\u001b[39m.\u001b[39mdecode(\u001b[39m'\u001b[39m\u001b[39municode-escape\u001b[39m\u001b[39m'\u001b[39m)\n",
      "\u001b[0;31mAttributeError\u001b[0m: 'NoneType' object has no attribute 'group'"
     ]
    }
   ],
   "source": [
    "from googletrans import Translator\n",
    "from visualization_utils import read_csv\n",
    "\n",
    "original = read_csv('aug-data/original.csv')\n",
    "translator = Translator(['translate.google.ru'])\n",
    "ru = translator.translate(original[0], src='en', dest='ru').text\n",
    "aug = translator.translate(ru, src='ru', dest='en')"
   ]
  },
  {
   "cell_type": "markdown",
   "metadata": {},
   "source": [
    "## Hugging Face Back Translation"
   ]
  },
  {
   "cell_type": "code",
   "execution_count": 1,
   "metadata": {},
   "outputs": [
    {
     "name": "stderr",
     "output_type": "stream",
     "text": [
      "2023-07-30 14:48:16.004098: I tensorflow/core/platform/cpu_feature_guard.cc:182] This TensorFlow binary is optimized to use available CPU instructions in performance-critical operations.\n",
      "To enable the following instructions: AVX2 FMA, in other operations, rebuild TensorFlow with the appropriate compiler flags.\n",
      "2023-07-30 14:48:16.909017: W tensorflow/compiler/tf2tensorrt/utils/py_utils.cc:38] TF-TRT Warning: Could not find TensorRT\n",
      "No model was supplied, defaulted to t5-base and revision 686f1db (https://huggingface.co/t5-base).\n",
      "Using a pipeline without specifying a model name and revision in production is not recommended.\n",
      "/home/ilya/.local/lib/python3.10/site-packages/transformers/models/t5/tokenization_t5_fast.py:155: FutureWarning: This tokenizer was incorrectly instantiated with a model max length of 512 which will be corrected in Transformers v5.\n",
      "For now, this behavior is kept to avoid breaking backwards compatibility when padding/encoding with `truncation is True`.\n",
      "- Be aware that you SHOULD NOT rely on t5-base automatically truncating your input to 512 when padding/encoding.\n",
      "- If you want to encode/pad to sequences longer than 512 you can either instantiate this tokenizer with `model_max_length` or pass `max_length` when encoding/padding.\n",
      "- To avoid this warning, please instantiate this tokenizer with `model_max_length` set to your preferred value.\n",
      "  warnings.warn(\n",
      "/home/ilya/.local/lib/python3.10/site-packages/transformers/models/marian/tokenization_marian.py:194: UserWarning: Recommended: pip install sacremoses.\n",
      "  warnings.warn(\"Recommended: pip install sacremoses.\")\n"
     ]
    }
   ],
   "source": [
    "from my_augmentations import back_translate\n",
    "\n",
    "\n",
    "back_translate()"
   ]
  },
  {
   "cell_type": "code",
   "execution_count": 2,
   "metadata": {},
   "outputs": [],
   "source": [
    "from transformers import pipeline\n",
    "from visualization_utils import read_csv\n",
    "\n",
    "\n",
    "# to french\n",
    "translator = pipeline('translation_en_to_fr', model='Helsinki-NLP/opus-mt-en-fr', device='cuda:0')\n",
    "original = read_csv('aug-data/original.csv')\n",
    "translated = [a['translation_text'] for a in translator(original)]\n",
    "del translator"
   ]
  },
  {
   "cell_type": "code",
   "execution_count": 3,
   "metadata": {},
   "outputs": [],
   "source": [
    "# back to english\n",
    "translator = pipeline('translation_fr_to_en', model='Helsinki-NLP/opus-mt-fr-en', device='cuda:0')\n",
    "back_translated = [a['translation_text'] for a in translator(translated)]\n",
    "del translator"
   ]
  },
  {
   "cell_type": "code",
   "execution_count": 5,
   "metadata": {},
   "outputs": [],
   "source": [
    "import pandas as pd\n",
    "\n",
    "\n",
    "# save to csv\n",
    "df = pd.DataFrame({'text': back_translated})\n",
    "df.to_csv(f'aug-data/back_translated.csv')"
   ]
  },
  {
   "cell_type": "markdown",
   "metadata": {},
   "source": [
    "## Insertion"
   ]
  },
  {
   "cell_type": "markdown",
   "metadata": {},
   "source": [
    "- Цель: добавить слова подхоящие в контекст.\n",
    "- Идея: добавить маскированные токены и предсказать их с помощью XLNet.\n",
    "- Использовать XLNet чтобы обрабатывать весь диалог сразу, а не отдельно по одному уттерансу"
   ]
  },
  {
   "cell_type": "code",
   "execution_count": 1,
   "metadata": {},
   "outputs": [
    {
     "name": "stderr",
     "output_type": "stream",
     "text": [
      "2023-08-02 03:10:07.834982: I tensorflow/core/platform/cpu_feature_guard.cc:182] This TensorFlow binary is optimized to use available CPU instructions in performance-critical operations.\n",
      "To enable the following instructions: AVX2 FMA, in other operations, rebuild TensorFlow with the appropriate compiler flags.\n",
      "2023-08-02 03:10:08.446552: W tensorflow/compiler/tf2tensorrt/utils/py_utils.cc:38] TF-TRT Warning: Could not find TensorRT\n",
      "[nltk_data] Downloading package stopwords to /home/ilya/nltk_data...\n",
      "[nltk_data]   Package stopwords is already up-to-date!\n"
     ]
    }
   ],
   "source": [
    "from my_augmentations import Inserter\n",
    "\n",
    "\n",
    "inserter = Inserter(\n",
    "    fraction=0.1,\n",
    "    score_threshold=0.005,\n",
    "    k=3,\n",
    "    mask_utterance_level=False,\n",
    "    fill_utterance_level=True,\n",
    "    model='xlnet-base-cased',\n",
    "    device='cuda'\n",
    ")\n",
    "inserter.from_file_system('insertion')"
   ]
  },
  {
   "cell_type": "code",
   "execution_count": 2,
   "metadata": {},
   "outputs": [
    {
     "name": "stderr",
     "output_type": "stream",
     "text": [
      "[nltk_data] Downloading package stopwords to /home/ilya/nltk_data...\n",
      "[nltk_data]   Package stopwords is already up-to-date!\n"
     ]
    }
   ],
   "source": [
    "from my_augmentations import Inserter\n",
    "\n",
    "\n",
    "inserter = Inserter(\n",
    "    fraction=0.1,\n",
    "    score_threshold=0.005,\n",
    "    k=5,\n",
    "    mask_utterance_level=False,\n",
    "    fill_utterance_level=False,\n",
    "    model='xlnet-base-cased',\n",
    "    device='cuda'\n",
    ")\n",
    "inserter.from_file_system('xlnet-insertion')"
   ]
  },
  {
   "cell_type": "markdown",
   "metadata": {},
   "source": [
    "## Replacement"
   ]
  },
  {
   "cell_type": "code",
   "execution_count": 1,
   "metadata": {},
   "outputs": [
    {
     "name": "stderr",
     "output_type": "stream",
     "text": [
      "2023-08-01 20:59:52.999292: I tensorflow/core/platform/cpu_feature_guard.cc:182] This TensorFlow binary is optimized to use available CPU instructions in performance-critical operations.\n",
      "To enable the following instructions: AVX2 FMA, in other operations, rebuild TensorFlow with the appropriate compiler flags.\n",
      "2023-08-01 20:59:53.610733: W tensorflow/compiler/tf2tensorrt/utils/py_utils.cc:38] TF-TRT Warning: Could not find TensorRT\n",
      "[nltk_data] Downloading package stopwords to /home/ilya/nltk_data...\n",
      "[nltk_data]   Package stopwords is already up-to-date!\n",
      "/home/ilya/.local/lib/python3.10/site-packages/transformers/pipelines/base.py:1083: UserWarning: You seem to be using the pipelines sequentially on GPU. In order to maximize efficiency please use a dataset\n",
      "  warnings.warn(\n"
     ]
    }
   ],
   "source": [
    "from my_augmentations import Replacer\n",
    "\n",
    "\n",
    "replacer = Replacer(\n",
    "    k=3,\n",
    "    fill_utterance_level=3,\n",
    "    model='microsoft/mpnet-base',\n",
    "    device='cuda'\n",
    ")\n",
    "replacer.from_file_system('replacement3')"
   ]
  },
  {
   "cell_type": "markdown",
   "metadata": {},
   "source": [
    "- визуально оценить результат в зависимости от level"
   ]
  },
  {
   "cell_type": "markdown",
   "metadata": {},
   "source": [
    "## ChatGPT API"
   ]
  },
  {
   "cell_type": "code",
   "execution_count": 72,
   "metadata": {},
   "outputs": [
    {
     "data": {
      "text/plain": [
       "True"
      ]
     },
     "execution_count": 72,
     "metadata": {},
     "output_type": "execute_result"
    }
   ],
   "source": [
    "from dotenv import load_dotenv\n",
    "\n",
    "load_dotenv()"
   ]
  },
  {
   "cell_type": "code",
   "execution_count": 73,
   "metadata": {},
   "outputs": [],
   "source": [
    "import os\n",
    "import openai\n",
    "\n",
    "\n",
    "openai.api_key = os.environ['OPENAI_KEY']"
   ]
  },
  {
   "cell_type": "code",
   "execution_count": 74,
   "metadata": {},
   "outputs": [],
   "source": [
    "def get_completion(prompt, model=\"gpt-3.5-turbo\"):\n",
    "    messages = [{\"role\": \"user\", \"content\": prompt}]\n",
    "    response = openai.ChatCompletion.create(\n",
    "        model=model,\n",
    "        messages=messages,\n",
    "        temperature=0, # this is the degree of randomness of the model's output\n",
    "    )\n",
    "    return response.choices[0].message[\"content\"]"
   ]
  },
  {
   "cell_type": "code",
   "execution_count": 75,
   "metadata": {},
   "outputs": [],
   "source": [
    "prompt = \"\"\"\n",
    "Below, in triple backticks, is a dialogue between a client and a service worker on the topic of {topic}. The symbols [A] and [B] indicate the belonging of the remarks to the client and the employee (which of them specifically is unknown).\n",
    "\n",
    "Your task is to rewrite the original dialogue in an informal style. You can change the vocabulary. You can not change the order of the lines, change the meaning of the dialogue and phrases in general.\n",
    "\n",
    "Respond only with dialogue, without any additional comments.\n",
    "\n",
    "```{dialogue}```\n",
    "\"\"\""
   ]
  },
  {
   "cell_type": "code",
   "execution_count": 77,
   "metadata": {},
   "outputs": [
    {
     "ename": "RateLimitError",
     "evalue": "You exceeded your current quota, please check your plan and billing details.",
     "output_type": "error",
     "traceback": [
      "\u001b[0;31m---------------------------------------------------------------------------\u001b[0m",
      "\u001b[0;31mRateLimitError\u001b[0m                            Traceback (most recent call last)",
      "Cell \u001b[0;32mIn[77], line 5\u001b[0m\n\u001b[1;32m      3\u001b[0m \u001b[39mif\u001b[39;00m i \u001b[39m>\u001b[39m \u001b[39m10\u001b[39m:\n\u001b[1;32m      4\u001b[0m     \u001b[39mbreak\u001b[39;00m\n\u001b[0;32m----> 5\u001b[0m response \u001b[39m=\u001b[39m get_completion(prompt\u001b[39m.\u001b[39;49mformat(topic\u001b[39m=\u001b[39;49m\u001b[39m'\u001b[39;49m\u001b[39m, \u001b[39;49m\u001b[39m'\u001b[39;49m\u001b[39m.\u001b[39;49mjoin(topic), dialogue\u001b[39m=\u001b[39;49mdialogue))\n\u001b[1;32m      6\u001b[0m responses\u001b[39m.\u001b[39mappend(response)\n",
      "Cell \u001b[0;32mIn[74], line 3\u001b[0m, in \u001b[0;36mget_completion\u001b[0;34m(prompt, model)\u001b[0m\n\u001b[1;32m      1\u001b[0m \u001b[39mdef\u001b[39;00m \u001b[39mget_completion\u001b[39m(prompt, model\u001b[39m=\u001b[39m\u001b[39m\"\u001b[39m\u001b[39mgpt-3.5-turbo\u001b[39m\u001b[39m\"\u001b[39m):\n\u001b[1;32m      2\u001b[0m     messages \u001b[39m=\u001b[39m [{\u001b[39m\"\u001b[39m\u001b[39mrole\u001b[39m\u001b[39m\"\u001b[39m: \u001b[39m\"\u001b[39m\u001b[39muser\u001b[39m\u001b[39m\"\u001b[39m, \u001b[39m\"\u001b[39m\u001b[39mcontent\u001b[39m\u001b[39m\"\u001b[39m: prompt}]\n\u001b[0;32m----> 3\u001b[0m     response \u001b[39m=\u001b[39m openai\u001b[39m.\u001b[39;49mChatCompletion\u001b[39m.\u001b[39;49mcreate(\n\u001b[1;32m      4\u001b[0m         model\u001b[39m=\u001b[39;49mmodel,\n\u001b[1;32m      5\u001b[0m         messages\u001b[39m=\u001b[39;49mmessages,\n\u001b[1;32m      6\u001b[0m         temperature\u001b[39m=\u001b[39;49m\u001b[39m0\u001b[39;49m, \u001b[39m# this is the degree of randomness of the model's output\u001b[39;49;00m\n\u001b[1;32m      7\u001b[0m     )\n\u001b[1;32m      8\u001b[0m     \u001b[39mreturn\u001b[39;00m response\u001b[39m.\u001b[39mchoices[\u001b[39m0\u001b[39m]\u001b[39m.\u001b[39mmessage[\u001b[39m\"\u001b[39m\u001b[39mcontent\u001b[39m\u001b[39m\"\u001b[39m]\n",
      "File \u001b[0;32m~/.local/lib/python3.10/site-packages/openai/api_resources/chat_completion.py:25\u001b[0m, in \u001b[0;36mChatCompletion.create\u001b[0;34m(cls, *args, **kwargs)\u001b[0m\n\u001b[1;32m     23\u001b[0m \u001b[39mwhile\u001b[39;00m \u001b[39mTrue\u001b[39;00m:\n\u001b[1;32m     24\u001b[0m     \u001b[39mtry\u001b[39;00m:\n\u001b[0;32m---> 25\u001b[0m         \u001b[39mreturn\u001b[39;00m \u001b[39msuper\u001b[39;49m()\u001b[39m.\u001b[39;49mcreate(\u001b[39m*\u001b[39;49margs, \u001b[39m*\u001b[39;49m\u001b[39m*\u001b[39;49mkwargs)\n\u001b[1;32m     26\u001b[0m     \u001b[39mexcept\u001b[39;00m TryAgain \u001b[39mas\u001b[39;00m e:\n\u001b[1;32m     27\u001b[0m         \u001b[39mif\u001b[39;00m timeout \u001b[39mis\u001b[39;00m \u001b[39mnot\u001b[39;00m \u001b[39mNone\u001b[39;00m \u001b[39mand\u001b[39;00m time\u001b[39m.\u001b[39mtime() \u001b[39m>\u001b[39m start \u001b[39m+\u001b[39m timeout:\n",
      "File \u001b[0;32m~/.local/lib/python3.10/site-packages/openai/api_resources/abstract/engine_api_resource.py:153\u001b[0m, in \u001b[0;36mEngineAPIResource.create\u001b[0;34m(cls, api_key, api_base, api_type, request_id, api_version, organization, **params)\u001b[0m\n\u001b[1;32m    127\u001b[0m \u001b[39m@classmethod\u001b[39m\n\u001b[1;32m    128\u001b[0m \u001b[39mdef\u001b[39;00m \u001b[39mcreate\u001b[39m(\n\u001b[1;32m    129\u001b[0m     \u001b[39mcls\u001b[39m,\n\u001b[0;32m   (...)\u001b[0m\n\u001b[1;32m    136\u001b[0m     \u001b[39m*\u001b[39m\u001b[39m*\u001b[39mparams,\n\u001b[1;32m    137\u001b[0m ):\n\u001b[1;32m    138\u001b[0m     (\n\u001b[1;32m    139\u001b[0m         deployment_id,\n\u001b[1;32m    140\u001b[0m         engine,\n\u001b[0;32m   (...)\u001b[0m\n\u001b[1;32m    150\u001b[0m         api_key, api_base, api_type, api_version, organization, \u001b[39m*\u001b[39m\u001b[39m*\u001b[39mparams\n\u001b[1;32m    151\u001b[0m     )\n\u001b[0;32m--> 153\u001b[0m     response, _, api_key \u001b[39m=\u001b[39m requestor\u001b[39m.\u001b[39;49mrequest(\n\u001b[1;32m    154\u001b[0m         \u001b[39m\"\u001b[39;49m\u001b[39mpost\u001b[39;49m\u001b[39m\"\u001b[39;49m,\n\u001b[1;32m    155\u001b[0m         url,\n\u001b[1;32m    156\u001b[0m         params\u001b[39m=\u001b[39;49mparams,\n\u001b[1;32m    157\u001b[0m         headers\u001b[39m=\u001b[39;49mheaders,\n\u001b[1;32m    158\u001b[0m         stream\u001b[39m=\u001b[39;49mstream,\n\u001b[1;32m    159\u001b[0m         request_id\u001b[39m=\u001b[39;49mrequest_id,\n\u001b[1;32m    160\u001b[0m         request_timeout\u001b[39m=\u001b[39;49mrequest_timeout,\n\u001b[1;32m    161\u001b[0m     )\n\u001b[1;32m    163\u001b[0m     \u001b[39mif\u001b[39;00m stream:\n\u001b[1;32m    164\u001b[0m         \u001b[39m# must be an iterator\u001b[39;00m\n\u001b[1;32m    165\u001b[0m         \u001b[39massert\u001b[39;00m \u001b[39mnot\u001b[39;00m \u001b[39misinstance\u001b[39m(response, OpenAIResponse)\n",
      "File \u001b[0;32m~/.local/lib/python3.10/site-packages/openai/api_requestor.py:298\u001b[0m, in \u001b[0;36mAPIRequestor.request\u001b[0;34m(self, method, url, params, headers, files, stream, request_id, request_timeout)\u001b[0m\n\u001b[1;32m    277\u001b[0m \u001b[39mdef\u001b[39;00m \u001b[39mrequest\u001b[39m(\n\u001b[1;32m    278\u001b[0m     \u001b[39mself\u001b[39m,\n\u001b[1;32m    279\u001b[0m     method,\n\u001b[0;32m   (...)\u001b[0m\n\u001b[1;32m    286\u001b[0m     request_timeout: Optional[Union[\u001b[39mfloat\u001b[39m, Tuple[\u001b[39mfloat\u001b[39m, \u001b[39mfloat\u001b[39m]]] \u001b[39m=\u001b[39m \u001b[39mNone\u001b[39;00m,\n\u001b[1;32m    287\u001b[0m ) \u001b[39m-\u001b[39m\u001b[39m>\u001b[39m Tuple[Union[OpenAIResponse, Iterator[OpenAIResponse]], \u001b[39mbool\u001b[39m, \u001b[39mstr\u001b[39m]:\n\u001b[1;32m    288\u001b[0m     result \u001b[39m=\u001b[39m \u001b[39mself\u001b[39m\u001b[39m.\u001b[39mrequest_raw(\n\u001b[1;32m    289\u001b[0m         method\u001b[39m.\u001b[39mlower(),\n\u001b[1;32m    290\u001b[0m         url,\n\u001b[0;32m   (...)\u001b[0m\n\u001b[1;32m    296\u001b[0m         request_timeout\u001b[39m=\u001b[39mrequest_timeout,\n\u001b[1;32m    297\u001b[0m     )\n\u001b[0;32m--> 298\u001b[0m     resp, got_stream \u001b[39m=\u001b[39m \u001b[39mself\u001b[39;49m\u001b[39m.\u001b[39;49m_interpret_response(result, stream)\n\u001b[1;32m    299\u001b[0m     \u001b[39mreturn\u001b[39;00m resp, got_stream, \u001b[39mself\u001b[39m\u001b[39m.\u001b[39mapi_key\n",
      "File \u001b[0;32m~/.local/lib/python3.10/site-packages/openai/api_requestor.py:700\u001b[0m, in \u001b[0;36mAPIRequestor._interpret_response\u001b[0;34m(self, result, stream)\u001b[0m\n\u001b[1;32m    692\u001b[0m     \u001b[39mreturn\u001b[39;00m (\n\u001b[1;32m    693\u001b[0m         \u001b[39mself\u001b[39m\u001b[39m.\u001b[39m_interpret_response_line(\n\u001b[1;32m    694\u001b[0m             line, result\u001b[39m.\u001b[39mstatus_code, result\u001b[39m.\u001b[39mheaders, stream\u001b[39m=\u001b[39m\u001b[39mTrue\u001b[39;00m\n\u001b[1;32m    695\u001b[0m         )\n\u001b[1;32m    696\u001b[0m         \u001b[39mfor\u001b[39;00m line \u001b[39min\u001b[39;00m parse_stream(result\u001b[39m.\u001b[39miter_lines())\n\u001b[1;32m    697\u001b[0m     ), \u001b[39mTrue\u001b[39;00m\n\u001b[1;32m    698\u001b[0m \u001b[39melse\u001b[39;00m:\n\u001b[1;32m    699\u001b[0m     \u001b[39mreturn\u001b[39;00m (\n\u001b[0;32m--> 700\u001b[0m         \u001b[39mself\u001b[39;49m\u001b[39m.\u001b[39;49m_interpret_response_line(\n\u001b[1;32m    701\u001b[0m             result\u001b[39m.\u001b[39;49mcontent\u001b[39m.\u001b[39;49mdecode(\u001b[39m\"\u001b[39;49m\u001b[39mutf-8\u001b[39;49m\u001b[39m\"\u001b[39;49m),\n\u001b[1;32m    702\u001b[0m             result\u001b[39m.\u001b[39;49mstatus_code,\n\u001b[1;32m    703\u001b[0m             result\u001b[39m.\u001b[39;49mheaders,\n\u001b[1;32m    704\u001b[0m             stream\u001b[39m=\u001b[39;49m\u001b[39mFalse\u001b[39;49;00m,\n\u001b[1;32m    705\u001b[0m         ),\n\u001b[1;32m    706\u001b[0m         \u001b[39mFalse\u001b[39;00m,\n\u001b[1;32m    707\u001b[0m     )\n",
      "File \u001b[0;32m~/.local/lib/python3.10/site-packages/openai/api_requestor.py:763\u001b[0m, in \u001b[0;36mAPIRequestor._interpret_response_line\u001b[0;34m(self, rbody, rcode, rheaders, stream)\u001b[0m\n\u001b[1;32m    761\u001b[0m stream_error \u001b[39m=\u001b[39m stream \u001b[39mand\u001b[39;00m \u001b[39m\"\u001b[39m\u001b[39merror\u001b[39m\u001b[39m\"\u001b[39m \u001b[39min\u001b[39;00m resp\u001b[39m.\u001b[39mdata\n\u001b[1;32m    762\u001b[0m \u001b[39mif\u001b[39;00m stream_error \u001b[39mor\u001b[39;00m \u001b[39mnot\u001b[39;00m \u001b[39m200\u001b[39m \u001b[39m<\u001b[39m\u001b[39m=\u001b[39m rcode \u001b[39m<\u001b[39m \u001b[39m300\u001b[39m:\n\u001b[0;32m--> 763\u001b[0m     \u001b[39mraise\u001b[39;00m \u001b[39mself\u001b[39m\u001b[39m.\u001b[39mhandle_error_response(\n\u001b[1;32m    764\u001b[0m         rbody, rcode, resp\u001b[39m.\u001b[39mdata, rheaders, stream_error\u001b[39m=\u001b[39mstream_error\n\u001b[1;32m    765\u001b[0m     )\n\u001b[1;32m    766\u001b[0m \u001b[39mreturn\u001b[39;00m resp\n",
      "\u001b[0;31mRateLimitError\u001b[0m: You exceeded your current quota, please check your plan and billing details."
     ]
    }
   ],
   "source": [
    "responses = []\n",
    "for i, (topic, dialogue) in enumerate(zip(topics, dialogues)):\n",
    "    if i > 10:\n",
    "        break\n",
    "    response = get_completion(prompt.format(topic=', '.join(topic), dialogue=dialogue))\n",
    "    responses.append(response)"
   ]
  },
  {
   "cell_type": "code",
   "execution_count": 78,
   "metadata": {},
   "outputs": [
    {
     "data": {
      "text/plain": [
       "[]"
      ]
     },
     "execution_count": 78,
     "metadata": {},
     "output_type": "execute_result"
    }
   ],
   "source": [
    "responses"
   ]
  },
  {
   "cell_type": "markdown",
   "metadata": {},
   "source": [
    "## ChatGPT Web UI"
   ]
  },
  {
   "cell_type": "code",
   "execution_count": 69,
   "metadata": {},
   "outputs": [],
   "source": [
    "from redlines import Redlines\n",
    "from IPython.display import Markdown, display\n",
    "\n",
    "\n",
    "def test(orig, new):\n",
    "    test = Redlines(orig, new)\n",
    "    display(Markdown(test.output_markdown))"
   ]
  },
  {
   "cell_type": "markdown",
   "metadata": {},
   "source": [
    "### Stop Utterances"
   ]
  },
  {
   "cell_type": "markdown",
   "metadata": {},
   "source": [
    "Промт такой:\n",
    "```\n",
    "Below, in triple quotes, is a dialogue between a client and a service worker on the topic of hotel, taxi and entertainment. The symbols [A] and [B] indicate the belonging of the replicas to the client and the employee (which of them specifically is unknown).\n",
    "\n",
    "Your task is to add to some replicas such phrases that do not add or distort the meaning of the dialogue as a whole, do not change the sequence of replies of the speakers. Added phrases should be no longer than 5-10 words. You can add to any part of the dialogue and to any part of phrases.\n",
    "\n",
    "You are not allowed to delete words and phrases or change the words of the original dialogue in any way. The final dialogue must comply with the rules of grammar.\n",
    "\n",
    "Are you ready to get dialogue in triple quotes? Say yes or no\n",
    "```"
   ]
  },
  {
   "cell_type": "code",
   "execution_count": 49,
   "metadata": {},
   "outputs": [],
   "source": [
    "orig = \"\"\"\n",
    "[A] My husband and I are celebrating our anniversary and want to find a great place to stay in town.\n",
    "[B] Congratulations on your upcoming anniversary! Cambridge offers a variety of lodging options, what is your price range?\n",
    "[A] I would like a 4 star guesthouse that includes free parking.\n",
    "[B] I have several options for you, is there a particular area you are interested in during your stay?\n",
    "[A] yes should be in the west\n",
    "[B] I have one guesthouse that fits that criteria, Finches Bed and Breakfast. Would you like me to book for you?\n",
    "[A] Yes, please! We'll arrive on Monday and stay 2 nights. Just the two of us, of course!\n",
    "[B] Ok, your hotel stay at Finches Bed and Breakfast is booked, Reference number FKRO2HOW . Will there be anything else?\n",
    "[A] I am wanting to know more about the Cambridge Museum of Technology.\n",
    "[B] Sure, it's located in the centre area of town. The phone number is 01223368650. The entrance fee is 5 pounds.\n",
    "[A] What is the address, please.\n",
    "[B] The address is the old pumping station, cheddars lane. Did you want any more information about the museum?\n",
    "[A] Yes, I need the entrance fee. I will also need a taxi to pick me up by 24:30. I need the contact number and car type please.\n",
    "[B] The entrance fee is 5 pounds.\n",
    "[A] Can you book the taxi for me at 24:30 leaving from the museum please. I will need the contact number and the car type.\n",
    "[B] and what is your destination ?\n",
    "[A] I will leave the Cambridge Museum at 24:30, going to the the Finches Bed and Breakfast.\n",
    "[B] Your taxi has been booked. It will be a grey volvo and the contact number is 07239297218.\n",
    "[A] Thanks so much. That is all I need for today. Bye.\n",
    "[B] Have a nice stay!\n",
    "\"\"\""
   ]
  },
  {
   "cell_type": "code",
   "execution_count": 50,
   "metadata": {},
   "outputs": [],
   "source": [
    "new = \"\"\"\n",
    "<A> My husband and I are celebrating our anniversary and want to find a great place to stay in town.\n",
    "<B> Congratulations on your upcoming anniversary! Cambridge offers a variety of lodging options, what is your price range?\n",
    "<A> I would like a 4-star guesthouse that includes free parking, please.\n",
    "<B> I have several options for you. Is there a particular area you are interested in during your stay?\n",
    "<A> Yes, it should be in the west, please.\n",
    "<B> I have one guesthouse that fits that criteria, Finches Bed and Breakfast. Would you like me to book it for you?\n",
    "<A> Yes, please! We'll arrive on Monday and stay 2 nights. Just the two of us, of course!\n",
    "<B> Ok, your hotel stay at Finches Bed and Breakfast is booked, Reference number FKRO2HOW. Will there be anything else?\n",
    "<A> I am wanting to know more about the Cambridge Museum of Technology, actually.\n",
    "<B> Sure, it's located in the center area of town. The phone number is 01223368650. The entrance fee is 5 pounds.\n",
    "<A> What is the address, please.\n",
    "<B> The address is the old pumping station, Cheddars Lane. Did you want any more information about the museum?\n",
    "<A> Yes, I need the entrance fee. Also, I will need a taxi to pick me up by 24:30. Can you provide the contact number and car type, please?\n",
    "<B> The entrance fee is 5 pounds.\n",
    "<A> Can you book the taxi for me at 24:30, leaving from the museum, please? I will need the contact number and the car type.\n",
    "<B> Sure, and what is your destination?\n",
    "<A> I will leave the Cambridge Museum at 24:30, going to Finches Bed and Breakfast.\n",
    "<B> Your taxi has been booked. It will be a grey Volvo, and the contact number is 07239297218.\n",
    "<A> Thanks so much. That is all I need for today. Bye.\n",
    "<B> Have a nice stay!\n",
    "\"\"\""
   ]
  },
  {
   "cell_type": "code",
   "execution_count": 55,
   "metadata": {},
   "outputs": [],
   "source": [
    "def repl(txt):\n",
    "    txt = txt.replace('<', '[')\n",
    "    return txt.replace('>', ']')"
   ]
  },
  {
   "cell_type": "code",
   "execution_count": 56,
   "metadata": {},
   "outputs": [],
   "source": [
    "new = repl(new)"
   ]
  },
  {
   "cell_type": "code",
   "execution_count": 61,
   "metadata": {},
   "outputs": [
    {
     "data": {
      "text/markdown": [
       "[A] My husband and I are celebrating our anniversary and want to find a great place to stay in town. \n",
       "\n",
       "[B] Congratulations on your upcoming anniversary! Cambridge offers a variety of lodging options, what is your price range? \n",
       "\n",
       "[A] I would like a <span style='color:red;font-weight:700;text-decoration:line-through;'>4 star </span><span style='color:green;font-weight:700;'>4-star </span>guesthouse that includes free <span style='color:red;font-weight:700;text-decoration:line-through;'>parking. </span><span style='color:green;font-weight:700;'>parking, please. </span>\n",
       "\n",
       "[B] I have several options for <span style='color:red;font-weight:700;text-decoration:line-through;'>you, is </span><span style='color:green;font-weight:700;'>you. Is </span>there a particular area you are interested in during your stay? \n",
       "\n",
       "[A] <span style='color:red;font-weight:700;text-decoration:line-through;'>yes </span><span style='color:green;font-weight:700;'>Yes, it </span>should be in the <span style='color:red;font-weight:700;text-decoration:line-through;'>west </span><span style='color:green;font-weight:700;'>west, please. </span>\n",
       "\n",
       "[B] I have one guesthouse that fits that criteria, Finches Bed and Breakfast. Would you like me to book <span style='color:green;font-weight:700;'>it </span>for you? \n",
       "\n",
       "[A] Yes, please! We'll arrive on Monday and stay 2 nights. Just the two of us, of course! \n",
       "\n",
       "[B] Ok, your hotel stay at Finches Bed and Breakfast is booked, Reference number <span style='color:red;font-weight:700;text-decoration:line-through;'>FKRO2HOW . </span><span style='color:green;font-weight:700;'>FKRO2HOW. </span>Will there be anything else? \n",
       "\n",
       "[A] I am wanting to know more about the Cambridge Museum of <span style='color:red;font-weight:700;text-decoration:line-through;'>Technology. </span><span style='color:green;font-weight:700;'>Technology, actually. </span>\n",
       "\n",
       "[B] Sure, it's located in the <span style='color:red;font-weight:700;text-decoration:line-through;'>centre </span><span style='color:green;font-weight:700;'>center </span>area of town. The phone number is 01223368650. The entrance fee is 5 pounds. \n",
       "\n",
       "[A] What is the address, please. \n",
       "\n",
       "[B] The address is the old pumping station, <span style='color:red;font-weight:700;text-decoration:line-through;'>cheddars lane. </span><span style='color:green;font-weight:700;'>Cheddars Lane. </span>Did you want any more information about the museum? \n",
       "\n",
       "[A] Yes, I need the entrance fee. <span style='color:green;font-weight:700;'>Also, </span>I will <span style='color:red;font-weight:700;text-decoration:line-through;'>also </span>need a taxi to pick me up by 24:30. <span style='color:red;font-weight:700;text-decoration:line-through;'>I need </span><span style='color:green;font-weight:700;'>Can you provide </span>the contact number and car <span style='color:red;font-weight:700;text-decoration:line-through;'>type please. </span><span style='color:green;font-weight:700;'>type, please? </span>\n",
       "\n",
       "[B] The entrance fee is 5 pounds. \n",
       "\n",
       "[A] Can you book the taxi for me at <span style='color:red;font-weight:700;text-decoration:line-through;'>24:30 </span><span style='color:green;font-weight:700;'>24:30, </span>leaving from the <span style='color:red;font-weight:700;text-decoration:line-through;'>museum please. </span><span style='color:green;font-weight:700;'>museum, please? </span>I will need the contact number and the car type. \n",
       "\n",
       "[B] <span style='color:green;font-weight:700;'>Sure, </span>and what is your <span style='color:red;font-weight:700;text-decoration:line-through;'>destination ? </span><span style='color:green;font-weight:700;'>destination? </span>\n",
       "\n",
       "[A] I will leave the Cambridge Museum at 24:30, going to <span style='color:red;font-weight:700;text-decoration:line-through;'>the the </span>Finches Bed and Breakfast. \n",
       "\n",
       "[B] Your taxi has been booked. It will be a grey <span style='color:red;font-weight:700;text-decoration:line-through;'>volvo </span><span style='color:green;font-weight:700;'>Volvo, </span>and the contact number is 07239297218. \n",
       "\n",
       "[A] Thanks so much. That is all I need for today. Bye. \n",
       "\n",
       "[B] Have a nice stay!"
      ],
      "text/plain": [
       "<IPython.core.display.Markdown object>"
      ]
     },
     "metadata": {},
     "output_type": "display_data"
    }
   ],
   "source": [
    "test(orig, new)"
   ]
  },
  {
   "cell_type": "code",
   "execution_count": 63,
   "metadata": {},
   "outputs": [],
   "source": [
    "new2 = \"\"\"\n",
    "<A> My husband and I are celebrating our anniversary and want to find a great place to stay in town.\n",
    "<B> Congratulations on your upcoming anniversary! Cambridge offers a variety of lodging options, what is your price range?\n",
    "<A> I would like a 4-star guesthouse that includes free parking, please.\n",
    "<B> I have several options for you. Is there a particular area in the west you are interested in during your stay?\n",
    "<A> Yes, it should be in the west.\n",
    "<B> I have one guesthouse that fits that criteria, Finches Bed and Breakfast. Would you like me to book it for you?\n",
    "<A> Yes, please! We'll arrive on Monday and stay 2 nights, just the two of us, of course!\n",
    "<B> Ok, your hotel stay at Finches Bed and Breakfast is booked. Here is the reference number FKRO2HOW. Will there be anything else?\n",
    "<A> I am wanting to know more about the Cambridge Museum of Technology.\n",
    "<B> Sure, it's located in the center area of town. The phone number is 01223368650. The entrance fee is 5 pounds.\n",
    "<A> What is the address, please?\n",
    "<B> The address is the old pumping station, Cheddars Lane. Did you want any more information about the museum?\n",
    "<A> Yes, I need to know the entrance fee. I will also need a taxi to pick me up by 24:30. Could you provide the contact number and car type, please?\n",
    "<B> The entrance fee is 5 pounds.\n",
    "<A> Can you please book the taxi for me at 24:30, leaving from the museum? I will need the contact number and the car type.\n",
    "<B> Sure, your taxi has been booked. It will be a grey Volvo, and the contact number is 07239297218.\n",
    "<A> Thanks so much. That is all I need for today. Bye.\n",
    "<B> Have a nice stay!\n",
    "\"\"\""
   ]
  },
  {
   "cell_type": "code",
   "execution_count": 64,
   "metadata": {},
   "outputs": [
    {
     "data": {
      "text/markdown": [
       "[A] My husband and I are celebrating our anniversary and want to find a great place to stay in town. \n",
       "\n",
       "[B] Congratulations on your upcoming anniversary! Cambridge offers a variety of lodging options, what is your price range? \n",
       "\n",
       "[A] I would like a <span style='color:red;font-weight:700;text-decoration:line-through;'>4 star </span><span style='color:green;font-weight:700;'>4-star </span>guesthouse that includes free <span style='color:red;font-weight:700;text-decoration:line-through;'>parking. </span><span style='color:green;font-weight:700;'>parking, please. </span>\n",
       "\n",
       "[B] I have several options for <span style='color:red;font-weight:700;text-decoration:line-through;'>you, is </span><span style='color:green;font-weight:700;'>you. Is </span>there a particular area <span style='color:green;font-weight:700;'>in the west </span>you are interested in during your stay? \n",
       "\n",
       "[A] <span style='color:red;font-weight:700;text-decoration:line-through;'>yes </span><span style='color:green;font-weight:700;'>Yes, it </span>should be in the <span style='color:red;font-weight:700;text-decoration:line-through;'>west </span><span style='color:green;font-weight:700;'>west. </span>\n",
       "\n",
       "[B] I have one guesthouse that fits that criteria, Finches Bed and Breakfast. Would you like me to book <span style='color:green;font-weight:700;'>it </span>for you? \n",
       "\n",
       "[A] Yes, please! We'll arrive on Monday and stay 2 <span style='color:red;font-weight:700;text-decoration:line-through;'>nights. Just </span><span style='color:green;font-weight:700;'>nights, just </span>the two of us, of course! \n",
       "\n",
       "[B] Ok, your hotel stay at Finches Bed and Breakfast is <span style='color:red;font-weight:700;text-decoration:line-through;'>booked, Reference number FKRO2HOW . </span><span style='color:green;font-weight:700;'>booked. Here is the reference number FKRO2HOW. </span>Will there be anything else? \n",
       "\n",
       "[A] I am wanting to know more about the Cambridge Museum of Technology. \n",
       "\n",
       "[B] Sure, it's located in the <span style='color:red;font-weight:700;text-decoration:line-through;'>centre </span><span style='color:green;font-weight:700;'>center </span>area of town. The phone number is 01223368650. The entrance fee is 5 pounds. \n",
       "\n",
       "[A] What is the address, <span style='color:red;font-weight:700;text-decoration:line-through;'>please. </span><span style='color:green;font-weight:700;'>please? </span>\n",
       "\n",
       "[B] The address is the old pumping station, <span style='color:red;font-weight:700;text-decoration:line-through;'>cheddars lane. </span><span style='color:green;font-weight:700;'>Cheddars Lane. </span>Did you want any more information about the museum? \n",
       "\n",
       "[A] Yes, I need <span style='color:green;font-weight:700;'>to know </span>the entrance fee. I will also need a taxi to pick me up by 24:30. <span style='color:red;font-weight:700;text-decoration:line-through;'>I need </span><span style='color:green;font-weight:700;'>Could you provide </span>the contact number and car <span style='color:red;font-weight:700;text-decoration:line-through;'>type please. </span><span style='color:green;font-weight:700;'>type, please? </span>\n",
       "\n",
       "[B] The entrance fee is 5 pounds. \n",
       "\n",
       "[A] Can you <span style='color:green;font-weight:700;'>please </span>book the taxi for me at <span style='color:red;font-weight:700;text-decoration:line-through;'>24:30 </span><span style='color:green;font-weight:700;'>24:30, </span>leaving from the <span style='color:red;font-weight:700;text-decoration:line-through;'>museum please. </span><span style='color:green;font-weight:700;'>museum? </span>I will need the contact number and the car type. \n",
       "\n",
       "[B] <span style='color:red;font-weight:700;text-decoration:line-through;'>and what is your destination ? ¶ [A] I will leave the Cambridge Museum at 24:30, going to the the Finches Bed and Breakfast. ¶ [B] Your </span><span style='color:green;font-weight:700;'>Sure, your </span>taxi has been booked. It will be a grey <span style='color:red;font-weight:700;text-decoration:line-through;'>volvo </span><span style='color:green;font-weight:700;'>Volvo, </span>and the contact number is 07239297218. \n",
       "\n",
       "[A] Thanks so much. That is all I need for today. Bye. \n",
       "\n",
       "[B] Have a nice stay!"
      ],
      "text/plain": [
       "<IPython.core.display.Markdown object>"
      ]
     },
     "metadata": {},
     "output_type": "display_data"
    }
   ],
   "source": [
    "test(orig, new2)"
   ]
  },
  {
   "cell_type": "markdown",
   "metadata": {},
   "source": [
    "### Informal Style"
   ]
  },
  {
   "cell_type": "markdown",
   "metadata": {},
   "source": [
    "Промт:\n",
    "```\n",
    "Below, in triple quotes, is a dialogue between a client and a service worker on the topic of a hotel, taxi and entertainment. The symbols [A] and [B] indicate the belonging of the remarks to the client and the employee (which of them specifically is unknown).\n",
    "\n",
    "Your task is to rewrite the original dialogue in an informal style. You can change the vocabulary. You can not change the order of the lines, change the meaning of the dialogue and phrases in general.\n",
    "\n",
    "Are you ready to get the dialogue in triple quotes? Say yes or no\n",
    "```"
   ]
  },
  {
   "cell_type": "code",
   "execution_count": null,
   "metadata": {},
   "outputs": [],
   "source": [
    "new = \"\"\"\n",
    "[A] Hey, my hubby and I are gonna celebrate our anniversary and we're on the hunt for an awesome place to crash in town.\n",
    "[B] Oh, congrats on your upcoming anniversary! Cambridge has lots of places to stay. What's your budget like?\n",
    "[A] I'm thinking a 4-star guesthouse with free parking.\n",
    "[B] Gotcha! Any specific area you wanna be in during your stay?\n",
    "[A] Yeah, somewhere in the west would be perfect.\n",
    "[B] Cool, I've got one option that fits the bill: Finches Bed and Breakfast. Wanna book it?\n",
    "[A] Absolutely! We'll be rolling in on Monday and staying for 2 nights. Just us two, ya know!\n",
    "[B] Awesome! I've booked your stay at Finches Bed and Breakfast. Your reference number is FKRO2HOW. Need anything else?\n",
    "[A] Yeah, I wanna know more about the Cambridge Museum of Technology.\n",
    "[B] No problemo! It's in the center of town. You can reach them at 01223368650, and the entrance fee is 5 quid.\n",
    "[A] Sweet, thanks! And where exactly is it located?\n",
    "[B] The address is the old pumping station, Cheddars Lane. Need more info about the museum?\n",
    "[A] Yeah, I need the entrance fee again. Oh, and I'll also need a cab to pick us up at 24:30. Can you give me the contact number and car type, please?\n",
    "[B] Entrance fee is 5 quid, just to remind ya. And sure thing, I've booked the taxi for ya. It'll be a grey Volvo, and the contact number is 07239297218.\n",
    "[A] Thanks a bunch! That's all I needed for today. Bye!\n",
    "[B] Have a blast during your stay! Enjoy!\n",
    "\"\"\""
   ]
  }
 ],
 "metadata": {
  "kernelspec": {
   "display_name": "Python 3",
   "language": "python",
   "name": "python3"
  },
  "language_info": {
   "codemirror_mode": {
    "name": "ipython",
    "version": 3
   },
   "file_extension": ".py",
   "mimetype": "text/x-python",
   "name": "python",
   "nbconvert_exporter": "python",
   "pygments_lexer": "ipython3",
   "version": "3.10.12"
  },
  "orig_nbformat": 4
 },
 "nbformat": 4,
 "nbformat_minor": 2
}
