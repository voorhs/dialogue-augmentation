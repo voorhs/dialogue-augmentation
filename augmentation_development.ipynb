{
 "cells": [
  {
   "cell_type": "markdown",
   "metadata": {},
   "source": [
    "# Augmentations"
   ]
  },
  {
   "cell_type": "markdown",
   "metadata": {},
   "source": [
    "Ноутбук для разработки новых методов"
   ]
  },
  {
   "cell_type": "markdown",
   "metadata": {},
   "source": [
    "## Load Data for Augmentation"
   ]
  },
  {
   "cell_type": "markdown",
   "metadata": {},
   "source": [
    "Я использую первые 15 диалогов из валидации мультивоза"
   ]
  },
  {
   "cell_type": "code",
   "execution_count": 1,
   "metadata": {},
   "outputs": [
    {
     "name": "stderr",
     "output_type": "stream",
     "text": [
      "No config specified, defaulting to: multi_woz_v22/v2.2_active_only\n",
      "Reusing dataset multi_woz_v22 (/home/ilya/.cache/huggingface/datasets/multi_woz_v22/v2.2_active_only/2.2.0/7452f16a8b502e97df5c04cc4ee5436464762fa93b1ce778dd14181e79d8b51a)\n"
     ]
    },
    {
     "data": {
      "application/vnd.jupyter.widget-view+json": {
       "model_id": "6a48fe4b901748f096bb82666a251117",
       "version_major": 2,
       "version_minor": 0
      },
      "text/plain": [
       "  0%|          | 0/3 [00:00<?, ?it/s]"
      ]
     },
     "metadata": {},
     "output_type": "display_data"
    },
    {
     "data": {
      "text/plain": [
       "DatasetDict({\n",
       "    train: Dataset({\n",
       "        features: ['dialogue_id', 'services', 'turns'],\n",
       "        num_rows: 8437\n",
       "    })\n",
       "    validation: Dataset({\n",
       "        features: ['dialogue_id', 'services', 'turns'],\n",
       "        num_rows: 1000\n",
       "    })\n",
       "    test: Dataset({\n",
       "        features: ['dialogue_id', 'services', 'turns'],\n",
       "        num_rows: 1000\n",
       "    })\n",
       "})"
      ]
     },
     "execution_count": 1,
     "metadata": {},
     "output_type": "execute_result"
    }
   ],
   "source": [
    "from datasets import load_dataset\n",
    "\n",
    "dataset = load_dataset(\"multi_woz_v22\")\n",
    "dataset"
   ]
  },
  {
   "cell_type": "code",
   "execution_count": 2,
   "metadata": {},
   "outputs": [],
   "source": [
    "import pandas as pd\n",
    "import json\n",
    "\n",
    "def to_csv(dataset, n_dialogues=15):\n",
    "    \"\"\"make data for all further experiments\"\"\"\n",
    "    data = dataset['validation']['turns'][:n_dialogues]\n",
    "\n",
    "    # get single list of utterances\n",
    "    utterances = []\n",
    "    speaker = []\n",
    "    for dia in data:\n",
    "        utterances.extend(dia['utterance'])\n",
    "        speaker.extend(dia['speaker'])\n",
    "    df = pd.DataFrame({'text': utterances})\n",
    "    df.to_csv('aug-data/original.csv')\n",
    "    json.dump(speaker, open('aug-data/speaker.json', 'w'))\n",
    "\n",
    "    # lengths of dialogues (to be able to restore them and all dialogues from augmented utterances)\n",
    "    rle = [len(dia['utterance']) for dia in data]\n",
    "    json.dump(rle, open('aug-data/rle.json', 'w'))\n",
    "\n",
    "def to_json(dataset, n_dialogues=15):\n",
    "    \"\"\"make data for all further experiments\"\"\"\n",
    "    n_dialogues = 15\n",
    "\n",
    "    dialogues = []\n",
    "    for dia in dataset['validation']['turns'][:n_dialogues]:    \n",
    "        dialogues.append([{'utterance': ut, 'speaker': sp} for ut, sp in zip(dia['utterance'], dia['speaker'])])\n",
    "    \n",
    "    json.dump(dialogues, open('aug-data/original.json', 'w'))"
   ]
  },
  {
   "cell_type": "code",
   "execution_count": 3,
   "metadata": {},
   "outputs": [],
   "source": [
    "to_json(dataset)"
   ]
  },
  {
   "cell_type": "markdown",
   "metadata": {},
   "source": [
    "## `textattack` package"
   ]
  },
  {
   "cell_type": "markdown",
   "metadata": {},
   "source": [
    "[textattack augment](https://github.com/QData/TextAttack#augmenting-text-textattack-augment\n",
    ")"
   ]
  },
  {
   "cell_type": "markdown",
   "metadata": {},
   "source": [
    "В данный момент отказался от этого пакета. Слишком медленный."
   ]
  },
  {
   "cell_type": "markdown",
   "metadata": {},
   "source": [
    "### Embedding"
   ]
  },
  {
   "cell_type": "markdown",
   "metadata": {},
   "source": [
    "Заменяем слово на другое слово, эмбеддинг которого ближе всех к эмбеддингу заменяемого слова "
   ]
  },
  {
   "cell_type": "code",
   "execution_count": 1,
   "metadata": {},
   "outputs": [
    {
     "name": "stdout",
     "output_type": "stream",
     "text": [
      "2023-07-29 22:05:42.307575: I tensorflow/core/platform/cpu_feature_guard.cc:182] This TensorFlow binary is optimized to use available CPU instructions in performance-critical operations.\n",
      "To enable the following instructions: AVX2 FMA, in other operations, rebuild TensorFlow with the appropriate compiler flags.\n",
      "2023-07-29 22:05:43.003568: W tensorflow/compiler/tf2tensorrt/utils/py_utils.cc:38] TF-TRT Warning: Could not find TensorRT\n",
      "2023-07-29 22:05:45.185052: I tensorflow/compiler/xla/stream_executor/cuda/cuda_gpu_executor.cc:995] successful NUMA node read from SysFS had negative value (-1), but there must be at least one NUMA node, so returning NUMA node zero. See more at https://github.com/torvalds/linux/blob/v6.0/Documentation/ABI/testing/sysfs-bus-pci#L344-L355\n",
      "2023-07-29 22:05:45.185456: W tensorflow/core/common_runtime/gpu/gpu_device.cc:1960] Cannot dlopen some GPU libraries. Please make sure the missing libraries mentioned above are installed properly if you would like to use GPU. Follow the guide at https://www.tensorflow.org/install/gpu for how to download and setup the required libraries for your platform.\n",
      "Skipping registering GPU devices...\n",
      "\u001b[34;1mtextattack\u001b[0m: Read 240 rows from aug-data/original.csv. Found columns {'', 'text'}.\n",
      "Augmenting rows: 100%|████████████████████████| 240/240 [00:13<00:00, 18.04it/s]\n",
      "\u001b[34;1mtextattack\u001b[0m: Wrote 240 augmentations to aug-data/embedding1.csv in 16.632235288619995s.\n"
     ]
    }
   ],
   "source": [
    "! textattack augment\\\n",
    "    --input-csv aug-data/original.csv\\\n",
    "    --output-csv aug-data/embedding1.csv\\\n",
    "    --input-column text\\\n",
    "    --recipe embedding\\\n",
    "    --pct-words-to-swap .1\\\n",
    "    --transformations-per-example 1\\\n",
    "    --exclude-original"
   ]
  },
  {
   "cell_type": "code",
   "execution_count": 3,
   "metadata": {},
   "outputs": [
    {
     "name": "stdout",
     "output_type": "stream",
     "text": [
      "2023-07-29 22:11:09.489463: I tensorflow/core/platform/cpu_feature_guard.cc:182] This TensorFlow binary is optimized to use available CPU instructions in performance-critical operations.\n",
      "To enable the following instructions: AVX2 FMA, in other operations, rebuild TensorFlow with the appropriate compiler flags.\n",
      "2023-07-29 22:11:10.525161: W tensorflow/compiler/tf2tensorrt/utils/py_utils.cc:38] TF-TRT Warning: Could not find TensorRT\n",
      "2023-07-29 22:11:13.182493: I tensorflow/compiler/xla/stream_executor/cuda/cuda_gpu_executor.cc:995] successful NUMA node read from SysFS had negative value (-1), but there must be at least one NUMA node, so returning NUMA node zero. See more at https://github.com/torvalds/linux/blob/v6.0/Documentation/ABI/testing/sysfs-bus-pci#L344-L355\n",
      "2023-07-29 22:11:13.182931: W tensorflow/core/common_runtime/gpu/gpu_device.cc:1960] Cannot dlopen some GPU libraries. Please make sure the missing libraries mentioned above are installed properly if you would like to use GPU. Follow the guide at https://www.tensorflow.org/install/gpu for how to download and setup the required libraries for your platform.\n",
      "Skipping registering GPU devices...\n",
      "\u001b[34;1mtextattack\u001b[0m: Read 240 rows from aug-data/original.csv. Found columns {'', 'text'}.\n",
      "Augmenting rows: 100%|████████████████████████| 240/240 [00:35<00:00,  6.76it/s]\n",
      "\u001b[34;1mtextattack\u001b[0m: Wrote 240 augmentations to aug-data/embedding3.csv in 38.67927861213684s.\n"
     ]
    }
   ],
   "source": [
    "! textattack augment\\\n",
    "    --input-csv aug-data/original.csv\\\n",
    "    --output-csv aug-data/embedding3.csv\\\n",
    "    --input-column text\\\n",
    "    --recipe embedding\\\n",
    "    --pct-words-to-swap .3\\\n",
    "    --transformations-per-example 1\\\n",
    "    --exclude-original"
   ]
  },
  {
   "cell_type": "code",
   "execution_count": 4,
   "metadata": {},
   "outputs": [
    {
     "name": "stdout",
     "output_type": "stream",
     "text": [
      "2023-07-29 22:11:56.250542: I tensorflow/core/platform/cpu_feature_guard.cc:182] This TensorFlow binary is optimized to use available CPU instructions in performance-critical operations.\n",
      "To enable the following instructions: AVX2 FMA, in other operations, rebuild TensorFlow with the appropriate compiler flags.\n",
      "2023-07-29 22:11:56.994763: W tensorflow/compiler/tf2tensorrt/utils/py_utils.cc:38] TF-TRT Warning: Could not find TensorRT\n",
      "2023-07-29 22:11:59.231507: I tensorflow/compiler/xla/stream_executor/cuda/cuda_gpu_executor.cc:995] successful NUMA node read from SysFS had negative value (-1), but there must be at least one NUMA node, so returning NUMA node zero. See more at https://github.com/torvalds/linux/blob/v6.0/Documentation/ABI/testing/sysfs-bus-pci#L344-L355\n",
      "2023-07-29 22:11:59.231928: W tensorflow/core/common_runtime/gpu/gpu_device.cc:1960] Cannot dlopen some GPU libraries. Please make sure the missing libraries mentioned above are installed properly if you would like to use GPU. Follow the guide at https://www.tensorflow.org/install/gpu for how to download and setup the required libraries for your platform.\n",
      "Skipping registering GPU devices...\n",
      "\u001b[34;1mtextattack\u001b[0m: Read 240 rows from aug-data/original.csv. Found columns {'', 'text'}.\n",
      "Augmenting rows: 100%|████████████████████████| 240/240 [00:49<00:00,  4.86it/s]\n",
      "\u001b[34;1mtextattack\u001b[0m: Wrote 240 augmentations to aug-data/embedding5.csv in 52.29889225959778s.\n"
     ]
    }
   ],
   "source": [
    "! textattack augment\\\n",
    "    --input-csv aug-data/original.csv\\\n",
    "    --output-csv aug-data/embedding5.csv\\\n",
    "    --input-column text\\\n",
    "    --recipe embedding\\\n",
    "    --pct-words-to-swap .5\\\n",
    "    --transformations-per-example 1\\\n",
    "    --exclude-original"
   ]
  },
  {
   "cell_type": "code",
   "execution_count": 5,
   "metadata": {},
   "outputs": [
    {
     "name": "stdout",
     "output_type": "stream",
     "text": [
      "embedding1\n"
     ]
    },
    {
     "data": {
      "text/markdown": [
       "[A] I <span style='color:red;font-weight:700;text-decoration:line-through;'>need </span><span style='color:green;font-weight:700;'>require </span>a train from birmingham new street to cambridge, please. \n",
       "\n",
       "[B] There are 133 trains <span style='color:red;font-weight:700;text-decoration:line-through;'>traveling </span><span style='color:green;font-weight:700;'>trip </span>that path. What day would you like to travel on? \n",
       "\n",
       "[A] I would like to leave on <span style='color:red;font-weight:700;text-decoration:line-through;'>Wednesday </span><span style='color:green;font-weight:700;'>Monday </span>sometime after 11:30. \n",
       "\n",
       "[B] How about the TR1670? It meets your specifications and <span style='color:red;font-weight:700;text-decoration:line-through;'>leaves </span><span style='color:green;font-weight:700;'>sheets </span>at 11:40. \n",
       "\n",
       "[A] How <span style='color:red;font-weight:700;text-decoration:line-through;'>long </span><span style='color:green;font-weight:700;'>longue </span>is the train ride? \n",
       "\n",
       "[B] The train ride is 163 <span style='color:red;font-weight:700;text-decoration:line-through;'>minutes, </span><span style='color:green;font-weight:700;'>mins, </span>does this suit your needs? \n",
       "\n",
       "[A] <span style='color:red;font-weight:700;text-decoration:line-through;'>How </span><span style='color:green;font-weight:700;'>Mode </span>much is the fare on that train? \n",
       "\n",
       "[B] It is 75.10 <span style='color:red;font-weight:700;text-decoration:line-through;'>pounds. ¶ [A] What </span><span style='color:green;font-weight:700;'>pound. </span>\n",
       "\n",
       "<span style='color:green;font-weight:700;'>[A] Quoi </span>is the exact arrival time? I'm also looking for a place to dine in the centre of town. I'm looking for an expensive modern european <span style='color:red;font-weight:700;text-decoration:line-through;'>restaurant. </span><span style='color:green;font-weight:700;'>lunchroom. </span>\n",
       "\n",
       "[B] Let's take <span style='color:red;font-weight:700;text-decoration:line-through;'>care </span><span style='color:green;font-weight:700;'>healthcare </span>of the train first. The train will arrive by 14:23 in Cambridge. Would you like to book a <span style='color:red;font-weight:700;text-decoration:line-through;'>ticket? </span><span style='color:green;font-weight:700;'>tickets? </span>\n",
       "\n",
       "[A] Thank you I do not <span style='color:red;font-weight:700;text-decoration:line-through;'>need to book </span><span style='color:green;font-weight:700;'>gotta to cookbook </span>the train, but I am looking for an expensive restaurant in the centre of town. \n",
       "\n",
       "[B] We have many expensive places in the center of town! Is there a <span style='color:red;font-weight:700;text-decoration:line-through;'>particular </span><span style='color:green;font-weight:700;'>singular </span>type of cuisine you'd <span style='color:red;font-weight:700;text-decoration:line-through;'>like </span><span style='color:green;font-weight:700;'>fond </span>to try? \n",
       "\n",
       "[A] I would like modern European <span style='color:red;font-weight:700;text-decoration:line-through;'>food. </span><span style='color:green;font-weight:700;'>diet. </span>\n",
       "\n",
       "[B] How about darrys cookhouse and <span style='color:red;font-weight:700;text-decoration:line-through;'>wine </span><span style='color:green;font-weight:700;'>vineyard </span>shop? \n",
       "\n",
       "[A] Yeah that should work can I please get the <span style='color:red;font-weight:700;text-decoration:line-through;'>address </span><span style='color:green;font-weight:700;'>addressing </span>post code and phone number? \n",
       "\n",
       "[B] They are <span style='color:red;font-weight:700;text-decoration:line-through;'>located </span><span style='color:green;font-weight:700;'>positioned </span>at 40270 King Street City Centre. Postcode is cb11ln. Phone number is 01223505015. Can I book a <span style='color:red;font-weight:700;text-decoration:line-through;'>table </span><span style='color:green;font-weight:700;'>chalkboard </span>for you? \n",
       "\n",
       "[A] No thank you. I will go <span style='color:red;font-weight:700;text-decoration:line-through;'>ahead </span><span style='color:green;font-weight:700;'>upcoming </span>and book myself. Thank you so much. This was all the info I <span style='color:red;font-weight:700;text-decoration:line-through;'>needed. </span><span style='color:green;font-weight:700;'>required. </span>Have a good day. \n",
       "\n",
       "[B] <span style='color:red;font-weight:700;text-decoration:line-through;'>We </span><span style='color:green;font-weight:700;'>Ours </span>appreciate your business. Thank for using the Cambridge Towninfo centre! Have a great day!"
      ],
      "text/plain": [
       "<IPython.core.display.Markdown object>"
      ]
     },
     "metadata": {},
     "output_type": "display_data"
    },
    {
     "name": "stdout",
     "output_type": "stream",
     "text": [
      "embedding3\n"
     ]
    },
    {
     "data": {
      "text/markdown": [
       "[A] I <span style='color:red;font-weight:700;text-decoration:line-through;'>need </span><span style='color:green;font-weight:700;'>needs </span>a train from birmingham <span style='color:red;font-weight:700;text-decoration:line-through;'>new </span><span style='color:green;font-weight:700;'>novo </span>street to cambridge, <span style='color:red;font-weight:700;text-decoration:line-through;'>please. </span><span style='color:green;font-weight:700;'>invites. </span>\n",
       "\n",
       "[B] There are 133 trains <span style='color:red;font-weight:700;text-decoration:line-through;'>traveling </span><span style='color:green;font-weight:700;'>trips </span>that <span style='color:red;font-weight:700;text-decoration:line-through;'>path. </span><span style='color:green;font-weight:700;'>camino. </span>What day would you <span style='color:red;font-weight:700;text-decoration:line-through;'>like to travel </span><span style='color:green;font-weight:700;'>loves to trips </span>on? \n",
       "\n",
       "[A] I would <span style='color:red;font-weight:700;text-decoration:line-through;'>like to leave </span><span style='color:green;font-weight:700;'>iike to letting </span>on Wednesday <span style='color:red;font-weight:700;text-decoration:line-through;'>sometime </span><span style='color:green;font-weight:700;'>occasionally </span>after 11:30. \n",
       "\n",
       "[B] How about the TR1670? It <span style='color:red;font-weight:700;text-decoration:line-through;'>meets </span><span style='color:green;font-weight:700;'>fulfils </span>your <span style='color:red;font-weight:700;text-decoration:line-through;'>specifications and leaves </span><span style='color:green;font-weight:700;'>hallmarks and sheets </span>at 11:40. \n",
       "\n",
       "[A] How <span style='color:red;font-weight:700;text-decoration:line-through;'>long </span><span style='color:green;font-weight:700;'>longue </span>is the train ride? \n",
       "\n",
       "[B] The <span style='color:red;font-weight:700;text-decoration:line-through;'>train </span><span style='color:green;font-weight:700;'>forming </span>ride is 163 <span style='color:red;font-weight:700;text-decoration:line-through;'>minutes, </span><span style='color:green;font-weight:700;'>mins, </span>does this suit your <span style='color:red;font-weight:700;text-decoration:line-through;'>needs? </span><span style='color:green;font-weight:700;'>require? </span>\n",
       "\n",
       "[A] How much is the <span style='color:red;font-weight:700;text-decoration:line-through;'>fare </span><span style='color:green;font-weight:700;'>tariffs </span>on that <span style='color:red;font-weight:700;text-decoration:line-through;'>train? </span><span style='color:green;font-weight:700;'>forming? </span>\n",
       "\n",
       "[B] It is 75.10 <span style='color:red;font-weight:700;text-decoration:line-through;'>pounds. </span><span style='color:green;font-weight:700;'>lb. </span>\n",
       "\n",
       "[A] What is the <span style='color:red;font-weight:700;text-decoration:line-through;'>exact </span><span style='color:green;font-weight:700;'>correct </span>arrival <span style='color:red;font-weight:700;text-decoration:line-through;'>time? </span><span style='color:green;font-weight:700;'>moment? </span>I'm <span style='color:red;font-weight:700;text-decoration:line-through;'>also looking </span><span style='color:green;font-weight:700;'>similarly researching </span>for a place to <span style='color:red;font-weight:700;text-decoration:line-through;'>dine in the centre of town. </span><span style='color:green;font-weight:700;'>lunches in the centers of cities. </span>I'm <span style='color:red;font-weight:700;text-decoration:line-through;'>looking </span><span style='color:green;font-weight:700;'>quest </span>for an expensive modern european restaurant. \n",
       "\n",
       "[B] Let's take care of the <span style='color:red;font-weight:700;text-decoration:line-through;'>train first. </span><span style='color:green;font-weight:700;'>forming outset. </span>The <span style='color:red;font-weight:700;text-decoration:line-through;'>train </span><span style='color:green;font-weight:700;'>forming </span>will <span style='color:red;font-weight:700;text-decoration:line-through;'>arrive </span><span style='color:green;font-weight:700;'>arrived </span>by 14:23 in Cambridge. Would you <span style='color:red;font-weight:700;text-decoration:line-through;'>like to book </span><span style='color:green;font-weight:700;'>likes to cookbook </span>a ticket? \n",
       "\n",
       "[A] <span style='color:red;font-weight:700;text-decoration:line-through;'>Thank </span><span style='color:green;font-weight:700;'>Thanks </span>you I do not <span style='color:red;font-weight:700;text-decoration:line-through;'>need </span><span style='color:green;font-weight:700;'>required </span>to book the <span style='color:red;font-weight:700;text-decoration:line-through;'>train, </span><span style='color:green;font-weight:700;'>forming, </span>but I am <span style='color:red;font-weight:700;text-decoration:line-through;'>looking </span><span style='color:green;font-weight:700;'>quest </span>for an expensive restaurant in the <span style='color:red;font-weight:700;text-decoration:line-through;'>centre of town. </span><span style='color:green;font-weight:700;'>centering of ciudad. </span>\n",
       "\n",
       "[B] We have many expensive <span style='color:red;font-weight:700;text-decoration:line-through;'>places in the center of town! </span><span style='color:green;font-weight:700;'>sites in the centro of municipality! </span>Is there a <span style='color:red;font-weight:700;text-decoration:line-through;'>particular </span><span style='color:green;font-weight:700;'>especial </span>type of <span style='color:red;font-weight:700;text-decoration:line-through;'>cuisine </span><span style='color:green;font-weight:700;'>cooking </span>you'd <span style='color:red;font-weight:700;text-decoration:line-through;'>like </span><span style='color:green;font-weight:700;'>likes </span>to try? \n",
       "\n",
       "[A] I <span style='color:red;font-weight:700;text-decoration:line-through;'>would </span><span style='color:green;font-weight:700;'>ought </span>like modern European food. \n",
       "\n",
       "[B] How about darrys cookhouse and <span style='color:red;font-weight:700;text-decoration:line-through;'>wine shop? ¶ [A] Yeah </span><span style='color:green;font-weight:700;'>winemaking storing? </span>\n",
       "\n",
       "<span style='color:green;font-weight:700;'>[A] Yep </span>that should <span style='color:red;font-weight:700;text-decoration:line-through;'>work </span><span style='color:green;font-weight:700;'>collaborating </span>can I <span style='color:red;font-weight:700;text-decoration:line-through;'>please </span><span style='color:green;font-weight:700;'>invite </span>get the <span style='color:red;font-weight:700;text-decoration:line-through;'>address </span><span style='color:green;font-weight:700;'>addresses </span>post code and phone number? \n",
       "\n",
       "[B] They are <span style='color:red;font-weight:700;text-decoration:line-through;'>located </span><span style='color:green;font-weight:700;'>situated </span>at 40270 <span style='color:red;font-weight:700;text-decoration:line-through;'>King </span><span style='color:green;font-weight:700;'>Emperor </span>Street City <span style='color:red;font-weight:700;text-decoration:line-through;'>Centre. </span><span style='color:green;font-weight:700;'>Centres. </span>Postcode is cb11ln. <span style='color:red;font-weight:700;text-decoration:line-through;'>Phone </span><span style='color:green;font-weight:700;'>Telefono </span>number is 01223505015. Can I <span style='color:red;font-weight:700;text-decoration:line-through;'>book a table </span><span style='color:green;font-weight:700;'>ledger a tables </span>for you? \n",
       "\n",
       "[A] <span style='color:red;font-weight:700;text-decoration:line-through;'>No thank </span><span style='color:green;font-weight:700;'>Nos gratitude </span>you. I will go ahead and <span style='color:red;font-weight:700;text-decoration:line-through;'>book </span><span style='color:green;font-weight:700;'>cookbook </span>myself. <span style='color:red;font-weight:700;text-decoration:line-through;'>Thank </span><span style='color:green;font-weight:700;'>Thanks </span>you so much. This was all the <span style='color:red;font-weight:700;text-decoration:line-through;'>info I needed. </span><span style='color:green;font-weight:700;'>informations I required. </span>Have a <span style='color:red;font-weight:700;text-decoration:line-through;'>good </span><span style='color:green;font-weight:700;'>buena </span>day. \n",
       "\n",
       "[B] We <span style='color:red;font-weight:700;text-decoration:line-through;'>appreciate </span><span style='color:green;font-weight:700;'>grateful </span>your business. Thank for <span style='color:red;font-weight:700;text-decoration:line-through;'>using </span><span style='color:green;font-weight:700;'>use </span>the Cambridge Towninfo <span style='color:red;font-weight:700;text-decoration:line-through;'>centre! </span><span style='color:green;font-weight:700;'>center! </span>Have a <span style='color:red;font-weight:700;text-decoration:line-through;'>great </span><span style='color:green;font-weight:700;'>gorgeous </span>day!"
      ],
      "text/plain": [
       "<IPython.core.display.Markdown object>"
      ]
     },
     "metadata": {},
     "output_type": "display_data"
    },
    {
     "name": "stdout",
     "output_type": "stream",
     "text": [
      "embedding5\n"
     ]
    },
    {
     "data": {
      "text/markdown": [
       "[A] I <span style='color:red;font-weight:700;text-decoration:line-through;'>need a train </span><span style='color:green;font-weight:700;'>required a forming </span>from birmingham <span style='color:red;font-weight:700;text-decoration:line-through;'>new street </span><span style='color:green;font-weight:700;'>newest thoroughfare </span>to cambridge, <span style='color:red;font-weight:700;text-decoration:line-through;'>please. </span><span style='color:green;font-weight:700;'>invites. </span>\n",
       "\n",
       "[B] There are 133 trains <span style='color:red;font-weight:700;text-decoration:line-through;'>traveling </span><span style='color:green;font-weight:700;'>travel </span>that <span style='color:red;font-weight:700;text-decoration:line-through;'>path. What </span><span style='color:green;font-weight:700;'>trajectories. Quel </span>day <span style='color:red;font-weight:700;text-decoration:line-through;'>would you like to travel </span><span style='color:green;font-weight:700;'>ought you iike to travelling </span>on? \n",
       "\n",
       "[A] I <span style='color:red;font-weight:700;text-decoration:line-through;'>would like to leave </span><span style='color:green;font-weight:700;'>ought likes to walkout </span>on <span style='color:red;font-weight:700;text-decoration:line-through;'>Wednesday sometime </span><span style='color:green;font-weight:700;'>Yesterday sometimes </span>after 11:30. \n",
       "\n",
       "[B] <span style='color:red;font-weight:700;text-decoration:line-through;'>How </span><span style='color:green;font-weight:700;'>Mode </span>about the TR1670? It <span style='color:red;font-weight:700;text-decoration:line-through;'>meets </span><span style='color:green;font-weight:700;'>fulfils </span>your <span style='color:red;font-weight:700;text-decoration:line-through;'>specifications and leaves </span><span style='color:green;font-weight:700;'>hallmarks and departs </span>at 11:40. \n",
       "\n",
       "[A] <span style='color:red;font-weight:700;text-decoration:line-through;'>How long is the train </span><span style='color:green;font-weight:700;'>Mode lang is the forming </span>ride? \n",
       "\n",
       "[B] The <span style='color:red;font-weight:700;text-decoration:line-through;'>train </span><span style='color:green;font-weight:700;'>forming </span>ride is 163 <span style='color:red;font-weight:700;text-decoration:line-through;'>minutes, </span><span style='color:green;font-weight:700;'>mins, </span>does this suit your <span style='color:red;font-weight:700;text-decoration:line-through;'>needs? ¶ [A] How much is the fare </span><span style='color:green;font-weight:700;'>should? </span>\n",
       "\n",
       "<span style='color:green;font-weight:700;'>[A] Mode very is the tariffs </span>on that <span style='color:red;font-weight:700;text-decoration:line-through;'>train? </span><span style='color:green;font-weight:700;'>forming? </span>\n",
       "\n",
       "[B] It is 75.10 <span style='color:red;font-weight:700;text-decoration:line-through;'>pounds. </span><span style='color:green;font-weight:700;'>pound. </span>\n",
       "\n",
       "[A] What is the <span style='color:red;font-weight:700;text-decoration:line-through;'>exact arrival time? </span><span style='color:green;font-weight:700;'>precision coming times? </span>I'm <span style='color:red;font-weight:700;text-decoration:line-through;'>also looking for a place to dine in the centre of town. </span><span style='color:green;font-weight:700;'>moreover searching for a placing to dinner in the centered of urban. </span>I'm <span style='color:red;font-weight:700;text-decoration:line-through;'>looking </span><span style='color:green;font-weight:700;'>quest </span>for an expensive <span style='color:red;font-weight:700;text-decoration:line-through;'>modern european restaurant. </span><span style='color:green;font-weight:700;'>fashionable europe restaurants. </span>\n",
       "\n",
       "[B] Let's <span style='color:red;font-weight:700;text-decoration:line-through;'>take care of the train first. </span><span style='color:green;font-weight:700;'>taking caring of the forming firstly. </span>The <span style='color:red;font-weight:700;text-decoration:line-through;'>train </span><span style='color:green;font-weight:700;'>forming </span>will <span style='color:red;font-weight:700;text-decoration:line-through;'>arrive </span><span style='color:green;font-weight:700;'>come </span>by 14:23 in <span style='color:red;font-weight:700;text-decoration:line-through;'>Cambridge. Would you like to book a ticket? ¶ [A] Thank </span><span style='color:green;font-weight:700;'>Oxford. Ought you loves to ledger a airfare? </span>\n",
       "\n",
       "<span style='color:green;font-weight:700;'>[A] Thanked </span>you I do not <span style='color:red;font-weight:700;text-decoration:line-through;'>need to book the train, </span><span style='color:green;font-weight:700;'>necessary to cookbook the forming, </span>but I am <span style='color:red;font-weight:700;text-decoration:line-through;'>looking </span><span style='color:green;font-weight:700;'>quest </span>for an <span style='color:green;font-weight:700;'>pricey lunchroom in the centers of municipal. </span>\n",
       "\n",
       "<span style='color:green;font-weight:700;'>[B] Ours have innumerable </span>expensive <span style='color:red;font-weight:700;text-decoration:line-through;'>restaurant in the centre of town. ¶ [B] We have many expensive places in the center of town! </span><span style='color:green;font-weight:700;'>spaces in the centres of ville! </span>Is there a <span style='color:red;font-weight:700;text-decoration:line-through;'>particular type of cuisine </span><span style='color:green;font-weight:700;'>peculiar types of gastronomy </span>you'd <span style='color:red;font-weight:700;text-decoration:line-through;'>like to try? </span><span style='color:green;font-weight:700;'>adores to strive? </span>\n",
       "\n",
       "[A] I would <span style='color:red;font-weight:700;text-decoration:line-through;'>like modern </span><span style='color:green;font-weight:700;'>loves modernity </span>European <span style='color:red;font-weight:700;text-decoration:line-through;'>food. ¶ [B] How </span><span style='color:green;font-weight:700;'>nutritional. </span>\n",
       "\n",
       "<span style='color:green;font-weight:700;'>[B] Mode </span>about darrys cookhouse and <span style='color:red;font-weight:700;text-decoration:line-through;'>wine shop? ¶ [A] Yeah </span><span style='color:green;font-weight:700;'>vin stores? </span>\n",
       "\n",
       "<span style='color:green;font-weight:700;'>[A] Yup </span>that should <span style='color:red;font-weight:700;text-decoration:line-through;'>work </span><span style='color:green;font-weight:700;'>worked </span>can I <span style='color:red;font-weight:700;text-decoration:line-through;'>please get the address </span><span style='color:green;font-weight:700;'>invite obtains the solve </span>post <span style='color:red;font-weight:700;text-decoration:line-through;'>code and phone </span><span style='color:green;font-weight:700;'>codes and telephone </span>number? \n",
       "\n",
       "[B] They are <span style='color:red;font-weight:700;text-decoration:line-through;'>located </span><span style='color:green;font-weight:700;'>positioned </span>at 40270 <span style='color:red;font-weight:700;text-decoration:line-through;'>King Street City Centre. </span><span style='color:green;font-weight:700;'>Emperor Rue Town Centres. </span>Postcode is cb11ln. <span style='color:red;font-weight:700;text-decoration:line-through;'>Phone </span><span style='color:green;font-weight:700;'>Tel </span>number is 01223505015. Can I <span style='color:red;font-weight:700;text-decoration:line-through;'>book a table </span><span style='color:green;font-weight:700;'>ledger a tableau </span>for you? \n",
       "\n",
       "[A] <span style='color:red;font-weight:700;text-decoration:line-through;'>No thank </span><span style='color:green;font-weight:700;'>Not thanks </span>you. I will <span style='color:red;font-weight:700;text-decoration:line-through;'>go ahead and book </span><span style='color:green;font-weight:700;'>going forthcoming and ledger </span>myself. <span style='color:red;font-weight:700;text-decoration:line-through;'>Thank </span><span style='color:green;font-weight:700;'>Thanking </span>you so <span style='color:red;font-weight:700;text-decoration:line-through;'>much. </span><span style='color:green;font-weight:700;'>very. </span>This was all the <span style='color:red;font-weight:700;text-decoration:line-through;'>info I needed. Have a good </span><span style='color:green;font-weight:700;'>informational I require. Had a alright </span>day. \n",
       "\n",
       "[B] We <span style='color:red;font-weight:700;text-decoration:line-through;'>appreciate </span><span style='color:green;font-weight:700;'>grateful </span>your <span style='color:red;font-weight:700;text-decoration:line-through;'>business. Thank for using </span><span style='color:green;font-weight:700;'>firms. Thanked for employs </span>the Cambridge Towninfo <span style='color:red;font-weight:700;text-decoration:line-through;'>centre! Have a great </span><span style='color:green;font-weight:700;'>centres! Has a resplendent </span>day!"
      ],
      "text/plain": [
       "<IPython.core.display.Markdown object>"
      ]
     },
     "metadata": {},
     "output_type": "display_data"
    }
   ],
   "source": [
    "from visualization_utils import show_augmented\n",
    "\n",
    "\n",
    "for name in ['embedding1', 'embedding3', 'embedding5']:\n",
    "    print(name)\n",
    "    show_augmented(14, name)"
   ]
  },
  {
   "cell_type": "markdown",
   "metadata": {},
   "source": [
    "Безконтекстная замена создает грамматические ошибки"
   ]
  },
  {
   "cell_type": "markdown",
   "metadata": {},
   "source": [
    "### Checklist"
   ]
  },
  {
   "cell_type": "markdown",
   "metadata": {},
   "source": [
    "Заменить названия, числа, удлиннить или укоротить фразы."
   ]
  },
  {
   "cell_type": "code",
   "execution_count": 1,
   "metadata": {},
   "outputs": [
    {
     "name": "stdout",
     "output_type": "stream",
     "text": [
      "2023-07-29 22:19:59.199016: I tensorflow/core/platform/cpu_feature_guard.cc:182] This TensorFlow binary is optimized to use available CPU instructions in performance-critical operations.\n",
      "To enable the following instructions: AVX2 FMA, in other operations, rebuild TensorFlow with the appropriate compiler flags.\n",
      "2023-07-29 22:20:00.260409: W tensorflow/compiler/tf2tensorrt/utils/py_utils.cc:38] TF-TRT Warning: Could not find TensorRT\n",
      "2023-07-29 22:20:04.345714: I tensorflow/compiler/xla/stream_executor/cuda/cuda_gpu_executor.cc:995] successful NUMA node read from SysFS had negative value (-1), but there must be at least one NUMA node, so returning NUMA node zero. See more at https://github.com/torvalds/linux/blob/v6.0/Documentation/ABI/testing/sysfs-bus-pci#L344-L355\n",
      "2023-07-29 22:20:04.346156: W tensorflow/core/common_runtime/gpu/gpu_device.cc:1960] Cannot dlopen some GPU libraries. Please make sure the missing libraries mentioned above are installed properly if you would like to use GPU. Follow the guide at https://www.tensorflow.org/install/gpu for how to download and setup the required libraries for your platform.\n",
      "Skipping registering GPU devices...\n",
      "\u001b[34;1mtextattack\u001b[0m: Read 240 rows from aug-data/original.csv. Found columns {'', 'text'}.\n",
      "Augmenting rows:   0%|                                  | 0/240 [00:00<?, ?it/s]2023-07-29 22:20:10,748 SequenceTagger predicts: Dictionary with 20 tags: <unk>, O, S-ORG, S-MISC, B-PER, E-PER, S-LOC, B-ORG, E-ORG, I-PER, S-PER, B-MISC, I-MISC, E-MISC, I-ORG, B-LOC, E-LOC, I-LOC, <START>, <STOP>\n",
      "Augmenting rows: 100%|████████████████████████| 240/240 [03:59<00:00,  1.00it/s]\n",
      "\u001b[34;1mtextattack\u001b[0m: Wrote 240 augmentations to aug-data/checklist1.csv in 239.09341764450073s.\n"
     ]
    }
   ],
   "source": [
    "! textattack augment\\\n",
    "    --input-csv aug-data/original.csv\\\n",
    "    --output-csv aug-data/checklist1.csv\\\n",
    "    --input-column text\\\n",
    "    --recipe checklist\\\n",
    "    --pct-words-to-swap .1\\\n",
    "    --transformations-per-example 1\\\n",
    "    --exclude-original"
   ]
  },
  {
   "cell_type": "code",
   "execution_count": 2,
   "metadata": {},
   "outputs": [
    {
     "name": "stdout",
     "output_type": "stream",
     "text": [
      "2023-07-29 22:24:21.229723: I tensorflow/core/platform/cpu_feature_guard.cc:182] This TensorFlow binary is optimized to use available CPU instructions in performance-critical operations.\n",
      "To enable the following instructions: AVX2 FMA, in other operations, rebuild TensorFlow with the appropriate compiler flags.\n",
      "2023-07-29 22:24:21.996574: W tensorflow/compiler/tf2tensorrt/utils/py_utils.cc:38] TF-TRT Warning: Could not find TensorRT\n",
      "2023-07-29 22:24:24.224325: I tensorflow/compiler/xla/stream_executor/cuda/cuda_gpu_executor.cc:995] successful NUMA node read from SysFS had negative value (-1), but there must be at least one NUMA node, so returning NUMA node zero. See more at https://github.com/torvalds/linux/blob/v6.0/Documentation/ABI/testing/sysfs-bus-pci#L344-L355\n",
      "2023-07-29 22:24:24.224736: W tensorflow/core/common_runtime/gpu/gpu_device.cc:1960] Cannot dlopen some GPU libraries. Please make sure the missing libraries mentioned above are installed properly if you would like to use GPU. Follow the guide at https://www.tensorflow.org/install/gpu for how to download and setup the required libraries for your platform.\n",
      "Skipping registering GPU devices...\n",
      "\u001b[34;1mtextattack\u001b[0m: Read 240 rows from aug-data/original.csv. Found columns {'', 'text'}.\n",
      "Augmenting rows:   0%|                                  | 0/240 [00:00<?, ?it/s]2023-07-29 22:24:26,829 SequenceTagger predicts: Dictionary with 20 tags: <unk>, O, S-ORG, S-MISC, B-PER, E-PER, S-LOC, B-ORG, E-ORG, I-PER, S-PER, B-MISC, I-MISC, E-MISC, I-ORG, B-LOC, E-LOC, I-LOC, <START>, <STOP>\n",
      "Augmenting rows: 100%|████████████████████████| 240/240 [06:27<00:00,  1.62s/it]\n",
      "\u001b[34;1mtextattack\u001b[0m: Wrote 240 augmentations to aug-data/checklist3.csv in 387.97828555107117s.\n"
     ]
    }
   ],
   "source": [
    "! textattack augment\\\n",
    "    --input-csv aug-data/original.csv\\\n",
    "    --output-csv aug-data/checklist3.csv\\\n",
    "    --input-column text\\\n",
    "    --recipe checklist\\\n",
    "    --pct-words-to-swap .3\\\n",
    "    --transformations-per-example 1\\\n",
    "    --exclude-original"
   ]
  },
  {
   "cell_type": "code",
   "execution_count": 2,
   "metadata": {},
   "outputs": [
    {
     "name": "stdout",
     "output_type": "stream",
     "text": [
      "2023-07-29 22:34:21.390622: I tensorflow/core/platform/cpu_feature_guard.cc:182] This TensorFlow binary is optimized to use available CPU instructions in performance-critical operations.\n",
      "To enable the following instructions: AVX2 FMA, in other operations, rebuild TensorFlow with the appropriate compiler flags.\n",
      "2023-07-29 22:34:22.038400: W tensorflow/compiler/tf2tensorrt/utils/py_utils.cc:38] TF-TRT Warning: Could not find TensorRT\n",
      "2023-07-29 22:34:24.171847: I tensorflow/compiler/xla/stream_executor/cuda/cuda_gpu_executor.cc:995] successful NUMA node read from SysFS had negative value (-1), but there must be at least one NUMA node, so returning NUMA node zero. See more at https://github.com/torvalds/linux/blob/v6.0/Documentation/ABI/testing/sysfs-bus-pci#L344-L355\n",
      "2023-07-29 22:34:24.172271: W tensorflow/core/common_runtime/gpu/gpu_device.cc:1960] Cannot dlopen some GPU libraries. Please make sure the missing libraries mentioned above are installed properly if you would like to use GPU. Follow the guide at https://www.tensorflow.org/install/gpu for how to download and setup the required libraries for your platform.\n",
      "Skipping registering GPU devices...\n",
      "\u001b[34;1mtextattack\u001b[0m: Read 240 rows from aug-data/original.csv. Found columns {'', 'text'}.\n",
      "Augmenting rows:   0%|                                  | 0/240 [00:00<?, ?it/s]2023-07-29 22:34:26,880 SequenceTagger predicts: Dictionary with 20 tags: <unk>, O, S-ORG, S-MISC, B-PER, E-PER, S-LOC, B-ORG, E-ORG, I-PER, S-PER, B-MISC, I-MISC, E-MISC, I-ORG, B-LOC, E-LOC, I-LOC, <START>, <STOP>\n",
      "Augmenting rows: 100%|████████████████████████| 240/240 [06:57<00:00,  1.74s/it]\n",
      "\u001b[34;1mtextattack\u001b[0m: Wrote 240 augmentations to aug-data/checklist5.csv in 417.7566545009613s.\n"
     ]
    }
   ],
   "source": [
    "! textattack augment\\\n",
    "    --input-csv aug-data/original.csv\\\n",
    "    --output-csv aug-data/checklist5.csv\\\n",
    "    --input-column text\\\n",
    "    --recipe checklist\\\n",
    "    --pct-words-to-swap .5\\\n",
    "    --transformations-per-example 1\\\n",
    "    --exclude-original"
   ]
  },
  {
   "cell_type": "code",
   "execution_count": 36,
   "metadata": {},
   "outputs": [
    {
     "data": {
      "text/markdown": [
       "[A] I need a train from <span style='color:red;font-weight:700;text-decoration:line-through;'>birmingham </span><span style='color:green;font-weight:700;'>St. Cloud </span>new street to cambridge, please. \n",
       "\n",
       "[B] There are <span style='color:red;font-weight:700;text-decoration:line-through;'>133 </span><span style='color:green;font-weight:700;'>93 </span>trains traveling that path. What day would you like to travel on? \n",
       "\n",
       "[A] I would like to leave on Wednesday sometime after <span style='color:red;font-weight:700;text-decoration:line-through;'>11:30. </span><span style='color:green;font-weight:700;'>11:4. </span>\n",
       "\n",
       "[B] How about the TR1670? It meets your specifications and leaves at <span style='color:red;font-weight:700;text-decoration:line-through;'>11:40. </span><span style='color:green;font-weight:700;'>13:40. </span>\n",
       "\n",
       "[A] How long is the train ride? \n",
       "\n",
       "[B] The train ride is <span style='color:red;font-weight:700;text-decoration:line-through;'>163 </span><span style='color:green;font-weight:700;'>249 </span>minutes, does this suit your needs? \n",
       "\n",
       "[A] How much is the fare on that train? \n",
       "\n",
       "[B] It is <span style='color:red;font-weight:700;text-decoration:line-through;'>75.10 </span><span style='color:green;font-weight:700;'>75.16 </span>pounds. \n",
       "\n",
       "[A] What is the exact arrival time? I'm also looking for a place to dine in the centre of town. <span style='color:red;font-weight:700;text-decoration:line-through;'>I'm </span><span style='color:green;font-weight:700;'>I am </span>looking for an expensive modern european restaurant. \n",
       "\n",
       "[B] <span style='color:red;font-weight:700;text-decoration:line-through;'>Let's </span><span style='color:green;font-weight:700;'>Shon </span>take care of the train first. The train will arrive by <span style='color:red;font-weight:700;text-decoration:line-through;'>14:23 </span><span style='color:green;font-weight:700;'>14:37 </span>in Cambridge. Would you like to book a ticket? \n",
       "\n",
       "[A] Thank you I <span style='color:red;font-weight:700;text-decoration:line-through;'>do not </span><span style='color:green;font-weight:700;'>don't </span>need to book the train, but <span style='color:red;font-weight:700;text-decoration:line-through;'>I am </span><span style='color:green;font-weight:700;'>I'm </span>looking for an expensive restaurant in the centre of town. \n",
       "\n",
       "[B] We have many expensive places in the center of town! Is there a particular type of cuisine <span style='color:red;font-weight:700;text-decoration:line-through;'>you'd </span><span style='color:green;font-weight:700;'>you would </span>like to try? \n",
       "\n",
       "[A] <span style='color:red;font-weight:700;text-decoration:line-through;'>I would </span><span style='color:green;font-weight:700;'>I'd </span>like modern European food. \n",
       "\n",
       "[B] How about darrys cookhouse and wine shop? \n",
       "\n",
       "[A] Yeah that should work can I please get the address post code and phone number? \n",
       "\n",
       "[B] They are located at <span style='color:red;font-weight:700;text-decoration:line-through;'>40270 </span><span style='color:green;font-weight:700;'>35271 </span>King Street City Centre. Postcode is cb11ln. Phone number is <span style='color:red;font-weight:700;text-decoration:line-through;'>01223505015. </span><span style='color:green;font-weight:700;'>46547340. </span>Can I book a table for you? \n",
       "\n",
       "[A] No thank you. <span style='color:red;font-weight:700;text-decoration:line-through;'>I will </span><span style='color:green;font-weight:700;'>I'll </span>go ahead and book myself. Thank you so much. This was all the info I needed. Have a good day. \n",
       "\n",
       "[B] We appreciate your business. Thank for using the Cambridge Towninfo centre! Have a great day!"
      ],
      "text/plain": [
       "<IPython.core.display.Markdown object>"
      ]
     },
     "metadata": {},
     "output_type": "display_data"
    }
   ],
   "source": [
    "from visualization_utils import show_augmented\n",
    "\n",
    "\n",
    "for name in ['embedding1', 'embedding3', 'embedding5']:\n",
    "    print(f'======= {name} =======')\n",
    "    show_augmented(14, name)"
   ]
  },
  {
   "cell_type": "markdown",
   "metadata": {},
   "source": [
    "### CLARE"
   ]
  },
  {
   "cell_type": "markdown",
   "metadata": {},
   "source": [
    "Это супер медленно!"
   ]
  },
  {
   "cell_type": "markdown",
   "metadata": {},
   "source": [
    "Заменяем токены, вставляем, соединяем и заменяем --- с помощью MLM."
   ]
  },
  {
   "cell_type": "code",
   "execution_count": 54,
   "metadata": {},
   "outputs": [
    {
     "name": "stdout",
     "output_type": "stream",
     "text": [
      "2023-07-28 16:24:01.653839: I tensorflow/core/platform/cpu_feature_guard.cc:182] This TensorFlow binary is optimized to use available CPU instructions in performance-critical operations.\n",
      "To enable the following instructions: AVX2 FMA, in other operations, rebuild TensorFlow with the appropriate compiler flags.\n",
      "2023-07-28 16:24:02.255426: W tensorflow/compiler/tf2tensorrt/utils/py_utils.cc:38] TF-TRT Warning: Could not find TensorRT\n",
      "2023-07-28 16:24:04.327086: I tensorflow/compiler/xla/stream_executor/cuda/cuda_gpu_executor.cc:995] successful NUMA node read from SysFS had negative value (-1), but there must be at least one NUMA node, so returning NUMA node zero. See more at https://github.com/torvalds/linux/blob/v6.0/Documentation/ABI/testing/sysfs-bus-pci#L344-L355\n",
      "2023-07-28 16:24:04.327460: W tensorflow/core/common_runtime/gpu/gpu_device.cc:1960] Cannot dlopen some GPU libraries. Please make sure the missing libraries mentioned above are installed properly if you would like to use GPU. Follow the guide at https://www.tensorflow.org/install/gpu for how to download and setup the required libraries for your platform.\n",
      "Skipping registering GPU devices...\n",
      "\u001b[34;1mtextattack\u001b[0m: Read 240 rows from utterances.csv. Found columns {'', 'text'}.\n",
      "If you want to use `RobertaLMHeadModel` as a standalone, add `is_decoder=True.`\n",
      "Augmenting rows:   0%|                                  | 0/240 [00:00<?, ?it/s]2023-07-28 16:24:12,118 SequenceTagger predicts: Dictionary with 19 tags: <unk>, NOUN, VERB, PUNCT, ADP, DET, PROPN, PRON, ADJ, ADV, CCONJ, PART, NUM, AUX, INTJ, SYM, X, <START>, <STOP>\n",
      "2023-07-28 16:26:55.027545: W tensorflow/tsl/framework/cpu_allocator_impl.cc:83] Allocation of 34133760 exceeds 10% of free system memory.\n",
      "2023-07-28 16:26:55.042949: W tensorflow/tsl/framework/cpu_allocator_impl.cc:83] Allocation of 34133760 exceeds 10% of free system memory.\n",
      "2023-07-28 16:26:55.056589: W tensorflow/tsl/framework/cpu_allocator_impl.cc:83] Allocation of 34133760 exceeds 10% of free system memory.\n",
      "2023-07-28 16:26:55.069804: W tensorflow/tsl/framework/cpu_allocator_impl.cc:83] Allocation of 34133760 exceeds 10% of free system memory.\n",
      "2023-07-28 16:26:55.082965: W tensorflow/tsl/framework/cpu_allocator_impl.cc:83] Allocation of 34133760 exceeds 10% of free system memory.\n",
      "Augmenting rows: 100%|████████████████████████| 240/240 [13:41<00:00,  3.42s/it]\n",
      "\u001b[34;1mtextattack\u001b[0m: Wrote 240 augmentations to aug-clare.csv in 825.4834976196289s.\n"
     ]
    }
   ],
   "source": [
    "! textattack augment\\\n",
    "    --input-csv aug-data/original.csv\\\n",
    "    --output-csv aug-data/clare1.csv\\\n",
    "    --input-column text\\\n",
    "    --recipe clare\\\n",
    "    --pct-words-to-swap .1\\\n",
    "    --transformations-per-example 1\\\n",
    "    --exclude-original"
   ]
  },
  {
   "cell_type": "code",
   "execution_count": 1,
   "metadata": {},
   "outputs": [
    {
     "name": "stdout",
     "output_type": "stream",
     "text": [
      "2023-07-29 23:06:27.875263: I tensorflow/core/platform/cpu_feature_guard.cc:182] This TensorFlow binary is optimized to use available CPU instructions in performance-critical operations.\n",
      "To enable the following instructions: AVX2 FMA, in other operations, rebuild TensorFlow with the appropriate compiler flags.\n",
      "2023-07-29 23:06:28.639759: W tensorflow/compiler/tf2tensorrt/utils/py_utils.cc:38] TF-TRT Warning: Could not find TensorRT\n",
      "2023-07-29 23:06:31.112069: I tensorflow/compiler/xla/stream_executor/cuda/cuda_gpu_executor.cc:995] successful NUMA node read from SysFS had negative value (-1), but there must be at least one NUMA node, so returning NUMA node zero. See more at https://github.com/torvalds/linux/blob/v6.0/Documentation/ABI/testing/sysfs-bus-pci#L344-L355\n",
      "2023-07-29 23:06:31.112455: W tensorflow/core/common_runtime/gpu/gpu_device.cc:1960] Cannot dlopen some GPU libraries. Please make sure the missing libraries mentioned above are installed properly if you would like to use GPU. Follow the guide at https://www.tensorflow.org/install/gpu for how to download and setup the required libraries for your platform.\n",
      "Skipping registering GPU devices...\n",
      "\u001b[34;1mtextattack\u001b[0m: Read 240 rows from aug-data/original.csv. Found columns {'', 'text'}.\n",
      "If you want to use `RobertaLMHeadModel` as a standalone, add `is_decoder=True.`\n",
      "Augmenting rows:   0%|                                  | 0/240 [00:00<?, ?it/s]2023-07-29 23:06:39,933 SequenceTagger predicts: Dictionary with 19 tags: <unk>, NOUN, VERB, PUNCT, ADP, DET, PROPN, PRON, ADJ, ADV, CCONJ, PART, NUM, AUX, INTJ, SYM, X, <START>, <STOP>\n",
      "Augmenting rows: 100%|████████████████████████| 240/240 [26:34<00:00,  6.65s/it]\n",
      "\u001b[34;1mtextattack\u001b[0m: Wrote 240 augmentations to aug-data/clare3.csv in 1599.3306756019592s.\n"
     ]
    }
   ],
   "source": [
    "! textattack augment\\\n",
    "    --input-csv aug-data/original.csv\\\n",
    "    --output-csv aug-data/clare3.csv\\\n",
    "    --input-column text\\\n",
    "    --recipe clare\\\n",
    "    --pct-words-to-swap .3\\\n",
    "    --transformations-per-example 1\\\n",
    "    --exclude-original"
   ]
  },
  {
   "cell_type": "code",
   "execution_count": 2,
   "metadata": {},
   "outputs": [
    {
     "name": "stdout",
     "output_type": "stream",
     "text": [
      "2023-07-29 23:33:36.109604: I tensorflow/core/platform/cpu_feature_guard.cc:182] This TensorFlow binary is optimized to use available CPU instructions in performance-critical operations.\n",
      "To enable the following instructions: AVX2 FMA, in other operations, rebuild TensorFlow with the appropriate compiler flags.\n",
      "2023-07-29 23:33:36.683459: W tensorflow/compiler/tf2tensorrt/utils/py_utils.cc:38] TF-TRT Warning: Could not find TensorRT\n",
      "2023-07-29 23:33:38.520308: I tensorflow/compiler/xla/stream_executor/cuda/cuda_gpu_executor.cc:995] successful NUMA node read from SysFS had negative value (-1), but there must be at least one NUMA node, so returning NUMA node zero. See more at https://github.com/torvalds/linux/blob/v6.0/Documentation/ABI/testing/sysfs-bus-pci#L344-L355\n",
      "2023-07-29 23:33:38.520671: W tensorflow/core/common_runtime/gpu/gpu_device.cc:1960] Cannot dlopen some GPU libraries. Please make sure the missing libraries mentioned above are installed properly if you would like to use GPU. Follow the guide at https://www.tensorflow.org/install/gpu for how to download and setup the required libraries for your platform.\n",
      "Skipping registering GPU devices...\n",
      "\u001b[34;1mtextattack\u001b[0m: Read 240 rows from aug-data/original.csv. Found columns {'', 'text'}.\n",
      "If you want to use `RobertaLMHeadModel` as a standalone, add `is_decoder=True.`\n",
      "Augmenting rows:   0%|                                  | 0/240 [00:00<?, ?it/s]2023-07-29 23:33:45,802 SequenceTagger predicts: Dictionary with 19 tags: <unk>, NOUN, VERB, PUNCT, ADP, DET, PROPN, PRON, ADJ, ADV, CCONJ, PART, NUM, AUX, INTJ, SYM, X, <START>, <STOP>\n",
      "Augmenting rows: 100%|████████████████████████| 240/240 [41:16<00:00, 10.32s/it]\n",
      "\u001b[34;1mtextattack\u001b[0m: Wrote 240 augmentations to aug-data/clare5.csv in 2479.451818704605s.\n"
     ]
    }
   ],
   "source": [
    "! textattack augment\\\n",
    "    --input-csv aug-data/original.csv\\\n",
    "    --output-csv aug-data/clare5.csv\\\n",
    "    --input-column text\\\n",
    "    --recipe clare\\\n",
    "    --pct-words-to-swap .5\\\n",
    "    --transformations-per-example 1\\\n",
    "    --exclude-original"
   ]
  },
  {
   "cell_type": "code",
   "execution_count": 4,
   "metadata": {},
   "outputs": [
    {
     "name": "stdout",
     "output_type": "stream",
     "text": [
      "======= clare =======\n"
     ]
    },
    {
     "data": {
      "text/markdown": [
       "[A] I need a <span style='color:green;font-weight:700;'>carriage </span>train from birmingham new street to cambridge, please. \n",
       "\n",
       "[B] There are <span style='color:green;font-weight:700;'>about </span>133 trains traveling that path. What day would you like to travel on? \n",
       "\n",
       "[A] I <span style='color:green;font-weight:700;'>absolutely </span>would like to leave on Wednesday sometime after 11:30. \n",
       "\n",
       "[B] How about the TR1670? It meets your specifications and leaves at <span style='color:green;font-weight:700;'>the </span>11:40. \n",
       "\n",
       "[A] How long is <span style='color:green;font-weight:700;'>not </span>the train ride? \n",
       "\n",
       "[B] The train ride is <span style='color:green;font-weight:700;'>barely </span>163 minutes, does this suit your needs? \n",
       "\n",
       "[A] How much is the fare <span style='color:green;font-weight:700;'>calculated </span>on that train? \n",
       "\n",
       "[B] It is 75.10 <span style='color:green;font-weight:700;'>lb </span>pounds. \n",
       "\n",
       "[A] What is <span style='color:green;font-weight:700;'>often </span>the exact arrival time? I'm also looking for a place to dine in the centre of town. I'm looking for an expensive modern european restaurant. \n",
       "\n",
       "[B] Let's take care of the train <span style='color:red;font-weight:700;text-decoration:line-through;'>first. </span><span style='color:green;font-weight:700;'>logistics. </span>The train will arrive by 14:23 in Cambridge. Would you like to book a <span style='color:green;font-weight:700;'>tour </span>ticket? \n",
       "\n",
       "[A] Thank you <span style='color:green;font-weight:700;'>guys </span>I do not need to book the train, but I am looking for an expensive restaurant in the centre of town. \n",
       "\n",
       "[B] We have many expensive places in the center of town! Is there a particular type <span style='color:green;font-weight:700;'>fare </span>of cuisine you'd like to try? \n",
       "\n",
       "[A] I would like modern <span style='color:red;font-weight:700;text-decoration:line-through;'>European </span><span style='color:green;font-weight:700;'>Asian </span>food. \n",
       "\n",
       "[B] How about darrys cookhouse and wine <span style='color:green;font-weight:700;'>glasses </span>shop? \n",
       "\n",
       "[A] Yeah that should work can I please <span style='color:green;font-weight:700;'>try </span>get the address post code and phone number? \n",
       "\n",
       "[B] They are located at 40270 King <span style='color:red;font-weight:700;text-decoration:line-through;'>Street City </span><span style='color:green;font-weight:700;'>don </span>Centre. <span style='color:red;font-weight:700;text-decoration:line-through;'>Postcode </span><span style='color:green;font-weight:700;'>Name </span>is cb11ln. Phone number is 01223505015. Can I book a table for you? \n",
       "\n",
       "[A] No thank you. I will go ahead and book myself. <span style='color:green;font-weight:700;'>Seriously </span>Thank you so much. This was all the info I needed. Have a good day. \n",
       "\n",
       "[B] We appreciate your <span style='color:red;font-weight:700;text-decoration:line-through;'>business. </span><span style='color:green;font-weight:700;'>inconvenience. </span>Thank for using the Cambridge Towninfo centre! Have a great day!"
      ],
      "text/plain": [
       "<IPython.core.display.Markdown object>"
      ]
     },
     "metadata": {},
     "output_type": "display_data"
    },
    {
     "name": "stdout",
     "output_type": "stream",
     "text": [
      "======= clare3 =======\n"
     ]
    },
    {
     "data": {
      "text/markdown": [
       "[A] I need a train from <span style='color:red;font-weight:700;text-decoration:line-through;'>birmingham </span><span style='color:green;font-weight:700;'>whole </span>new street to <span style='color:green;font-weight:700;'>stupid </span>cambridge, please. \n",
       "\n",
       "[B] There are 133 trains traveling <span style='color:green;font-weight:700;'>parallel </span>that path. What <span style='color:red;font-weight:700;text-decoration:line-through;'>day </span><span style='color:green;font-weight:700;'>paths longer </span>would you like to travel on? \n",
       "\n",
       "[A] <span style='color:red;font-weight:700;text-decoration:line-through;'>I </span><span style='color:green;font-weight:700;'>They </span>would like to leave on Wednesday sometime after <span style='color:green;font-weight:700;'>this </span>11:30. \n",
       "\n",
       "[B] How about <span style='color:green;font-weight:700;'>replacing </span>the TR1670? It meets your specifications and <span style='color:red;font-weight:700;text-decoration:line-through;'>leaves </span><span style='color:green;font-weight:700;'>start </span>at 11:40. \n",
       "\n",
       "[A] How long is the train <span style='color:red;font-weight:700;text-decoration:line-through;'>ride? </span><span style='color:green;font-weight:700;'>up? </span>\n",
       "\n",
       "[B] The <span style='color:green;font-weight:700;'>shortest </span>train ride is 163 minutes, does this suit your <span style='color:green;font-weight:700;'>ride </span>needs? \n",
       "\n",
       "[A] How much is the <span style='color:red;font-weight:700;text-decoration:line-through;'>fare </span><span style='color:green;font-weight:700;'>pineapple </span>on that <span style='color:red;font-weight:700;text-decoration:line-through;'>train? </span><span style='color:green;font-weight:700;'>burger? </span>\n",
       "\n",
       "[B] It is <span style='color:red;font-weight:700;text-decoration:line-through;'>75.10 </span><span style='color:green;font-weight:700;'>75.Average 10 </span>pounds. \n",
       "\n",
       "[A] What is the <span style='color:green;font-weight:700;'>tourists </span>exact arrival time? I'm <span style='color:green;font-weight:700;'>then </span>also looking for a place to dine in the centre <span style='color:green;font-weight:700;'>circle </span>of town. <span style='color:red;font-weight:700;text-decoration:line-through;'>I'm </span><span style='color:green;font-weight:700;'>But </span>looking for an expensive modern european <span style='color:red;font-weight:700;text-decoration:line-through;'>restaurant. </span><span style='color:green;font-weight:700;'>inn. </span>\n",
       "\n",
       "[B] Let's take care <span style='color:red;font-weight:700;text-decoration:line-through;'>of the train first. </span><span style='color:green;font-weight:700;'>details of the train etiquette. </span>The train will arrive by 14:23 in Cambridge. Would you <span style='color:green;font-weight:700;'>even </span>like to book a <span style='color:green;font-weight:700;'>quicker </span>ticket? \n",
       "\n",
       "[A] Thank you I do <span style='color:green;font-weight:700;'>certainly </span>not need to book <span style='color:green;font-weight:700;'>up </span>the train, but I am looking for <span style='color:green;font-weight:700;'>only </span>an expensive restaurant in the <span style='color:red;font-weight:700;text-decoration:line-through;'>centre </span><span style='color:green;font-weight:700;'>name </span>of town. \n",
       "\n",
       "[B] We have many expensive places in the center <span style='color:red;font-weight:700;text-decoration:line-through;'>of </span><span style='color:green;font-weight:700;'>downtown of Boston </span>town! Is there a particular type of cuisine you'd like to <span style='color:green;font-weight:700;'>personally </span>try? \n",
       "\n",
       "[A] I would like <span style='color:red;font-weight:700;text-decoration:line-through;'>modern European </span><span style='color:green;font-weight:700;'>healthier </span>food. \n",
       "\n",
       "[B] How about darrys cookhouse and wine <span style='color:green;font-weight:700;'>bottle </span>shop? \n",
       "\n",
       "[A] Yeah that should work can I <span style='color:green;font-weight:700;'>ma </span>please get <span style='color:green;font-weight:700;'>thru </span>the address post code and phone number? \n",
       "\n",
       "[B] They are <span style='color:red;font-weight:700;text-decoration:line-through;'>located </span><span style='color:green;font-weight:700;'>currently </span>at 40270 King <span style='color:red;font-weight:700;text-decoration:line-through;'>Street City </span><span style='color:green;font-weight:700;'>Shopping </span>Centre. Postcode <span style='color:green;font-weight:700;'>numbers </span>is cb11ln. Phone number is 01223505015. Can I <span style='color:green;font-weight:700;'>actually </span>book a table for you? \n",
       "\n",
       "[A] No <span style='color:green;font-weight:700;'>worries </span>thank you. I will <span style='color:green;font-weight:700;'>soon </span>go ahead and book myself. Thank you so much. <span style='color:red;font-weight:700;text-decoration:line-through;'>This </span><span style='color:green;font-weight:700;'>Inside </span>was all the info I needed. Have a good <span style='color:green;font-weight:700;'>business </span>day. \n",
       "\n",
       "[B] We appreciate your business. <span style='color:green;font-weight:700;'>More </span>Thank for using the Cambridge Towninfo centre! <span style='color:green;font-weight:700;'>Your </span>Have a <span style='color:red;font-weight:700;text-decoration:line-through;'>great </span><span style='color:green;font-weight:700;'>decent </span>day!"
      ],
      "text/plain": [
       "<IPython.core.display.Markdown object>"
      ]
     },
     "metadata": {},
     "output_type": "display_data"
    },
    {
     "name": "stdout",
     "output_type": "stream",
     "text": [
      "======= clare5 =======\n"
     ]
    },
    {
     "data": {
      "text/markdown": [
       "[A] I need <span style='color:red;font-weight:700;text-decoration:line-through;'>a </span><span style='color:green;font-weight:700;'>send a wooden </span>train from birmingham new <span style='color:green;font-weight:700;'>ish </span>street to cambridge, please. \n",
       "\n",
       "[B] There are 133 <span style='color:red;font-weight:700;text-decoration:line-through;'>trains traveling that </span><span style='color:green;font-weight:700;'>miles walking </span>path. What day <span style='color:green;font-weight:700;'>routes </span>would <span style='color:red;font-weight:700;text-decoration:line-through;'>you like to </span><span style='color:green;font-weight:700;'>take you like to do </span>travel on? \n",
       "\n",
       "[A] I would like <span style='color:red;font-weight:700;text-decoration:line-through;'>to </span><span style='color:green;font-weight:700;'>you to soon </span>leave on <span style='color:green;font-weight:700;'>Sheffield </span>Wednesday sometime after 11:30. \n",
       "\n",
       "[B] <span style='color:red;font-weight:700;text-decoration:line-through;'>How </span><span style='color:green;font-weight:700;'>Asked </span>about the TR1670? <span style='color:red;font-weight:700;text-decoration:line-through;'>It meets </span><span style='color:green;font-weight:700;'>UPS set </span>your <span style='color:red;font-weight:700;text-decoration:line-through;'>specifications </span><span style='color:green;font-weight:700;'>deadline </span>and <span style='color:green;font-weight:700;'>Santa </span>leaves at 11:40. \n",
       "\n",
       "[A] How <span style='color:red;font-weight:700;text-decoration:line-through;'>long </span><span style='color:green;font-weight:700;'>predictable BART </span>is the train <span style='color:red;font-weight:700;text-decoration:line-through;'>ride? </span><span style='color:green;font-weight:700;'>station? </span>\n",
       "\n",
       "[B] The <span style='color:red;font-weight:700;text-decoration:line-through;'>train ride </span><span style='color:green;font-weight:700;'>demo format </span>is 163 minutes, does this <span style='color:green;font-weight:700;'>not </span>suit your <span style='color:red;font-weight:700;text-decoration:line-through;'>needs? </span><span style='color:green;font-weight:700;'>specifications? </span>\n",
       "\n",
       "[A] How <span style='color:green;font-weight:700;'>else </span>much is the fare <span style='color:green;font-weight:700;'>tag </span>on that train? \n",
       "\n",
       "[B] It is <span style='color:red;font-weight:700;text-decoration:line-through;'>75.10 pounds. </span><span style='color:green;font-weight:700;'>75.Just 10 degrees. </span>\n",
       "\n",
       "[A] What is <span style='color:green;font-weight:700;'>indeed </span>the exact arrival time? I'm also looking for a place to <span style='color:green;font-weight:700;'>traditionally </span>dine in <span style='color:green;font-weight:700;'>inside </span>the centre of town. I'm <span style='color:red;font-weight:700;text-decoration:line-through;'>looking for </span><span style='color:green;font-weight:700;'>going for only </span>an <span style='color:green;font-weight:700;'>uber </span>expensive modern european <span style='color:green;font-weight:700;'>neighbourhood </span>restaurant. \n",
       "\n",
       "[B] Let's take care <span style='color:green;font-weight:700;'>all </span>of the train first. The <span style='color:green;font-weight:700;'>passenger </span>train will arrive <span style='color:green;font-weight:700;'>tomorrow </span>by 14:23 <span style='color:green;font-weight:700;'>BST </span>in Cambridge. Would you like to book <span style='color:red;font-weight:700;text-decoration:line-through;'>a </span><span style='color:green;font-weight:700;'>on a standby </span>ticket? \n",
       "\n",
       "[A] Thank you I <span style='color:green;font-weight:700;'>simply </span>do not <span style='color:red;font-weight:700;text-decoration:line-through;'>need </span><span style='color:green;font-weight:700;'>HAVE </span>to book the <span style='color:green;font-weight:700;'>entire </span>train, <span style='color:green;font-weight:700;'>no </span>but <span style='color:green;font-weight:700;'>perhaps </span>I am looking <span style='color:green;font-weight:700;'>ahead </span>for an expensive restaurant in the <span style='color:red;font-weight:700;text-decoration:line-through;'>centre </span><span style='color:green;font-weight:700;'>corner </span>of town. \n",
       "\n",
       "[B] We have <span style='color:green;font-weight:700;'>to </span>many expensive places in <span style='color:green;font-weight:700;'>Charlotte </span>the center of town! Is there a <span style='color:green;font-weight:700;'>pretty </span>particular type of cuisine you'd like <span style='color:red;font-weight:700;text-decoration:line-through;'>to </span><span style='color:green;font-weight:700;'>guys to finally </span>try? \n",
       "\n",
       "[A] I <span style='color:green;font-weight:700;'>too </span>would like modern <span style='color:green;font-weight:700;'>ized </span>European food. \n",
       "\n",
       "[B] How <span style='color:green;font-weight:700;'>goes </span>about <span style='color:red;font-weight:700;text-decoration:line-through;'>darrys </span><span style='color:green;font-weight:700;'>vegetarian </span>cookhouse and <span style='color:red;font-weight:700;text-decoration:line-through;'>wine </span><span style='color:green;font-weight:700;'>butcher </span>shop? \n",
       "\n",
       "[A] <span style='color:red;font-weight:700;text-decoration:line-through;'>Yeah </span><span style='color:green;font-weight:700;'>So </span>that <span style='color:green;font-weight:700;'>thing </span>should work can I please <span style='color:green;font-weight:700;'>you </span>get the address <span style='color:green;font-weight:700;'>plus </span>post code and <span style='color:red;font-weight:700;text-decoration:line-through;'>phone </span><span style='color:green;font-weight:700;'>subscriber </span>number? \n",
       "\n",
       "[B] They are <span style='color:red;font-weight:700;text-decoration:line-through;'>located </span><span style='color:green;font-weight:700;'>currently </span>at 40270 King <span style='color:red;font-weight:700;text-decoration:line-through;'>Street </span><span style='color:green;font-weight:700;'>Auckland </span>City Centre. Postcode <span style='color:green;font-weight:700;'>Card </span>is cb11ln. <span style='color:red;font-weight:700;text-decoration:line-through;'>Phone </span><span style='color:green;font-weight:700;'>Account Group </span>number <span style='color:green;font-weight:700;'>ID </span>is 01223505015. Can I book a table <span style='color:green;font-weight:700;'>arrangement </span>for you? \n",
       "\n",
       "[A] No <span style='color:green;font-weight:700;'>sir </span>thank you. I will <span style='color:red;font-weight:700;text-decoration:line-through;'>go </span><span style='color:green;font-weight:700;'>follow up </span>ahead and book <span style='color:green;font-weight:700;'>list </span>myself. <span style='color:green;font-weight:700;'>Okay </span>Thank you <span style='color:green;font-weight:700;'>by </span>so much. This was all the <span style='color:red;font-weight:700;text-decoration:line-through;'>info </span><span style='color:green;font-weight:700;'>training </span>I needed. Have a good day. \n",
       "\n",
       "[B] We appreciate <span style='color:green;font-weight:700;'>opening </span>your business. <span style='color:green;font-weight:700;'>SS </span>Thank for using the Cambridge <span style='color:red;font-weight:700;text-decoration:line-through;'>Towninfo </span><span style='color:green;font-weight:700;'>events business </span>centre! Have a great day!"
      ],
      "text/plain": [
       "<IPython.core.display.Markdown object>"
      ]
     },
     "metadata": {},
     "output_type": "display_data"
    }
   ],
   "source": [
    "from visualization_utils import show_augmented\n",
    "\n",
    "\n",
    "for name in ['clare1', 'clare3', 'clare5']:\n",
    "    print(f'======= {name} =======')\n",
    "    show_augmented(14, name)"
   ]
  },
  {
   "cell_type": "markdown",
   "metadata": {},
   "source": [
    "### Easy Data Augmentation"
   ]
  },
  {
   "cell_type": "markdown",
   "metadata": {},
   "source": [
    "Это супер быстро!"
   ]
  },
  {
   "cell_type": "markdown",
   "metadata": {},
   "source": [
    "An implementation of Easy Data Augmentation, which combines:\n",
    "\n",
    "- WordNet synonym replacement\n",
    "    - Randomly replace words with their synonyms.\n",
    "- Word deletion\n",
    "    - Randomly remove words from the sentence.\n",
    "- Word order swaps\n",
    "    - Randomly swap the position of words in the sentence.\n",
    "- Random synonym insertion\n",
    "    - Insert a random synonym of a random word at a random location."
   ]
  },
  {
   "cell_type": "code",
   "execution_count": 7,
   "metadata": {},
   "outputs": [
    {
     "name": "stdout",
     "output_type": "stream",
     "text": [
      "2023-07-29 22:55:47.601277: I tensorflow/core/platform/cpu_feature_guard.cc:182] This TensorFlow binary is optimized to use available CPU instructions in performance-critical operations.\n",
      "To enable the following instructions: AVX2 FMA, in other operations, rebuild TensorFlow with the appropriate compiler flags.\n",
      "2023-07-29 22:55:48.305955: W tensorflow/compiler/tf2tensorrt/utils/py_utils.cc:38] TF-TRT Warning: Could not find TensorRT\n",
      "2023-07-29 22:55:50.362310: I tensorflow/compiler/xla/stream_executor/cuda/cuda_gpu_executor.cc:995] successful NUMA node read from SysFS had negative value (-1), but there must be at least one NUMA node, so returning NUMA node zero. See more at https://github.com/torvalds/linux/blob/v6.0/Documentation/ABI/testing/sysfs-bus-pci#L344-L355\n",
      "2023-07-29 22:55:50.362663: W tensorflow/core/common_runtime/gpu/gpu_device.cc:1960] Cannot dlopen some GPU libraries. Please make sure the missing libraries mentioned above are installed properly if you would like to use GPU. Follow the guide at https://www.tensorflow.org/install/gpu for how to download and setup the required libraries for your platform.\n",
      "Skipping registering GPU devices...\n",
      "\u001b[34;1mtextattack\u001b[0m: Read 240 rows from aug-data/original.csv. Found columns {'', 'text'}.\n",
      "[nltk_data] Downloading package omw-1.4 to /home/ilya/nltk_data...\n",
      "[nltk_data]   Package omw-1.4 is already up-to-date!\n",
      "Augmenting rows: 100%|████████████████████████| 240/240 [00:04<00:00, 49.75it/s]\n",
      "\u001b[34;1mtextattack\u001b[0m: Wrote 240 augmentations to aug-data/eda1.csv in 5.79195761680603s.\n"
     ]
    }
   ],
   "source": [
    "! textattack augment\\\n",
    "    --input-csv aug-data/original.csv\\\n",
    "    --output-csv aug-data/eda1.csv\\\n",
    "    --input-column text\\\n",
    "    --recipe eda\\\n",
    "    --pct-words-to-swap .1\\\n",
    "    --transformations-per-example 1\\\n",
    "    --exclude-original"
   ]
  },
  {
   "cell_type": "code",
   "execution_count": 6,
   "metadata": {},
   "outputs": [
    {
     "name": "stdout",
     "output_type": "stream",
     "text": [
      "2023-07-29 22:55:12.114556: I tensorflow/core/platform/cpu_feature_guard.cc:182] This TensorFlow binary is optimized to use available CPU instructions in performance-critical operations.\n",
      "To enable the following instructions: AVX2 FMA, in other operations, rebuild TensorFlow with the appropriate compiler flags.\n",
      "2023-07-29 22:55:12.791880: W tensorflow/compiler/tf2tensorrt/utils/py_utils.cc:38] TF-TRT Warning: Could not find TensorRT\n",
      "2023-07-29 22:55:14.817800: I tensorflow/compiler/xla/stream_executor/cuda/cuda_gpu_executor.cc:995] successful NUMA node read from SysFS had negative value (-1), but there must be at least one NUMA node, so returning NUMA node zero. See more at https://github.com/torvalds/linux/blob/v6.0/Documentation/ABI/testing/sysfs-bus-pci#L344-L355\n",
      "2023-07-29 22:55:14.818226: W tensorflow/core/common_runtime/gpu/gpu_device.cc:1960] Cannot dlopen some GPU libraries. Please make sure the missing libraries mentioned above are installed properly if you would like to use GPU. Follow the guide at https://www.tensorflow.org/install/gpu for how to download and setup the required libraries for your platform.\n",
      "Skipping registering GPU devices...\n",
      "\u001b[34;1mtextattack\u001b[0m: Read 240 rows from aug-data/original.csv. Found columns {'', 'text'}.\n",
      "[nltk_data] Downloading package omw-1.4 to /home/ilya/nltk_data...\n",
      "[nltk_data]   Package omw-1.4 is already up-to-date!\n",
      "Augmenting rows: 100%|████████████████████████| 240/240 [00:12<00:00, 18.98it/s]\n",
      "\u001b[34;1mtextattack\u001b[0m: Wrote 240 augmentations to aug-data/eda3.csv in 13.750178337097168s.\n"
     ]
    }
   ],
   "source": [
    "! textattack augment\\\n",
    "    --input-csv aug-data/original.csv\\\n",
    "    --output-csv aug-data/eda3.csv\\\n",
    "    --input-column text\\\n",
    "    --recipe eda\\\n",
    "    --pct-words-to-swap .3\\\n",
    "    --transformations-per-example 1\\\n",
    "    --exclude-original"
   ]
  },
  {
   "cell_type": "code",
   "execution_count": 8,
   "metadata": {},
   "outputs": [
    {
     "name": "stdout",
     "output_type": "stream",
     "text": [
      "2023-07-29 22:56:05.174414: I tensorflow/core/platform/cpu_feature_guard.cc:182] This TensorFlow binary is optimized to use available CPU instructions in performance-critical operations.\n",
      "To enable the following instructions: AVX2 FMA, in other operations, rebuild TensorFlow with the appropriate compiler flags.\n",
      "2023-07-29 22:56:05.932334: W tensorflow/compiler/tf2tensorrt/utils/py_utils.cc:38] TF-TRT Warning: Could not find TensorRT\n",
      "2023-07-29 22:56:08.404231: I tensorflow/compiler/xla/stream_executor/cuda/cuda_gpu_executor.cc:995] successful NUMA node read from SysFS had negative value (-1), but there must be at least one NUMA node, so returning NUMA node zero. See more at https://github.com/torvalds/linux/blob/v6.0/Documentation/ABI/testing/sysfs-bus-pci#L344-L355\n",
      "2023-07-29 22:56:08.404716: W tensorflow/core/common_runtime/gpu/gpu_device.cc:1960] Cannot dlopen some GPU libraries. Please make sure the missing libraries mentioned above are installed properly if you would like to use GPU. Follow the guide at https://www.tensorflow.org/install/gpu for how to download and setup the required libraries for your platform.\n",
      "Skipping registering GPU devices...\n",
      "\u001b[34;1mtextattack\u001b[0m: Read 240 rows from aug-data/original.csv. Found columns {'', 'text'}.\n",
      "[nltk_data] Downloading package omw-1.4 to /home/ilya/nltk_data...\n",
      "[nltk_data]   Package omw-1.4 is already up-to-date!\n",
      "Augmenting rows: 100%|████████████████████████| 240/240 [00:15<00:00, 15.13it/s]\n",
      "\u001b[34;1mtextattack\u001b[0m: Wrote 240 augmentations to aug-data/eda5.csv in 16.967952013015747s.\n"
     ]
    }
   ],
   "source": [
    "! textattack augment\\\n",
    "    --input-csv aug-data/original.csv\\\n",
    "    --output-csv aug-data/eda5.csv\\\n",
    "    --input-column text\\\n",
    "    --recipe eda\\\n",
    "    --pct-words-to-swap .5\\\n",
    "    --transformations-per-example 1\\\n",
    "    --exclude-original"
   ]
  },
  {
   "cell_type": "code",
   "execution_count": 9,
   "metadata": {},
   "outputs": [
    {
     "name": "stdout",
     "output_type": "stream",
     "text": [
      "======= eda1 =======\n"
     ]
    },
    {
     "data": {
      "text/markdown": [
       "[A] I <span style='color:red;font-weight:700;text-decoration:line-through;'>need </span><span style='color:green;font-weight:700;'>require </span>a train from birmingham new street to cambridge, please. \n",
       "\n",
       "[B] There are 133 trains traveling that path. What <span style='color:green;font-weight:700;'>to would you like </span>day <span style='color:red;font-weight:700;text-decoration:line-through;'>would you like to </span>travel on? \n",
       "\n",
       "[A] <span style='color:red;font-weight:700;text-decoration:line-through;'>I </span><span style='color:green;font-weight:700;'>unity </span>would like to leave on Wednesday sometime after 11:30. \n",
       "\n",
       "[B] How about <span style='color:green;font-weight:700;'>xi </span>the TR1670? It meets your specifications and leaves at 11:40. \n",
       "\n",
       "[A] How long is the <span style='color:red;font-weight:700;text-decoration:line-through;'>train </span>ride? \n",
       "\n",
       "[B] The train ride is 163 minutes, does this <span style='color:red;font-weight:700;text-decoration:line-through;'>suit </span><span style='color:green;font-weight:700;'>needs </span>your <span style='color:red;font-weight:700;text-decoration:line-through;'>needs? </span><span style='color:green;font-weight:700;'>suit? </span>\n",
       "\n",
       "[A] How much is the fare on that <span style='color:red;font-weight:700;text-decoration:line-through;'>train? ¶ [B] </span><span style='color:green;font-weight:700;'>civilise? </span>\n",
       "\n",
       "<span style='color:green;font-weight:700;'>[B] IT </span>It is 75.10 pounds. \n",
       "\n",
       "[A] What is <span style='color:red;font-weight:700;text-decoration:line-through;'>the </span>exact arrival time? I'm also looking for <span style='color:red;font-weight:700;text-decoration:line-through;'>a </span>place to dine in the centre of town. I'm looking for an expensive modern european restaurant. \n",
       "\n",
       "[B] Let's take care <span style='color:red;font-weight:700;text-decoration:line-through;'>of </span><span style='color:green;font-weight:700;'>to </span>the train first. The train will arrive by 14:23 in Cambridge. Would you like <span style='color:red;font-weight:700;text-decoration:line-through;'>to </span><span style='color:green;font-weight:700;'>of </span>book a ticket? \n",
       "\n",
       "[A] <span style='color:red;font-weight:700;text-decoration:line-through;'>Thank </span>you I do not need to book the train, but I am looking for an expensive restaurant in <span style='color:red;font-weight:700;text-decoration:line-through;'>the </span>centre of town. \n",
       "\n",
       "[B] We have <span style='color:green;font-weight:700;'>stimulate </span>many expensive places in the center of town! Is there a particular type of cuisine you'd like to try? \n",
       "\n",
       "[A] I would like modern <span style='color:red;font-weight:700;text-decoration:line-through;'>European </span>food. \n",
       "\n",
       "[B] How <span style='color:red;font-weight:700;text-decoration:line-through;'>about </span><span style='color:green;font-weight:700;'>wine </span>darrys cookhouse and <span style='color:red;font-weight:700;text-decoration:line-through;'>wine </span><span style='color:green;font-weight:700;'>about </span>shop? \n",
       "\n",
       "[A] Yeah <span style='color:red;font-weight:700;text-decoration:line-through;'>that </span><span style='color:green;font-weight:700;'>number </span>should work can I please get the address post code and phone <span style='color:red;font-weight:700;text-decoration:line-through;'>number? </span><span style='color:green;font-weight:700;'>that? </span>\n",
       "\n",
       "[B] They are located <span style='color:red;font-weight:700;text-decoration:line-through;'>at </span>40270 King Street City Centre. Postcode is cb11ln. Phone number is 01223505015. Can I book a table <span style='color:red;font-weight:700;text-decoration:line-through;'>for </span>you? \n",
       "\n",
       "[A] No thank you. I will go ahead and book myself. Thank you <span style='color:red;font-weight:700;text-decoration:line-through;'>so </span><span style='color:green;font-weight:700;'>good </span>much. This was all the info I needed. Have a <span style='color:red;font-weight:700;text-decoration:line-through;'>good </span><span style='color:green;font-weight:700;'>so </span>day. \n",
       "\n",
       "[B] <span style='color:red;font-weight:700;text-decoration:line-through;'>We </span><span style='color:green;font-weight:700;'>business </span>appreciate your <span style='color:red;font-weight:700;text-decoration:line-through;'>business. </span><span style='color:green;font-weight:700;'>We. </span>Thank for using the Cambridge Towninfo centre! Have a great day!"
      ],
      "text/plain": [
       "<IPython.core.display.Markdown object>"
      ]
     },
     "metadata": {},
     "output_type": "display_data"
    },
    {
     "name": "stdout",
     "output_type": "stream",
     "text": [
      "======= eda3 =======\n"
     ]
    },
    {
     "data": {
      "text/markdown": [
       "[A] I need a <span style='color:green;font-weight:700;'>train </span>train from birmingham new street to <span style='color:green;font-weight:700;'>gearing </span>cambridge, please. \n",
       "\n",
       "[B] There are 133 trains <span style='color:green;font-weight:700;'>wish </span>traveling that path. What day would you like to <span style='color:green;font-weight:700;'>way </span>travel on? \n",
       "\n",
       "[A] <span style='color:red;font-weight:700;text-decoration:line-through;'>I </span><span style='color:green;font-weight:700;'>after </span>would like to leave <span style='color:red;font-weight:700;text-decoration:line-through;'>on </span><span style='color:green;font-weight:700;'>I </span>Wednesday sometime <span style='color:red;font-weight:700;text-decoration:line-through;'>after </span><span style='color:green;font-weight:700;'>on </span>11:30. \n",
       "\n",
       "[B] How about the TR1670? It meets <span style='color:green;font-weight:700;'>eleven </span>your specifications and leaves at <span style='color:green;font-weight:700;'>spec </span>11:40. \n",
       "\n",
       "[A] How long is <span style='color:red;font-weight:700;text-decoration:line-through;'>the </span>train ride? \n",
       "\n",
       "[B] <span style='color:green;font-weight:700;'>163 train needs is </span>The <span style='color:red;font-weight:700;text-decoration:line-through;'>train ride is 163 </span>minutes, does this suit your <span style='color:red;font-weight:700;text-decoration:line-through;'>needs? </span><span style='color:green;font-weight:700;'>ride? </span>\n",
       "\n",
       "[A] How much <span style='color:green;font-weight:700;'>be </span>is the fare on that train? \n",
       "\n",
       "[B] It <span style='color:red;font-weight:700;text-decoration:line-through;'>is 75.10 </span><span style='color:green;font-weight:700;'>10 75.is </span>pounds. \n",
       "\n",
       "[A] What is the exact <span style='color:red;font-weight:700;text-decoration:line-through;'>arrival time? </span><span style='color:green;font-weight:700;'>comer metre? </span>I'm also looking for a <span style='color:red;font-weight:700;text-decoration:line-through;'>place </span><span style='color:green;font-weight:700;'>direct </span>to dine in the <span style='color:red;font-weight:700;text-decoration:line-through;'>centre of town. </span><span style='color:green;font-weight:700;'>marrow of township. </span>I'm <span style='color:red;font-weight:700;text-decoration:line-through;'>looking </span><span style='color:green;font-weight:700;'>expect </span>for an expensive <span style='color:red;font-weight:700;text-decoration:line-through;'>modern european </span><span style='color:green;font-weight:700;'>advanced European </span>restaurant. \n",
       "\n",
       "[B] <span style='color:green;font-weight:700;'>same </span>Let's take <span style='color:green;font-weight:700;'>xxiii </span>care of the train <span style='color:green;font-weight:700;'>beginning </span>first. The train will arrive by 14:23 in Cambridge. Would you like to book a ticket? \n",
       "\n",
       "[A] Thank <span style='color:green;font-weight:700;'>Town </span>you I do <span style='color:green;font-weight:700;'>be </span>not need to book the train, but I am looking for an expensive restaurant <span style='color:green;font-weight:700;'>prepare </span>in the centre of town. \n",
       "\n",
       "[B] We have <span style='color:green;font-weight:700;'>get </span>many expensive places in the center <span style='color:green;font-weight:700;'>exceptional </span>of town! Is there a particular type of cuisine <span style='color:green;font-weight:700;'>engender </span>you'd like to try? \n",
       "\n",
       "[A] I would like <span style='color:red;font-weight:700;text-decoration:line-through;'>modern </span><span style='color:green;font-weight:700;'>Bodoni </span>European food. \n",
       "\n",
       "[B] How about darrys cookhouse and <span style='color:red;font-weight:700;text-decoration:line-through;'>wine shop? </span><span style='color:green;font-weight:700;'>vino patronise? </span>\n",
       "\n",
       "[A] Yeah that should <span style='color:green;font-weight:700;'>fetch </span>work can <span style='color:green;font-weight:700;'>delight </span>I please get the address post code and phone number? \n",
       "\n",
       "[B] <span style='color:red;font-weight:700;text-decoration:line-through;'>They </span><span style='color:green;font-weight:700;'>number </span>are <span style='color:red;font-weight:700;text-decoration:line-through;'>located at </span><span style='color:green;font-weight:700;'>01223505015 I </span>40270 King Street City Centre. Postcode is cb11ln. Phone <span style='color:red;font-weight:700;text-decoration:line-through;'>number is 01223505015. </span><span style='color:green;font-weight:700;'>They is located. </span>Can <span style='color:red;font-weight:700;text-decoration:line-through;'>I </span><span style='color:green;font-weight:700;'>at </span>book a table for you? \n",
       "\n",
       "[A] No thank you. I will <span style='color:red;font-weight:700;text-decoration:line-through;'>go ahead </span><span style='color:green;font-weight:700;'>plump beforehand </span>and <span style='color:red;font-weight:700;text-decoration:line-through;'>book </span><span style='color:green;font-weight:700;'>Koran </span>myself. Thank you so much. This was all the info <span style='color:red;font-weight:700;text-decoration:line-through;'>I needed. Have a good </span><span style='color:green;font-weight:700;'>unity requisite. bear a just </span>day. \n",
       "\n",
       "[B] We <span style='color:red;font-weight:700;text-decoration:line-through;'>appreciate </span><span style='color:green;font-weight:700;'>treasure </span>your business. Thank for <span style='color:red;font-weight:700;text-decoration:line-through;'>using </span><span style='color:green;font-weight:700;'>victimisation </span>the Cambridge Towninfo <span style='color:red;font-weight:700;text-decoration:line-through;'>centre! </span><span style='color:green;font-weight:700;'>eye! </span>Have a <span style='color:red;font-weight:700;text-decoration:line-through;'>great </span><span style='color:green;font-weight:700;'>bang-up </span>day!"
      ],
      "text/plain": [
       "<IPython.core.display.Markdown object>"
      ]
     },
     "metadata": {},
     "output_type": "display_data"
    },
    {
     "name": "stdout",
     "output_type": "stream",
     "text": [
      "======= eda5 =======\n"
     ]
    },
    {
     "data": {
      "text/markdown": [
       "[A] <span style='color:red;font-weight:700;text-decoration:line-through;'>I need a train </span><span style='color:green;font-weight:700;'>iodin demand a develop </span>from birmingham <span style='color:red;font-weight:700;text-decoration:line-through;'>new </span><span style='color:green;font-weight:700;'>freshly </span>street to <span style='color:red;font-weight:700;text-decoration:line-through;'>cambridge, </span><span style='color:green;font-weight:700;'>Cambridge, </span>please. \n",
       "\n",
       "[B] <span style='color:red;font-weight:700;text-decoration:line-through;'>There are 133 </span><span style='color:green;font-weight:700;'>would that you </span>trains traveling <span style='color:red;font-weight:700;text-decoration:line-through;'>that </span><span style='color:green;font-weight:700;'>are </span>path. <span style='color:red;font-weight:700;text-decoration:line-through;'>What </span><span style='color:green;font-weight:700;'>on </span>day <span style='color:green;font-weight:700;'>There 133 like to travel What? </span>\n",
       "\n",
       "<span style='color:green;font-weight:700;'>[A] iodine </span>would <span style='color:red;font-weight:700;text-decoration:line-through;'>you like to travel on? ¶ [A] I would like to leave </span><span style='color:green;font-weight:700;'>similar to leave-taking </span>on Wednesday <span style='color:red;font-weight:700;text-decoration:line-through;'>sometime </span><span style='color:green;font-weight:700;'>former </span>after <span style='color:red;font-weight:700;text-decoration:line-through;'>11:30. ¶ [B] How </span><span style='color:green;font-weight:700;'>xi:30. </span>\n",
       "\n",
       "<span style='color:green;font-weight:700;'>[B] How astatine </span>about the <span style='color:green;font-weight:700;'>spec </span>TR1670? It <span style='color:green;font-weight:700;'>IT </span>meets your specifications and leaves at 11:40. \n",
       "\n",
       "[A] How <span style='color:green;font-weight:700;'>hanker </span>long is <span style='color:green;font-weight:700;'>personify </span>the train ride? \n",
       "\n",
       "[B] The train ride <span style='color:red;font-weight:700;text-decoration:line-through;'>is </span>163 minutes, <span style='color:red;font-weight:700;text-decoration:line-through;'>does this suit your needs? ¶ [A] How much is the fare </span><span style='color:green;font-weight:700;'>suit? </span>\n",
       "\n",
       "<span style='color:green;font-weight:700;'>[A] How lots is the do </span>on that <span style='color:red;font-weight:700;text-decoration:line-through;'>train? </span><span style='color:green;font-weight:700;'>coach? </span>\n",
       "\n",
       "[B] It is <span style='color:red;font-weight:700;text-decoration:line-through;'>75.10 pounds. </span><span style='color:green;font-weight:700;'>75.tenner punt. </span>\n",
       "\n",
       "[A] What is the <span style='color:red;font-weight:700;text-decoration:line-through;'>exact arrival time? </span><span style='color:green;font-weight:700;'>accurate comer meter? </span>I'm <span style='color:red;font-weight:700;text-decoration:line-through;'>also looking for a place </span><span style='color:green;font-weight:700;'>besides reckon for a identify </span>to dine in the <span style='color:red;font-weight:700;text-decoration:line-through;'>centre of town. </span><span style='color:green;font-weight:700;'>Centre of townsfolk. </span>I'm <span style='color:red;font-weight:700;text-decoration:line-through;'>looking </span><span style='color:green;font-weight:700;'>bet </span>for an expensive <span style='color:red;font-weight:700;text-decoration:line-through;'>modern european restaurant. </span><span style='color:green;font-weight:700;'>innovative European eatery. </span>\n",
       "\n",
       "[B] Let's <span style='color:red;font-weight:700;text-decoration:line-through;'>take care of the train first. </span><span style='color:green;font-weight:700;'>assume deal of the educate initiative. </span>The <span style='color:red;font-weight:700;text-decoration:line-through;'>train </span><span style='color:green;font-weight:700;'>check </span>will <span style='color:red;font-weight:700;text-decoration:line-through;'>arrive </span><span style='color:green;font-weight:700;'>come </span>by <span style='color:red;font-weight:700;text-decoration:line-through;'>14:23 </span><span style='color:green;font-weight:700;'>XIV:twenty-three </span>in Cambridge. Would you <span style='color:red;font-weight:700;text-decoration:line-through;'>like to book a ticket? ¶ [A] Thank you I </span><span style='color:green;font-weight:700;'>similar to Bible a tag? </span>\n",
       "\n",
       "<span style='color:green;font-weight:700;'>[A] thank you ace </span>do not <span style='color:red;font-weight:700;text-decoration:line-through;'>need to book the train, </span><span style='color:green;font-weight:700;'>require to Bible the cultivate, </span>but <span style='color:red;font-weight:700;text-decoration:line-through;'>I </span><span style='color:green;font-weight:700;'>i </span>am <span style='color:red;font-weight:700;text-decoration:line-through;'>looking </span><span style='color:green;font-weight:700;'>look </span>for an expensive <span style='color:red;font-weight:700;text-decoration:line-through;'>restaurant in the centre of town. </span><span style='color:green;font-weight:700;'>eatery in the kernel of township. </span>\n",
       "\n",
       "[B] We have many expensive places in the center of town! Is there a <span style='color:green;font-weight:700;'>township </span>particular <span style='color:green;font-weight:700;'>indium </span>type <span style='color:green;font-weight:700;'>pose </span>of cuisine you'd <span style='color:green;font-weight:700;'>be </span>like <span style='color:green;font-weight:700;'>town </span>to try? \n",
       "\n",
       "[A] I <span style='color:green;font-weight:700;'>European food modern </span>would <span style='color:red;font-weight:700;text-decoration:line-through;'>like modern European food. ¶ [B] How </span><span style='color:green;font-weight:700;'>like. </span>\n",
       "\n",
       "<span style='color:green;font-weight:700;'>[B] wine </span>about darrys cookhouse <span style='color:green;font-weight:700;'>How </span>and <span style='color:red;font-weight:700;text-decoration:line-through;'>wine </span>shop? \n",
       "\n",
       "[A] Yeah <span style='color:red;font-weight:700;text-decoration:line-through;'>that </span>should <span style='color:red;font-weight:700;text-decoration:line-through;'>work can I </span>please get the address <span style='color:red;font-weight:700;text-decoration:line-through;'>post </span>code <span style='color:red;font-weight:700;text-decoration:line-through;'>and phone </span>number? \n",
       "\n",
       "[B] They are <span style='color:red;font-weight:700;text-decoration:line-through;'>located </span><span style='color:green;font-weight:700;'>situated </span>at 40270 <span style='color:red;font-weight:700;text-decoration:line-through;'>King Street </span><span style='color:green;font-weight:700;'>magnate street </span>City <span style='color:red;font-weight:700;text-decoration:line-through;'>Centre. Postcode </span><span style='color:green;font-weight:700;'>center. postcode </span>is cb11ln. <span style='color:red;font-weight:700;text-decoration:line-through;'>Phone number </span><span style='color:green;font-weight:700;'>phone figure </span>is 01223505015. <span style='color:red;font-weight:700;text-decoration:line-through;'>Can I book a table </span><span style='color:green;font-weight:700;'>stool 1 al-Qur'an a mesa </span>for you? \n",
       "\n",
       "[A] <span style='color:red;font-weight:700;text-decoration:line-through;'>No </span><span style='color:green;font-weight:700;'>nobelium </span>thank you. <span style='color:red;font-weight:700;text-decoration:line-through;'>I </span><span style='color:green;font-weight:700;'>ane </span>will <span style='color:red;font-weight:700;text-decoration:line-through;'>go ahead </span><span style='color:green;font-weight:700;'>function onward </span>and <span style='color:red;font-weight:700;text-decoration:line-through;'>book </span><span style='color:green;font-weight:700;'>Scripture </span>myself. <span style='color:red;font-weight:700;text-decoration:line-through;'>Thank </span><span style='color:green;font-weight:700;'>thank </span>you so much. This was all the <span style='color:red;font-weight:700;text-decoration:line-through;'>info I needed. Have a good day. </span><span style='color:green;font-weight:700;'>information 1 required. take a secure Day. </span>\n",
       "\n",
       "[B] We appreciate your business. Thank <span style='color:green;font-weight:700;'>daytime </span>for using the <span style='color:green;font-weight:700;'>daylight </span>Cambridge Towninfo <span style='color:green;font-weight:700;'>occupation </span>centre! Have a <span style='color:green;font-weight:700;'>apprize </span>great day!"
      ],
      "text/plain": [
       "<IPython.core.display.Markdown object>"
      ]
     },
     "metadata": {},
     "output_type": "display_data"
    }
   ],
   "source": [
    "from visualization_utils import show_augmented\n",
    "\n",
    "\n",
    "for name in ['eda1', 'eda3', 'eda5']:\n",
    "    print(f'======= {name} =======')\n",
    "    show_augmented(14, name)"
   ]
  },
  {
   "cell_type": "markdown",
   "metadata": {},
   "source": [
    "### Back Translation"
   ]
  },
  {
   "cell_type": "code",
   "execution_count": 5,
   "metadata": {},
   "outputs": [
    {
     "name": "stdout",
     "output_type": "stream",
     "text": [
      "2023-07-30 00:29:06.196491: I tensorflow/core/platform/cpu_feature_guard.cc:182] This TensorFlow binary is optimized to use available CPU instructions in performance-critical operations.\n",
      "To enable the following instructions: AVX2 FMA, in other operations, rebuild TensorFlow with the appropriate compiler flags.\n",
      "2023-07-30 00:29:06.765555: W tensorflow/compiler/tf2tensorrt/utils/py_utils.cc:38] TF-TRT Warning: Could not find TensorRT\n",
      "2023-07-30 00:29:08.530649: I tensorflow/compiler/xla/stream_executor/cuda/cuda_gpu_executor.cc:995] successful NUMA node read from SysFS had negative value (-1), but there must be at least one NUMA node, so returning NUMA node zero. See more at https://github.com/torvalds/linux/blob/v6.0/Documentation/ABI/testing/sysfs-bus-pci#L344-L355\n",
      "2023-07-30 00:29:08.530955: W tensorflow/core/common_runtime/gpu/gpu_device.cc:1960] Cannot dlopen some GPU libraries. Please make sure the missing libraries mentioned above are installed properly if you would like to use GPU. Follow the guide at https://www.tensorflow.org/install/gpu for how to download and setup the required libraries for your platform.\n",
      "Skipping registering GPU devices...\n",
      "\u001b[34;1mtextattack\u001b[0m: Read 240 rows from aug-data/original.csv. Found columns {'', 'text'}.\n",
      "Downloading (…)lve/main/config.json: 100%|█| 1.40k/1.40k [00:00<00:00, 11.0MB/s]\n",
      "Downloading pytorch_model.bin: 100%|█████████| 312M/312M [00:51<00:00, 6.03MB/s]\n",
      "Downloading (…)neration_config.json: 100%|█████| 293/293 [00:00<00:00, 2.70MB/s]\n",
      "Downloading (…)olve/main/source.spm: 100%|███| 779k/779k [00:00<00:00, 1.87MB/s]\n",
      "Downloading (…)olve/main/target.spm: 100%|███| 799k/799k [00:00<00:00, 1.91MB/s]\n",
      "Downloading (…)olve/main/vocab.json: 100%|█| 1.46M/1.46M [00:00<00:00, 10.5MB/s]\n",
      "Downloading (…)okenizer_config.json: 100%|█████| 265/265 [00:00<00:00, 2.57MB/s]\n",
      "/home/ilya/.local/lib/python3.10/site-packages/transformers/models/marian/tokenization_marian.py:194: UserWarning: Recommended: pip install sacremoses.\n",
      "  warnings.warn(\"Recommended: pip install sacremoses.\")\n",
      "Downloading (…)lve/main/config.json: 100%|█| 1.37k/1.37k [00:00<00:00, 12.3MB/s]\n",
      "Downloading pytorch_model.bin: 100%|█████████| 312M/312M [00:51<00:00, 6.02MB/s]\n",
      "Downloading (…)neration_config.json: 100%|█████| 293/293 [00:00<00:00, 1.85MB/s]\n",
      "Downloading (…)olve/main/source.spm: 100%|███| 800k/800k [00:00<00:00, 5.40MB/s]\n",
      "Downloading (…)olve/main/target.spm: 100%|███| 779k/779k [00:00<00:00, 1.21MB/s]\n",
      "Downloading (…)olve/main/vocab.json: 100%|█| 1.46M/1.46M [00:00<00:00, 2.61MB/s]\n",
      "Downloading (…)okenizer_config.json: 100%|█████| 265/265 [00:00<00:00, 2.54MB/s]\n",
      "Augmenting rows:   0%|                                  | 0/240 [00:00<?, ?it/s]/home/ilya/.local/lib/python3.10/site-packages/transformers/tokenization_utils_base.py:3707: FutureWarning: \n",
      "`prepare_seq2seq_batch` is deprecated and will be removed in version 5 of HuggingFace Transformers. Use the regular\n",
      "`__call__` method to prepare your inputs and targets.\n",
      "\n",
      "Here is a short example:\n",
      "\n",
      "model_inputs = tokenizer(src_texts, text_target=tgt_texts, ...)\n",
      "\n",
      "If you either need to use different keyword arguments for the source and target texts, you should do two calls like\n",
      "this:\n",
      "\n",
      "model_inputs = tokenizer(src_texts, ...)\n",
      "labels = tokenizer(text_target=tgt_texts, ...)\n",
      "model_inputs[\"labels\"] = labels[\"input_ids\"]\n",
      "\n",
      "See the documentation of your specific tokenizer for more details on the specific arguments to the tokenizer of choice.\n",
      "For a more complete example, see the implementation of `prepare_seq2seq_batch`.\n",
      "\n",
      "  warnings.warn(formatted_warning, FutureWarning)\n",
      "/home/ilya/.local/lib/python3.10/site-packages/transformers/generation/utils.py:1273: UserWarning: Neither `max_length` nor `max_new_tokens` has been set, `max_length` will default to 512 (`generation_config.max_length`). Controlling `max_length` via the config is deprecated and `max_length` will be removed from the config in v5 of Transformers -- we recommend using `max_new_tokens` to control the maximum length of the generation.\n",
      "  warnings.warn(\n",
      "Augmenting rows: 100%|████████████████████████| 240/240 [28:54<00:00,  7.23s/it]\n",
      "\u001b[34;1mtextattack\u001b[0m: Wrote 240 augmentations to aug-data/back_trans1.csv in 1850.1407101154327s.\n"
     ]
    }
   ],
   "source": [
    "! textattack augment\\\n",
    "    --input-csv aug-data/original.csv\\\n",
    "    --output-csv aug-data/back_trans1.csv\\\n",
    "    --input-column text\\\n",
    "    --recipe back_trans\\\n",
    "    --pct-words-to-swap .1\\\n",
    "    --transformations-per-example 1\\\n",
    "    --exclude-original"
   ]
  },
  {
   "cell_type": "markdown",
   "metadata": {},
   "source": [
    "## `googletrans` package"
   ]
  },
  {
   "cell_type": "markdown",
   "metadata": {},
   "source": [
    "Это неофициальное API. Ничего не работает"
   ]
  },
  {
   "cell_type": "code",
   "execution_count": 14,
   "metadata": {},
   "outputs": [
    {
     "ename": "AttributeError",
     "evalue": "'NoneType' object has no attribute 'group'",
     "output_type": "error",
     "traceback": [
      "\u001b[0;31m---------------------------------------------------------------------------\u001b[0m",
      "\u001b[0;31mAttributeError\u001b[0m                            Traceback (most recent call last)",
      "Cell \u001b[0;32mIn[14], line 6\u001b[0m\n\u001b[1;32m      4\u001b[0m original \u001b[39m=\u001b[39m read_csv(\u001b[39m'\u001b[39m\u001b[39maug-data/original.csv\u001b[39m\u001b[39m'\u001b[39m)\n\u001b[1;32m      5\u001b[0m translator \u001b[39m=\u001b[39m Translator([\u001b[39m'\u001b[39m\u001b[39mtranslate.google.ru\u001b[39m\u001b[39m'\u001b[39m])\n\u001b[0;32m----> 6\u001b[0m ru \u001b[39m=\u001b[39m translator\u001b[39m.\u001b[39;49mtranslate(original[\u001b[39m0\u001b[39;49m], src\u001b[39m=\u001b[39;49m\u001b[39m'\u001b[39;49m\u001b[39men\u001b[39;49m\u001b[39m'\u001b[39;49m, dest\u001b[39m=\u001b[39;49m\u001b[39m'\u001b[39;49m\u001b[39mru\u001b[39;49m\u001b[39m'\u001b[39;49m)\u001b[39m.\u001b[39mtext\n\u001b[1;32m      7\u001b[0m aug \u001b[39m=\u001b[39m translator\u001b[39m.\u001b[39mtranslate(ru, src\u001b[39m=\u001b[39m\u001b[39m'\u001b[39m\u001b[39mru\u001b[39m\u001b[39m'\u001b[39m, dest\u001b[39m=\u001b[39m\u001b[39m'\u001b[39m\u001b[39men\u001b[39m\u001b[39m'\u001b[39m)\n",
      "File \u001b[0;32m~/.local/lib/python3.10/site-packages/googletrans/client.py:182\u001b[0m, in \u001b[0;36mTranslator.translate\u001b[0;34m(self, text, dest, src, **kwargs)\u001b[0m\n\u001b[1;32m    179\u001b[0m     \u001b[39mreturn\u001b[39;00m result\n\u001b[1;32m    181\u001b[0m origin \u001b[39m=\u001b[39m text\n\u001b[0;32m--> 182\u001b[0m data \u001b[39m=\u001b[39m \u001b[39mself\u001b[39;49m\u001b[39m.\u001b[39;49m_translate(text, dest, src, kwargs)\n\u001b[1;32m    184\u001b[0m \u001b[39m# this code will be updated when the format is changed.\u001b[39;00m\n\u001b[1;32m    185\u001b[0m translated \u001b[39m=\u001b[39m \u001b[39m'\u001b[39m\u001b[39m'\u001b[39m\u001b[39m.\u001b[39mjoin([d[\u001b[39m0\u001b[39m] \u001b[39mif\u001b[39;00m d[\u001b[39m0\u001b[39m] \u001b[39melse\u001b[39;00m \u001b[39m'\u001b[39m\u001b[39m'\u001b[39m \u001b[39mfor\u001b[39;00m d \u001b[39min\u001b[39;00m data[\u001b[39m0\u001b[39m]])\n",
      "File \u001b[0;32m~/.local/lib/python3.10/site-packages/googletrans/client.py:78\u001b[0m, in \u001b[0;36mTranslator._translate\u001b[0;34m(self, text, dest, src, override)\u001b[0m\n\u001b[1;32m     77\u001b[0m \u001b[39mdef\u001b[39;00m \u001b[39m_translate\u001b[39m(\u001b[39mself\u001b[39m, text, dest, src, override):\n\u001b[0;32m---> 78\u001b[0m     token \u001b[39m=\u001b[39m \u001b[39mself\u001b[39;49m\u001b[39m.\u001b[39;49mtoken_acquirer\u001b[39m.\u001b[39;49mdo(text)\n\u001b[1;32m     79\u001b[0m     params \u001b[39m=\u001b[39m utils\u001b[39m.\u001b[39mbuild_params(query\u001b[39m=\u001b[39mtext, src\u001b[39m=\u001b[39msrc, dest\u001b[39m=\u001b[39mdest,\n\u001b[1;32m     80\u001b[0m                                 token\u001b[39m=\u001b[39mtoken, override\u001b[39m=\u001b[39moverride)\n\u001b[1;32m     82\u001b[0m     url \u001b[39m=\u001b[39m urls\u001b[39m.\u001b[39mTRANSLATE\u001b[39m.\u001b[39mformat(host\u001b[39m=\u001b[39m\u001b[39mself\u001b[39m\u001b[39m.\u001b[39m_pick_service_url())\n",
      "File \u001b[0;32m~/.local/lib/python3.10/site-packages/googletrans/gtoken.py:194\u001b[0m, in \u001b[0;36mTokenAcquirer.do\u001b[0;34m(self, text)\u001b[0m\n\u001b[1;32m    193\u001b[0m \u001b[39mdef\u001b[39;00m \u001b[39mdo\u001b[39m(\u001b[39mself\u001b[39m, text):\n\u001b[0;32m--> 194\u001b[0m     \u001b[39mself\u001b[39;49m\u001b[39m.\u001b[39;49m_update()\n\u001b[1;32m    195\u001b[0m     tk \u001b[39m=\u001b[39m \u001b[39mself\u001b[39m\u001b[39m.\u001b[39macquire(text)\n\u001b[1;32m    196\u001b[0m     \u001b[39mreturn\u001b[39;00m tk\n",
      "File \u001b[0;32m~/.local/lib/python3.10/site-packages/googletrans/gtoken.py:62\u001b[0m, in \u001b[0;36mTokenAcquirer._update\u001b[0;34m(self)\u001b[0m\n\u001b[1;32m     59\u001b[0m     \u001b[39mreturn\u001b[39;00m\n\u001b[1;32m     61\u001b[0m \u001b[39m# this will be the same as python code after stripping out a reserved word 'var'\u001b[39;00m\n\u001b[0;32m---> 62\u001b[0m code \u001b[39m=\u001b[39m \u001b[39mself\u001b[39;49m\u001b[39m.\u001b[39;49mRE_TKK\u001b[39m.\u001b[39;49msearch(r\u001b[39m.\u001b[39;49mtext)\u001b[39m.\u001b[39;49mgroup(\u001b[39m1\u001b[39m)\u001b[39m.\u001b[39mreplace(\u001b[39m'\u001b[39m\u001b[39mvar \u001b[39m\u001b[39m'\u001b[39m, \u001b[39m'\u001b[39m\u001b[39m'\u001b[39m)\n\u001b[1;32m     63\u001b[0m \u001b[39m# unescape special ascii characters such like a \\x3d(=)\u001b[39;00m\n\u001b[1;32m     64\u001b[0m code \u001b[39m=\u001b[39m code\u001b[39m.\u001b[39mencode()\u001b[39m.\u001b[39mdecode(\u001b[39m'\u001b[39m\u001b[39municode-escape\u001b[39m\u001b[39m'\u001b[39m)\n",
      "\u001b[0;31mAttributeError\u001b[0m: 'NoneType' object has no attribute 'group'"
     ]
    }
   ],
   "source": [
    "from googletrans import Translator\n",
    "from visualization_utils import read_csv\n",
    "\n",
    "original = read_csv('aug-data/original.csv')\n",
    "translator = Translator(['translate.google.ru'])\n",
    "ru = translator.translate(original[0], src='en', dest='ru').text\n",
    "aug = translator.translate(ru, src='ru', dest='en')"
   ]
  },
  {
   "cell_type": "markdown",
   "metadata": {},
   "source": [
    "## Back Translation"
   ]
  },
  {
   "cell_type": "markdown",
   "metadata": {},
   "source": [
    "- Цель: перевести с английского на `X` и затем с `X` на английский\n",
    "- Интент сохраняется"
   ]
  },
  {
   "cell_type": "code",
   "execution_count": null,
   "metadata": {},
   "outputs": [],
   "source": [
    "from my_augmentations import BackTranslator\n",
    "\n",
    "\n",
    "back_translator = BackTranslator(\n",
    "    language='ru',\n",
    "    device='cuda'\n",
    ")\n",
    "back_translator.from_file_system('back_translator')"
   ]
  },
  {
   "cell_type": "markdown",
   "metadata": {},
   "source": [
    "## Insertion"
   ]
  },
  {
   "cell_type": "markdown",
   "metadata": {},
   "source": [
    "- Цель: добавить слова подхоящие в контекст\n",
    "- Интент сохраняется\n",
    "- Идея: добавить маскированные токены в случайные и предсказать их с помощью MLM модели"
   ]
  },
  {
   "cell_type": "code",
   "execution_count": 1,
   "metadata": {},
   "outputs": [
    {
     "name": "stderr",
     "output_type": "stream",
     "text": [
      "2023-08-02 03:10:07.834982: I tensorflow/core/platform/cpu_feature_guard.cc:182] This TensorFlow binary is optimized to use available CPU instructions in performance-critical operations.\n",
      "To enable the following instructions: AVX2 FMA, in other operations, rebuild TensorFlow with the appropriate compiler flags.\n",
      "2023-08-02 03:10:08.446552: W tensorflow/compiler/tf2tensorrt/utils/py_utils.cc:38] TF-TRT Warning: Could not find TensorRT\n",
      "[nltk_data] Downloading package stopwords to /home/ilya/nltk_data...\n",
      "[nltk_data]   Package stopwords is already up-to-date!\n"
     ]
    }
   ],
   "source": [
    "from my_augmentations import Inserter\n",
    "\n",
    "\n",
    "inserter = Inserter(\n",
    "    fraction=0.1,\n",
    "    score_threshold=0.005,\n",
    "    k=3,\n",
    "    mask_utterance_level=False,\n",
    "    fill_utterance_level=2,\n",
    "    model='microsoft/mpnet-base',\n",
    "    device='cuda'\n",
    ")\n",
    "inserter.from_file_system('insertion')"
   ]
  },
  {
   "cell_type": "markdown",
   "metadata": {},
   "source": [
    "## Replacement"
   ]
  },
  {
   "cell_type": "code",
   "execution_count": 1,
   "metadata": {},
   "outputs": [
    {
     "name": "stderr",
     "output_type": "stream",
     "text": [
      "2023-08-01 20:59:52.999292: I tensorflow/core/platform/cpu_feature_guard.cc:182] This TensorFlow binary is optimized to use available CPU instructions in performance-critical operations.\n",
      "To enable the following instructions: AVX2 FMA, in other operations, rebuild TensorFlow with the appropriate compiler flags.\n",
      "2023-08-01 20:59:53.610733: W tensorflow/compiler/tf2tensorrt/utils/py_utils.cc:38] TF-TRT Warning: Could not find TensorRT\n",
      "[nltk_data] Downloading package stopwords to /home/ilya/nltk_data...\n",
      "[nltk_data]   Package stopwords is already up-to-date!\n",
      "/home/ilya/.local/lib/python3.10/site-packages/transformers/pipelines/base.py:1083: UserWarning: You seem to be using the pipelines sequentially on GPU. In order to maximize efficiency please use a dataset\n",
      "  warnings.warn(\n"
     ]
    }
   ],
   "source": [
    "from my_augmentations import Replacer\n",
    "\n",
    "\n",
    "replacer = Replacer(\n",
    "    k=3,\n",
    "    fill_utterance_level=3,\n",
    "    model='microsoft/mpnet-base',\n",
    "    device='cuda'\n",
    ")\n",
    "replacer.from_file_system('replacement')"
   ]
  },
  {
   "cell_type": "markdown",
   "metadata": {},
   "source": [
    "## LLaMA Fill Masks"
   ]
  },
  {
   "cell_type": "code",
   "execution_count": 1,
   "metadata": {},
   "outputs": [],
   "source": [
    "import os\n",
    "\n",
    "os.environ['CUDA_VISIBLE_DEVICES'] = \"0,1,2\""
   ]
  },
  {
   "cell_type": "code",
   "execution_count": 2,
   "metadata": {},
   "outputs": [
    {
     "name": "stderr",
     "output_type": "stream",
     "text": [
      "/home/ilya/.local/lib/python3.8/site-packages/tqdm/auto.py:21: TqdmWarning: IProgress not found. Please update jupyter and ipywidgets. See https://ipywidgets.readthedocs.io/en/stable/user_install.html\n",
      "  from .autonotebook import tqdm as notebook_tqdm\n"
     ]
    }
   ],
   "source": [
    "import json\n",
    "from visualization_utils import read_csv\n",
    "\n",
    "\n",
    "def get_dialogues():\n",
    "    rle = json.load(open('aug-data/rle.json', 'r'))\n",
    "    utterances = read_csv('aug-data/original.csv')\n",
    "    speaker = json.load(open('aug-data/speaker.json', 'r'))\n",
    "    res_utterances = []\n",
    "    res_speakers = []\n",
    "    for i in range(len(rle)):\n",
    "        start = sum(rle[:i])\n",
    "        end = start + rle[i]\n",
    "        res_utterances.append(utterances[start:end])\n",
    "        res_speakers.append(speaker[start:end])\n",
    "    return res_utterances, res_speakers"
   ]
  },
  {
   "cell_type": "code",
   "execution_count": 3,
   "metadata": {},
   "outputs": [
    {
     "data": {
      "text/plain": [
       "([\"I'm looking for a local place to dine in the centre that serves chinese food.\",\n",
       "  'I have restaurants matching your criteria in all price ranges. Do you have a preference on price?',\n",
       "  'I need the address, postcode and the price range.',\n",
       "  'Ok how about Charlie Chan, located at Regent Street City Centre. Postcode is cb21db with a cheap price. Can I help you further today?',\n",
       "  'I also need a train. The train should leave after 16:15 and should leave on sunday.',\n",
       "  \"Can I have more information for the train you're needing? Where are you departing from and arriving to?\",\n",
       "  'I am leaving from Cambridge and going to Norwich.',\n",
       "  'I have train TR1840 leaving at 16:36 is that okay?',\n",
       "  'book for 5 people and get me the reference number',\n",
       "  \"You're all set. Reference number is NJB87PAP . Is there anything else I can help you with today?\",\n",
       "  'No, this is all I will need. Thank you.',\n",
       "  'Thank for calling us today. I hope you have a good trip.'],\n",
       " [0, 1, 0, 1, 0, 1, 0, 1, 0, 1, 0, 1])"
      ]
     },
     "execution_count": 3,
     "metadata": {},
     "output_type": "execute_result"
    }
   ],
   "source": [
    "dialogues, speakers = get_dialogues()\n",
    "dialogues[0], speakers[0]"
   ]
  },
  {
   "cell_type": "code",
   "execution_count": 4,
   "metadata": {},
   "outputs": [
    {
     "name": "stderr",
     "output_type": "stream",
     "text": [
      "2023-08-15 13:03:21.403384: I tensorflow/core/platform/cpu_feature_guard.cc:182] This TensorFlow binary is optimized to use available CPU instructions in performance-critical operations.\n",
      "To enable the following instructions: AVX2 FMA, in other operations, rebuild TensorFlow with the appropriate compiler flags.\n",
      "2023-08-15 13:03:22.328398: W tensorflow/compiler/tf2tensorrt/utils/py_utils.cc:38] TF-TRT Warning: Could not find TensorRT\n",
      "Loading checkpoint shards: 100%|██████████| 3/3 [00:07<00:00,  2.59s/it]\n"
     ]
    }
   ],
   "source": [
    "from transformers import AutoModelForCausalLM, AutoTokenizer, pipeline\n",
    "\n",
    "model = 'meta-llama/Llama-2-13b-chat-hf'\n",
    "\n",
    "tokenizer = AutoTokenizer.from_pretrained(model)\n",
    "llm = pipeline(\n",
    "    \"text-generation\",\n",
    "    model=AutoModelForCausalLM.from_pretrained(\n",
    "        model,\n",
    "        device_map='auto',\n",
    "        load_in_4bit=True\n",
    "    ),\n",
    "    tokenizer=tokenizer\n",
    ")"
   ]
  },
  {
   "cell_type": "code",
   "execution_count": 14,
   "metadata": {},
   "outputs": [],
   "source": [
    "import json\n",
    "\n",
    "def mask_fill_prompt(dialogue, speaker, as_json=False):\n",
    "    \"\"\"\n",
    "    Make prompt for mask filling task.\n",
    "\n",
    "    Params\n",
    "    ------\n",
    "        dialogue: list[str], list of dialogue utterances\n",
    "        speaker: list[int], list of IDs of speaker for each utterance\n",
    "        as_json: whether to give result as a json (works very poorly)\n",
    "    \"\"\"\n",
    "\n",
    "    if as_json:\n",
    "        utterances = json.dumps({'utterances': dialogue, 'speaker': speaker})\n",
    "        system = \"\"\"You work as a function for dialogue completion. Input is a json dictionaty with keys 'utterances' and 'speaker'. Former item is a list of dialogue utterances, latter item is a list of IDs of speakers corresponding to each utterance.\n",
    "\n",
    "You need to replace all [[LOST]] tokens in utterances with generated meaningful utterances that match the context of the dialogue. Firstly, construct json list `utterances`, then look through it and construct `speaker` to ensure that it contains all speakers IDs corresponding to resulting utterances in a correct order and count. Ensure that json format is correct.\n",
    "\n",
    "You must not give any comments, greetings or explanations, only resulting json following the format of input.\"\"\"\n",
    "\n",
    "    else:\n",
    "        utterances = '\\n'.join([f'[{\"AB\"[i]}] ```{ut}```' for i, ut in zip(speaker, dialogue)])\n",
    "        system = \"\"\"You work as a function with specific input text and desired output text. Do not give any comments, greetings or explanations, only desired output.\n",
    "\n",
    "Specific input is a dialogue prodived by a user. Each turn of the dialogue begins with [A] or [B] denoting the speaker, followed by the utterance in triple quotes. Some utterances are lost, this is indicated by the [[LOST]] token.\n",
    "\n",
    "You need to replace all [[LOST]] tokens with generated meaningful utterances that match the context of the dialogue.\n",
    "\n",
    "Desired output is the utterances generated in the places where [[LOST]] tokens were. It means you must not rewrite entire dialogue.\"\"\"\n",
    "\n",
    "    return f\"\"\"<s>[INST] <<SYS>>\n",
    "{system}\n",
    "<</SYS>>\n",
    "\n",
    "Specific input:\n",
    "\\\"\\\"\\\"\n",
    "{utterances}\n",
    "\\\"\\\"\\\"\n",
    "[/INST]\"\"\""
   ]
  },
  {
   "cell_type": "code",
   "execution_count": 15,
   "metadata": {},
   "outputs": [],
   "source": [
    "def show_results(sequences, prompt_len, as_json=False):\n",
    "    for seq in sequences:\n",
    "        txt = seq['generated_text'][prompt_len:]\n",
    "        if as_json:\n",
    "            start = txt.find('{')  \n",
    "            end = txt.rfind('}')+1\n",
    "            result = json.loads(txt[start:end])\n",
    "            print(len(result['utterances']), len(result['speaker']))\n",
    "        else:\n",
    "            print(txt)\n",
    "        print('\\n===\\n')"
   ]
  },
  {
   "cell_type": "markdown",
   "metadata": {},
   "source": [
    "### Randomly Replace Utterances"
   ]
  },
  {
   "cell_type": "markdown",
   "metadata": {},
   "source": [
    "не удалось так как хотелось: llm не может напечатать только нужные фразы, она переписывает весь диалог, иногда опуская и всячески перефразируя некоторые реплики\n",
    "\n",
    "дело в том что если бы он выводил только фразы, то инференс был бы куда быстрее, а так ему приходится целый диалог переписывать"
   ]
  },
  {
   "cell_type": "code",
   "execution_count": 16,
   "metadata": {},
   "outputs": [],
   "source": [
    "import numpy as np\n",
    "\n",
    "\n",
    "def insert_masks(dialogue, fraction=0.1):\n",
    "    dialogue = dialogue[:]\n",
    "    n = len(dialogue)\n",
    "    size = np.ceil(n * fraction).astype(int)\n",
    "    i_places = np.random.choice(n, size=size, replace=False)\n",
    "    for i in range(n):\n",
    "        if i in i_places:\n",
    "            dialogue[i] = '[[LOST]]'\n",
    "        else:\n",
    "            dialogue[i] = f'{dialogue[i]}'\n",
    "    return dialogue"
   ]
  },
  {
   "cell_type": "code",
   "execution_count": 17,
   "metadata": {},
   "outputs": [
    {
     "data": {
      "text/plain": [
       "[\"I'm looking for a local place to dine in the centre that serves chinese food.\",\n",
       " 'I have restaurants matching your criteria in all price ranges. Do you have a preference on price?',\n",
       " 'I need the address, postcode and the price range.',\n",
       " 'Ok how about Charlie Chan, located at Regent Street City Centre. Postcode is cb21db with a cheap price. Can I help you further today?',\n",
       " 'I also need a train. The train should leave after 16:15 and should leave on sunday.',\n",
       " \"Can I have more information for the train you're needing? Where are you departing from and arriving to?\",\n",
       " 'I am leaving from Cambridge and going to Norwich.',\n",
       " 'I have train TR1840 leaving at 16:36 is that okay?',\n",
       " '[[LOST]]',\n",
       " \"You're all set. Reference number is NJB87PAP . Is there anything else I can help you with today?\",\n",
       " '[[LOST]]',\n",
       " 'Thank for calling us today. I hope you have a good trip.']"
      ]
     },
     "execution_count": 17,
     "metadata": {},
     "output_type": "execute_result"
    }
   ],
   "source": [
    "masked_dia = insert_masks(dialogues[0])\n",
    "masked_dia"
   ]
  },
  {
   "cell_type": "code",
   "execution_count": 18,
   "metadata": {},
   "outputs": [
    {
     "name": "stdout",
     "output_type": "stream",
     "text": [
      "<s>[INST] <<SYS>>\n",
      "You work as a function with specific input text and desired output text. Do not give any comments, greetings or explanations, only desired output.\n",
      "\n",
      "Specific input is a dialogue prodived by a user. Each turn of the dialogue begins with [A] or [B] denoting the speaker, followed by the utterance in triple quotes. Some utterances are lost, this is indicated by the [[LOST]] token.\n",
      "\n",
      "You need to replace all [[LOST]] tokens with generated meaningful utterances that match the context of the dialogue.\n",
      "\n",
      "Desired output is the utterances generated in the places where [[LOST]] tokens were. It means you must not rewrite entire dialogue.\n",
      "<</SYS>>\n",
      "\n",
      "Specific input:\n",
      "\"\"\"\n",
      "[A] ```I'm looking for a local place to dine in the centre that serves chinese food.```\n",
      "[B] ```I have restaurants matching your criteria in all price ranges. Do you have a preference on price?```\n",
      "[A] ```I need the address, postcode and the price range.```\n",
      "[B] ```Ok how about Charlie Chan, located at Regent Street City Centre. Postcode is cb21db with a cheap price. Can I help you further today?```\n",
      "[A] ```I also need a train. The train should leave after 16:15 and should leave on sunday.```\n",
      "[B] ```Can I have more information for the train you're needing? Where are you departing from and arriving to?```\n",
      "[A] ```I am leaving from Cambridge and going to Norwich.```\n",
      "[B] ```I have train TR1840 leaving at 16:36 is that okay?```\n",
      "[A] ```[[LOST]]```\n",
      "[B] ```You're all set. Reference number is NJB87PAP . Is there anything else I can help you with today?```\n",
      "[A] ```[[LOST]]```\n",
      "[B] ```Thank for calling us today. I hope you have a good trip.```\n",
      "\"\"\"\n",
      "[/INST]\n"
     ]
    }
   ],
   "source": [
    "prompt = mask_fill_prompt(masked_dia, speakers[0])\n",
    "print(prompt)"
   ]
  },
  {
   "cell_type": "code",
   "execution_count": 21,
   "metadata": {},
   "outputs": [],
   "source": [
    "sequences = llm(\n",
    "    prompt,\n",
    "    num_return_sequences=1,\n",
    "    max_new_tokens=1024,\n",
    "    \n",
    "    do_sample=True,\n",
    "    top_k=50,\n",
    "    top_p=0.95,\n",
    "    eos_token_id=tokenizer.eos_token_id,\n",
    "    temperature=1\n",
    ")"
   ]
  },
  {
   "cell_type": "code",
   "execution_count": 22,
   "metadata": {},
   "outputs": [
    {
     "name": "stdout",
     "output_type": "stream",
     "text": [
      "  Sure, I'd be happy to help! Here's the updated dialogue with the [[LOST]] tokens replaced with generated utterances:\n",
      "\n",
      "\"\"\"\n",
      "[A] ```I'm looking for a local place to dine in the centre that serves chinese food.```\n",
      "[B] ```I have restaurants matching your criteria in all price ranges. Do you have a preference on price?```\n",
      "[A] ```I need the address, postcode and the price range.```\n",
      "[B] ```Ok how about Charlie Chan, located at Regent Street City Centre. Postcode is cb21db with a cheap price. Can I help you further today?```\n",
      "[A] ```I also need a train. The train should leave after 16:15 and should leave on sunday.```\n",
      "[B] ```Can I have more information for the train you're needing? Where are you departing from and arriving to?```\n",
      "[A] ```I am leaving from Cambridge and going to Norwich.```\n",
      "[B] ```I have train TR1840 leaving at 16:36 is that okay?```\n",
      "[A] ```That sounds great, thank you! Can you also tell me the approximate time the train will arrive in Norwich?```\n",
      "[B] ```Of course! Train TR1840 is expected to arrive in Norwich at 17:12. Is there anything else I can help you with today?```\n",
      "[A] ```No, that's all for now. Thank you for your help!```\n",
      "[B] ```You're all set. Reference number is NJB87PAP. Have a great day!```\n",
      "\n",
      "===\n",
      "\n",
      "  Sure, I'd be happy to help! Here's the updated dialogue with the [[LOST]] tokens replaced with generated utterances:\n",
      "\n",
      "\"\"\"\n",
      "[A] ```I'm looking for a local place to dine in the centre that serves chinese food.```\n",
      "[B] ```I have restaurants matching your criteria in all price ranges. Do you have a preference on price?```\n",
      "[A] ```I need the address, postcode and the price range.```\n",
      "[B] ```Ok how about Charlie Chan, located at Regent Street City Centre. Postcode is cb21db with a cheap price. Can I help you further today?```\n",
      "[A] ```I also need a train. The train should leave after 16:15 and should leave on sunday.```\n",
      "[B] ```Can I have more information for the train you're needing? Where are you departing from and arriving to?```\n",
      "[A] ```I am leaving from Cambridge and going to Norwich.```\n",
      "[B] ```I have train TR1840 leaving at 16:36 is that okay?```\n",
      "[A] ```That sounds great, thank you! Can you also tell me the approximate time the train will arrive in Norwich?```\n",
      "[B] ```Of course! Train TR1840 is expected to arrive in Norwich at 17:12. Is there anything else I can help you with today?```\n",
      "[A] ```No, that's all for now. Thank you for your help!```\n",
      "[B] ```You're all set. Reference number is NJB87PAP. Have a great trip!```\n",
      "\n",
      "===\n",
      "\n",
      "  Sure, I'd be happy to help! Here's the specific input with the [[LOST]] tokens replaced with generated utterances:\n",
      "\n",
      "\"\"\"\n",
      "[A] ```I'm looking for a local place to dine in the centre that serves chinese food.```\n",
      "[B] ```I have restaurants matching your criteria in all price ranges. Do you have a preference on price?```\n",
      "[A] ```I need the address, postcode and the price range.```\n",
      "[B] ```Ok how about Charlie Chan, located at Regent Street City Centre. Postcode is cb21db with a cheap price. Can I help you further today?```\n",
      "[A] ```I also need a train. The train should leave after 16:15 and should leave on sunday.```\n",
      "[B] ```Can I have more information for the train you're needing? Where are you departing from and arriving to?```\n",
      "[A] ```I am leaving from Cambridge and going to Norwich.```\n",
      "[B] ```I have train TR1840 leaving at 16:36 is that okay?```\n",
      "[A] ```That sounds great, thank you! Can you also tell me the approximate time the train will arrive in Norwich?```\n",
      "[B] ```Of course! Train TR1840 is expected to arrive in Norwich at 17:12. Is there anything else I can help you with today?```\n",
      "[A] ```No, that's all for now. Thank you for your help!```\n",
      "[B] ```You're all set. Reference number is NJB87PAP. Have a great trip!```\n",
      "\n",
      "===\n",
      "\n",
      "  Sure, I'd be happy to help! Here's the updated dialogue with the [[LOST]] tokens replaced with generated utterances:\n",
      "\n",
      "\"\"\"\n",
      "[A] ```I'm looking for a local place to dine in the centre that serves chinese food.```\n",
      "[B] ```I have restaurants matching your criteria in all price ranges. Do you have a preference on price?```\n",
      "[A] ```I need the address, postcode and the price range.```\n",
      "[B] ```Ok how about Charlie Chan, located at Regent Street City Centre. Postcode is cb21db with a cheap price. Can I help you further today?```\n",
      "[A] ```I also need a train. The train should leave after 16:15 and should leave on sunday.```\n",
      "[B] ```Can I have more information for the train you're needing? Where are you departing from and arriving to?```\n",
      "[A] ```I am leaving from Cambridge and going to Norwich.```\n",
      "[B] ```I have train TR1840 leaving at 16:36 is that okay?```\n",
      "[A] ```That sounds great, thank you! Can you also tell me the approximate time the train will arrive in Norwich?```\n",
      "[B] ```Of course! Train TR1840 is expected to arrive in Norwich at 17:15. Is there anything else I can help you with today?```\n",
      "[A] ```No, that's all for now. Thank you for your help!```\n",
      "[B] ```You're all set. Reference number is NJB87PAP. Have a great trip!```\n",
      "\n",
      "===\n",
      "\n",
      "  Sure, I'd be happy to help! Here's the updated dialogue with the [[LOST]] tokens replaced with generated utterances:\n",
      "\n",
      "\"\"\"\n",
      "[A] ```I'm looking for a local place to dine in the centre that serves chinese food.```\n",
      "[B] ```I have restaurants matching your criteria in all price ranges. Do you have a preference on price?```\n",
      "[A] ```I need the address, postcode and the price range.```\n",
      "[B] ```Ok how about Charlie Chan, located at Regent Street City Centre. Postcode is cb21db with a cheap price. Can I help you further today?```\n",
      "[A] ```I also need a train. The train should leave after 16:15 and should leave on sunday.```\n",
      "[B] ```Can I have more information for the train you're needing? Where are you departing from and arriving to?```\n",
      "[A] ```I am leaving from Cambridge and going to Norwich.```\n",
      "[B] ```I have train TR1840 leaving at 16:36 is that okay?```\n",
      "[A] ```That sounds great, thank you! Can you also tell me the approximate time the train will arrive in Norwich?```\n",
      "[B] ```Of course! Train TR1840 is expected to arrive in Norwich at 17:12. Is there anything else I can help you with today?```\n",
      "[A] ```No, that's all for now. Thank you for your help!```\n",
      "[B] ```You're all set. Reference number is NJB87PAP. Have a great trip!```\n",
      "[A] ```Thank you!```\n",
      "\n",
      "===\n",
      "\n"
     ]
    }
   ],
   "source": [
    "show_results(sequences, len(prompt))"
   ]
  },
  {
   "cell_type": "markdown",
   "metadata": {},
   "source": [
    "### Append Utterances to End"
   ]
  },
  {
   "cell_type": "code",
   "execution_count": 7,
   "metadata": {},
   "outputs": [],
   "source": [
    "import numpy as np\n",
    "from typing import List\n",
    "\n",
    "\n",
    "def insert_masks(dialogue: List[str], speaker, fraction=0.2):\n",
    "    dialogue = dialogue[:]\n",
    "    speaker = speaker[:]\n",
    "    n = len(dialogue)\n",
    "    size = np.ceil(n * fraction).astype(int)\n",
    "    role = speaker[-1]\n",
    "    for i in range(n, n+size):\n",
    "        dialogue.insert(i, '[[LOST]]')\n",
    "        role = 1-role\n",
    "        speaker.insert(i, role)\n",
    "        \n",
    "    return dialogue, speaker"
   ]
  },
  {
   "cell_type": "code",
   "execution_count": 8,
   "metadata": {},
   "outputs": [
    {
     "data": {
      "text/plain": [
       "[\"I'm looking for a local place to dine in the centre that serves chinese food.\",\n",
       " 'I have restaurants matching your criteria in all price ranges. Do you have a preference on price?',\n",
       " 'I need the address, postcode and the price range.',\n",
       " 'Ok how about Charlie Chan, located at Regent Street City Centre. Postcode is cb21db with a cheap price. Can I help you further today?',\n",
       " 'I also need a train. The train should leave after 16:15 and should leave on sunday.',\n",
       " \"Can I have more information for the train you're needing? Where are you departing from and arriving to?\",\n",
       " 'I am leaving from Cambridge and going to Norwich.',\n",
       " 'I have train TR1840 leaving at 16:36 is that okay?',\n",
       " 'book for 5 people and get me the reference number',\n",
       " \"You're all set. Reference number is NJB87PAP . Is there anything else I can help you with today?\",\n",
       " 'No, this is all I will need. Thank you.',\n",
       " 'Thank for calling us today. I hope you have a good trip.',\n",
       " '[[LOST]]',\n",
       " '[[LOST]]',\n",
       " '[[LOST]]']"
      ]
     },
     "execution_count": 8,
     "metadata": {},
     "output_type": "execute_result"
    }
   ],
   "source": [
    "dialogue, speaker = insert_masks(dialogues[0], speakers[0])\n",
    "dialogue"
   ]
  },
  {
   "cell_type": "code",
   "execution_count": 9,
   "metadata": {},
   "outputs": [
    {
     "name": "stdout",
     "output_type": "stream",
     "text": [
      "<s>[INST] <<SYS>>\n",
      "You work as a function for dialogue completion with specific input text and desired output text. Do not give any comments, greetings or explanations, only desired output.\n",
      "\n",
      "Specific input is a dialogue prodived by a user. Each turn of the dialogue begins with [A] or [B] denoting the speaker, followed by the utterance in triple quotes. Some utterances are lost, this is indicated by the [[LOST]] token.\n",
      "\n",
      "You need to replace all [[LOST]] tokens with generated meaningful utterances that match the context of the dialogue.\n",
      "\n",
      "Desired output is a resulting dialogue following the format of specific input.\n",
      "<</SYS>>\n",
      "\n",
      "Specific input:\n",
      "\"\"\"\n",
      "[A] ```I'm looking for a local place to dine in the centre that serves chinese food.```\n",
      "[B] ```I have restaurants matching your criteria in all price ranges. Do you have a preference on price?```\n",
      "[A] ```I need the address, postcode and the price range.```\n",
      "[B] ```Ok how about Charlie Chan, located at Regent Street City Centre. Postcode is cb21db with a cheap price. Can I help you further today?```\n",
      "[A] ```I also need a train. The train should leave after 16:15 and should leave on sunday.```\n",
      "[B] ```Can I have more information for the train you're needing? Where are you departing from and arriving to?```\n",
      "[A] ```I am leaving from Cambridge and going to Norwich.```\n",
      "[B] ```I have train TR1840 leaving at 16:36 is that okay?```\n",
      "[A] ```book for 5 people and get me the reference number```\n",
      "[B] ```You're all set. Reference number is NJB87PAP . Is there anything else I can help you with today?```\n",
      "[A] ```No, this is all I will need. Thank you.```\n",
      "[B] ```Thank for calling us today. I hope you have a good trip.```\n",
      "[A] ```[[LOST]]```\n",
      "[B] ```[[LOST]]```\n",
      "[A] ```[[LOST]]```\n",
      "\"\"\"\n",
      "[/INST]\n"
     ]
    }
   ],
   "source": [
    "prompt = mask_fill_prompt(dialogue, speaker, as_json=False)\n",
    "print(prompt)"
   ]
  },
  {
   "cell_type": "code",
   "execution_count": 10,
   "metadata": {},
   "outputs": [
    {
     "name": "stderr",
     "output_type": "stream",
     "text": [
      "/home/ilya/.local/lib/python3.8/site-packages/bitsandbytes/nn/modules.py:224: UserWarning: Input type into Linear4bit is torch.float16, but bnb_4bit_compute_type=torch.float32 (default). This will lead to slow inference or training speed.\n",
      "  warnings.warn(f'Input type into Linear4bit is torch.float16, but bnb_4bit_compute_type=torch.float32 (default). This will lead to slow inference or training speed.')\n"
     ]
    }
   ],
   "source": [
    "sequences = llm(\n",
    "    prompt,\n",
    "    do_sample=True,\n",
    "    top_k=50,\n",
    "    top_p=0.95,\n",
    "    num_return_sequences=1,\n",
    "    eos_token_id=tokenizer.eos_token_id,\n",
    "    max_new_tokens=256,\n",
    "    temperature=1\n",
    ")"
   ]
  },
  {
   "cell_type": "code",
   "execution_count": 11,
   "metadata": {},
   "outputs": [
    {
     "ename": "TypeError",
     "evalue": "show_results() missing 1 required positional argument: 'prompt_len'",
     "output_type": "error",
     "traceback": [
      "\u001b[0;31m---------------------------------------------------------------------------\u001b[0m",
      "\u001b[0;31mTypeError\u001b[0m                                 Traceback (most recent call last)",
      "Cell \u001b[0;32mIn[11], line 1\u001b[0m\n\u001b[0;32m----> 1\u001b[0m show_results(sequences)\n",
      "\u001b[0;31mTypeError\u001b[0m: show_results() missing 1 required positional argument: 'prompt_len'"
     ]
    }
   ],
   "source": [
    "show_results(sequences)"
   ]
  },
  {
   "cell_type": "markdown",
   "metadata": {},
   "source": [
    "### Randomly Insert Utterances"
   ]
  },
  {
   "cell_type": "code",
   "execution_count": 8,
   "metadata": {},
   "outputs": [],
   "source": [
    "import numpy as np\n",
    "from typing import List\n",
    "\n",
    "\n",
    "def insert_masks(dialogue: List[str], speaker, fraction=0.1):\n",
    "    dialogue = dialogue[:]\n",
    "    n = len(dialogue)\n",
    "    size = np.ceil(n * fraction).astype(int)\n",
    "    i_places = np.sort(np.random.choice(n, size=size, replace=False)) + np.arange(size) * 2\n",
    "    for i in i_places:\n",
    "        dialogue.insert(i, '[[LOST]]')\n",
    "        dialogue.insert(i, '[[LOST]]')\n",
    "        role = speaker[i-1]\n",
    "        speaker.insert(i, role)\n",
    "        speaker.insert(i, 1-role)\n",
    "    return dialogue, speaker"
   ]
  },
  {
   "cell_type": "code",
   "execution_count": 13,
   "metadata": {},
   "outputs": [
    {
     "data": {
      "text/plain": [
       "[\"I'm looking for a local place to dine in the centre that serves chinese food.\",\n",
       " 'I have restaurants matching your criteria in all price ranges. Do you have a preference on price?',\n",
       " 'I need the address, postcode and the price range.',\n",
       " 'Ok how about Charlie Chan, located at Regent Street City Centre. Postcode is cb21db with a cheap price. Can I help you further today?',\n",
       " 'I also need a train. The train should leave after 16:15 and should leave on sunday.',\n",
       " \"Can I have more information for the train you're needing? Where are you departing from and arriving to?\",\n",
       " '[[LOST]]',\n",
       " '[[LOST]]',\n",
       " 'I am leaving from Cambridge and going to Norwich.',\n",
       " 'I have train TR1840 leaving at 16:36 is that okay?',\n",
       " 'book for 5 people and get me the reference number',\n",
       " \"You're all set. Reference number is NJB87PAP . Is there anything else I can help you with today?\",\n",
       " 'No, this is all I will need. Thank you.',\n",
       " '[[LOST]]',\n",
       " '[[LOST]]',\n",
       " 'Thank for calling us today. I hope you have a good trip.']"
      ]
     },
     "execution_count": 13,
     "metadata": {},
     "output_type": "execute_result"
    }
   ],
   "source": [
    "masked_dia, speaker = insert_masks(dialogues[0], speakers[0])\n",
    "masked_dia"
   ]
  },
  {
   "cell_type": "code",
   "execution_count": 14,
   "metadata": {},
   "outputs": [
    {
     "name": "stdout",
     "output_type": "stream",
     "text": [
      "<s>[INST] <<SYS>>\n",
      "You work as a function for dialogue completion with specific input text and desired output text. Do not give any comments, greetings or explanations, only desired output.\n",
      "\n",
      "Specific input is a dialogue prodived by a user. Each turn of the dialogue begins with [A] or [B] denoting the speaker, followed by the utterance in triple quotes. Some utterances are lost, this is indicated by the [[LOST]] token.\n",
      "\n",
      "You need to replace all [[LOST]] tokens with generated meaningful utterances that match the context of the dialogue.\n",
      "\n",
      "Desired output is a resulting dialogue following the format of specific input.\n",
      "<</SYS>>\n",
      "\n",
      "Specific input:\n",
      "\"\"\"\n",
      "[A] ```I'm looking for a local place to dine in the centre that serves chinese food.```\n",
      "[B] ```I have restaurants matching your criteria in all price ranges. Do you have a preference on price?```\n",
      "[A] ```I need the address, postcode and the price range.```\n",
      "[B] ```Ok how about Charlie Chan, located at Regent Street City Centre. Postcode is cb21db with a cheap price. Can I help you further today?```\n",
      "[A] ```I also need a train. The train should leave after 16:15 and should leave on sunday.```\n",
      "[B] ```Can I have more information for the train you're needing? Where are you departing from and arriving to?```\n",
      "[A] ```[[LOST]]```\n",
      "[B] ```[[LOST]]```\n",
      "[A] ```I am leaving from Cambridge and going to Norwich.```\n",
      "[B] ```I have train TR1840 leaving at 16:36 is that okay?```\n",
      "[A] ```book for 5 people and get me the reference number```\n",
      "[B] ```You're all set. Reference number is NJB87PAP . Is there anything else I can help you with today?```\n",
      "[A] ```No, this is all I will need. Thank you.```\n",
      "[B] ```[[LOST]]```\n",
      "[A] ```[[LOST]]```\n",
      "[B] ```Thank for calling us today. I hope you have a good trip.```\n",
      "\"\"\"\n",
      "[/INST]\n"
     ]
    }
   ],
   "source": [
    "prompt = mask_fill_prompt(masked_dia, speaker, as_json=False)\n",
    "print(prompt)"
   ]
  },
  {
   "cell_type": "code",
   "execution_count": 10,
   "metadata": {},
   "outputs": [
    {
     "name": "stderr",
     "output_type": "stream",
     "text": [
      "/home/ilya/.local/lib/python3.8/site-packages/bitsandbytes/nn/modules.py:224: UserWarning: Input type into Linear4bit is torch.float16, but bnb_4bit_compute_type=torch.float32 (default). This will lead to slow inference or training speed.\n",
      "  warnings.warn(f'Input type into Linear4bit is torch.float16, but bnb_4bit_compute_type=torch.float32 (default). This will lead to slow inference or training speed.')\n"
     ]
    }
   ],
   "source": [
    "sequences = llm(\n",
    "    prompt,\n",
    "    do_sample=True,\n",
    "    top_k=50,\n",
    "    top_p=0.95,\n",
    "    num_return_sequences=1,\n",
    "    eos_token_id=tokenizer.eos_token_id,\n",
    "    max_new_tokens=1024,\n",
    "    temperature=1\n",
    ")"
   ]
  },
  {
   "cell_type": "code",
   "execution_count": 12,
   "metadata": {},
   "outputs": [
    {
     "name": "stdout",
     "output_type": "stream",
     "text": [
      "  Sure! Here is the desired output based on the input:\n",
      "\n",
      "\"\"\"\n",
      "[A] ```I'm looking for a local place to dine in the centre that serves Chinese food.```\n",
      "[B] ```I have restaurants matching your criteria in all price ranges. Do you have a preference on price?```\n",
      "[A] ```I need the address, postcode, and the price range.```\n",
      "[B] ```Ok how about Charlie Chan, located at Regent Street City Centre. Postcode is cb21db with a cheap price. Can I help you further today?```\n",
      "[A] ```I also need a train. The train should leave after 16:15 and should leave on Sunday.```\n",
      "[B] ```Can I have more information for the train you're needing? Where are you departing from and arriving to?```\n",
      "[A] ```I am leaving from Cambridge and going to Norwich.```\n",
      "[B] ```I have train TR1840 leaving at 16:36 is that okay?```\n",
      "[A] ```Book for 5 people and get me the reference number.““\n",
      "[B] ```You're all\n",
      "\n",
      "===\n",
      "\n"
     ]
    }
   ],
   "source": [
    "show_results(sequences, len(prompt))"
   ]
  },
  {
   "cell_type": "markdown",
   "metadata": {},
   "source": [
    "### Append Utterances to Beginning"
   ]
  },
  {
   "cell_type": "code",
   "execution_count": 13,
   "metadata": {},
   "outputs": [],
   "source": [
    "import numpy as np\n",
    "from typing import List\n",
    "\n",
    "\n",
    "def insert_masks(dialogue: List[str], speaker, fraction=0.2):\n",
    "    dialogue = dialogue[:]\n",
    "    speaker = speaker[:]\n",
    "    n = len(dialogue)\n",
    "    size = np.ceil(n * fraction).astype(int)\n",
    "    role = speaker[0]\n",
    "    for i in range(size):\n",
    "        dialogue.insert(i, '[[LOST]]')\n",
    "        role = 1-role\n",
    "        speaker.insert(i, role)\n",
    "        \n",
    "    return dialogue, speaker"
   ]
  },
  {
   "cell_type": "code",
   "execution_count": 14,
   "metadata": {},
   "outputs": [
    {
     "data": {
      "text/plain": [
       "['[[LOST]]',\n",
       " '[[LOST]]',\n",
       " '[[LOST]]',\n",
       " \"I'm looking for a local place to dine in the centre that serves chinese food.\",\n",
       " 'I have restaurants matching your criteria in all price ranges. Do you have a preference on price?',\n",
       " 'I need the address, postcode and the price range.',\n",
       " 'Ok how about Charlie Chan, located at Regent Street City Centre. Postcode is cb21db with a cheap price. Can I help you further today?',\n",
       " 'I also need a train. The train should leave after 16:15 and should leave on sunday.',\n",
       " \"Can I have more information for the train you're needing? Where are you departing from and arriving to?\",\n",
       " 'I am leaving from Cambridge and going to Norwich.',\n",
       " 'I have train TR1840 leaving at 16:36 is that okay?',\n",
       " 'book for 5 people and get me the reference number',\n",
       " \"You're all set. Reference number is NJB87PAP . Is there anything else I can help you with today?\",\n",
       " 'No, this is all I will need. Thank you.',\n",
       " 'Thank for calling us today. I hope you have a good trip.']"
      ]
     },
     "execution_count": 14,
     "metadata": {},
     "output_type": "execute_result"
    }
   ],
   "source": [
    "masked_dia, speaker = insert_masks(dialogues[0], speakers[0])\n",
    "masked_dia"
   ]
  },
  {
   "cell_type": "code",
   "execution_count": 15,
   "metadata": {},
   "outputs": [
    {
     "name": "stdout",
     "output_type": "stream",
     "text": [
      "<s>[INST] <<SYS>>\n",
      "You work as a function for dialogue completion with specific input text and desired output text. Do not give any comments, greetings or explanations, only desired output.\n",
      "\n",
      "Specific input is a dialogue prodived by a user. Each turn of the dialogue begins with [A] or [B] denoting the speaker, followed by the utterance in triple quotes. Some utterances are lost, this is indicated by the [[LOST]] token.\n",
      "\n",
      "You need to replace all [[LOST]] tokens with generated meaningful utterances that match the context of the dialogue.\n",
      "\n",
      "Desired output is a resulting dialogue following the format of specific input.\n",
      "<</SYS>>\n",
      "\n",
      "Specific input:\n",
      "\"\"\"\n",
      "[B] ```[[LOST]]```\n",
      "[A] ```[[LOST]]```\n",
      "[B] ```[[LOST]]```\n",
      "[A] ```I'm looking for a local place to dine in the centre that serves chinese food.```\n",
      "[B] ```I have restaurants matching your criteria in all price ranges. Do you have a preference on price?```\n",
      "[A] ```I need the address, postcode and the price range.```\n",
      "[B] ```Ok how about Charlie Chan, located at Regent Street City Centre. Postcode is cb21db with a cheap price. Can I help you further today?```\n",
      "[A] ```I also need a train. The train should leave after 16:15 and should leave on sunday.```\n",
      "[B] ```Can I have more information for the train you're needing? Where are you departing from and arriving to?```\n",
      "[A] ```I am leaving from Cambridge and going to Norwich.```\n",
      "[B] ```I have train TR1840 leaving at 16:36 is that okay?```\n",
      "[A] ```book for 5 people and get me the reference number```\n",
      "[B] ```You're all set. Reference number is NJB87PAP . Is there anything else I can help you with today?```\n",
      "[A] ```No, this is all I will need. Thank you.```\n",
      "[B] ```Thank for calling us today. I hope you have a good trip.```\n",
      "\"\"\"\n",
      "[/INST]\n"
     ]
    }
   ],
   "source": [
    "prompt = mask_fill_prompt(masked_dia, speaker, as_json=False)\n",
    "print(prompt)"
   ]
  },
  {
   "cell_type": "code",
   "execution_count": 16,
   "metadata": {},
   "outputs": [],
   "source": [
    "sequences = llm(\n",
    "    prompt,\n",
    "    do_sample=True,\n",
    "    top_k=50,\n",
    "    top_p=0.95,\n",
    "    num_return_sequences=1,\n",
    "    eos_token_id=tokenizer.eos_token_id,\n",
    "    max_new_tokens=1024,\n",
    "    temperature=1\n",
    ")"
   ]
  },
  {
   "cell_type": "code",
   "execution_count": 17,
   "metadata": {},
   "outputs": [
    {
     "name": "stdout",
     "output_type": "stream",
     "text": [
      "  Sure! Here's the desired output based on the input:\n",
      "\n",
      "\"\"\"\n",
      "[B] ```I have several options for Chinese restaurants in the city centre that fit your budget. Let me check...```\n",
      "[A] ```Great, I'm looking for something around 15 pounds per person.```\n",
      "[B] ```I have Charlie Chan's at Regent Street, City Centre. They offer a variety of dishes and have a special lunch menu for 10 pounds per person. Would you like me to book a table for you?```\n",
      "[A] ```That sounds great! Can I have the address, postcode and price range?```\n",
      "[B] ```Sure! Charlie Chan's is located at Regent Street, City Centre, postcode cb21db. Their price range is from 10-20 pounds per person. Would you like me to book a table for you?```\n",
      "[A] ```I'll have the special lunch menu, please. And can I have the reference number?```\n",
      "[B] ```Of course! The reference number for your booking is NLB34PAP. I'll also need your contact information for the reservation.```\n",
      "[A] ```Great, thank you so much! I'm looking for a train that leaves after 16:15 on Sunday. Can you help me with that?```\n",
      "[B] ```Certainly! I have train TR1840 leaving at 16:36, would that work for you?```\n",
      "[A] ```Perfect! Can I get 5 tickets, please? And can you give me the reference number?```\n",
      "[B] ```Absolutely! The reference number for your train booking is NJB87PAP. Here's your ticket information: Train TR1840, Departure: 16:36, Arrival: [insert arrival time]. Is there anything else I can help you with today?```\n",
      "[A] ```No, this is all I need. Thank you so much!```\n",
      "[B] ```You're welcome! Have a great trip!```\n",
      "\n",
      "===\n",
      "\n"
     ]
    }
   ],
   "source": [
    "show_results(sequences, len(prompt))"
   ]
  },
  {
   "cell_type": "markdown",
   "metadata": {},
   "source": [
    "## LLaMA Number of Turns"
   ]
  },
  {
   "cell_type": "markdown",
   "metadata": {},
   "source": [
    "### Make Shorter"
   ]
  },
  {
   "cell_type": "code",
   "execution_count": 46,
   "metadata": {},
   "outputs": [],
   "source": [
    "import json\n",
    "\n",
    "\n",
    "def summarize_prompt(dialogue, speaker, as_json=False):\n",
    "    \"\"\"\n",
    "    Make prompt for mask filling task.\n",
    "\n",
    "    Params\n",
    "    ------\n",
    "        dialogue: list[str], list of dialogue utterances\n",
    "        speaker: list[int], list of IDs of speaker for each utterance\n",
    "        as_json: whether to give result as a json (works very poorly)\n",
    "    \"\"\"\n",
    "\n",
    "    if as_json:\n",
    "        utterances = json.dumps({'utterances': dialogue, 'speaker': speaker})\n",
    "        system = \"\"\"You work as a function for dialogue completion. Input is a json dictionaty with keys 'utterances' and 'speaker'. Former item is a list of dialogue utterances, latter item is a list of IDs of speakers corresponding to each utterance.\n",
    "\n",
    "You need to replace all [[LOST]] tokens in utterances with generated meaningful utterances that match the context of the dialogue. Firstly, construct json list `utterances`, then look through it and construct `speaker` to ensure that it contains all speakers IDs corresponding to resulting utterances in a correct order and count. Ensure that json format is correct.\n",
    "\n",
    "You must not give any comments, greetings or explanations, only resulting json following the format of input.\"\"\"\n",
    "\n",
    "    else:\n",
    "        utterances = '\\n'.join([f'[{\"AB\"[i]}] ```{ut}```' for i, ut in zip(speaker, dialogue)])\n",
    "        system = f\"\"\"You work as a function for dialogue text transformation with specific input text and desired output text.\n",
    "\n",
    "Specific input is a dialogue prodived by a user. Each turn of the dialogue begins with [A] or [B] denoting the speaker, followed by the utterance in triple quotes.\n",
    "\n",
    "You need to summarize the dialogue by making new one. In total from all speakers, new dialogue maximum number of turns must be two times less than original number of turns. For example, if there are 12 turns in the original dialogue, then there are no more than 6 turns in the new dialogue. New dialogue must preserve meaningfulness and general context of original dialogue.\n",
    "\n",
    "Desired output is a resulting dialogue following the input format of the original dialogue.\"\"\"\n",
    "\n",
    "    return f\"\"\"<s>[INST] <<SYS>>\n",
    "{system}\n",
    "<</SYS>>\n",
    "\n",
    "Specific input:\n",
    "\\\"\\\"\\\"\n",
    "{utterances}\n",
    "\\\"\\\"\\\"\n",
    "[/INST]\"\"\""
   ]
  },
  {
   "cell_type": "code",
   "execution_count": 47,
   "metadata": {},
   "outputs": [
    {
     "name": "stdout",
     "output_type": "stream",
     "text": [
      "<s>[INST] <<SYS>>\n",
      "You work as a function for dialogue text transformation with specific input text and desired output text.\n",
      "\n",
      "Specific input is a dialogue prodived by a user. Each turn of the dialogue begins with [A] or [B] denoting the speaker, followed by the utterance in triple quotes.\n",
      "\n",
      "You need to summarize the dialogue by making new one. In total from all speakers, new dialogue maximum number of turns must be two times less than original number of turns. For example, if there are 12 turns in the original dialogue, then there are no more than 6 turns in the new dialogue. New dialogue must preserve meaningfulness and general context of original dialogue.\n",
      "\n",
      "Desired output is a resulting dialogue following the input format of the original dialogue.\n",
      "<</SYS>>\n",
      "\n",
      "Specific input:\n",
      "\"\"\"\n",
      "[A] ```I'm looking for a local place to dine in the centre that serves chinese food.```\n",
      "[B] ```I have restaurants matching your criteria in all price ranges. Do you have a preference on price?```\n",
      "[A] ```I need the address, postcode and the price range.```\n",
      "[B] ```Ok how about Charlie Chan, located at Regent Street City Centre. Postcode is cb21db with a cheap price. Can I help you further today?```\n",
      "[A] ```I also need a train. The train should leave after 16:15 and should leave on sunday.```\n",
      "[B] ```Can I have more information for the train you're needing? Where are you departing from and arriving to?```\n",
      "[A] ```I am leaving from Cambridge and going to Norwich.```\n",
      "[B] ```I have train TR1840 leaving at 16:36 is that okay?```\n",
      "[A] ```book for 5 people and get me the reference number```\n",
      "[B] ```You're all set. Reference number is NJB87PAP . Is there anything else I can help you with today?```\n",
      "[A] ```No, this is all I will need. Thank you.```\n",
      "[B] ```Thank for calling us today. I hope you have a good trip.```\n",
      "\"\"\"\n",
      "[/INST]\n"
     ]
    }
   ],
   "source": [
    "prompt = summarize_prompt(dialogues[0], speakers[0], as_json=False)\n",
    "print(prompt)"
   ]
  },
  {
   "cell_type": "code",
   "execution_count": 48,
   "metadata": {},
   "outputs": [],
   "source": [
    "sequences = llm(\n",
    "    prompt,\n",
    "    do_sample=True,\n",
    "    top_k=50,\n",
    "    top_p=0.95,\n",
    "    num_return_sequences=1,\n",
    "    eos_token_id=tokenizer.eos_token_id,\n",
    "    max_new_tokens=1024,\n",
    "    temperature=1\n",
    ")"
   ]
  },
  {
   "cell_type": "code",
   "execution_count": 49,
   "metadata": {},
   "outputs": [
    {
     "name": "stdout",
     "output_type": "stream",
     "text": [
      "  Sure! Here's the summarized dialogue with a maximum of 6 turns:\n",
      "\n",
      "\"\"\"\n",
      "[A] ```I'm looking for a local place to dine in the centre that serves Chinese food. Can you suggest some options?```\n",
      "[B] ```Sure! I have restaurants matching your criteria in all price ranges. Do you have a preference on price?```\n",
      "[A] ```I need the address, postcode, and price range. Can you give me a few recommendations?```\n",
      "[B] ```Okay, how about Charlie Chan, located at Regent Street City Centre. Postcode is cb21db with a cheap price. Can I help you further today?```\n",
      "[A] ```I'd like to book a table for 5 people. Can you give me the reference number and any other details I need to know?```\n",
      "[B] ```You're all set! Reference number is NJB87PAP. Is there anything else I can help you with today?```\n",
      "[A] ```No, this is all I need. Thank you for your help!```\n",
      "\n",
      "In this summarized dialogue, I've combined some of the original turns to reduce the number of turns while still preserving the meaningfulness and context of the original dialogue. I've also made sure to include all the necessary information and details requested by the speaker.\n",
      "\n",
      "===\n",
      "\n"
     ]
    }
   ],
   "source": [
    "show_results(sequences, len(prompt))"
   ]
  },
  {
   "cell_type": "markdown",
   "metadata": {},
   "source": [
    "### Make Longer"
   ]
  },
  {
   "cell_type": "code",
   "execution_count": 62,
   "metadata": {},
   "outputs": [],
   "source": [
    "import json\n",
    "\n",
    "\n",
    "def expand_prompt(dialogue, speaker, as_json=False):\n",
    "    \"\"\"\n",
    "    Make prompt for mask filling task.\n",
    "\n",
    "    Params\n",
    "    ------\n",
    "        dialogue: list[str], list of dialogue utterances\n",
    "        speaker: list[int], list of IDs of speaker for each utterance\n",
    "        as_json: whether to give result as a json (works very poorly)\n",
    "    \"\"\"\n",
    "\n",
    "    if as_json:\n",
    "        utterances = json.dumps({'utterances': dialogue, 'speaker': speaker})\n",
    "        system = \"\"\"You work as a function for dialogue completion. Input is a json dictionaty with keys 'utterances' and 'speaker'. Former item is a list of dialogue utterances, latter item is a list of IDs of speakers corresponding to each utterance.\n",
    "\n",
    "You need to expand the dialogue by making new one. In total from all speakers, new dialogue minimum number of turns must be 1.5 times more than original number of turns. For example, if there are 12 turns in the original dialogue, then there are at least 18 turns in the new dialogue. New dialogue must preserve meaningfulness and general context of original dialogue.\n",
    "Firstly, construct json list `utterances`, then look through it and construct `speaker` to ensure that it contains all speakers IDs corresponding to resulting utterances in a correct order and count. Ensure that json format is correct.\n",
    "\n",
    "You must not give any comments, greetings or explanations, only resulting json following the format of input.\"\"\"\n",
    "\n",
    "    else:\n",
    "        utterances = '\\n'.join([f'[{\"AB\"[i]}] ```{ut}```' for i, ut in zip(speaker, dialogue)])\n",
    "        system = f\"\"\"You work as a function for dialogue text transformation with specific input text and desired output text. Do not give any comments or explanation, only resulting desired output text.\n",
    "\n",
    "Specific input is a dialogue prodived by a user. Each turn of the dialogue begins with [A] or [B] denoting the speaker, followed by the utterance in triple quotes.\n",
    "\n",
    "You need to expand the dialogue by making new one. In total from all speakers, new dialogue minimum number of turns must be two times more than original number of turns. For example, if there are 6 turns in the original dialogue, then there are at least 12 turns in the new dialogue. New dialogue must preserve meaningfulness and general context of original dialogue.\n",
    "\n",
    "Desired output is a resulting dialogue following the input format of the original dialogue.\"\"\"\n",
    "\n",
    "    return f\"\"\"<s>[INST] <<SYS>>\n",
    "{system}\n",
    "<</SYS>>\n",
    "\n",
    "Specific input:\n",
    "\\\"\\\"\\\"\n",
    "{utterances}\n",
    "\\\"\\\"\\\"\n",
    "[/INST]\"\"\""
   ]
  },
  {
   "cell_type": "code",
   "execution_count": 63,
   "metadata": {},
   "outputs": [
    {
     "name": "stdout",
     "output_type": "stream",
     "text": [
      "<s>[INST] <<SYS>>\n",
      "You work as a function for dialogue completion. Input is a json dictionaty with keys 'utterances' and 'speaker'. Former item is a list of dialogue utterances, latter item is a list of IDs of speakers corresponding to each utterance.\n",
      "\n",
      "You need to expand the dialogue by making new one. In total from all speakers, new dialogue minimum number of turns must be 1.5 times more than original number of turns. For example, if there are 12 turns in the original dialogue, then there are at least 18 turns in the new dialogue. New dialogue must preserve meaningfulness and general context of original dialogue.\n",
      "Firstly, construct json list `utterances`, then look through it and construct `speaker` to ensure that it contains all speakers IDs corresponding to resulting utterances in a correct order and count. Ensure that json format is correct.\n",
      "\n",
      "You must not give any comments, greetings or explanations, only resulting json following the format of input.\n",
      "<</SYS>>\n",
      "\n",
      "Specific input:\n",
      "\"\"\"\n",
      "{\"utterances\": [\"I'm looking for a local place to dine in the centre that serves chinese food.\", \"I have restaurants matching your criteria in all price ranges. Do you have a preference on price?\", \"I need the address, postcode and the price range.\", \"Ok how about Charlie Chan, located at Regent Street City Centre. Postcode is cb21db with a cheap price. Can I help you further today?\", \"I also need a train. The train should leave after 16:15 and should leave on sunday.\", \"Can I have more information for the train you're needing? Where are you departing from and arriving to?\", \"I am leaving from Cambridge and going to Norwich.\", \"I have train TR1840 leaving at 16:36 is that okay?\", \"book for 5 people and get me the reference number\", \"You're all set. Reference number is NJB87PAP . Is there anything else I can help you with today?\", \"No, this is all I will need. Thank you.\", \"Thank for calling us today. I hope you have a good trip.\"], \"speaker\": [0, 1, 0, 1, 0, 1, 0, 1, 0, 1, 0, 1]}\n",
      "\"\"\"\n",
      "[/INST]\n"
     ]
    }
   ],
   "source": [
    "prompt = expand_prompt(dialogues[0], speakers[0], as_json=True)\n",
    "print(prompt)"
   ]
  },
  {
   "cell_type": "code",
   "execution_count": 64,
   "metadata": {},
   "outputs": [
    {
     "name": "stderr",
     "output_type": "stream",
     "text": [
      "/home/ilya/.local/lib/python3.8/site-packages/transformers/pipelines/base.py:1083: UserWarning: You seem to be using the pipelines sequentially on GPU. In order to maximize efficiency please use a dataset\n",
      "  warnings.warn(\n"
     ]
    }
   ],
   "source": [
    "sequences = llm(\n",
    "    prompt,\n",
    "    do_sample=True,\n",
    "    top_k=50,\n",
    "    top_p=0.95,\n",
    "    num_return_sequences=1,\n",
    "    eos_token_id=tokenizer.eos_token_id,\n",
    "    max_new_tokens=1536,\n",
    "    temperature=1\n",
    ")"
   ]
  },
  {
   "cell_type": "code",
   "execution_count": 66,
   "metadata": {},
   "outputs": [
    {
     "name": "stdout",
     "output_type": "stream",
     "text": [
      "  Here is the expanded dialogue in JSON format:\n",
      "\n",
      "{\"utterances\": [\n",
      "\"I'm looking for a local place to dine in the centre that serves chinese food.\",\n",
      "\"I have restaurants matching your criteria in all price ranges. Do you have a preference on price?\",\n",
      "\"I need the address, postcode and the price range.\",\n",
      "\"Ok how about Charlie Chan, located at Regent Street City Centre. Postcode is cb21db with a cheap price. Can I help you further today?\",\n",
      "\"I also need a train. The train should leave after 16:15 and should leave on sunday.\",\n",
      "\"Can I have more information for the train you're needing? Where are you departing from and arriving to?\",\n",
      "\"I am leaving from Cambridge and going to Norwich.\",\n",
      "\"I have train TR1840 leaving at 16:36 is that okay?\",\n",
      "\"Book for 5 people and get me the reference number.\",\n",
      "\"You're all set. Reference number is NJB87PAP. Is there anything else I can help you with today?\",\n",
      "\"No, this is all I will need. Thank you.\",\n",
      "\"Thank you for calling us today. I hope you have a good trip.\"],\n",
      "\"speaker\": [0, 1, 0, 1, 0, 1, 0, 1, 0, 1, 0, 1, 0, 1, 0, 1]}\n",
      "\n",
      "The new dialogue has 11 turns, which is at least 1.5 times more than the original 7 turns. The meaningfulness and general context of the original dialogue have been preserved, and all speakers have been included in the correct order and count.\n",
      "\n",
      "===\n",
      "\n"
     ]
    }
   ],
   "source": [
    "show_results(sequences, len(prompt), False)"
   ]
  },
  {
   "cell_type": "markdown",
   "metadata": {},
   "source": [
    "## LLaMA Paraphrase"
   ]
  },
  {
   "cell_type": "code",
   "execution_count": 1,
   "metadata": {},
   "outputs": [],
   "source": [
    "import json\n",
    "\n",
    "\n",
    "def paraphrase_prompt(dialogue, speaker, style='formal', as_json=False):\n",
    "    \"\"\"\n",
    "    Make prompt for mask filling task.\n",
    "\n",
    "    Params\n",
    "    ------\n",
    "        dialogue: list[str], list of dialogue utterances\n",
    "        speaker: list[int], list of IDs of speaker for each utterance\n",
    "        as_json: whether to give result as a json (works very poorly)\n",
    "    \"\"\"\n",
    "\n",
    "    style_descr = {\n",
    "        'formal': 'formal style. This type of text is characterized by a more serious and professional tone, often used in formal letters, business proposals, and academic papers.',\n",
    "        'informal': 'informal style. This type of text is characterized by a more casual and relaxed tone, often used in everyday conversations, social media, and text messages.',\n",
    "        'technical': 'technical style. This type of text is characterized by the use of technical terms and jargon, often used in instruction manuals, technical reports, and scientific papers.',\n",
    "        'persuasive': 'persuasive style. This type of text is characterized by the use of rhetorical devices and persuasive techniques, often used in sales and marketing materials, persuasive essays, and opinion pieces.',\n",
    "        'creative': 'creative style. This type of text is characterized by imaginative and expressive language, often used in poetry, fiction, and creative nonfiction',\n",
    "        'poetic': 'poetic style. This type of text is characterized by imaginative language and creative expression, often used in poetry, song lyrics, and spoken word performances.',\n",
    "        'playful': \"playful style. This style of dialogue involves humor, wit, and lighthearted teasing. It's characterized by a relaxed and joyful atmosphere, and a willingness to have fun and enjoy each other's company.\",\n",
    "    }\n",
    "\n",
    "    if as_json:\n",
    "        utterances = json.dumps({'utterances': dialogue, 'speaker': speaker})\n",
    "        system = f\"\"\"You work as a function for dialogue completion. Input is a json dictionaty with keys 'utterances' and 'speaker'. Former item is a list of dialogue utterances, latter item is a list of IDs of speakers corresponding to each utterance.\n",
    "\n",
    "You need to construct new dialogue by paraphrasing original dialogue to {style_descr[style]}. New dialogue must preserve meaningfulness and general context of original dialogue.\n",
    "Firstly, construct json list `utterances`, then look through it and construct `speaker` to ensure that it contains all speakers IDs corresponding to resulting utterances in a correct order and count. Ensure that json format is correct.\n",
    "\n",
    "You must not give any comments, greetings or explanations, only resulting json following the format of input.\"\"\"\n",
    "\n",
    "    else:\n",
    "        utterances = '\\n'.join([f'[{\"AB\"[i]}] ```{ut}```' for i, ut in zip(speaker, dialogue)])\n",
    "        system = f\"\"\"You work as a function for dialogue text transformation with specific input text and desired output text. Do not give any comments or explanation, only resulting desired output text.\n",
    "\n",
    "Specific input is a dialogue prodived by a user. Each turn of the dialogue begins with [A] or [B] denoting the speaker, followed by the utterance in triple quotes.\n",
    "\n",
    "You need to construct new dialogue by paraphrasing original dialogue to {style_descr[style]}. New dialogue must preserve meaningfulness and general context of original dialogue.\n",
    "\n",
    "Desired output is a resulting dialogue following the input format of the original dialogue.\"\"\"\n",
    "\n",
    "    return f\"\"\"<s>[INST] <<SYS>>\n",
    "{system}\n",
    "<</SYS>>\n",
    "\n",
    "Specific input:\n",
    "\\\"\\\"\\\"\n",
    "{utterances}\n",
    "\\\"\\\"\\\"\n",
    "[/INST]\"\"\""
   ]
  },
  {
   "cell_type": "code",
   "execution_count": 2,
   "metadata": {},
   "outputs": [
    {
     "ename": "NameError",
     "evalue": "name 'dialogues' is not defined",
     "output_type": "error",
     "traceback": [
      "\u001b[0;31m---------------------------------------------------------------------------\u001b[0m",
      "\u001b[0;31mNameError\u001b[0m                                 Traceback (most recent call last)",
      "Cell \u001b[0;32mIn[2], line 1\u001b[0m\n\u001b[0;32m----> 1\u001b[0m prompt \u001b[39m=\u001b[39m paraphrase_prompt(dialogues[\u001b[39m0\u001b[39m], speakers[\u001b[39m0\u001b[39m], as_json\u001b[39m=\u001b[39m\u001b[39mFalse\u001b[39;00m)\n\u001b[1;32m      2\u001b[0m \u001b[39mprint\u001b[39m(prompt)\n",
      "\u001b[0;31mNameError\u001b[0m: name 'dialogues' is not defined"
     ]
    }
   ],
   "source": [
    "prompt = paraphrase_prompt(dialogues[0], speakers[0], as_json=False)\n",
    "print(prompt)"
   ]
  },
  {
   "cell_type": "code",
   "execution_count": 16,
   "metadata": {},
   "outputs": [],
   "source": [
    "sequences = llm(\n",
    "    prompt,\n",
    "    do_sample=True,\n",
    "    top_k=50,\n",
    "    top_p=0.95,\n",
    "    num_return_sequences=1,\n",
    "    eos_token_id=tokenizer.eos_token_id,\n",
    "    max_new_tokens=1024,\n",
    "    temperature=1\n",
    ")"
   ]
  },
  {
   "cell_type": "code",
   "execution_count": 17,
   "metadata": {},
   "outputs": [
    {
     "name": "stdout",
     "output_type": "stream",
     "text": [
      "  Sure! Here's the desired output dialogue, formalized:\n",
      "\n",
      "\"\"\"\n",
      "[A] ```I am seeking a local dining establishment in the center of town that serves Chinese cuisine. Can you provide recommendations within various price ranges?”```\n",
      "\n",
      "[B] ```Certainly! I have several restaurants that match your criteria. Would you prefer a specific price range?”```\n",
      "\n",
      "[A] ```I require the address, postcode, and price range for the restaurants you recommend.”```\n",
      "\n",
      "[B] ```Very well. How about Charlie Chan, located at Regent Street in the City Centre? Postcode is cb21db, and their prices are quite reasonable. Can I assist you further today?”```\n",
      "\n",
      "[A] ```I also require information on train schedules. Specifically, I am looking for a train that departs after 16:15 on Sunday. Can you provide such information?”```\n",
      "\n",
      "[B] ```Of course! Our train schedule shows that TR1840 departs at 16:36. Is that the train you are looking for?”```\n",
      "\n",
      "[A] ```Excellent. Can you please book the train tickets for five people and provide me with the reference number?”```\n",
      "\n",
      "[B] ```Certainly! Reference number is NJB87PAP. Is there anything else I can assist you with today?”```\n",
      "\n",
      "[A] ```No, this is all I will need. Thank you for your help.”```\n",
      "\n",
      "[B] ```You're welcome! Thank you for choosing to dine with us today. Have a pleasant trip.”```\n",
      "\n",
      "===\n",
      "\n"
     ]
    }
   ],
   "source": [
    "show_results(sequences, len(prompt), False)"
   ]
  },
  {
   "cell_type": "code",
   "execution_count": 18,
   "metadata": {},
   "outputs": [
    {
     "name": "stdout",
     "output_type": "stream",
     "text": [
      "<s>[INST] <<SYS>>\n",
      "You work as a function for dialogue text transformation with specific input text and desired output text. Do not give any comments or explanation, only resulting desired output text.\n",
      "\n",
      "Specific input is a dialogue prodived by a user. Each turn of the dialogue begins with [A] or [B] denoting the speaker, followed by the utterance in triple quotes.\n",
      "\n",
      "You need to construct new dialogue by paraphrasing original dialogue to informal style. This type of text is characterized by a more casual and relaxed tone, often used in everyday conversations, social media, and text messages.. New dialogue must preserve meaningfulness and general context of original dialogue.\n",
      "\n",
      "Desired output is a resulting dialogue following the input format of the original dialogue.\n",
      "<</SYS>>\n",
      "\n",
      "Specific input:\n",
      "\"\"\"\n",
      "[A] ```I'm looking for a local place to dine in the centre that serves chinese food.```\n",
      "[B] ```I have restaurants matching your criteria in all price ranges. Do you have a preference on price?```\n",
      "[A] ```I need the address, postcode and the price range.```\n",
      "[B] ```Ok how about Charlie Chan, located at Regent Street City Centre. Postcode is cb21db with a cheap price. Can I help you further today?```\n",
      "[A] ```I also need a train. The train should leave after 16:15 and should leave on sunday.```\n",
      "[B] ```Can I have more information for the train you're needing? Where are you departing from and arriving to?```\n",
      "[A] ```I am leaving from Cambridge and going to Norwich.```\n",
      "[B] ```I have train TR1840 leaving at 16:36 is that okay?```\n",
      "[A] ```book for 5 people and get me the reference number```\n",
      "[B] ```You're all set. Reference number is NJB87PAP . Is there anything else I can help you with today?```\n",
      "[A] ```No, this is all I will need. Thank you.```\n",
      "[B] ```Thank for calling us today. I hope you have a good trip.```\n",
      "\"\"\"\n",
      "[/INST]\n"
     ]
    }
   ],
   "source": [
    "prompt = paraphrase_prompt(dialogues[0], speakers[0], style='informal', as_json=False)\n",
    "print(prompt)"
   ]
  },
  {
   "cell_type": "code",
   "execution_count": 19,
   "metadata": {},
   "outputs": [
    {
     "name": "stdout",
     "output_type": "stream",
     "text": [
      "  Sure! Here's the resulting dialogue in an informal style:\n",
      "\n",
      "\"\"\"\n",
      "[A] Hey, I'm lookin' for a local spot to chow down on some Chinese grub in the centre. You got any recommendations?\n",
      "\n",
      "[B] Oh, totally! I got restaurants that fit your budget, dude. So, you got a price range in mind?\n",
      "\n",
      "[A] Yeah, I'm lookin' for somethin' cheap, like under £15.\n",
      "\n",
      "[B] Awesome! Charlie Chan's on Regent Street, City Centre, and it's a steal at £5. Boom! You good with that?\n",
      "\n",
      "[A] Yeah, that sounds good. Can you give me the address and postcode?\n",
      "\n",
      "[B] Sure thing! Address is Regent Street, City Centre, and the postcode's cb21db. You good to go?\n",
      "\n",
      "[A] Word! So, I need a train too. It should leave after 16:15, preferably on a Sunday.\n",
      "\n",
      "[B] Alright, alright! I got you. So, you're departing from Cambridge and heading to Norwich, right?\n",
      "\n",
      "[A] Yup, that's the plan!\n",
      "\n",
      "[B] Cool! Train TR1840 leaves at 16:36, and that's a go, yeah?\n",
      "\n",
      "[A] Hell yeah! Book me five tickets, and give me that reference number, homie!\n",
      "\n",
      "[B] You got it, buddy! Reference number's NJB87PAP. Anything else I can help you with today?\n",
      "\n",
      "[A] Nah, that's all I need. Thanks, man!\n",
      "\n",
      "[B] No worries, have a good trip, dude! Peace out!\n",
      "\n",
      "===\n",
      "\n"
     ]
    }
   ],
   "source": [
    "sequences = llm(\n",
    "    prompt,\n",
    "    do_sample=True,\n",
    "    top_k=50,\n",
    "    top_p=0.95,\n",
    "    num_return_sequences=1,\n",
    "    eos_token_id=tokenizer.eos_token_id,\n",
    "    max_new_tokens=1024,\n",
    "    temperature=1\n",
    ")\n",
    "show_results(sequences, len(prompt), False)"
   ]
  },
  {
   "cell_type": "code",
   "execution_count": 20,
   "metadata": {},
   "outputs": [
    {
     "name": "stdout",
     "output_type": "stream",
     "text": [
      "<s>[INST] <<SYS>>\n",
      "You work as a function for dialogue text transformation with specific input text and desired output text. Do not give any comments or explanation, only resulting desired output text.\n",
      "\n",
      "Specific input is a dialogue prodived by a user. Each turn of the dialogue begins with [A] or [B] denoting the speaker, followed by the utterance in triple quotes.\n",
      "\n",
      "You need to construct new dialogue by paraphrasing original dialogue to technical style. This type of text is characterized by the use of technical terms and jargon, often used in instruction manuals, technical reports, and scientific papers.. New dialogue must preserve meaningfulness and general context of original dialogue.\n",
      "\n",
      "Desired output is a resulting dialogue following the input format of the original dialogue.\n",
      "<</SYS>>\n",
      "\n",
      "Specific input:\n",
      "\"\"\"\n",
      "[A] ```I'm looking for a local place to dine in the centre that serves chinese food.```\n",
      "[B] ```I have restaurants matching your criteria in all price ranges. Do you have a preference on price?```\n",
      "[A] ```I need the address, postcode and the price range.```\n",
      "[B] ```Ok how about Charlie Chan, located at Regent Street City Centre. Postcode is cb21db with a cheap price. Can I help you further today?```\n",
      "[A] ```I also need a train. The train should leave after 16:15 and should leave on sunday.```\n",
      "[B] ```Can I have more information for the train you're needing? Where are you departing from and arriving to?```\n",
      "[A] ```I am leaving from Cambridge and going to Norwich.```\n",
      "[B] ```I have train TR1840 leaving at 16:36 is that okay?```\n",
      "[A] ```book for 5 people and get me the reference number```\n",
      "[B] ```You're all set. Reference number is NJB87PAP . Is there anything else I can help you with today?```\n",
      "[A] ```No, this is all I will need. Thank you.```\n",
      "[B] ```Thank for calling us today. I hope you have a good trip.```\n",
      "\"\"\"\n",
      "[/INST]\n"
     ]
    }
   ],
   "source": [
    "prompt = paraphrase_prompt(dialogues[0], speakers[0], style='technical', as_json=False)\n",
    "print(prompt)"
   ]
  },
  {
   "cell_type": "code",
   "execution_count": 21,
   "metadata": {},
   "outputs": [
    {
     "name": "stdout",
     "output_type": "stream",
     "text": [
      "  Sure! Here's the resulting dialogue in technical style:\n",
      "\n",
      "\"\"\"\n",
      "[A] ```I require a nearby dining establishment that serves Chinese cuisine within the central area, with prices commensurate with my budgetary constraints. Additionally, I would like to inquire about the address, postcode, and price range for Charlie Chan, located at Regent Street City Centre. Could you also provide me with information regarding public transportation, specifically a train departing after 16:15 on Sunday? Furthermore, I need to make a reservation for five individuals and obtain a reference number. Please assist me with these requests.```\n",
      "\n",
      "[B] ```Greetings! I have several restaurants matching your criteria in all price ranges. As for Charlie Chan, it is situated at Regent Street City Centre with a postcode of cb21db, and it falls within your desired price range. Would you prefer a cheap or moderate price range? Furthermore, I can provide you with information on public transportation, specifically train TR1840 leaving at 16:36 on Sunday. Would that be suitable? Additionally, I can make a reservation for five individuals and provide you with a reference number. Please let me know how I can assist you further.```\n",
      "\n",
      "[A] ```Thank you for your assistance. I would prefer a moderate price range for Charlie Chan, and I would like to make a reservation for five individuals. Please provide me with the reference number. Furthermore, I would like to inquire about the train schedule and any other information you may have regarding public transportation.```\n",
      "\n",
      "[B] ```Certainly! For Charlie Chan, I can offer you a moderate price range with prices starting from £20 per person. As for the train schedule, train TR1840 leaves at 16:36 on Sunday, and it will take approximately 2 hours and 15 minutes to reach your destination. Additionally, I can provide you with a reference number for your reservation. Please find below the details: Reference number is NJB87PAP. Is there anything else I can assist you with today?```\n",
      "\n",
      "[A] ```No, this is all I will need. Thank you for your help and assistance.```\n",
      "\n",
      "[B] ```You're welcome! Thank you for choosing us today. I hope you have a great trip.```\n",
      "\n",
      "===\n",
      "\n"
     ]
    }
   ],
   "source": [
    "sequences = llm(\n",
    "    prompt,\n",
    "    do_sample=True,\n",
    "    top_k=50,\n",
    "    top_p=0.95,\n",
    "    num_return_sequences=1,\n",
    "    eos_token_id=tokenizer.eos_token_id,\n",
    "    max_new_tokens=1024,\n",
    "    temperature=1\n",
    ")\n",
    "show_results(sequences, len(prompt), False)"
   ]
  },
  {
   "cell_type": "code",
   "execution_count": 22,
   "metadata": {},
   "outputs": [
    {
     "name": "stdout",
     "output_type": "stream",
     "text": [
      "<s>[INST] <<SYS>>\n",
      "You work as a function for dialogue text transformation with specific input text and desired output text. Do not give any comments or explanation, only resulting desired output text.\n",
      "\n",
      "Specific input is a dialogue prodived by a user. Each turn of the dialogue begins with [A] or [B] denoting the speaker, followed by the utterance in triple quotes.\n",
      "\n",
      "You need to construct new dialogue by paraphrasing original dialogue to persuasive style. This type of text is characterized by the use of rhetorical devices and persuasive techniques, often used in sales and marketing materials, persuasive essays, and opinion pieces.. New dialogue must preserve meaningfulness and general context of original dialogue.\n",
      "\n",
      "Desired output is a resulting dialogue following the input format of the original dialogue.\n",
      "<</SYS>>\n",
      "\n",
      "Specific input:\n",
      "\"\"\"\n",
      "[A] ```I'm looking for a local place to dine in the centre that serves chinese food.```\n",
      "[B] ```I have restaurants matching your criteria in all price ranges. Do you have a preference on price?```\n",
      "[A] ```I need the address, postcode and the price range.```\n",
      "[B] ```Ok how about Charlie Chan, located at Regent Street City Centre. Postcode is cb21db with a cheap price. Can I help you further today?```\n",
      "[A] ```I also need a train. The train should leave after 16:15 and should leave on sunday.```\n",
      "[B] ```Can I have more information for the train you're needing? Where are you departing from and arriving to?```\n",
      "[A] ```I am leaving from Cambridge and going to Norwich.```\n",
      "[B] ```I have train TR1840 leaving at 16:36 is that okay?```\n",
      "[A] ```book for 5 people and get me the reference number```\n",
      "[B] ```You're all set. Reference number is NJB87PAP . Is there anything else I can help you with today?```\n",
      "[A] ```No, this is all I will need. Thank you.```\n",
      "[B] ```Thank for calling us today. I hope you have a good trip.```\n",
      "\"\"\"\n",
      "[/INST]\n"
     ]
    }
   ],
   "source": [
    "prompt = paraphrase_prompt(dialogues[0], speakers[0], style='persuasive', as_json=False)\n",
    "print(prompt)"
   ]
  },
  {
   "cell_type": "code",
   "execution_count": 23,
   "metadata": {},
   "outputs": [
    {
     "name": "stdout",
     "output_type": "stream",
     "text": [
      "  Sure! Here's the resulting dialogue with a persuasive style:\n",
      "\n",
      "[A] ```I'm looking for an exceptional dining experience in the heart of the city that serves mouth-watering Chinese cuisine. Can you help me find the perfect spot?```\n",
      "\n",
      "[B] ```Absolutely! Our collection of restaurants boasts a wide range of price points, so you're sure to find a place that fits your budget. What's your preference?```\n",
      "\n",
      "[A] ```I'm looking for a place that offers top-notch service, delicious food, and a convenient location. Oh, and I'd love to find a spot that offers a Sunday train departure after 16:15. Any recommendations?```\n",
      "\n",
      "[B] ```Well, well, well! Look no further than Charlie Chan, nestled in the bustling Regent Street of our city centre. Not only do they offer mouth-watering Chinese dishes, but their prices are simply unbeatable! And, with a postcode of cb21db, you'll be right in the heart of the action. Would you like me to book your table for 5 people?```\n",
      "\n",
      "[A] ```Yes, please! And can you also provide me with the reference number? I want to make sure everything is set before I head out.```\n",
      "\n",
      "[B] ```Of course! Your reference number is NJB87PAP, and we've booked you on train TR1840, departing at 16:36. You're all set for a fantastic dining experience and a comfortable trip. Anything else I can assist you with today?```\n",
      "\n",
      "[A] ```No, this is all I need. Thank you so much for your help! I'm looking forward to a wonderful meal and a stress-free journey.```\n",
      "\n",
      "[B] ```The pleasure is all mine! Enjoy your meal and your trip, and don't hesitate to contact us if you need anything else. Thank you for choosing us today!```\n",
      "\n",
      "===\n",
      "\n"
     ]
    }
   ],
   "source": [
    "sequences = llm(\n",
    "    prompt,\n",
    "    do_sample=True,\n",
    "    top_k=50,\n",
    "    top_p=0.95,\n",
    "    num_return_sequences=1,\n",
    "    eos_token_id=tokenizer.eos_token_id,\n",
    "    max_new_tokens=1024,\n",
    "    temperature=1\n",
    ")\n",
    "show_results(sequences, len(prompt), False)"
   ]
  },
  {
   "cell_type": "code",
   "execution_count": 24,
   "metadata": {},
   "outputs": [
    {
     "name": "stdout",
     "output_type": "stream",
     "text": [
      "<s>[INST] <<SYS>>\n",
      "You work as a function for dialogue text transformation with specific input text and desired output text. Do not give any comments or explanation, only resulting desired output text.\n",
      "\n",
      "Specific input is a dialogue prodived by a user. Each turn of the dialogue begins with [A] or [B] denoting the speaker, followed by the utterance in triple quotes.\n",
      "\n",
      "You need to construct new dialogue by paraphrasing original dialogue to creative style. This type of text is characterized by imaginative and expressive language, often used in poetry, fiction, and creative nonfiction. New dialogue must preserve meaningfulness and general context of original dialogue.\n",
      "\n",
      "Desired output is a resulting dialogue following the input format of the original dialogue.\n",
      "<</SYS>>\n",
      "\n",
      "Specific input:\n",
      "\"\"\"\n",
      "[A] ```I'm looking for a local place to dine in the centre that serves chinese food.```\n",
      "[B] ```I have restaurants matching your criteria in all price ranges. Do you have a preference on price?```\n",
      "[A] ```I need the address, postcode and the price range.```\n",
      "[B] ```Ok how about Charlie Chan, located at Regent Street City Centre. Postcode is cb21db with a cheap price. Can I help you further today?```\n",
      "[A] ```I also need a train. The train should leave after 16:15 and should leave on sunday.```\n",
      "[B] ```Can I have more information for the train you're needing? Where are you departing from and arriving to?```\n",
      "[A] ```I am leaving from Cambridge and going to Norwich.```\n",
      "[B] ```I have train TR1840 leaving at 16:36 is that okay?```\n",
      "[A] ```book for 5 people and get me the reference number```\n",
      "[B] ```You're all set. Reference number is NJB87PAP . Is there anything else I can help you with today?```\n",
      "[A] ```No, this is all I will need. Thank you.```\n",
      "[B] ```Thank for calling us today. I hope you have a good trip.```\n",
      "\"\"\"\n",
      "[/INST]\n"
     ]
    }
   ],
   "source": [
    "prompt = paraphrase_prompt(dialogues[0], speakers[0], style='creative', as_json=False)\n",
    "print(prompt)"
   ]
  },
  {
   "cell_type": "code",
   "execution_count": 25,
   "metadata": {},
   "outputs": [
    {
     "name": "stdout",
     "output_type": "stream",
     "text": [
      "  Sure! Here's the desired output text based on the given input text:\n",
      "\n",
      "\"\"\"\n",
      "[A] ```I'm on the hunt for a scrumptious Chinese feast in the heart of the city. Any recommendations?```\n",
      "[B] ```Ah, you've come to the right place! I have a list of delectable eateries that fit your bill. Care to share your budget?```\n",
      "[A] ```I'm open to a range of prices, but let's keep it wallet-friendly, shall we?```\n",
      "[B] ```Absolutely! I've got just the place for you - Charlie Chan's on Regent Street. Their mouth-watering dishes will tickle your taste buds without breaking the bank. How about we start with their special of the day?```\n",
      "[A] ```That sounds divine! Can I get the address and postcode too?```\n",
      "[B] ```Of course! Charlie Chan's is located at 123 Regent Street, Cambridge, CB21DB. And if you're looking for a train, I've got just the one for you. TR1840 departs at 16:36 on Sunday. Would you like me to book your tickets?```\n",
      "[A] ```That would be fantastic, thank you! Oh, and can you also get me the reference number?“\n",
      "\n",
      "[B] ```Reference number? Ah, you must be one of our special VIP customers! 😉 NJB87PAP is your reference number, my dear. Enjoy your trip to Norwich!“\n",
      "\n",
      "[A] ```Thank you so much! Have a great day!```\n",
      "\n",
      "[B] ```Likewise, and safe travels to you!“\n",
      "\n",
      "===\n",
      "\n"
     ]
    }
   ],
   "source": [
    "sequences = llm(\n",
    "    prompt,\n",
    "    do_sample=True,\n",
    "    top_k=50,\n",
    "    top_p=0.95,\n",
    "    num_return_sequences=1,\n",
    "    eos_token_id=tokenizer.eos_token_id,\n",
    "    max_new_tokens=1024,\n",
    "    temperature=1\n",
    ")\n",
    "show_results(sequences, len(prompt), False)"
   ]
  },
  {
   "cell_type": "code",
   "execution_count": 27,
   "metadata": {},
   "outputs": [
    {
     "name": "stdout",
     "output_type": "stream",
     "text": [
      "<s>[INST] <<SYS>>\n",
      "You work as a function for dialogue text transformation with specific input text and desired output text. Do not give any comments or explanation, only resulting desired output text.\n",
      "\n",
      "Specific input is a dialogue prodived by a user. Each turn of the dialogue begins with [A] or [B] denoting the speaker, followed by the utterance in triple quotes.\n",
      "\n",
      "You need to construct new dialogue by paraphrasing original dialogue to poetic style. This type of text is characterized by imaginative language and creative expression, often used in poetry, song lyrics, and spoken word performances.. New dialogue must preserve meaningfulness and general context of original dialogue.\n",
      "\n",
      "Desired output is a resulting dialogue following the input format of the original dialogue.\n",
      "<</SYS>>\n",
      "\n",
      "Specific input:\n",
      "\"\"\"\n",
      "[A] ```I'm looking for a local place to dine in the centre that serves chinese food.```\n",
      "[B] ```I have restaurants matching your criteria in all price ranges. Do you have a preference on price?```\n",
      "[A] ```I need the address, postcode and the price range.```\n",
      "[B] ```Ok how about Charlie Chan, located at Regent Street City Centre. Postcode is cb21db with a cheap price. Can I help you further today?```\n",
      "[A] ```I also need a train. The train should leave after 16:15 and should leave on sunday.```\n",
      "[B] ```Can I have more information for the train you're needing? Where are you departing from and arriving to?```\n",
      "[A] ```I am leaving from Cambridge and going to Norwich.```\n",
      "[B] ```I have train TR1840 leaving at 16:36 is that okay?```\n",
      "[A] ```book for 5 people and get me the reference number```\n",
      "[B] ```You're all set. Reference number is NJB87PAP . Is there anything else I can help you with today?```\n",
      "[A] ```No, this is all I will need. Thank you.```\n",
      "[B] ```Thank for calling us today. I hope you have a good trip.```\n",
      "\"\"\"\n",
      "[/INST]\n"
     ]
    }
   ],
   "source": [
    "prompt = paraphrase_prompt(dialogues[0], speakers[0], style='poetic', as_json=False)\n",
    "print(prompt)"
   ]
  },
  {
   "cell_type": "code",
   "execution_count": 28,
   "metadata": {},
   "outputs": [
    {
     "name": "stdout",
     "output_type": "stream",
     "text": [
      "  Sure! Here is the resulting dialogue in a poetic style:\n",
      "\n",
      "\"\"\"\n",
      "[A] \"\"\"Gathered in the heart of the city,\n",
      "Where exotic flavors dance with glee,\n",
      "Seeking a haven for hunger's delight,\n",
      "I search for a local culinary sight.\n",
      "\n",
      "[B] \"\"\"Greetings, my noble seeker of fine dine,\n",
      "I present to you a range of divine,\n",
      "Restaurants that fit your every need,\n",
      "From budget-friendly to extravagant deeds.\n",
      "\n",
      "[A] \"\"\"Pray tell, fair sir or madam,\n",
      "Of places that serve up delicious charms,\n",
      "Within my price range, I pray thee,\n",
      "Guide me to the path of gastronomic dreams.\n",
      "\n",
      "[B] \"\"\"Behold, fair traveler, I present to thee,\n",
      "A place of wonder, Charlie Chan, you see,\n",
      "Located in the city's heart,\n",
      "With prices that won't leave you in the dark.\n",
      "\n",
      "[A] \"\"\"And what of the train, my noble steed?\n",
      "Whence shall I depart, and when shall I proceed?\n",
      "\n",
      "[B] \"\"\"Fear not, my friend, I have the answer,\n",
      "TR1840, at 16:36, it's a ticket to border,\n",
      "Leaving from Cambridge, arriving in Norwich,\n",
      "Your journey's end, a poetic touch.\n",
      "\n",
      "[A] \"\"\"Reference number, NJB87PAP,\n",
      "A token of our transaction, a keepsake to cherish,\n",
      "All is in order, your trip now a reality,\n",
      "May your journey be filled with wonder and bliss.\n",
      "\n",
      "[B] \"\"\"Fare thee well, my friend,\n",
      "May the road rise up to meet thee,\n",
      "May the wind be at your back,\n",
      "And the sun shine bright upon thy face.\n",
      "\"\"\"\n",
      "\n",
      "===\n",
      "\n"
     ]
    }
   ],
   "source": [
    "sequences = llm(\n",
    "    prompt,\n",
    "    do_sample=True,\n",
    "    top_k=50,\n",
    "    top_p=0.95,\n",
    "    num_return_sequences=1,\n",
    "    eos_token_id=tokenizer.eos_token_id,\n",
    "    max_new_tokens=1024,\n",
    "    temperature=1\n",
    ")\n",
    "show_results(sequences, len(prompt), False)"
   ]
  },
  {
   "cell_type": "code",
   "execution_count": 29,
   "metadata": {},
   "outputs": [
    {
     "name": "stdout",
     "output_type": "stream",
     "text": [
      "<s>[INST] <<SYS>>\n",
      "You work as a function for dialogue text transformation with specific input text and desired output text. Do not give any comments or explanation, only resulting desired output text.\n",
      "\n",
      "Specific input is a dialogue prodived by a user. Each turn of the dialogue begins with [A] or [B] denoting the speaker, followed by the utterance in triple quotes.\n",
      "\n",
      "You need to construct new dialogue by paraphrasing original dialogue to playful style. This style of dialogue involves humor, wit, and lighthearted teasing. It's characterized by a relaxed and joyful atmosphere, and a willingness to have fun and enjoy each other's company.. New dialogue must preserve meaningfulness and general context of original dialogue.\n",
      "\n",
      "Desired output is a resulting dialogue following the input format of the original dialogue.\n",
      "<</SYS>>\n",
      "\n",
      "Specific input:\n",
      "\"\"\"\n",
      "[A] ```I'm looking for a local place to dine in the centre that serves chinese food.```\n",
      "[B] ```I have restaurants matching your criteria in all price ranges. Do you have a preference on price?```\n",
      "[A] ```I need the address, postcode and the price range.```\n",
      "[B] ```Ok how about Charlie Chan, located at Regent Street City Centre. Postcode is cb21db with a cheap price. Can I help you further today?```\n",
      "[A] ```I also need a train. The train should leave after 16:15 and should leave on sunday.```\n",
      "[B] ```Can I have more information for the train you're needing? Where are you departing from and arriving to?```\n",
      "[A] ```I am leaving from Cambridge and going to Norwich.```\n",
      "[B] ```I have train TR1840 leaving at 16:36 is that okay?```\n",
      "[A] ```book for 5 people and get me the reference number```\n",
      "[B] ```You're all set. Reference number is NJB87PAP . Is there anything else I can help you with today?```\n",
      "[A] ```No, this is all I will need. Thank you.```\n",
      "[B] ```Thank for calling us today. I hope you have a good trip.```\n",
      "\"\"\"\n",
      "[/INST]\n"
     ]
    }
   ],
   "source": [
    "prompt = paraphrase_prompt(dialogues[0], speakers[0], style='playful', as_json=False)\n",
    "print(prompt)"
   ]
  },
  {
   "cell_type": "code",
   "execution_count": 30,
   "metadata": {},
   "outputs": [
    {
     "name": "stdout",
     "output_type": "stream",
     "text": [
      "  Sure! Here's the resulting dialogue with a playful style:\n",
      "\n",
      "\"\"\"\n",
      "[A] ```Hey there! I'm on the hunt for some delicious Chinese grub in the city centre. Do you have any recommendations?```\n",
      "[B] ```Ooh, you've come to the right place! I've got restaurants galore, and they all serve up a mean stir-fry. How about we start with Charlie Chan's, hmm? It's on Regent Street, and their prices are as chipper as the staff. What's your budget looking like?```\n",
      "[A] ```Well, I'm not made of money, but I do have a few quid to spare. What's the cheapest option?```\n",
      "[B] ```Ah, you're speaking my language now! Charlie Chan's has got you covered for a steal. Their set menus are a bargain, and they'll fill you up without breaking the bank. Plus, they've got all the classics – think egg fu yung, crispy noodles, and those addictive wanton dumplings. Your taste buds will thank you!```\n",
      "[A] ```Woah, that all sounds so good! But before I get carried away, can you give me the deets on the train? I need something that leaves after 16:15 on Sunday.```\n",
      "[B] ```Ha! Train? You must mean the one that'll take you on a wild goose chase around the county? Just kidding, of course! TR1840 is your ticket, leaving at 16:36 sharp. And don't worry, I've got all the info you need right here. Reference number is NJB87PAP – you're good to go!```\n",
      "[A] ```Oh my gosh, thank you so much! You've really helped me out today. I'm so down for Charlie Chan's – see you there!```\n",
      "[B] ```Hey now, don't be such a stranger! Have a fantastic trip, and don't forget to leave room for dessert. We've got some delicious fortune cookies that'll make your day even brighter!```\n",
      "\n",
      "===\n",
      "\n"
     ]
    }
   ],
   "source": [
    "sequences = llm(\n",
    "    prompt,\n",
    "    do_sample=True,\n",
    "    top_k=50,\n",
    "    top_p=0.95,\n",
    "    num_return_sequences=1,\n",
    "    eos_token_id=tokenizer.eos_token_id,\n",
    "    max_new_tokens=1024,\n",
    "    temperature=1\n",
    ")\n",
    "show_results(sequences, len(prompt), False)"
   ]
  },
  {
   "cell_type": "markdown",
   "metadata": {},
   "source": [
    "For example, I have a text of dialogue between client and service worker. I want to ask LLM to augment this dialogue in a way that it will preserve the meaningfulness and general context of dialogue but will change the text significantly. LLMs suffer when they are asked to perform some high-level task, so they need specific task stated. Could you suggest me some tasks satisfying all criteria above? Provide prompt for LLM for each task you will come up with\n",
    "\n",
    "Task 1: Change the setting of the dialogue\n",
    "\n",
    "Prompt:\n",
    "You are a language model that needs to change the setting of the dialogue between a client and a service worker while preserving the meaningfulness and general context of the original dialogue. The new setting should be significantly different from the original setting. Rewrite the dialogue in the context of a futuristic space station.\n",
    "\n",
    "Original Dialogue:\n",
    "Client: Hi, I wanted to inquire about the availability of your products. Do you have any in stock?\n",
    "Service Worker: Yes, we have a wide range of products available. What specifically are you looking for?\n",
    "\n",
    "Modified Dialogue:\n",
    "Client: Greetings, I wanted to ask about the availability of your space-grade equipment. Do you have any in stock for space exploration purposes?\n",
    "Service Worker: Absolutely, our futuristic space station offers a vast selection of space-grade products. What particular equipment are you interested in?\n",
    "\n",
    "Task 2: Change the time period of the dialogue\n",
    "\n",
    "Prompt:\n",
    "You are a language model that needs to change the time period of the dialogue between a client and a service worker while preserving the meaningfulness and general context of the original dialogue. The new time period should be significantly different from the original time period. Rewrite the dialogue in the context of the Victorian era.\n",
    "\n",
    "Original Dialogue:\n",
    "Client: Excuse me, I would like to inquire about your dinner menu. What options do you have?\n",
    "Service Worker: Good evening, we have a variety of dishes available. Could you specify any preferences?\n",
    "\n",
    "Modified Dialogue:\n",
    "Client: Pardon me, I wish to inquire about your supper menu. What fare doth thou offer this fine eve?\n",
    "Service Worker: Good morrow, sir! We have a plethora of dishes at your service. Pray tell, what dost thou fancy?\n",
    "\n",
    "Task 3: Change the occupation of the service worker\n",
    "\n",
    "Prompt:\n",
    "You are a language model that needs to change the occupation of the service worker in the dialogue while preserving the meaningfulness and general context of the original conversation. The new occupation should be significantly different from the original occupation. Rewrite the dialogue with the service worker as a travel agent.\n",
    "\n",
    "Original Dialogue:\n",
    "Client: Hi, I need some information about vacation packages. Can you help me with that?\n",
    "Service Worker: Certainly! We have a wide range of vacation packages available. Where are you interested in traveling?\n",
    "\n",
    "Modified Dialogue:\n",
    "Client: Greetings, I require some information regarding travel packages. Could you provide assistance in this matter?\n",
    "Service Worker (travel agent): Absolutely! We have an extensive collection of travel packages for various destinations. Where do you wish to embark on your journey?\n",
    "\n",
    "These tasks provide specific objectives for the language model, allowing it to modify the dialogue while keeping the general context intact."
   ]
  },
  {
   "cell_type": "markdown",
   "metadata": {},
   "source": [
    "Task 1: Add humor to the dialogue without changing the context\n",
    "Prompt: You are a comedy writer and you need to add humor to the following dialogue between a client and a service worker. Make the conversation light-hearted and entertaining while keeping the original context intact. Your goal is to make the readers laugh and enjoy the interaction.\n",
    "\n",
    "Original Dialogue:\n",
    "Client: Hi, I'm having trouble with my internet connection. It keeps disconnecting randomly, and it's driving me crazy.\n",
    "Service Worker: I understand how frustrating that can be. Let me check your account and see if I can identify any issues.\n",
    "\n",
    "Augmented Dialogue:\n",
    "Client: Hey there, I'm in a love-hate relationship with my internet. It's like a bad breakup that keeps happening again and again, leaving me in tears.\n",
    "Service Worker: Oh, I hear you! The internet can be quite the heartbreaker sometimes. Let me put on my detective hat and see if we can fix this rocky relationship.\n",
    "\n",
    "Task 2: Introduce suspense and mystery to the dialogue while maintaining the context\n",
    "Prompt: You are a mystery writer tasked with transforming the following dialogue between a client and a service worker into an engaging suspenseful exchange. The goal is to maintain the original context while keeping the readers on the edge of their seats.\n",
    "\n",
    "Original Dialogue:\n",
    "Client: I think my package got lost during shipping. Can you look into it and help me track it down?\n",
    "Service Worker: Of course, I apologize for the inconvenience. I'll investigate the situation and try to locate your package.\n",
    "\n",
    "Augmented Dialogue:\n",
    "Client: My package mysteriously vanished into thin air during its perilous journey. I fear it's gone forever, lost in the Bermuda Triangle of shipping mishaps.\n",
    "Service Worker: Fear not! I shall delve into the depths of this enigma, leaving no stone unturned until I unravel the truth behind the vanishing package.\n",
    "\n",
    "Task 3: Provide a historical twist to the dialogue while maintaining the context\n",
    "Prompt: You are a historical fiction writer and need to add a historical element to the following dialogue between a client and a service worker. Change the tone of the conversation to match a specific historical period of your choice, making sure the original meaning remains intact.\n",
    "\n",
    "Original Dialogue:\n",
    "Client: My phone's battery doesn't last long at all. I have to charge it constantly throughout the day.\n",
    "Service Worker: I understand your frustration. Let me check the battery health and see what can be done.\n",
    "\n",
    "Augmented Dialogue:\n",
    "Client: Good sir, my humble telephonic device often lacks fortitude in its energy reserves. 'Tis a grievous matter, for it doth necessitate frequent tending to its vitality during the daylight hours.\n",
    "Service Worker: Verily, I comprehend your vexation. Let me inspect the essence of its energy casket and perhaps uncover a panacea to alleviate this wearisome ordeal."
   ]
  },
  {
   "cell_type": "code",
   "execution_count": null,
   "metadata": {},
   "outputs": [],
   "source": []
  },
  {
   "cell_type": "code",
   "execution_count": null,
   "metadata": {},
   "outputs": [],
   "source": []
  },
  {
   "cell_type": "markdown",
   "metadata": {},
   "source": [
    "## Utterance Shuffle"
   ]
  },
  {
   "cell_type": "code",
   "execution_count": 24,
   "metadata": {},
   "outputs": [],
   "source": [
    "import numpy as np\n",
    "from transformers import AutoTokenizer\n",
    "import seaborn as sns\n",
    "import matplotlib.pyplot as plt\n",
    "\n",
    "\n",
    "tokenizer = AutoTokenizer.from_pretrained('microsoft/mpnet-base', max_length=10000)\n",
    "def print_statistics(dataset, name):\n",
    "    # calculate statistics\n",
    "    n_dialogues = len(dataset)\n",
    "    n_turns = np.array([len(dia) for dia in dataset])\n",
    "    total_turns = np.sum(n_turns)\n",
    "    mean_turns = total_turns / n_dialogues\n",
    "    min_turns = np.min(n_turns)\n",
    "    max_turns = np.max(n_turns)\n",
    "    var_turns = np.var(n_turns)\n",
    "    n_tokens = []\n",
    "    for dia in dataset:\n",
    "        for turn in dia:\n",
    "            n_tokens.append(len(tokenizer(turn['user utterance'])['input_ids']))\n",
    "            n_tokens.append(len(tokenizer(turn['system response'])['input_ids']))\n",
    "    n_tokens = np.array(n_tokens)\n",
    "    n_tokens = n_tokens[n_tokens != 0]\n",
    "    total_tokens = np.sum(n_tokens)\n",
    "    mean_tokens = np.mean(n_tokens)\n",
    "    min_tokens = np.min(n_tokens)\n",
    "    max_tokens = np.max(n_tokens)\n",
    "    var_tokens = np.var(n_tokens)\n",
    "    \n",
    "    # print\n",
    "    print(f'{n_dialogues=}')\n",
    "    print(f'{total_turns=}, {mean_turns=}, {min_turns=}, {max_turns=}, {var_turns=}')\n",
    "    print(f'{total_tokens=}, {mean_tokens=}, {min_tokens=}, {max_tokens=}, {var_tokens=}')\n",
    "\n",
    "    # visualize\n",
    "    fig, ax = plt.subplots(1, 2, figsize=(8,4))\n",
    "    sns.histplot(n_turns, ax=ax[0], bins=20)\n",
    "    sns.histplot(n_tokens, ax=ax[1], bins=30)\n",
    "    ax[0].set_title('Turns')\n",
    "    ax[1].set_title('Tokens')\n",
    "    ax[0].set_yscale('log')\n",
    "    ax[1].set_yscale('log')\n",
    "    fig.suptitle(name)\n",
    "    plt.show()\n",
    "\n",
    "    return n_turns, n_tokens"
   ]
  },
  {
   "cell_type": "code",
   "execution_count": 25,
   "metadata": {},
   "outputs": [
    {
     "name": "stderr",
     "output_type": "stream",
     "text": [
      "Reusing dataset dialogstudio (/home/ilya/.cache/huggingface/datasets/Salesforce___dialogstudio/MS-DC/1.0.1/1dc993c7bcf3cb3392bd580ffe241b1c3a9233c2c2829b84d047788f56b099f5)\n",
      "Token indices sequence length is longer than the specified maximum sequence length for this model (1169 > 512). Running this sequence through the model will result in indexing errors\n"
     ]
    },
    {
     "name": "stdout",
     "output_type": "stream",
     "text": [
      "n_dialogues=10000\n",
      "total_turns=35933, mean_turns=3.5933, min_turns=0, max_turns=11, var_turns=2.7464951100000006\n",
      "total_tokens=1285127, mean_tokens=17.882266996910918, min_tokens=2, max_tokens=1184, var_tokens=311.84110512705405\n"
     ]
    },
    {
     "data": {
      "image/png": "[encoded data removed]",
      "text/plain": [
       "<Figure size 800x400 with 2 Axes>"
      ]
     },
     "metadata": {},
     "output_type": "display_data"
    },
    {
     "name": "stderr",
     "output_type": "stream",
     "text": [
      "Reusing dataset dialogstudio (/home/ilya/.cache/huggingface/datasets/Salesforce___dialogstudio/MetaLWOZ/1.0.1/1dc993c7bcf3cb3392bd580ffe241b1c3a9233c2c2829b84d047788f56b099f5)\n"
     ]
    },
    {
     "name": "stdout",
     "output_type": "stream",
     "text": [
      "n_dialogues=37884\n",
      "total_turns=200167, mean_turns=5.283681765389082, min_turns=5, max_turns=23, var_turns=0.7098055133397616\n",
      "total_tokens=4401872, mean_tokens=10.995498758536622, min_tokens=2, max_tokens=571, var_tokens=43.51230194977914\n"
     ]
    },
    {
     "data": {
      "image/png": "[encoded data removed]",
      "text/plain": [
       "<Figure size 800x400 with 2 Axes>"
      ]
     },
     "metadata": {},
     "output_type": "display_data"
    },
    {
     "name": "stderr",
     "output_type": "stream",
     "text": [
      "Reusing dataset dialogstudio (/home/ilya/.cache/huggingface/datasets/Salesforce___dialogstudio/MULTIWOZ2_2/1.0.1/1dc993c7bcf3cb3392bd580ffe241b1c3a9233c2c2829b84d047788f56b099f5)\n"
     ]
    },
    {
     "name": "stdout",
     "output_type": "stream",
     "text": [
      "n_dialogues=8437\n",
      "total_turns=56776, mean_turns=6.729406187033305, min_turns=1, max_turns=22, var_turns=7.1752085249492765\n",
      "total_tokens=2145807, mean_tokens=18.897130829928138, min_tokens=3, max_tokens=132, var_tokens=74.6260513705121\n"
     ]
    },
    {
     "data": {
      "image/png": "[encoded data removed]",
      "text/plain": [
       "<Figure size 800x400 with 2 Axes>"
      ]
     },
     "metadata": {},
     "output_type": "display_data"
    },
    {
     "name": "stderr",
     "output_type": "stream",
     "text": [
      "Reusing dataset dialogstudio (/home/ilya/.cache/huggingface/datasets/Salesforce___dialogstudio/SGD/1.0.1/1dc993c7bcf3cb3392bd580ffe241b1c3a9233c2c2829b84d047788f56b099f5)\n"
     ]
    },
    {
     "name": "stdout",
     "output_type": "stream",
     "text": [
      "n_dialogues=16142\n",
      "total_turns=164982, mean_turns=10.22066658406641, min_turns=2, max_turns=25, var_turns=11.855779062542155\n",
      "total_tokens=4711620, mean_tokens=14.279194093901152, min_tokens=3, max_tokens=106, var_tokens=61.779028994961436\n"
     ]
    },
    {
     "data": {
      "image/png": "[encoded data removed]",
      "text/plain": [
       "<Figure size 800x400 with 2 Axes>"
      ]
     },
     "metadata": {},
     "output_type": "display_data"
    },
    {
     "name": "stderr",
     "output_type": "stream",
     "text": [
      "Reusing dataset dialogstudio (/home/ilya/.cache/huggingface/datasets/Salesforce___dialogstudio/SimJointGEN/1.0.1/1dc993c7bcf3cb3392bd580ffe241b1c3a9233c2c2829b84d047788f56b099f5)\n"
     ]
    },
    {
     "name": "stdout",
     "output_type": "stream",
     "text": [
      "n_dialogues=100000\n",
      "total_turns=792057, mean_turns=7.92057, min_turns=4, max_turns=16, var_turns=2.6878808751000003\n",
      "total_tokens=22469833, mean_tokens=14.184479778601792, min_tokens=2, max_tokens=81, var_tokens=152.68556504326125\n"
     ]
    },
    {
     "data": {
      "image/png": "[encoded data removed]",
      "text/plain": [
       "<Figure size 800x400 with 2 Axes>"
      ]
     },
     "metadata": {},
     "output_type": "display_data"
    },
    {
     "name": "stderr",
     "output_type": "stream",
     "text": [
      "Reusing dataset dialogstudio (/home/ilya/.cache/huggingface/datasets/Salesforce___dialogstudio/KETOD/1.0.1/1dc993c7bcf3cb3392bd580ffe241b1c3a9233c2c2829b84d047788f56b099f5)\n"
     ]
    },
    {
     "name": "stdout",
     "output_type": "stream",
     "text": [
      "n_dialogues=4247\n",
      "total_turns=41939, mean_turns=9.874970567459384, min_turns=2, max_turns=15, var_turns=7.197694695389907\n",
      "total_tokens=1300992, mean_tokens=15.510527194258328, min_tokens=3, max_tokens=137, var_tokens=99.3138630449876\n"
     ]
    },
    {
     "data": {
      "image/png": "[encoded data removed]",
      "text/plain": [
       "<Figure size 800x400 with 2 Axes>"
      ]
     },
     "metadata": {},
     "output_type": "display_data"
    },
    {
     "name": "stderr",
     "output_type": "stream",
     "text": [
      "Reusing dataset dialogstudio (/home/ilya/.cache/huggingface/datasets/Salesforce___dialogstudio/FRAMES/1.0.1/1dc993c7bcf3cb3392bd580ffe241b1c3a9233c2c2829b84d047788f56b099f5)\n"
     ]
    },
    {
     "name": "stdout",
     "output_type": "stream",
     "text": [
      "n_dialogues=1329\n",
      "total_turns=10094, mean_turns=7.595184349134688, min_turns=1, max_turns=24, var_turns=12.529878991598542\n",
      "total_tokens=352912, mean_tokens=17.48127600554785, min_tokens=2, max_tokens=152, var_tokens=197.17871618437175\n"
     ]
    },
    {
     "data": {
      "image/png": "[encoded data removed]",
      "text/plain": [
       "<Figure size 800x400 with 2 Axes>"
      ]
     },
     "metadata": {},
     "output_type": "display_data"
    },
    {
     "name": "stderr",
     "output_type": "stream",
     "text": [
      "Reusing dataset dialogstudio (/home/ilya/.cache/huggingface/datasets/Salesforce___dialogstudio/Disambiguation/1.0.1/1dc993c7bcf3cb3392bd580ffe241b1c3a9233c2c2829b84d047788f56b099f5)\n"
     ]
    },
    {
     "name": "stdout",
     "output_type": "stream",
     "text": [
      "n_dialogues=8433\n",
      "total_turns=56748, mean_turns=6.729277837068659, min_turns=1, max_turns=22, var_turns=7.174308229814746\n",
      "total_tokens=2225179, mean_tokens=19.605792274617606, min_tokens=3, max_tokens=132, var_tokens=84.86318242192382\n"
     ]
    },
    {
     "data": {
      "image/png": "[encoded data removed]",
      "text/plain": [
       "<Figure size 800x400 with 2 Axes>"
      ]
     },
     "metadata": {},
     "output_type": "display_data"
    },
    {
     "name": "stderr",
     "output_type": "stream",
     "text": [
      "Reusing dataset dialogstudio (/home/ilya/.cache/huggingface/datasets/Salesforce___dialogstudio/ABCD/1.0.1/1dc993c7bcf3cb3392bd580ffe241b1c3a9233c2c2829b84d047788f56b099f5)\n"
     ]
    },
    {
     "name": "stdout",
     "output_type": "stream",
     "text": [
      "n_dialogues=8034\n",
      "total_turns=62135, mean_turns=7.734005476723923, min_turns=1, max_turns=23, var_turns=6.1262845038286065\n",
      "total_tokens=1783999, mean_tokens=14.355830047477268, min_tokens=2, max_tokens=153, var_tokens=110.67411725380704\n"
     ]
    },
    {
     "data": {
      "image/png": "[encoded data removed]",
      "text/plain": [
       "<Figure size 800x400 with 2 Axes>"
      ]
     },
     "metadata": {},
     "output_type": "display_data"
    },
    {
     "name": "stderr",
     "output_type": "stream",
     "text": [
      "Reusing dataset dialogstudio (/home/ilya/.cache/huggingface/datasets/Salesforce___dialogstudio/AirDialogue/1.0.1/1dc993c7bcf3cb3392bd580ffe241b1c3a9233c2c2829b84d047788f56b099f5)\n"
     ]
    },
    {
     "name": "stdout",
     "output_type": "stream",
     "text": [
      "n_dialogues=321459\n",
      "total_turns=2042609, mean_turns=6.3541820263237305, min_turns=1, max_turns=17, var_turns=2.587488934492149\n",
      "total_tokens=49373290, mean_tokens=12.085839727524945, min_tokens=3, max_tokens=107, var_tokens=46.906074104096746\n"
     ]
    },
    {
     "data": {
      "image/png": "[encoded data removed]",
      "text/plain": [
       "<Figure size 800x400 with 2 Axes>"
      ]
     },
     "metadata": {},
     "output_type": "display_data"
    },
    {
     "name": "stderr",
     "output_type": "stream",
     "text": [
      "Reusing dataset dialogstudio (/home/ilya/.cache/huggingface/datasets/Salesforce___dialogstudio/BiTOD/1.0.1/1dc993c7bcf3cb3392bd580ffe241b1c3a9233c2c2829b84d047788f56b099f5)\n"
     ]
    },
    {
     "name": "stdout",
     "output_type": "stream",
     "text": [
      "n_dialogues=2952\n",
      "total_turns=28946, mean_turns=9.805555555555555, min_turns=2, max_turns=24, var_turns=15.07397997591087\n",
      "total_tokens=931047, mean_tokens=16.082481171837212, min_tokens=3, max_tokens=181, var_tokens=113.90708824024868\n"
     ]
    },
    {
     "data": {
      "image/png": "[encoded data removed]",
      "text/plain": [
       "<Figure size 800x400 with 2 Axes>"
      ]
     },
     "metadata": {},
     "output_type": "display_data"
    }
   ],
   "source": [
    "from datasets import load_dataset\n",
    "\n",
    "\n",
    "names = [\n",
    "    'MS-DC', \n",
    "    'MetaLWOZ',\n",
    "    'MULTIWOZ2_2',\n",
    "    'SGD',\n",
    "    'SimJointGEN',\n",
    "    'KETOD',\n",
    "    'FRAMES',\n",
    "    'Disambiguation',\n",
    "    'ABCD',\n",
    "    'AirDialogue',\n",
    "    'BiTOD'\n",
    "]\n",
    "\n",
    "datasets = []\n",
    "merged_n_turns = []\n",
    "merged_n_tokens = []\n",
    "for name in names:\n",
    "    cur_n_turns, cur_n_tokens = print_statistics(load_dataset('Salesforce/dialogstudio', name)['train']['log'], name)\n",
    "    merged_n_turns.extend(cur_n_turns)\n",
    "    merged_n_tokens.extend(cur_n_tokens)"
   ]
  },
  {
   "cell_type": "code",
   "execution_count": 27,
   "metadata": {},
   "outputs": [
    {
     "data": {
      "image/png": "[encoded data removed]",
      "text/plain": [
       "<Figure size 800x400 with 2 Axes>"
      ]
     },
     "metadata": {},
     "output_type": "display_data"
    }
   ],
   "source": [
    "n_turns = merged_n_turns\n",
    "total_turns = np.sum(n_turns)\n",
    "mean_turns = np.mean(n_turns)\n",
    "min_turns = np.min(n_turns)\n",
    "max_turns = np.max(n_turns)\n",
    "var_turns = np.var(n_turns)\n",
    "\n",
    "n_tokens = merged_n_tokens\n",
    "total_tokens = np.sum(n_tokens)\n",
    "mean_tokens = np.mean(n_tokens)\n",
    "min_tokens = np.min(n_tokens)\n",
    "max_tokens = np.max(n_tokens)\n",
    "var_tokens = np.var(n_tokens)\n",
    "\n",
    "fig, ax = plt.subplots(1, 2, figsize=(8,4))\n",
    "sns.histplot(merged_n_turns, ax=ax[0], bins=25)\n",
    "sns.histplot(merged_n_tokens, ax=ax[1], bins=30)\n",
    "ax[0].set_title('Turns')\n",
    "ax[1].set_title('Tokens')\n",
    "ax[0].set_yscale('log')\n",
    "ax[1].set_yscale('log')\n",
    "fig.suptitle('merged dataset')\n",
    "plt.show()"
   ]
  },
  {
   "cell_type": "code",
   "execution_count": 154,
   "metadata": {},
   "outputs": [],
   "source": [
    "upper_bounds = {\n",
    "    'MS-DC': 250,\n",
    "    'MetaLWOZ': 100,\n",
    "    'MULTIWOZ2_2': 75,\n",
    "    'Disambiguation': 60,\n",
    "}"
   ]
  },
  {
   "cell_type": "code",
   "execution_count": 146,
   "metadata": {},
   "outputs": [
    {
     "name": "stderr",
     "output_type": "stream",
     "text": [
      "Reusing dataset dialogstudio (/home/ilya/.cache/huggingface/datasets/Salesforce___dialogstudio/BiTOD/1.0.1/1dc993c7bcf3cb3392bd580ffe241b1c3a9233c2c2829b84d047788f56b099f5)\n"
     ]
    }
   ],
   "source": [
    "from collections import defaultdict\n",
    "import json\n",
    "\n",
    "\n",
    "too_long = defaultdict(list)\n",
    "for name, bound in upper_bounds.items():\n",
    "    dataset = load_dataset('Salesforce/dialogstudio', name)['train']['log']\n",
    "    for dia in dataset:\n",
    "        a = any(len(tokenizer(turn['user utterance'])['input_ids']) > bound for turn in dia)\n",
    "        b = any(len(tokenizer(turn['system response'])['input_ids']) > bound for turn in dia)\n",
    "        if a or b:    \n",
    "            too_long[name].append(dia)\n",
    "# json.dump(too_long, open('too_long.json', 'w'))"
   ]
  },
  {
   "cell_type": "code",
   "execution_count": 147,
   "metadata": {},
   "outputs": [
    {
     "name": "stdout",
     "output_type": "stream",
     "text": [
      "3\n"
     ]
    }
   ],
   "source": [
    "for val in too_long.values():\n",
    "    print(len(val))"
   ]
  },
  {
   "cell_type": "code",
   "execution_count": 164,
   "metadata": {},
   "outputs": [],
   "source": [
    "def show(name, i, dct):\n",
    "    dia = dct[name][i]\n",
    "    res = []\n",
    "    for turn in dia:\n",
    "        txt = f'[A] {turn[\"user utterance\"]}\\n[B] {turn[\"system response\"]}'\n",
    "        res.append(txt)\n",
    "    print('\\n'.join(res))"
   ]
  },
  {
   "cell_type": "markdown",
   "metadata": {},
   "source": [
    "Диалоги со слишком короткими репликами:\n",
    "- MS-DC, remove all (ошибка вывода)\n",
    "- MetaLWOZ: remove all (просьба написать рассказ, url ссылки)\n",
    "- MULTIWOZ2_2: remove all (вывод таблицы расписания поездов)\n",
    "- Disambiguation: remove all (вывод таблицы расписания поездов)"
   ]
  },
  {
   "cell_type": "code",
   "execution_count": 150,
   "metadata": {},
   "outputs": [
    {
     "name": "stdout",
     "output_type": "stream",
     "text": [
      "[A] Hi!  I am looking for restaurant with Vegan options.\n",
      "[B] Hi there!  Is there any particular location you need it to be in?\n",
      "[A] Yes.  It would be great if it is near the Central District.\n",
      "[B] How much of a consideration is price?  Do you have a preference in price range?\n",
      "[A] I am more concerned with it having at least a 6 rating.  The price does not matter.\n",
      "[B] Well, there are 109 available restaurants in that area.  I would personally recommend Serendib, which serves Asian food, and has a rating of 10.\n",
      "[A] Great!  What is the address and phone number of the restaurant?\n",
      "[B] Let's see...The address is Shop 2, G/F, Nam Wo Hong Building, 148 Wing Lok Street, Sheung Wan.  The phone number is +852 3705 2429.\n",
      "[A] Awesome!  Sounds great!  I would like to make a reservation at this restaurant for Tuesday at 6:40 pm.\n",
      "[B] And how many people should that reservation be for?\n",
      "[A] Let's make it for twenty people.  And the name on the reservation should be Carl.\n",
      "[B] Great!  Just to confirm:  You would like a reservation for twenty people at Serendib restaurant at 6:40 pm on Tuesday, and the name on the reservation will be Carl.\n",
      "[A] Yes.  Sounds perfect!\n",
      "[B] Okay.  Your reservation is confirmed, and your confirmation number is 5KHXQINB.\n",
      "[A] One more question.  Do you know if there are any interesting places to visit near the restaurant?\n",
      "[B] Let's see.  Do you need a high rating on the place you might visit?\n",
      "[A] I would prefer a rating of at least eight.\n",
      "[B] Perfect!  There are 50 available places.  My recommendation would be AP Contemporary which has a rating of 10.\n",
      "[A] All right.  Is there an address and phone number I can get?\n",
      "[B] The address is No.28 Tai Ping Shan, Sheung Wan, and the phone number is +852 3105 2118.\n",
      "[A] Sounds good!  I have another question.  Is it possible for me to take the Hong Kong MTR to the attraction from Tin Wan?\n",
      "[B] Yes.  Take the mediumpurple line of the Tin Wan station.Then change at Wong Chuk Hang station from mediumpurple line to yellowgreen line.Then change at Admirality station from yellowgreen line to cyan line.Then change at Exhibition station from cyan line to purple line.Then change at Tamar station from purple line to orange line.Get off the train at Hong Kong station. in the utterance you input: Yes, you can.ake the mediumpurple line of the Tin Wan station.Then change at Wong Chuk Hang station from mediumpurple line to yellowgreen line.Then change at Admirality station from yellowgreen line to cyan line.Then change at Exhibition station from cyan line to purple line.Then change at Tamar station from purple line to orange line.Get off the train at Hong Kong station.\n",
      "[A] Okay.  How long will the total trip take, and what is the price?\n",
      "[B] The time is estimated to be only 36 mins. at a cost of around 13.96 HKD.\n",
      "[A] Thanks for your help.  That is all I need for today.  Byebye.\n",
      "[B] I'm glad I could help!  Have a great day! Bye.\n"
     ]
    }
   ],
   "source": [
    "name = 'BiTOD'\n",
    "i = 2\n",
    "show(name, i, too_long)"
   ]
  },
  {
   "cell_type": "markdown",
   "metadata": {},
   "source": [
    "Диалоги с одной репликой:"
   ]
  },
  {
   "cell_type": "code",
   "execution_count": 172,
   "metadata": {},
   "outputs": [
    {
     "name": "stderr",
     "output_type": "stream",
     "text": [
      "Reusing dataset dialogstudio (/home/ilya/.cache/huggingface/datasets/Salesforce___dialogstudio/MS-DC/1.0.1/1dc993c7bcf3cb3392bd580ffe241b1c3a9233c2c2829b84d047788f56b099f5)\n",
      "Reusing dataset dialogstudio (/home/ilya/.cache/huggingface/datasets/Salesforce___dialogstudio/MetaLWOZ/1.0.1/1dc993c7bcf3cb3392bd580ffe241b1c3a9233c2c2829b84d047788f56b099f5)\n",
      "Reusing dataset dialogstudio (/home/ilya/.cache/huggingface/datasets/Salesforce___dialogstudio/MULTIWOZ2_2/1.0.1/1dc993c7bcf3cb3392bd580ffe241b1c3a9233c2c2829b84d047788f56b099f5)\n",
      "Reusing dataset dialogstudio (/home/ilya/.cache/huggingface/datasets/Salesforce___dialogstudio/SGD/1.0.1/1dc993c7bcf3cb3392bd580ffe241b1c3a9233c2c2829b84d047788f56b099f5)\n",
      "Reusing dataset dialogstudio (/home/ilya/.cache/huggingface/datasets/Salesforce___dialogstudio/SimJointGEN/1.0.1/1dc993c7bcf3cb3392bd580ffe241b1c3a9233c2c2829b84d047788f56b099f5)\n",
      "Reusing dataset dialogstudio (/home/ilya/.cache/huggingface/datasets/Salesforce___dialogstudio/KETOD/1.0.1/1dc993c7bcf3cb3392bd580ffe241b1c3a9233c2c2829b84d047788f56b099f5)\n",
      "Reusing dataset dialogstudio (/home/ilya/.cache/huggingface/datasets/Salesforce___dialogstudio/FRAMES/1.0.1/1dc993c7bcf3cb3392bd580ffe241b1c3a9233c2c2829b84d047788f56b099f5)\n",
      "Reusing dataset dialogstudio (/home/ilya/.cache/huggingface/datasets/Salesforce___dialogstudio/Disambiguation/1.0.1/1dc993c7bcf3cb3392bd580ffe241b1c3a9233c2c2829b84d047788f56b099f5)\n",
      "Reusing dataset dialogstudio (/home/ilya/.cache/huggingface/datasets/Salesforce___dialogstudio/ABCD/1.0.1/1dc993c7bcf3cb3392bd580ffe241b1c3a9233c2c2829b84d047788f56b099f5)\n",
      "Reusing dataset dialogstudio (/home/ilya/.cache/huggingface/datasets/Salesforce___dialogstudio/AirDialogue/1.0.1/1dc993c7bcf3cb3392bd580ffe241b1c3a9233c2c2829b84d047788f56b099f5)\n",
      "Reusing dataset dialogstudio (/home/ilya/.cache/huggingface/datasets/Salesforce___dialogstudio/BiTOD/1.0.1/1dc993c7bcf3cb3392bd580ffe241b1c3a9233c2c2829b84d047788f56b099f5)\n"
     ]
    }
   ],
   "source": [
    "too_short = defaultdict(list)\n",
    "for name in names:\n",
    "    dataset = load_dataset('Salesforce/dialogstudio', name)['train']['log']\n",
    "    for dia in dataset:\n",
    "        if len(dia) == 0:\n",
    "            too_short[name].append(dia)\n",
    "        if len(dia) == 1:\n",
    "            if dia[0]['user utterance'] == '' or dia[0]['system response'] == '':\n",
    "                too_short[name].append(dia)"
   ]
  },
  {
   "cell_type": "code",
   "execution_count": 173,
   "metadata": {},
   "outputs": [
    {
     "name": "stdout",
     "output_type": "stream",
     "text": [
      "MS-DC 15\n",
      "FRAMES 2\n"
     ]
    }
   ],
   "source": [
    "for name, val in too_short.items():\n",
    "    print(name, len(val))"
   ]
  },
  {
   "cell_type": "code",
   "execution_count": 181,
   "metadata": {},
   "outputs": [
    {
     "name": "stdout",
     "output_type": "stream",
     "text": [
      "[A] Hi im looking to go to Fukuoka\n",
      "[B] \n"
     ]
    }
   ],
   "source": [
    "name = 'FRAMES'\n",
    "i = 0\n",
    "show(name, i, too_short)"
   ]
  },
  {
   "cell_type": "code",
   "execution_count": 182,
   "metadata": {},
   "outputs": [
    {
     "name": "stderr",
     "output_type": "stream",
     "text": [
      "Reusing dataset dialogstudio (/home/ilya/.cache/huggingface/datasets/Salesforce___dialogstudio/MS-DC/1.0.1/1dc993c7bcf3cb3392bd580ffe241b1c3a9233c2c2829b84d047788f56b099f5)\n"
     ]
    },
    {
     "data": {
      "application/vnd.jupyter.widget-view+json": {
       "model_id": "0ec0e9fcecd74ba781253004dda900c1",
       "version_major": 2,
       "version_minor": 0
      },
      "text/plain": [
       "MS-DC:   0%|          | 0/10000 [00:00<?, ?it/s]"
      ]
     },
     "metadata": {},
     "output_type": "display_data"
    },
    {
     "name": "stderr",
     "output_type": "stream",
     "text": [
      "Reusing dataset dialogstudio (/home/ilya/.cache/huggingface/datasets/Salesforce___dialogstudio/MetaLWOZ/1.0.1/1dc993c7bcf3cb3392bd580ffe241b1c3a9233c2c2829b84d047788f56b099f5)\n"
     ]
    },
    {
     "data": {
      "application/vnd.jupyter.widget-view+json": {
       "model_id": "8e62534c260042deab39655511916924",
       "version_major": 2,
       "version_minor": 0
      },
      "text/plain": [
       "MetaLWOZ:   0%|          | 0/37884 [00:00<?, ?it/s]"
      ]
     },
     "metadata": {},
     "output_type": "display_data"
    },
    {
     "name": "stderr",
     "output_type": "stream",
     "text": [
      "Reusing dataset dialogstudio (/home/ilya/.cache/huggingface/datasets/Salesforce___dialogstudio/MULTIWOZ2_2/1.0.1/1dc993c7bcf3cb3392bd580ffe241b1c3a9233c2c2829b84d047788f56b099f5)\n"
     ]
    },
    {
     "data": {
      "application/vnd.jupyter.widget-view+json": {
       "model_id": "c0031b1b2e6b43ccbe921f11d4a44208",
       "version_major": 2,
       "version_minor": 0
      },
      "text/plain": [
       "MULTIWOZ2_2:   0%|          | 0/8437 [00:00<?, ?it/s]"
      ]
     },
     "metadata": {},
     "output_type": "display_data"
    },
    {
     "name": "stderr",
     "output_type": "stream",
     "text": [
      "Reusing dataset dialogstudio (/home/ilya/.cache/huggingface/datasets/Salesforce___dialogstudio/SGD/1.0.1/1dc993c7bcf3cb3392bd580ffe241b1c3a9233c2c2829b84d047788f56b099f5)\n"
     ]
    },
    {
     "data": {
      "application/vnd.jupyter.widget-view+json": {
       "model_id": "5839c6b9ef6b487d936f476f187384c7",
       "version_major": 2,
       "version_minor": 0
      },
      "text/plain": [
       "SGD:   0%|          | 0/16142 [00:00<?, ?it/s]"
      ]
     },
     "metadata": {},
     "output_type": "display_data"
    },
    {
     "name": "stderr",
     "output_type": "stream",
     "text": [
      "Reusing dataset dialogstudio (/home/ilya/.cache/huggingface/datasets/Salesforce___dialogstudio/SimJointGEN/1.0.1/1dc993c7bcf3cb3392bd580ffe241b1c3a9233c2c2829b84d047788f56b099f5)\n"
     ]
    },
    {
     "data": {
      "application/vnd.jupyter.widget-view+json": {
       "model_id": "9e773451ea34418b93bd7ae2032cc6e8",
       "version_major": 2,
       "version_minor": 0
      },
      "text/plain": [
       "SimJointGEN:   0%|          | 0/100000 [00:00<?, ?it/s]"
      ]
     },
     "metadata": {},
     "output_type": "display_data"
    },
    {
     "name": "stderr",
     "output_type": "stream",
     "text": [
      "Reusing dataset dialogstudio (/home/ilya/.cache/huggingface/datasets/Salesforce___dialogstudio/KETOD/1.0.1/1dc993c7bcf3cb3392bd580ffe241b1c3a9233c2c2829b84d047788f56b099f5)\n"
     ]
    },
    {
     "data": {
      "application/vnd.jupyter.widget-view+json": {
       "model_id": "39c614d9b98348919e365cc731274fd1",
       "version_major": 2,
       "version_minor": 0
      },
      "text/plain": [
       "KETOD:   0%|          | 0/4247 [00:00<?, ?it/s]"
      ]
     },
     "metadata": {},
     "output_type": "display_data"
    },
    {
     "name": "stderr",
     "output_type": "stream",
     "text": [
      "Reusing dataset dialogstudio (/home/ilya/.cache/huggingface/datasets/Salesforce___dialogstudio/FRAMES/1.0.1/1dc993c7bcf3cb3392bd580ffe241b1c3a9233c2c2829b84d047788f56b099f5)\n"
     ]
    },
    {
     "data": {
      "application/vnd.jupyter.widget-view+json": {
       "model_id": "e8f7f31abe2547efb46b4c573fe55dac",
       "version_major": 2,
       "version_minor": 0
      },
      "text/plain": [
       "FRAMES:   0%|          | 0/1329 [00:00<?, ?it/s]"
      ]
     },
     "metadata": {},
     "output_type": "display_data"
    },
    {
     "name": "stderr",
     "output_type": "stream",
     "text": [
      "Reusing dataset dialogstudio (/home/ilya/.cache/huggingface/datasets/Salesforce___dialogstudio/Disambiguation/1.0.1/1dc993c7bcf3cb3392bd580ffe241b1c3a9233c2c2829b84d047788f56b099f5)\n"
     ]
    },
    {
     "data": {
      "application/vnd.jupyter.widget-view+json": {
       "model_id": "fe33453e025f46b4b7a77ccd52031458",
       "version_major": 2,
       "version_minor": 0
      },
      "text/plain": [
       "Disambiguation:   0%|          | 0/8433 [00:00<?, ?it/s]"
      ]
     },
     "metadata": {},
     "output_type": "display_data"
    },
    {
     "name": "stderr",
     "output_type": "stream",
     "text": [
      "Reusing dataset dialogstudio (/home/ilya/.cache/huggingface/datasets/Salesforce___dialogstudio/ABCD/1.0.1/1dc993c7bcf3cb3392bd580ffe241b1c3a9233c2c2829b84d047788f56b099f5)\n"
     ]
    },
    {
     "data": {
      "application/vnd.jupyter.widget-view+json": {
       "model_id": "b6e035cdd5c846a2bd8b254f6a04de82",
       "version_major": 2,
       "version_minor": 0
      },
      "text/plain": [
       "ABCD:   0%|          | 0/8034 [00:00<?, ?it/s]"
      ]
     },
     "metadata": {},
     "output_type": "display_data"
    },
    {
     "name": "stderr",
     "output_type": "stream",
     "text": [
      "Reusing dataset dialogstudio (/home/ilya/.cache/huggingface/datasets/Salesforce___dialogstudio/AirDialogue/1.0.1/1dc993c7bcf3cb3392bd580ffe241b1c3a9233c2c2829b84d047788f56b099f5)\n"
     ]
    },
    {
     "data": {
      "application/vnd.jupyter.widget-view+json": {
       "model_id": "0429e269542642309ba0073c25154cfd",
       "version_major": 2,
       "version_minor": 0
      },
      "text/plain": [
       "AirDialogue:   0%|          | 0/321459 [00:00<?, ?it/s]"
      ]
     },
     "metadata": {},
     "output_type": "display_data"
    },
    {
     "name": "stderr",
     "output_type": "stream",
     "text": [
      "Reusing dataset dialogstudio (/home/ilya/.cache/huggingface/datasets/Salesforce___dialogstudio/BiTOD/1.0.1/1dc993c7bcf3cb3392bd580ffe241b1c3a9233c2c2829b84d047788f56b099f5)\n"
     ]
    },
    {
     "data": {
      "application/vnd.jupyter.widget-view+json": {
       "model_id": "016d187cbfd84c4b807f9947742c4b7a",
       "version_major": 2,
       "version_minor": 0
      },
      "text/plain": [
       "BiTOD:   0%|          | 0/2952 [00:00<?, ?it/s]"
      ]
     },
     "metadata": {},
     "output_type": "display_data"
    }
   ],
   "source": [
    "from tqdm.notebook import tqdm_notebook as tqdm\n",
    "\n",
    "\n",
    "merged_dataset = []\n",
    "for name in names:\n",
    "    dataset = load_dataset('Salesforce/dialogstudio', name)['train']['log']\n",
    "    res = []\n",
    "    if name not in upper_bounds.keys():\n",
    "        for dia in tqdm(dataset, desc=name):\n",
    "            cur_dia = []\n",
    "            if len(dia) == 0 or len(dia) == 1 and (dia[0]['user utterance'] == '' or dia[0]['system response'] == ''):\n",
    "                continue\n",
    "            for turn in dia:\n",
    "                ut = turn['user utterance']\n",
    "                if ut != '':\n",
    "                    cur_dia.append({'utterance': ut, 'speaker': 0})\n",
    "                ut = turn['system response']\n",
    "                if ut != '':\n",
    "                    cur_dia.append({'utterance': ut, 'speaker': 1})\n",
    "            res.append(cur_dia)\n",
    "\n",
    "    else:\n",
    "        bound = upper_bounds[name]\n",
    "        for dia in tqdm(dataset, desc=name):\n",
    "            cur_dia = []\n",
    "            if len(dia) == 0 or len(dia) == 1 and (dia[0]['user utterance'] == '' or dia[0]['system response'] == ''):\n",
    "                continue\n",
    "            for turn in dia:\n",
    "                ut = turn['user utterance']\n",
    "                if ut != '' and len(tokenizer(ut)['input_ids']) <= bound:\n",
    "                    cur_dia.append({'utterance': ut, 'speaker': 0})\n",
    "                ut = turn['system response']\n",
    "                if ut != '' and len(tokenizer(ut)['input_ids']) <= bound:\n",
    "                    cur_dia.append({'utterance': ut, 'speaker': 1})\n",
    "            res.append(cur_dia)\n",
    "    merged_dataset.extend(res)            "
   ]
  },
  {
   "cell_type": "code",
   "execution_count": 183,
   "metadata": {},
   "outputs": [],
   "source": [
    "import json\n",
    "\n",
    "json.dump(merged_dataset, open('aug-data/merged-dataset.json', 'w'))"
   ]
  }
 ],
 "metadata": {
  "kernelspec": {
   "display_name": "Python 3",
   "language": "python",
   "name": "python3"
  },
  "language_info": {
   "codemirror_mode": {
    "name": "ipython",
    "version": 3
   },
   "file_extension": ".py",
   "mimetype": "text/x-python",
   "name": "python",
   "nbconvert_exporter": "python",
   "pygments_lexer": "ipython3",
   "version": "3.10.12"
  },
  "orig_nbformat": 4
 },
 "nbformat": 4,
 "nbformat_minor": 2
}
