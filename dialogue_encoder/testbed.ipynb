{
 "cells": [
  {
   "cell_type": "markdown",
   "metadata": {},
   "source": [
    "# Training Dialogue Encoder"
   ]
  },
  {
   "cell_type": "markdown",
   "metadata": {},
   "source": [
    "## Data Validation"
   ]
  },
  {
   "cell_type": "markdown",
   "metadata": {},
   "source": [
    "## MultiWOZ Service Classification"
   ]
  },
  {
   "cell_type": "code",
   "execution_count": 1,
   "metadata": {},
   "outputs": [
    {
     "name": "stderr",
     "output_type": "stream",
     "text": [
      "/home/alekseev_ilya/dialogue-augmentation/VENV/lib/python3.8/site-packages/tqdm/auto.py:21: TqdmWarning: IProgress not found. Please update jupyter and ipywidgets. See https://ipywidgets.readthedocs.io/en/stable/user_install.html\n",
      "  from .autonotebook import tqdm as notebook_tqdm\n"
     ]
    }
   ],
   "source": [
    "from train_utils import MultiWOZServiceClfDataset\n",
    "\n",
    "dataset = MultiWOZServiceClfDataset('/home/alekseev_ilya/dialogue-augmentation/dialogue_encoder/multiwoz_truncated/train')"
   ]
  },
  {
   "cell_type": "code",
   "execution_count": 2,
   "metadata": {},
   "outputs": [
    {
     "data": {
      "text/plain": [
       "([{'utterance': 'i need a place to dine in the center thats expensive',\n",
       "   'speaker': 0},\n",
       "  {'utterance': 'I have several options for you; do you prefer African, Asian, or British food?',\n",
       "   'speaker': 1},\n",
       "  {'utterance': 'Any sort of food would be fine, as long as it is a bit expensive. Could I get the phone number for your recommendation?',\n",
       "   'speaker': 0},\n",
       "  {'utterance': 'There is an Afrian place named Bedouin in the centre. How does that sound?',\n",
       "   'speaker': 1},\n",
       "  {'utterance': 'Sounds good, could I get that phone number? Also, could you recommend me an expensive hotel?',\n",
       "   'speaker': 0},\n",
       "  {'utterance': \"Bedouin's phone is 01223367660. As far as hotels go, I recommend the University Arms Hotel in the center of town.\",\n",
       "   'speaker': 1},\n",
       "  {'utterance': 'Yes. Can you book it for me?', 'speaker': 0},\n",
       "  {'utterance': 'Sure, when would you like that reservation?', 'speaker': 1},\n",
       "  {'utterance': 'i want to book it for 2 people and 2 nights starting from saturday.',\n",
       "   'speaker': 0},\n",
       "  {'utterance': 'Your booking was successful. Your reference number is FRGZWQL2 . May I help you further?',\n",
       "   'speaker': 1},\n",
       "  {'utterance': 'That is all I need to know. Thanks, good bye.', 'speaker': 0},\n",
       "  {'utterance': 'Thank you so much for Cambridge TownInfo centre. Have a great day!',\n",
       "   'speaker': 1}],\n",
       " tensor([0., 0., 0., 1., 1., 0., 0.]))"
      ]
     },
     "execution_count": 2,
     "metadata": {},
     "output_type": "execute_result"
    }
   ],
   "source": [
    "dataset[0]"
   ]
  },
  {
   "cell_type": "code",
   "execution_count": 8,
   "metadata": {},
   "outputs": [
    {
     "data": {
      "text/plain": [
       "{'dialogue_id': 'PMUL0698.json',\n",
       " 'services': ['restaurant', 'train'],\n",
       " 'turns': {'turn_id': ['0',\n",
       "   '1',\n",
       "   '2',\n",
       "   '3',\n",
       "   '4',\n",
       "   '5',\n",
       "   '6',\n",
       "   '7',\n",
       "   '8',\n",
       "   '9',\n",
       "   '10',\n",
       "   '11'],\n",
       "  'speaker': [0, 1, 0, 1, 0, 1, 0, 1, 0, 1, 0, 1],\n",
       "  'utterance': [\"I'm looking for a local place to dine in the centre that serves chinese food.\",\n",
       "   'I have restaurants matching your criteria in all price ranges. Do you have a preference on price?',\n",
       "   'I need the address, postcode and the price range.',\n",
       "   'Ok how about Charlie Chan, located at Regent Street City Centre. Postcode is cb21db with a cheap price. Can I help you further today?',\n",
       "   'I also need a train. The train should leave after 16:15 and should leave on sunday.',\n",
       "   \"Can I have more information for the train you're needing? Where are you departing from and arriving to?\",\n",
       "   'I am leaving from Cambridge and going to Norwich.',\n",
       "   'I have train TR1840 leaving at 16:36 is that okay?',\n",
       "   'book for 5 people and get me the reference number',\n",
       "   \"You're all set. Reference number is NJB87PAP . Is there anything else I can help you with today?\",\n",
       "   'No, this is all I will need. Thank you.',\n",
       "   'Thank for calling us today. I hope you have a good trip.'],\n",
       "  'frames': [{'service': ['restaurant'],\n",
       "    'state': [{'active_intent': 'find_restaurant',\n",
       "      'requested_slots': [],\n",
       "      'slots_values': {'slots_values_name': ['restaurant-area',\n",
       "        'restaurant-food'],\n",
       "       'slots_values_list': [['centre'], ['chinese']]}}],\n",
       "    'slots': [{'slot': ['restaurant-food'],\n",
       "      'value': ['chinese'],\n",
       "      'start': [64],\n",
       "      'exclusive_end': [71],\n",
       "      'copy_from': [''],\n",
       "      'copy_from_value': [[]]}]},\n",
       "   {'service': [], 'state': [], 'slots': []},\n",
       "   {'service': ['restaurant'],\n",
       "    'state': [{'active_intent': 'find_restaurant',\n",
       "      'requested_slots': ['restaurant-pricerange',\n",
       "       'restaurant-postcode',\n",
       "       'restaurant-address'],\n",
       "      'slots_values': {'slots_values_name': ['restaurant-area',\n",
       "        'restaurant-food'],\n",
       "       'slots_values_list': [['centre'], ['chinese']]}}],\n",
       "    'slots': [{'slot': [],\n",
       "      'value': [],\n",
       "      'start': [],\n",
       "      'exclusive_end': [],\n",
       "      'copy_from': [],\n",
       "      'copy_from_value': []}]},\n",
       "   {'service': [], 'state': [], 'slots': []},\n",
       "   {'service': ['train'],\n",
       "    'state': [{'active_intent': 'find_train',\n",
       "      'requested_slots': [],\n",
       "      'slots_values': {'slots_values_name': ['train-day', 'train-leaveat'],\n",
       "       'slots_values_list': [['sunday'], ['16:15']]}}],\n",
       "    'slots': [{'slot': ['train-leaveat'],\n",
       "      'value': ['16:15'],\n",
       "      'start': [50],\n",
       "      'exclusive_end': [55],\n",
       "      'copy_from': [''],\n",
       "      'copy_from_value': [[]]}]},\n",
       "   {'service': [], 'state': [], 'slots': []},\n",
       "   {'service': ['train'],\n",
       "    'state': [{'active_intent': 'find_train',\n",
       "      'requested_slots': [],\n",
       "      'slots_values': {'slots_values_name': ['train-day',\n",
       "        'train-departure',\n",
       "        'train-destination',\n",
       "        'train-leaveat'],\n",
       "       'slots_values_list': [['sunday'],\n",
       "        ['cambridge'],\n",
       "        ['norwich'],\n",
       "        ['16:15']]}}],\n",
       "    'slots': [{'slot': [],\n",
       "      'value': [],\n",
       "      'start': [],\n",
       "      'exclusive_end': [],\n",
       "      'copy_from': [],\n",
       "      'copy_from_value': []}]},\n",
       "   {'service': [], 'state': [], 'slots': []},\n",
       "   {'service': ['train'],\n",
       "    'state': [{'active_intent': 'book_train',\n",
       "      'requested_slots': ['train-ref'],\n",
       "      'slots_values': {'slots_values_name': ['train-bookpeople',\n",
       "        'train-day',\n",
       "        'train-departure',\n",
       "        'train-destination',\n",
       "        'train-leaveat'],\n",
       "       'slots_values_list': [['5'],\n",
       "        ['sunday'],\n",
       "        ['cambridge'],\n",
       "        ['norwich'],\n",
       "        ['16:15']]}}],\n",
       "    'slots': [{'slot': [],\n",
       "      'value': [],\n",
       "      'start': [],\n",
       "      'exclusive_end': [],\n",
       "      'copy_from': [],\n",
       "      'copy_from_value': []}]},\n",
       "   {'service': [], 'state': [], 'slots': []},\n",
       "   {'service': [], 'state': [], 'slots': []},\n",
       "   {'service': [], 'state': [], 'slots': []}],\n",
       "  'dialogue_acts': [{'dialog_act': {'act_type': ['Restaurant-Inform'],\n",
       "     'act_slots': [{'slot_name': ['area', 'food'],\n",
       "       'slot_value': ['centre', 'chinese']}]},\n",
       "    'span_info': {'act_type': ['Restaurant-Inform', 'Restaurant-Inform'],\n",
       "     'act_slot_name': ['area', 'food'],\n",
       "     'act_slot_value': ['centre', 'chinese'],\n",
       "     'span_start': [45, 64],\n",
       "     'span_end': [51, 71]}},\n",
       "   {'dialog_act': {'act_type': ['Restaurant-Inform', 'Restaurant-Request'],\n",
       "     'act_slots': [{'slot_name': ['pricerange'],\n",
       "       'slot_value': ['all price ranges']},\n",
       "      {'slot_name': ['pricerange'], 'slot_value': ['?']}]},\n",
       "    'span_info': {'act_type': ['Restaurant-Inform'],\n",
       "     'act_slot_name': ['pricerange'],\n",
       "     'act_slot_value': ['all price ranges'],\n",
       "     'span_start': [45],\n",
       "     'span_end': [61]}},\n",
       "   {'dialog_act': {'act_type': ['Restaurant-Request'],\n",
       "     'act_slots': [{'slot_name': ['address', 'postcode', 'pricerange'],\n",
       "       'slot_value': ['?', '?', '?']}]},\n",
       "    'span_info': {'act_type': [],\n",
       "     'act_slot_name': [],\n",
       "     'act_slot_value': [],\n",
       "     'span_start': [],\n",
       "     'span_end': []}},\n",
       "   {'dialog_act': {'act_type': ['Restaurant-Recommend', 'general-reqmore'],\n",
       "     'act_slots': [{'slot_name': ['address', 'name', 'postcode', 'pricerange'],\n",
       "       'slot_value': ['Regent Street City Centre',\n",
       "        'Charlie Chan',\n",
       "        'cb21db',\n",
       "        'cheap']},\n",
       "      {'slot_name': ['none'], 'slot_value': ['none']}]},\n",
       "    'span_info': {'act_type': ['Restaurant-Recommend',\n",
       "      'Restaurant-Recommend',\n",
       "      'Restaurant-Recommend',\n",
       "      'Restaurant-Recommend'],\n",
       "     'act_slot_name': ['name', 'address', 'postcode', 'pricerange'],\n",
       "     'act_slot_value': ['Charlie Chan',\n",
       "      'Regent Street City Centre',\n",
       "      'cb21db',\n",
       "      'cheap'],\n",
       "     'span_start': [13, 38, 77, 91],\n",
       "     'span_end': [25, 63, 83, 96]}},\n",
       "   {'dialog_act': {'act_type': ['Train-Inform'],\n",
       "     'act_slots': [{'slot_name': ['day', 'leaveat'],\n",
       "       'slot_value': ['sunday', '16:15']}]},\n",
       "    'span_info': {'act_type': ['Train-Inform', 'Train-Inform'],\n",
       "     'act_slot_name': ['leaveat', 'day'],\n",
       "     'act_slot_value': ['16:15', 'sunday'],\n",
       "     'span_start': [50, 76],\n",
       "     'span_end': [55, 82]}},\n",
       "   {'dialog_act': {'act_type': ['Train-Request'],\n",
       "     'act_slots': [{'slot_name': ['departure', 'destination'],\n",
       "       'slot_value': ['?', '?']}]},\n",
       "    'span_info': {'act_type': [],\n",
       "     'act_slot_name': [],\n",
       "     'act_slot_value': [],\n",
       "     'span_start': [],\n",
       "     'span_end': []}},\n",
       "   {'dialog_act': {'act_type': ['Train-Inform'],\n",
       "     'act_slots': [{'slot_name': ['departure', 'destination'],\n",
       "       'slot_value': ['cambridge', 'norwich']}]},\n",
       "    'span_info': {'act_type': ['Train-Inform', 'Train-Inform'],\n",
       "     'act_slot_name': ['departure', 'destination'],\n",
       "     'act_slot_value': ['cambridge', 'norwich'],\n",
       "     'span_start': [18, 41],\n",
       "     'span_end': [27, 48]}},\n",
       "   {'dialog_act': {'act_type': ['Train-Inform'],\n",
       "     'act_slots': [{'slot_name': ['leaveat', 'trainid'],\n",
       "       'slot_value': ['16:36', 'TR1840']}]},\n",
       "    'span_info': {'act_type': ['Train-Inform', 'Train-Inform'],\n",
       "     'act_slot_name': ['trainid', 'leaveat'],\n",
       "     'act_slot_value': ['TR1840', '16:36'],\n",
       "     'span_start': [13, 31],\n",
       "     'span_end': [19, 36]}},\n",
       "   {'dialog_act': {'act_type': ['Train-Inform', 'Train-Request'],\n",
       "     'act_slots': [{'slot_name': ['bookpeople'], 'slot_value': ['5']},\n",
       "      {'slot_name': ['ref'], 'slot_value': ['?']}]},\n",
       "    'span_info': {'act_type': ['Train-Inform'],\n",
       "     'act_slot_name': ['bookpeople'],\n",
       "     'act_slot_value': ['5'],\n",
       "     'span_start': [9],\n",
       "     'span_end': [10]}},\n",
       "   {'dialog_act': {'act_type': ['Train-OfferBooked', 'general-reqmore'],\n",
       "     'act_slots': [{'slot_name': ['ref'], 'slot_value': ['NJB87PAP']},\n",
       "      {'slot_name': ['none'], 'slot_value': ['none']}]},\n",
       "    'span_info': {'act_type': ['Train-OfferBooked'],\n",
       "     'act_slot_name': ['ref'],\n",
       "     'act_slot_value': ['NJB87PAP'],\n",
       "     'span_start': [36],\n",
       "     'span_end': [44]}},\n",
       "   {'dialog_act': {'act_type': ['general-thank'],\n",
       "     'act_slots': [{'slot_name': ['none'], 'slot_value': ['none']}]},\n",
       "    'span_info': {'act_type': [],\n",
       "     'act_slot_name': [],\n",
       "     'act_slot_value': [],\n",
       "     'span_start': [],\n",
       "     'span_end': []}},\n",
       "   {'dialog_act': {'act_type': ['general-bye', 'general-welcome'],\n",
       "     'act_slots': [{'slot_name': ['none'], 'slot_value': ['none']},\n",
       "      {'slot_name': ['none'], 'slot_value': ['none']}]},\n",
       "    'span_info': {'act_type': [],\n",
       "     'act_slot_name': [],\n",
       "     'act_slot_value': [],\n",
       "     'span_start': [],\n",
       "     'span_end': []}}]}}"
      ]
     },
     "execution_count": 8,
     "metadata": {},
     "output_type": "execute_result"
    }
   ],
   "source": [
    "from datasets import load_dataset\n",
    "\n",
    "dataset = load_dataset('multi_woz_v22')['validation']\n",
    "dataset[0]"
   ]
  },
  {
   "cell_type": "code",
   "execution_count": 6,
   "metadata": {},
   "outputs": [],
   "source": [
    "from train_utils import MultiWOZServiceClfDataset\n",
    "from torch.utils.data import DataLoader\n",
    "\n",
    "dataset = MultiWOZServiceClfDataset('validation')\n",
    "loader = DataLoader(\n",
    "    dataset,\n",
    "    batch_size=2,\n",
    "    num_workers=1,\n",
    "    collate_fn=lambda x: x\n",
    ")"
   ]
  },
  {
   "cell_type": "code",
   "execution_count": 7,
   "metadata": {},
   "outputs": [
    {
     "data": {
      "text/plain": [
       "[([{'utterance': \"I'm looking for a local place to dine in the centre that serves chinese food.\",\n",
       "    'speaker': 0},\n",
       "   {'utterance': 'I have restaurants matching your criteria in all price ranges. Do you have a preference on price?',\n",
       "    'speaker': 1},\n",
       "   {'utterance': 'I need the address, postcode and the price range.',\n",
       "    'speaker': 0},\n",
       "   {'utterance': 'Ok how about Charlie Chan, located at Regent Street City Centre. Postcode is cb21db with a cheap price. Can I help you further today?',\n",
       "    'speaker': 1},\n",
       "   {'utterance': 'I also need a train. The train should leave after 16:15 and should leave on sunday.',\n",
       "    'speaker': 0},\n",
       "   {'utterance': \"Can I have more information for the train you're needing? Where are you departing from and arriving to?\",\n",
       "    'speaker': 1},\n",
       "   {'utterance': 'I am leaving from Cambridge and going to Norwich.',\n",
       "    'speaker': 0},\n",
       "   {'utterance': 'I have train TR1840 leaving at 16:36 is that okay?',\n",
       "    'speaker': 1},\n",
       "   {'utterance': 'book for 5 people and get me the reference number',\n",
       "    'speaker': 0},\n",
       "   {'utterance': \"You're all set. Reference number is NJB87PAP . Is there anything else I can help you with today?\",\n",
       "    'speaker': 1},\n",
       "   {'utterance': 'No, this is all I will need. Thank you.', 'speaker': 0},\n",
       "   {'utterance': 'Thank for calling us today. I hope you have a good trip.',\n",
       "    'speaker': 1}],\n",
       "  tensor([0, 0, 0, 0, 1, 0, 1])),\n",
       " ([{'utterance': 'My husband and I are celebrating our anniversary and want to find a great place to stay in town.',\n",
       "    'speaker': 0},\n",
       "   {'utterance': 'Congratulations on your upcoming anniversary! Cambridge offers a variety of lodging options, what is your price range?',\n",
       "    'speaker': 1},\n",
       "   {'utterance': 'I would like a 4 star guesthouse that includes free parking.',\n",
       "    'speaker': 0},\n",
       "   {'utterance': 'I have several options for you, is there a particular area you are interested in during your stay?',\n",
       "    'speaker': 1},\n",
       "   {'utterance': 'yes should be in the west', 'speaker': 0},\n",
       "   {'utterance': 'I have one guesthouse that fits that criteria, Finches Bed and Breakfast. Would you like me to book for you?',\n",
       "    'speaker': 1},\n",
       "   {'utterance': \"Yes, please! We'll arrive on Monday and stay 2 nights. Just the two of us, of course!\",\n",
       "    'speaker': 0},\n",
       "   {'utterance': 'Ok, your hotel stay at Finches Bed and Breakfast is booked, Reference number FKRO2HOW . Will there be anything else?',\n",
       "    'speaker': 1},\n",
       "   {'utterance': 'I am wanting to know more about the Cambridge Museum of Technology.',\n",
       "    'speaker': 0},\n",
       "   {'utterance': \"Sure, it's located in the centre area of town. The phone number is 01223368650. The entrance fee is 5 pounds.\",\n",
       "    'speaker': 1},\n",
       "   {'utterance': 'What is the address, please.', 'speaker': 0},\n",
       "   {'utterance': 'The address is the old pumping station, cheddars lane. Did you want any more information about the museum?',\n",
       "    'speaker': 1},\n",
       "   {'utterance': 'Yes, I need the entrance fee. I will also need a taxi to pick me up by 24:30. I need the contact number and car type please.',\n",
       "    'speaker': 0},\n",
       "   {'utterance': 'The entrance fee is 5 pounds.', 'speaker': 1},\n",
       "   {'utterance': 'Can you book the taxi for me at 24:30 leaving from the museum please. I will need the contact number and the car type.',\n",
       "    'speaker': 0},\n",
       "   {'utterance': 'and what is your destination ?', 'speaker': 1},\n",
       "   {'utterance': 'I will leave the Cambridge Museum at 24:30, going to the the Finches Bed and Breakfast.',\n",
       "    'speaker': 0},\n",
       "   {'utterance': 'Your taxi has been booked. It will be a grey volvo and the contact number is 07239297218.',\n",
       "    'speaker': 1},\n",
       "   {'utterance': 'Thanks so much. That is all I need for today. Bye.',\n",
       "    'speaker': 0},\n",
       "   {'utterance': 'Have a nice stay!', 'speaker': 1}],\n",
       "  tensor([1, 0, 0, 1, 0, 1, 0]))]"
      ]
     },
     "execution_count": 7,
     "metadata": {},
     "output_type": "execute_result"
    }
   ],
   "source": [
    "next(iter(loader))"
   ]
  },
  {
   "cell_type": "code",
   "execution_count": 1,
   "metadata": {},
   "outputs": [],
   "source": [
    "import os\n",
    "\n",
    "os.environ['CUDA_VISIBLE_DEVICES'] = '2'"
   ]
  },
  {
   "cell_type": "code",
   "execution_count": 2,
   "metadata": {},
   "outputs": [],
   "source": [
    "hidden_size = 768\n",
    "n_classes = 7\n",
    "\n",
    "train_size = 8000\n",
    "val_size = 1000"
   ]
  },
  {
   "cell_type": "code",
   "execution_count": 3,
   "metadata": {},
   "outputs": [],
   "source": [
    "import torch\n",
    "from torch import nn\n",
    "import torch.nn.functional as F\n",
    "\n",
    "\n",
    "@torch.no_grad()\n",
    "def generate_dataset(train_size, val_size, hidden_size, n_classes):\n",
    "    embeddings = torch.empty(train_size+val_size, hidden_size)\n",
    "    embeddings.normal_()\n",
    "\n",
    "    linear_mapper = nn.Linear(hidden_size, n_classes)\n",
    "    logits = linear_mapper(embeddings)\n",
    "    targets = logits.ge(0).to(torch.float)\n",
    "\n",
    "    train_dataset = list(zip(embeddings[:train_size], targets[:train_size]))\n",
    "    val_dataset = list(zip(embeddings[train_size:], targets[train_size:]))\n",
    "\n",
    "    return train_dataset, val_dataset\n",
    "\n",
    "train_dataset, val_dataset = generate_dataset(train_size, val_size, hidden_size, n_classes)"
   ]
  },
  {
   "cell_type": "code",
   "execution_count": 4,
   "metadata": {},
   "outputs": [
    {
     "name": "stderr",
     "output_type": "stream",
     "text": [
      "/home/alekseev_ilya/dialogue-augmentation/VENV/lib/python3.8/site-packages/tqdm/auto.py:21: TqdmWarning: IProgress not found. Please update jupyter and ipywidgets. See https://ipywidgets.readthedocs.io/en/stable/user_install.html\n",
      "  from .autonotebook import tqdm as notebook_tqdm\n",
      "Using 16bit Automatic Mixed Precision (AMP)\n",
      "GPU available: True (cuda), used: True\n",
      "TPU available: False, using: 0 TPU cores\n",
      "IPU available: False, using: 0 IPUs\n",
      "HPU available: False, using: 0 HPUs\n",
      "/home/alekseev_ilya/dialogue-augmentation/VENV/lib/python3.8/site-packages/lightning/pytorch/trainer/configuration_validator.py:71: PossibleUserWarning: You defined a `validation_step` but have no `val_dataloader`. Skipping val loop.\n",
      "  rank_zero_warn(\n",
      "LOCAL_RANK: 0 - CUDA_VISIBLE_DEVICES: [2]\n",
      "\n",
      "  | Name | Type   | Params\n",
      "--------------------------------\n",
      "0 | clf  | Linear | 5.4 K \n",
      "--------------------------------\n",
      "5.4 K     Trainable params\n",
      "0         Non-trainable params\n",
      "5.4 K     Total params\n",
      "0.022     Total estimated model params size (MB)\n",
      "`Trainer.fit` stopped: `max_epochs=2` reached.\n",
      "LOCAL_RANK: 0 - CUDA_VISIBLE_DEVICES: [2]\n"
     ]
    },
    {
     "data": {
      "text/html": [
       "<pre style=\"white-space:pre;overflow-x:auto;line-height:normal;font-family:Menlo,'DejaVu Sans Mono',consolas,'Courier New',monospace\">┏━━━━━━━━━━━━━━━━━━━━━━━━━━━┳━━━━━━━━━━━━━━━━━━━━━━━━━━━┓\n",
       "┃<span style=\"font-weight: bold\">      Validate metric      </span>┃<span style=\"font-weight: bold\">       DataLoader 0        </span>┃\n",
       "┡━━━━━━━━━━━━━━━━━━━━━━━━━━━╇━━━━━━━━━━━━━━━━━━━━━━━━━━━┩\n",
       "│<span style=\"color: #008080; text-decoration-color: #008080\">          result           </span>│<span style=\"color: #800080; text-decoration-color: #800080\">    0.8644020557403564     </span>│\n",
       "└───────────────────────────┴───────────────────────────┘\n",
       "</pre>\n"
      ],
      "text/plain": [
       "┏━━━━━━━━━━━━━━━━━━━━━━━━━━━┳━━━━━━━━━━━━━━━━━━━━━━━━━━━┓\n",
       "┃\u001b[1m \u001b[0m\u001b[1m     Validate metric     \u001b[0m\u001b[1m \u001b[0m┃\u001b[1m \u001b[0m\u001b[1m      DataLoader 0       \u001b[0m\u001b[1m \u001b[0m┃\n",
       "┡━━━━━━━━━━━━━━━━━━━━━━━━━━━╇━━━━━━━━━━━━━━━━━━━━━━━━━━━┩\n",
       "│\u001b[36m \u001b[0m\u001b[36m         result          \u001b[0m\u001b[36m \u001b[0m│\u001b[35m \u001b[0m\u001b[35m   0.8644020557403564    \u001b[0m\u001b[35m \u001b[0m│\n",
       "└───────────────────────────┴───────────────────────────┘\n"
      ]
     },
     "metadata": {},
     "output_type": "display_data"
    }
   ],
   "source": [
    "from train_utils import get_multiwoz_service_clf_score\n",
    "\n",
    "score = get_multiwoz_service_clf_score(train_dataset, val_dataset)"
   ]
  },
  {
   "cell_type": "code",
   "execution_count": 6,
   "metadata": {},
   "outputs": [
    {
     "data": {
      "text/plain": [
       "[{'result': 0.6062570810317993}]"
      ]
     },
     "execution_count": 6,
     "metadata": {},
     "output_type": "execute_result"
    }
   ],
   "source": [
    "score"
   ]
  },
  {
   "cell_type": "markdown",
   "metadata": {},
   "source": [
    "## Model"
   ]
  },
  {
   "cell_type": "code",
   "execution_count": null,
   "metadata": {},
   "outputs": [],
   "source": [
    "import os\n",
    "import json\n",
    "\n",
    "\n",
    "n_chunks = 80\n",
    "chunks_original = sorted([filename for filename in os.listdir(path_original) if filename.endswith('.json')])[:n_chunks]\n",
    "chunks_positive = sorted([filename for filename in os.listdir(path_positive) if filename.endswith('.json')])[:n_chunks]"
   ]
  },
  {
   "cell_type": "code",
   "execution_count": null,
   "metadata": {},
   "outputs": [],
   "source": [
    "import os\n",
    "os.environ['TOKENIZERS_PARALLELISM'] = 'false'\n",
    "os.environ['CUDA_VISIBLE_DEVICES'] = '0'\n",
    "\n",
    "import torch\n",
    "torch.set_float32_matmul_precision('medium')    "
   ]
  },
  {
   "cell_type": "code",
   "execution_count": null,
   "metadata": {},
   "outputs": [],
   "source": [
    "from nup.models.dialogue import SimpleDialogueEncoder\n",
    "\n",
    "\n",
    "encoder_name = 'xlnet-base-cased'\n",
    "model = SimpleDialogueEncoder(encoder_name)"
   ]
  },
  {
   "cell_type": "code",
   "execution_count": null,
   "metadata": {},
   "outputs": [],
   "source": [
    "# from nup.models.dialogue import HSSAConfig, HSSADM\n",
    "# config = HSSAConfig(\n",
    "#     max_ut_embeddings=28,\n",
    "#     casual_utterance_attention=False,\n",
    "# )\n",
    "# dialogue_model = HSSADM(\n",
    "#     'microsoft/mpnet-base',\n",
    "#     config,\n",
    "#     pool_utterance_level=False,\n",
    "#     pool_dialogue_level=True\n",
    "# ).cuda()\n",
    "# dialogue_model.requires_grad_(False)"
   ]
  }
 ],
 "metadata": {
  "kernelspec": {
   "display_name": "VENV",
   "language": "python",
   "name": "python3"
  },
  "language_info": {
   "codemirror_mode": {
    "name": "ipython",
    "version": 3
   },
   "file_extension": ".py",
   "mimetype": "text/x-python",
   "name": "python",
   "nbconvert_exporter": "python",
   "pygments_lexer": "ipython3",
   "version": "3.8.10"
  }
 },
 "nbformat": 4,
 "nbformat_minor": 2
}
