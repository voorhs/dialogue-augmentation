{
 "cells": [
  {
   "cell_type": "markdown",
   "metadata": {},
   "source": [
    "# Training Dialogue Encoder"
   ]
  },
  {
   "cell_type": "markdown",
   "metadata": {},
   "source": [
    "## Data Validation"
   ]
  },
  {
   "cell_type": "markdown",
   "metadata": {},
   "source": [
    "## Model"
   ]
  },
  {
   "cell_type": "code",
   "execution_count": null,
   "metadata": {},
   "outputs": [],
   "source": [
    "import os\n",
    "import json\n",
    "\n",
    "\n",
    "n_chunks = 80\n",
    "chunks_original = sorted([filename for filename in os.listdir(path_original) if filename.endswith('.json')])[:n_chunks]\n",
    "chunks_positive = sorted([filename for filename in os.listdir(path_positive) if filename.endswith('.json')])[:n_chunks]"
   ]
  },
  {
   "cell_type": "code",
   "execution_count": null,
   "metadata": {},
   "outputs": [],
   "source": [
    "import os\n",
    "os.environ['TOKENIZERS_PARALLELISM'] = 'false'\n",
    "os.environ['CUDA_VISIBLE_DEVICES'] = '0'\n",
    "\n",
    "import torch\n",
    "torch.set_float32_matmul_precision('medium')    "
   ]
  },
  {
   "cell_type": "code",
   "execution_count": null,
   "metadata": {},
   "outputs": [],
   "source": [
    "from nup.models.dialogue import SimpleDialogueEncoder\n",
    "\n",
    "\n",
    "encoder_name = 'xlnet-base-cased'\n",
    "model = SimpleDialogueEncoder(encoder_name)"
   ]
  },
  {
   "cell_type": "code",
   "execution_count": null,
   "metadata": {},
   "outputs": [],
   "source": [
    "# from nup.models.dialogue import HSSAConfig, HSSADM\n",
    "# config = HSSAConfig(\n",
    "#     max_ut_embeddings=28,\n",
    "#     casual_utterance_attention=False,\n",
    "# )\n",
    "# dialogue_model = HSSADM(\n",
    "#     'microsoft/mpnet-base',\n",
    "#     config,\n",
    "#     pool_utterance_level=False,\n",
    "#     pool_dialogue_level=True\n",
    "# ).cuda()\n",
    "# dialogue_model.requires_grad_(False)"
   ]
  }
 ],
 "metadata": {
  "kernelspec": {
   "display_name": "VENV",
   "language": "python",
   "name": "python3"
  },
  "language_info": {
   "codemirror_mode": {
    "name": "ipython",
    "version": 3
   },
   "file_extension": ".py",
   "mimetype": "text/x-python",
   "name": "python",
   "nbconvert_exporter": "python",
   "pygments_lexer": "ipython3",
   "version": "3.8.10"
  }
 },
 "nbformat": 4,
 "nbformat_minor": 2
}
