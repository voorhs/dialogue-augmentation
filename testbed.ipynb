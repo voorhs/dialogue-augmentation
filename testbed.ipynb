{
 "cells": [
  {
   "cell_type": "markdown",
   "metadata": {},
   "source": [
    "## save my precious data"
   ]
  },
  {
   "cell_type": "code",
   "execution_count": 1,
   "metadata": {},
   "outputs": [
    {
     "name": "stderr",
     "output_type": "stream",
     "text": [
      "/home/alekseev/dialogue-augmentation/.venv/lib/python3.8/site-packages/tqdm/auto.py:21: TqdmWarning: IProgress not found. Please update jupyter and ipywidgets. See https://ipywidgets.readthedocs.io/en/stable/user_install.html\n",
      "  from .autonotebook import tqdm as notebook_tqdm\n"
     ]
    }
   ],
   "source": [
    "from datasets import DatasetDict, load_from_disk\n",
    "\n",
    "dataset = DatasetDict({\n",
    "    'trivial': load_from_disk('data/train/trivial'),\n",
    "    'advanced': load_from_disk('data/train/advanced'),\n",
    "    'crazy': load_from_disk('data/train/crazy')\n",
    "})"
   ]
  },
  {
   "cell_type": "code",
   "execution_count": 2,
   "metadata": {},
   "outputs": [
    {
     "name": "stderr",
     "output_type": "stream",
     "text": [
      "Creating parquet from Arrow format: 100%|██████████| 145/145 [00:02<00:00, 50.14ba/s]\n",
      "Creating parquet from Arrow format: 100%|██████████| 145/145 [00:02<00:00, 52.03ba/s]\n",
      "Creating parquet from Arrow format: 100%|██████████| 145/145 [00:02<00:00, 50.83ba/s]\n",
      "Uploading the dataset shards: 100%|██████████| 3/3 [01:16<00:00, 25.58s/it]\n",
      "Creating parquet from Arrow format: 100%|██████████| 109/109 [00:02<00:00, 42.92ba/s]\n",
      "Creating parquet from Arrow format: 100%|██████████| 109/109 [00:02<00:00, 43.12ba/s]\n",
      "Creating parquet from Arrow format: 100%|██████████| 109/109 [00:02<00:00, 43.06ba/s]\n",
      "Creating parquet from Arrow format: 100%|██████████| 109/109 [00:02<00:00, 43.43ba/s]\n",
      "Uploading the dataset shards: 100%|██████████| 4/4 [01:26<00:00, 21.55s/it]\n",
      "Creating parquet from Arrow format: 100%|██████████| 73/73 [00:02<00:00, 30.07ba/s]\n",
      "Creating parquet from Arrow format: 100%|██████████| 73/73 [00:02<00:00, 30.21ba/s]\n",
      "Creating parquet from Arrow format: 100%|██████████| 73/73 [00:02<00:00, 30.35ba/s]\n",
      "Creating parquet from Arrow format: 100%|██████████| 73/73 [00:02<00:00, 31.02ba/s]\n",
      "Creating parquet from Arrow format: 100%|██████████| 73/73 [00:02<00:00, 30.90ba/s]\n",
      "Creating parquet from Arrow format: 100%|██████████| 73/73 [00:02<00:00, 30.83ba/s]\n",
      "Uploading the dataset shards: 100%|██████████| 6/6 [01:58<00:00, 19.68s/it]\n",
      "README.md: 100%|██████████| 657/657 [00:00<00:00, 90.6kB/s]\n"
     ]
    },
    {
     "data": {
      "text/plain": [
       "CommitInfo(commit_url='https://huggingface.co/datasets/voorhs/augmented/commit/8ca9f8af7b776888a7b762ee58266ad92e58dedb', commit_message='Upload dataset', commit_description='', oid='8ca9f8af7b776888a7b762ee58266ad92e58dedb', pr_url=None, pr_revision=None, pr_num=None)"
      ]
     },
     "execution_count": 2,
     "metadata": {},
     "output_type": "execute_result"
    }
   ],
   "source": [
    "dataset.push_to_hub('voorhs/augmented')"
   ]
  },
  {
   "cell_type": "markdown",
   "metadata": {},
   "source": [
    "## testing multiwoz-1-domain"
   ]
  },
  {
   "cell_type": "code",
   "execution_count": 1,
   "metadata": {},
   "outputs": [
    {
     "data": {
      "text/plain": [
       "8437"
      ]
     },
     "execution_count": 1,
     "metadata": {},
     "output_type": "execute_result"
    }
   ],
   "source": [
    "from mylib.datasets import MultiWOZServiceClfDataset\n",
    "\n",
    "dataset = MultiWOZServiceClfDataset(path='data/multiwoz', split='train')\n",
    "len(dataset)"
   ]
  },
  {
   "cell_type": "code",
   "execution_count": 3,
   "metadata": {},
   "outputs": [
    {
     "data": {
      "text/plain": [
       "1000"
      ]
     },
     "execution_count": 3,
     "metadata": {},
     "output_type": "execute_result"
    }
   ],
   "source": [
    "dataset = MultiWOZServiceClfDataset(path='data/multiwoz', split='validation')\n",
    "len(dataset)"
   ]
  },
  {
   "cell_type": "code",
   "execution_count": 2,
   "metadata": {},
   "outputs": [
    {
     "data": {
      "text/plain": [
       "3250"
      ]
     },
     "execution_count": 2,
     "metadata": {},
     "output_type": "execute_result"
    }
   ],
   "source": [
    "dataset = MultiWOZServiceClfDataset(path='data/multiwoz-1-domain', split='train')\n",
    "len(dataset)"
   ]
  },
  {
   "cell_type": "code",
   "execution_count": 5,
   "metadata": {},
   "outputs": [
    {
     "data": {
      "text/plain": [
       "209"
      ]
     },
     "execution_count": 5,
     "metadata": {},
     "output_type": "execute_result"
    }
   ],
   "source": [
    "dataset = MultiWOZServiceClfDataset(path='data/multiwoz-1-domain', split='validation')\n",
    "len(dataset)"
   ]
  },
  {
   "cell_type": "markdown",
   "metadata": {},
   "source": [
    "## backbone list"
   ]
  },
  {
   "cell_type": "code",
   "execution_count": 1,
   "metadata": {},
   "outputs": [],
   "source": [
    "hf_models = [\n",
    "    'google-bert/bert-base-uncased',\n",
    "    'Shitao/RetroMAE',\n",
    "    'FacebookAI/roberta-base',\n",
    "    'WhereIsAI/UAE-Large-V1'\n",
    "]"
   ]
  },
  {
   "cell_type": "code",
   "execution_count": 3,
   "metadata": {},
   "outputs": [
    {
     "name": "stdout",
     "output_type": "stream",
     "text": [
      "google-bert/bert-base-uncased ['[UNK]', '[SEP]', '[PAD]', '[CLS]', '[MASK]']\n",
      "Shitao/RetroMAE ['[UNK]', '[SEP]', '[PAD]', '[CLS]', '[MASK]']\n",
      "FacebookAI/roberta-base ['<s>', '</s>', '<unk>', '<pad>', '<mask>']\n",
      "WhereIsAI/UAE-Large-V1 ['[UNK]', '[SEP]', '[PAD]', '[CLS]', '[MASK]']\n"
     ]
    }
   ],
   "source": [
    "from transformers import AutoTokenizer\n",
    "\n",
    "for m in hf_models:\n",
    "    tokenizer = AutoTokenizer.from_pretrained(m)\n",
    "    print(m, tokenizer.all_special_tokens)\n"
   ]
  },
  {
   "cell_type": "code",
   "execution_count": 4,
   "metadata": {},
   "outputs": [
    {
     "data": {
      "text/plain": [
       "'<s>'"
      ]
     },
     "execution_count": 4,
     "metadata": {},
     "output_type": "execute_result"
    }
   ],
   "source": [
    "t = AutoTokenizer.from_pretrained('FacebookAI/roberta-base')\n",
    "t.cls_token"
   ]
  },
  {
   "cell_type": "markdown",
   "metadata": {},
   "source": [
    "## prune demo"
   ]
  },
  {
   "cell_type": "code",
   "execution_count": 4,
   "metadata": {},
   "outputs": [],
   "source": [
    "import json\n",
    "\n",
    "dias = json.load(open('data/augmented/prune-test/00000.json', 'r'))"
   ]
  },
  {
   "cell_type": "code",
   "execution_count": 7,
   "metadata": {},
   "outputs": [
    {
     "data": {
      "text/plain": [
       "{'content': [{'speaker': 0, 'utterance': 'Hello.'},\n",
       "  {'speaker': 0,\n",
       "   'utterance': 'I am looking for a flight from JFK to MSP, can you help me in booking?'},\n",
       "  {'speaker': 0, 'utterance': 'Myself Katherine Jones.'},\n",
       "  {'speaker': 0,\n",
       "   'utterance': 'I would like to return my journey for the morning flight.'},\n",
       "  {'speaker': 0,\n",
       "   'utterance': \"That's ok, no problem. Thank you for the information.\"}],\n",
       " 'source_dataset_name': 'AirDialogue',\n",
       " 'idx_within_source': 268933,\n",
       " 'id': 443619}"
      ]
     },
     "execution_count": 7,
     "metadata": {},
     "output_type": "execute_result"
    }
   ],
   "source": [
    "dias[2]"
   ]
  },
  {
   "cell_type": "markdown",
   "metadata": {},
   "source": [
    "## domain datasets"
   ]
  },
  {
   "cell_type": "code",
   "execution_count": 4,
   "metadata": {},
   "outputs": [
    {
     "data": {
      "text/plain": [
       "DatasetDict({\n",
       "    train: Dataset({\n",
       "        features: ['content', 'source_dataset_name', 'idx_within_source', 'services'],\n",
       "        num_rows: 5403\n",
       "    })\n",
       "    validation: Dataset({\n",
       "        features: ['content', 'source_dataset_name', 'idx_within_source', 'services'],\n",
       "        num_rows: 836\n",
       "    })\n",
       "    test: Dataset({\n",
       "        features: ['content', 'source_dataset_name', 'idx_within_source', 'services'],\n",
       "        num_rows: 1806\n",
       "    })\n",
       "})"
      ]
     },
     "execution_count": 4,
     "metadata": {},
     "output_type": "execute_result"
    }
   ],
   "source": [
    "from datasets import load_from_disk\n",
    "\n",
    "dataset = load_from_disk('data/benchmarks/SGD')\n",
    "dataset"
   ]
  },
  {
   "cell_type": "code",
   "execution_count": 5,
   "metadata": {},
   "outputs": [],
   "source": [
    "# from mylib.datasets import DomainDataset\n",
    "\n",
    "# dataset = DomainDataset('data/benchmarks-one-domain-filtered/sgd', 'train')\n",
    "# len(dataset)"
   ]
  },
  {
   "cell_type": "code",
   "execution_count": 6,
   "metadata": {},
   "outputs": [
    {
     "data": {
      "text/plain": [
       "{'content': [{'speaker': 0,\n",
       "   'utterance': \"I'm starving! Can you help me find a restaurant that serves Breakfast in Fairfield?\"},\n",
       "  {'speaker': 1,\n",
       "   'utterance': \"There is 1 restaurant that meets your needs. Mimi's Cafe in Fairfield serves breakfast.\"},\n",
       "  {'speaker': 0, 'utterance': 'Is there a band playing there?'},\n",
       "  {'speaker': 1,\n",
       "   'utterance': \"No, unfortunately, they don't offer live music.\"},\n",
       "  {'speaker': 0, 'utterance': \"That's okay. It will work anyway.\"},\n",
       "  {'speaker': 1, 'utterance': 'Do you wish to make a reservation?'},\n",
       "  {'speaker': 0,\n",
       "   'utterance': \"Yes, I'll need to make a reservation for a table for 2.\"},\n",
       "  {'speaker': 1, 'utterance': 'What time will you be visiting?'},\n",
       "  {'speaker': 0,\n",
       "   'utterance': 'Please make it for half past 5 in the evening.'},\n",
       "  {'speaker': 1,\n",
       "   'utterance': \"You'd like a table for 2 today at Mimi's Cafe in Fairfield at 5:30 pm. Is this correct?\"},\n",
       "  {'speaker': 0,\n",
       "   'utterance': \"I'm sorry, I need to change that. I'd like it on the 9th and it will be for 3 people.\"},\n",
       "  {'speaker': 1,\n",
       "   'utterance': \"Let's review those changes. You'd like the reservation on March 9th for 3. Have I got it right?\"},\n",
       "  {'speaker': 0,\n",
       "   'utterance': \"I'm sorry. I need to make it on Monday next week at half past 12 in the afternoon.\"},\n",
       "  {'speaker': 1,\n",
       "   'utterance': \"You'd like your reservation for 3 next Monday at 12:30 pm. Is that correct?\"},\n",
       "  {'speaker': 0,\n",
       "   'utterance': \"Yes, I'm sorry for the confusion. Can you tell me their phone number please?\"},\n",
       "  {'speaker': 1,\n",
       "   'utterance': 'The phone number is 707-421-0835. Your reservation is confirmed.'},\n",
       "  {'speaker': 0, 'utterance': 'Great! Thank you so much for your help.'},\n",
       "  {'speaker': 1, 'utterance': \"You're welcome. Have a nice day!\"}],\n",
       " 'source_dataset_name': 'SGD/train',\n",
       " 'idx_within_source': 10,\n",
       " 'services': [0, 0, 0, 0, 0, 0, 0, 0, 0, 0, 0, 1, 0, 0, 0, 0]}"
      ]
     },
     "execution_count": 6,
     "metadata": {},
     "output_type": "execute_result"
    }
   ],
   "source": [
    "dataset['train'][10]"
   ]
  },
  {
   "cell_type": "code",
   "execution_count": 2,
   "metadata": {},
   "outputs": [
    {
     "data": {
      "text/plain": [
       "2978"
      ]
     },
     "execution_count": 2,
     "metadata": {},
     "output_type": "execute_result"
    }
   ],
   "source": [
    "from mylib.datasets import DomainDataset\n",
    "\n",
    "dataset = DomainDataset('data/benchmarks-bert/multiwoz', split='train')\n",
    "len(dataset)"
   ]
  },
  {
   "cell_type": "code",
   "execution_count": 4,
   "metadata": {},
   "outputs": [
    {
     "data": {
      "text/plain": [
       "2"
      ]
     },
     "execution_count": 4,
     "metadata": {},
     "output_type": "execute_result"
    }
   ],
   "source": [
    "len(dataset[0])"
   ]
  },
  {
   "cell_type": "markdown",
   "metadata": {},
   "source": [
    "## fixing problems :("
   ]
  },
  {
   "cell_type": "code",
   "execution_count": 1,
   "metadata": {},
   "outputs": [
    {
     "data": {
      "text/plain": [
       "Dataset({\n",
       "    features: ['content', 'source_dataset_name', 'idx_within_source', 'id'],\n",
       "    num_rows: 450750\n",
       "})"
      ]
     },
     "execution_count": 1,
     "metadata": {},
     "output_type": "execute_result"
    }
   ],
   "source": [
    "from datasets import load_from_disk\n",
    "\n",
    "dataset = load_from_disk('data/augmented/prune-collected')\n",
    "dataset"
   ]
  },
  {
   "cell_type": "code",
   "execution_count": 5,
   "metadata": {},
   "outputs": [
    {
     "data": {
      "text/plain": [
       "[None, -inf]"
      ]
     },
     "execution_count": 5,
     "metadata": {},
     "output_type": "execute_result"
    }
   ],
   "source": [
    "import json\n",
    "\n",
    "json.loads('[null, -Infinity]')"
   ]
  },
  {
   "cell_type": "markdown",
   "metadata": {},
   "source": [
    "## filtering by source"
   ]
  },
  {
   "cell_type": "code",
   "execution_count": 1,
   "metadata": {},
   "outputs": [
    {
     "name": "stderr",
     "output_type": "stream",
     "text": [
      "/home/alekseev/dialogue-augmentation/.venv/lib/python3.8/site-packages/tqdm/auto.py:21: TqdmWarning: IProgress not found. Please update jupyter and ipywidgets. See https://ipywidgets.readthedocs.io/en/stable/user_install.html\n",
      "  from .autonotebook import tqdm as notebook_tqdm\n"
     ]
    }
   ],
   "source": [
    "from datasets import load_from_disk\n",
    "\n",
    "path_in = 'data/train-unfair/trivial'\n",
    "in_dataset = load_from_disk(path_in)"
   ]
  },
  {
   "cell_type": "code",
   "execution_count": 2,
   "metadata": {},
   "outputs": [
    {
     "data": {
      "text/plain": [
       "{'source_dataset_name': 'AirDialogue',\n",
       " 'idx_within_source': 185688,\n",
       " 'id': 360925,\n",
       " 'pos': [{'augmentation': 'back-translate',\n",
       "   'content': [{'speaker': 0, 'utterance': 'Hey.'},\n",
       "    {'speaker': 1, 'utterance': 'Hey, what can I do for you?'},\n",
       "    {'speaker': 0,\n",
       "     'utterance': \"I'm very happy to visit Ellenville Faw Ice Pavees in New York.\"},\n",
       "    {'speaker': 1,\n",
       "     'utterance': 'Of course, can I know the dates of the trip?'},\n",
       "    {'speaker': 0, 'utterance': 'My trip to the 28th and 30th of April.'},\n",
       "    {'speaker': 1, 'utterance': 'Do you have any contact restrictions?'},\n",
       "    {'speaker': 0, 'utterance': \"I'm fine with maximum communications.\"},\n",
       "    {'speaker': 1, 'utterance': 'May I ask your name?'},\n",
       "    {'speaker': 0, 'utterance': 'My name is Gary Evans.'},\n",
       "    {'speaker': 1, 'utterance': 'Wait a minute, please.'},\n",
       "    {'speaker': 0, 'utterance': 'Please make sure I want to leave tonight.'},\n",
       "    {'speaker': 1,\n",
       "     'utterance': 'Sorry, no flights with the dates you choose.'},\n",
       "    {'speaker': 0, 'utterance': \"It's okay, thanks for the information.\"},\n",
       "    {'speaker': 1, 'utterance': 'Thank you for your help.'}]},\n",
       "  {'augmentation': 'insert',\n",
       "   'content': [{'speaker': 0, 'utterance': 'Hello Hello.'},\n",
       "    {'speaker': 1, 'utterance': 'Hello, How can I assist you?'},\n",
       "    {'speaker': 0,\n",
       "     'utterance': 'I am very much excited to visit Ellenville Fault ed Ice Caves in New York - EWR, can you please reserve a flight from Houston - IAH?'},\n",
       "    {'speaker': 1, 'utterance': 'Sure, May I know the travelling dates?'},\n",
       "    {'speaker': 0, 'utterance': 'PS My travel dates are Apr 28th and 30th.'},\n",
       "    {'speaker': 1, 'utterance': 'Do ing you have any connection limit?'},\n",
       "    {'speaker': 0,\n",
       "     'utterance': 'Yes I am fine with maximum one GB connection.'},\n",
       "    {'speaker': 1, 'utterance': 'May I know your name?'},\n",
       "    {'speaker': 0, 'utterance': 'My name is Gary Evans.'},\n",
       "    {'speaker': 1, 'utterance': 'Â Please wait a minute.'},\n",
       "    {'speaker': 0,\n",
       "     'utterance': 'Q Please make sure, I want to depart in the evening.'},\n",
       "    {'speaker': 1,\n",
       "     'utterance': 'Sorry, No flights found with your chosen dates.'},\n",
       "    {'speaker': 0, 'utterance': 'No problem, thank you for the information.'},\n",
       "    {'speaker': 1, 'utterance': 'Thank ing you for availing us.'}]},\n",
       "  {'augmentation': 'replace',\n",
       "   'content': [{'speaker': 0, 'utterance': 'Hello.'},\n",
       "    {'speaker': 1, 'utterance': 'Hello, How can I help you?'},\n",
       "    {'speaker': 0,\n",
       "     'utterance': 'I am very oooo ative to visit Ellenville Fault Ice Caves in New AR - EWR, can you please ate a flight from Houston - IAH?'},\n",
       "    {'speaker': 1, 'utterance': 'Sure, May I know the travelling dates?'},\n",
       "    {'speaker': 0, 'utterance': 'My travel days are Apr 28th and 30th.'},\n",
       "    {'speaker': 1, 'utterance': 'Do you have any connection limit?'},\n",
       "    {'speaker': 0, 'utterance': 'I am fine with maximum one connection.'},\n",
       "    {'speaker': 1, 'utterance': 'May I know your name?'},\n",
       "    {'speaker': 0, 'utterance': 'My Name is Gary Evans.'},\n",
       "    {'speaker': 1, 'utterance': 'Please wait a minute.'},\n",
       "    {'speaker': 0,\n",
       "     'utterance': 'Please make sure, I want to depart in the evening.'},\n",
       "    {'speaker': 1, 'utterance': 'Sorry, No ont ups with your chosen dates.'},\n",
       "    {'speaker': 0, 'utterance': 'No problem, thank you for the information.'},\n",
       "    {'speaker': 1, 'utterance': 'Thank you for availing us.'}]}],\n",
       " 'orig': {'augmentation': None,\n",
       "  'content': [{'speaker': 0, 'utterance': 'Hello.'},\n",
       "   {'speaker': 1, 'utterance': 'Hello, How can I assist you?'},\n",
       "   {'speaker': 0,\n",
       "    'utterance': 'I am very much excited to visit Ellenville Fault Ice Caves in New York - EWR, can you please reserve a flight from Houston - IAH?'},\n",
       "   {'speaker': 1, 'utterance': 'Sure, May I know the travelling dates?'},\n",
       "   {'speaker': 0, 'utterance': 'My travel dates are Apr 28th and 30th.'},\n",
       "   {'speaker': 1, 'utterance': 'Do you have any connection limit?'},\n",
       "   {'speaker': 0, 'utterance': 'I am fine with maximum one connection.'},\n",
       "   {'speaker': 1, 'utterance': 'May I know your name?'},\n",
       "   {'speaker': 0, 'utterance': 'My name is Gary Evans.'},\n",
       "   {'speaker': 1, 'utterance': 'Please wait a minute.'},\n",
       "   {'speaker': 0,\n",
       "    'utterance': 'Please make sure, I want to depart in the evening.'},\n",
       "   {'speaker': 1,\n",
       "    'utterance': 'Sorry, No flights found with your chosen dates.'},\n",
       "   {'speaker': 0, 'utterance': 'No problem, thank you for the information.'},\n",
       "   {'speaker': 1, 'utterance': 'Thank you for availing us.'}]}}"
      ]
     },
     "execution_count": 2,
     "metadata": {},
     "output_type": "execute_result"
    }
   ],
   "source": [
    "in_dataset[0]"
   ]
  },
  {
   "cell_type": "markdown",
   "metadata": {},
   "source": [
    "## torch max"
   ]
  },
  {
   "cell_type": "code",
   "execution_count": 1,
   "metadata": {},
   "outputs": [
    {
     "data": {
      "text/plain": [
       "tensor([3, 4])"
      ]
     },
     "execution_count": 1,
     "metadata": {},
     "output_type": "execute_result"
    }
   ],
   "source": [
    "import torch\n",
    "\n",
    "a = torch.tensor([[1,2],[3,4]])\n",
    "\n",
    "torch.max(a, dim=0)[0]"
   ]
  },
  {
   "cell_type": "markdown",
   "metadata": {},
   "source": [
    "## testing datasets"
   ]
  },
  {
   "cell_type": "code",
   "execution_count": 27,
   "metadata": {},
   "outputs": [
    {
     "data": {
      "text/plain": [
       "433340"
      ]
     },
     "execution_count": 27,
     "metadata": {},
     "output_type": "execute_result"
    }
   ],
   "source": [
    "from datasets import load_from_disk\n",
    "\n",
    "dataset = load_from_disk('data/train-retromae/trivial')\n",
    "len(dataset)"
   ]
  },
  {
   "cell_type": "code",
   "execution_count": 28,
   "metadata": {},
   "outputs": [
    {
     "data": {
      "text/plain": [
       "['AirDialogue',\n",
       " 'SimJointGEN',\n",
       " 'Disambiguation',\n",
       " 'ABCD',\n",
       " 'MetaLWOZ',\n",
       " 'Taskmaster1',\n",
       " 'MS-DC',\n",
       " 'KETOD',\n",
       " 'FRAMES']"
      ]
     },
     "execution_count": 28,
     "metadata": {},
     "output_type": "execute_result"
    }
   ],
   "source": [
    "dataset.unique('source_dataset_name')"
   ]
  },
  {
   "cell_type": "code",
   "execution_count": 3,
   "metadata": {},
   "outputs": [
    {
     "data": {
      "text/plain": [
       "([{'speaker': 0, 'utterance': 'Hello.'},\n",
       "  {'speaker': 1, 'utterance': 'Hello, how may I help you?'},\n",
       "  {'speaker': 0,\n",
       "   'utterance': 'Can you please help me in reserving a flight ticket to ATL from JFK?'},\n",
       "  {'speaker': 1, 'utterance': 'Sure, help me with the trip dates?'},\n",
       "  {'speaker': 0, 'utterance': 'My trip dates are from Aug 25 to Aug 27.'},\n",
       "  {'speaker': 1, 'utterance': 'Do you have any preferences?'},\n",
       "  {'speaker': 0,\n",
       "   'utterance': 'I need a business class ticket. I would like to travel in connecting flight.'},\n",
       "  {'speaker': 1, 'utterance': 'May I know your name please?'},\n",
       "  {'speaker': 0, 'utterance': 'I am George Turner.'},\n",
       "  {'speaker': 1,\n",
       "   'utterance': 'Sorry, we did not find any flights running in your desired routes.'},\n",
       "  {'speaker': 0, 'utterance': 'Ok, no problem. Thank you.'},\n",
       "  {'speaker': 1, 'utterance': 'Thank you for reaching us.'}],\n",
       " [{'speaker': 0, 'utterance': 'Hello.'},\n",
       "  {'speaker': 1, 'utterance': 'Hello, how may I help you?'},\n",
       "  {'speaker': 0,\n",
       "   'utterance': 'Can you please help me in reserving a flight ticket to ATL from JFK?'},\n",
       "  {'speaker': 1, 'utterance': 'Sure, help me with the trip dates?'},\n",
       "  {'speaker': 0, 'utterance': 'My trip dates are from Aug 25 to Aug 27.'},\n",
       "  {'speaker': 0,\n",
       "   'utterance': 'I need a business class ticket. I would like to travel in connecting flight.'},\n",
       "  {'speaker': 1, 'utterance': 'May I know your name please?'},\n",
       "  {'speaker': 0, 'utterance': 'I am George Turner.'},\n",
       "  {'speaker': 1,\n",
       "   'utterance': 'Sorry, we did not find any flights running in your desired routes.'},\n",
       "  {'speaker': 0, 'utterance': 'Ok, no problem. Thank you.'},\n",
       "  {'speaker': 1, 'utterance': 'Thank you for reaching us.'}])"
      ]
     },
     "execution_count": 3,
     "metadata": {},
     "output_type": "execute_result"
    }
   ],
   "source": [
    "dataset[0]"
   ]
  },
  {
   "cell_type": "code",
   "execution_count": 6,
   "metadata": {},
   "outputs": [],
   "source": [
    "from torch.utils.data import DataLoader\n",
    "\n",
    "def collate_fn(batch):\n",
    "    origs =  [o for o, p in batch]\n",
    "    pos =  [p for o, p in batch]\n",
    "    return origs, pos\n",
    "    \n",
    "loader = DataLoader(\n",
    "    dataset=dataset,\n",
    "    batch_size=3,\n",
    "    shuffle=False,\n",
    "    num_workers=0,\n",
    "    collate_fn=collate_fn,\n",
    "    drop_last=False\n",
    ")"
   ]
  },
  {
   "cell_type": "code",
   "execution_count": 9,
   "metadata": {},
   "outputs": [
    {
     "data": {
      "text/plain": [
       "(3, 3)"
      ]
     },
     "execution_count": 9,
     "metadata": {},
     "output_type": "execute_result"
    }
   ],
   "source": [
    "origs, pos = next(iter(loader))\n",
    "len(origs), len(pos)"
   ]
  },
  {
   "cell_type": "code",
   "execution_count": 10,
   "metadata": {},
   "outputs": [
    {
     "data": {
      "text/plain": [
       "[{'speaker': 0, 'utterance': 'Hello.'},\n",
       " {'speaker': 1, 'utterance': 'Hello, how may I help you?'},\n",
       " {'speaker': 0,\n",
       "  'utterance': 'Can you please help me in reserving a flight ticket to ATL from JFK?'},\n",
       " {'speaker': 1, 'utterance': 'Sure, help me with the trip dates?'},\n",
       " {'speaker': 0, 'utterance': 'My trip dates are from Aug 25 to Aug 27.'},\n",
       " {'speaker': 1, 'utterance': 'Do you have any preferences?'},\n",
       " {'speaker': 0,\n",
       "  'utterance': 'I need a business class ticket. I would like to travel in connecting flight.'},\n",
       " {'speaker': 1, 'utterance': 'May I know your name please?'},\n",
       " {'speaker': 0, 'utterance': 'I am George Turner.'},\n",
       " {'speaker': 1,\n",
       "  'utterance': 'Sorry, we did not find any flights running in your desired routes.'},\n",
       " {'speaker': 0, 'utterance': 'Ok, no problem. Thank you.'},\n",
       " {'speaker': 1, 'utterance': 'Thank you for reaching us.'}]"
      ]
     },
     "execution_count": 10,
     "metadata": {},
     "output_type": "execute_result"
    }
   ],
   "source": [
    "origs[0]"
   ]
  },
  {
   "cell_type": "code",
   "execution_count": 11,
   "metadata": {},
   "outputs": [
    {
     "data": {
      "text/plain": [
       "[{'speaker': 0, 'utterance': 'Q Hello.'},\n",
       " {'speaker': 1, 'utterance': 'Hello, how may haps I help you?'},\n",
       " {'speaker': 0,\n",
       "  'utterance': 'Can you please help me in reserving a flight ticket to ATL X from JFK?'},\n",
       " {'speaker': 1, 'utterance': 'Sure, help me with the trip dates?'},\n",
       " {'speaker': 0, 'utterance': 'My trip dates are from Aug 25 to Aug 27.'},\n",
       " {'speaker': 1, 'utterance': 'Do you have any preferences?'},\n",
       " {'speaker': 0,\n",
       "  'utterance': 'I need a business class ticket. I would like to travel in connecting flight.'},\n",
       " {'speaker': 1, 'utterance': 'May may I know your name please?'},\n",
       " {'speaker': 0, 'utterance': 'Hello I am George Turner.'},\n",
       " {'speaker': 1,\n",
       "  'utterance': 'Sorry, we did not find any flights running in your desired routes.'},\n",
       " {'speaker': 0, 'utterance': 'Q Ok, no problem. Â Thank you.'},\n",
       " {'speaker': 1, 'utterance': 'Â Thank you for reaching us.'}]"
      ]
     },
     "execution_count": 11,
     "metadata": {},
     "output_type": "execute_result"
    }
   ],
   "source": [
    "pos[0]"
   ]
  },
  {
   "cell_type": "markdown",
   "metadata": {},
   "source": [
    "## dataset statistics"
   ]
  },
  {
   "cell_type": "markdown",
   "metadata": {},
   "source": [
    "Описание одного датасета:\n",
    "- число семплов\n",
    "- сколько каких аугментаций\n",
    "- распределение числа токенов в диалоге\n",
    "- распределение числа утерансов в диалоге\n",
    "- сколько отфильтровано для bert, roberta, retromae"
   ]
  },
  {
   "cell_type": "code",
   "execution_count": 1,
   "metadata": {},
   "outputs": [
    {
     "name": "stderr",
     "output_type": "stream",
     "text": [
      "/home/alekseev/dialogue-augmentation/.venv/lib/python3.8/site-packages/tqdm/auto.py:21: TqdmWarning: IProgress not found. Please update jupyter and ipywidgets. See https://ipywidgets.readthedocs.io/en/stable/user_install.html\n",
      "  from .autonotebook import tqdm as notebook_tqdm\n"
     ]
    }
   ],
   "source": [
    "from datasets import load_from_disk\n",
    "import pandas as pd\n",
    "import seaborn as sns\n",
    "sns.set_style('whitegrid')\n",
    "import matplotlib.pyplot as plt\n",
    "\n",
    "\n",
    "def print_report(path, aug_names):\n",
    "    stats = load_from_disk(path)\n",
    "    \n",
    "    print('TOTAL SAMPLES:', len(stats))\n",
    "\n",
    "    df = stats.to_pandas()\n",
    "    \n",
    "    print('\\nSAMPLES OF EACH AUGMENTATION:')\n",
    "    \n",
    "    print(df[aug_names].sum())\n",
    "\n",
    "    n_toks_bert = [f'n-toks-bert-{name}' for name in aug_names]\n",
    "    n_toks_roberta = [f'n-toks-roberta-{name}' for name in aug_names]\n",
    "    n_toks_retromae = [f'n-toks-retromae-{name}' for name in aug_names]\n",
    "\n",
    "    print('\\nSAMPLES WITH EXCEEDING TOKENS:')\n",
    "    \n",
    "    print('\\nBERT:')\n",
    "    print((df[n_toks_bert] > 512).mean())\n",
    "    print('\\nRoBERTa:')\n",
    "    print((df[n_toks_roberta] > 512).mean())\n",
    "    print('\\nRetroMAE:')\n",
    "    print((df[n_toks_retromae] > 512).mean())\n",
    "\n",
    "    fig, ax = plt.subplots(1, 2, figsize=(8, 4))\n",
    "    df[n_toks_bert].plot(kind='hist', logy=True, alpha=0.5, ax=ax[0])\n",
    "    \n",
    "    n_uts_names = [f'n-uts-{name}' for name in aug_names]\n",
    "    sns.histplot(df[n_uts_names], bins=20, ax=ax[1])\n",
    "\n",
    "    plt.tight_layout()"
   ]
  },
  {
   "cell_type": "code",
   "execution_count": 2,
   "metadata": {},
   "outputs": [
    {
     "name": "stdout",
     "output_type": "stream",
     "text": [
      "TOTAL SAMPLES: 434094\n",
      "\n",
      "SAMPLES OF EACH AUGMENTATION:\n",
      "back-translate    434094\n",
      "insert            434094\n",
      "replace           434094\n",
      "dtype: int64\n",
      "\n",
      "SAMPLES WITH EXCEEDING TOKENS:\n",
      "\n",
      "BERT:\n",
      "n-toks-bert-back-translate    0.000521\n",
      "n-toks-bert-insert            0.001226\n",
      "n-toks-bert-replace           0.000069\n",
      "dtype: float64\n",
      "\n",
      "RoBERTa:\n",
      "n-toks-roberta-back-translate    0.000498\n",
      "n-toks-roberta-insert            0.000707\n",
      "n-toks-roberta-replace           0.000055\n",
      "dtype: float64\n",
      "\n",
      "RetroMAE:\n",
      "n-toks-retromae-back-translate    0.000521\n",
      "n-toks-retromae-insert            0.001226\n",
      "n-toks-retromae-replace           0.000069\n",
      "dtype: float64\n"
     ]
    },
    {
     "data": {
      "image/png": "[encoded data removed]",
      "text/plain": [
       "<Figure size 800x400 with 2 Axes>"
      ]
     },
     "metadata": {},
     "output_type": "display_data"
    }
   ],
   "source": [
    "print_report('data/reports/trivial', aug_names=['back-translate', 'insert', 'replace'])"
   ]
  },
  {
   "cell_type": "code",
   "execution_count": 4,
   "metadata": {},
   "outputs": [
    {
     "name": "stdout",
     "output_type": "stream",
     "text": [
      "TOTAL SAMPLES: 434094\n",
      "\n",
      "SAMPLES OF EACH AUGMENTATION:\n",
      "replace    434094\n",
      "prune      430995\n",
      "shuffle    275715\n",
      "dtype: int64\n",
      "\n",
      "SAMPLES WITH EXCEEDING TOKENS:\n",
      "\n",
      "BERT:\n",
      "n-toks-bert-replace    0.000069\n",
      "n-toks-bert-prune      0.000002\n",
      "n-toks-bert-shuffle    0.000051\n",
      "dtype: float64\n",
      "\n",
      "RoBERTa:\n",
      "n-toks-roberta-replace    0.000055\n",
      "n-toks-roberta-prune      0.000005\n",
      "n-toks-roberta-shuffle    0.000046\n",
      "dtype: float64\n",
      "\n",
      "RetroMAE:\n",
      "n-toks-retromae-replace    0.000069\n",
      "n-toks-retromae-prune      0.000002\n",
      "n-toks-retromae-shuffle    0.000051\n",
      "dtype: float64\n"
     ]
    },
    {
     "data": {
      "image/png": "[encoded data removed]",
      "text/plain": [
       "<Figure size 800x400 with 2 Axes>"
      ]
     },
     "metadata": {},
     "output_type": "display_data"
    }
   ],
   "source": [
    "print_report('data/reports/advanced', aug_names=['replace', 'prune', 'shuffle'])"
   ]
  },
  {
   "cell_type": "code",
   "execution_count": 5,
   "metadata": {},
   "outputs": [
    {
     "name": "stdout",
     "output_type": "stream",
     "text": [
      "TOTAL SAMPLES: 434094\n",
      "\n",
      "SAMPLES OF EACH AUGMENTATION:\n",
      "replace                 434094\n",
      "back-translate-prune    430771\n",
      "prune-insert            430995\n",
      "prune-replace           430995\n",
      "dtype: int64\n",
      "\n",
      "SAMPLES WITH EXCEEDING TOKENS:\n",
      "\n",
      "BERT:\n",
      "n-toks-bert-replace                 0.000069\n",
      "n-toks-bert-back-translate-prune    0.000009\n",
      "n-toks-bert-prune-insert            0.000435\n",
      "n-toks-bert-prune-replace           0.000002\n",
      "dtype: float64\n",
      "\n",
      "RoBERTa:\n",
      "n-toks-roberta-replace                 0.000055\n",
      "n-toks-roberta-back-translate-prune    0.000009\n",
      "n-toks-roberta-prune-insert            0.000071\n",
      "n-toks-roberta-prune-replace           0.000005\n",
      "dtype: float64\n",
      "\n",
      "RetroMAE:\n",
      "n-toks-retromae-replace                 0.000069\n",
      "n-toks-retromae-back-translate-prune    0.000009\n",
      "n-toks-retromae-prune-insert            0.000435\n",
      "n-toks-retromae-prune-replace           0.000002\n",
      "dtype: float64\n"
     ]
    },
    {
     "data": {
      "image/png": "[encoded data removed]",
      "text/plain": [
       "<Figure size 800x400 with 2 Axes>"
      ]
     },
     "metadata": {},
     "output_type": "display_data"
    }
   ],
   "source": [
    "print_report('data/reports/crazy', aug_names=['replace', 'back-translate-prune', 'prune-insert', 'prune-replace'])"
   ]
  },
  {
   "cell_type": "code",
   "execution_count": 6,
   "metadata": {},
   "outputs": [
    {
     "name": "stdout",
     "output_type": "stream",
     "text": [
      "TOTAL SAMPLES: 434094\n",
      "\n",
      "SAMPLES OF EACH AUGMENTATION:\n",
      "replace            434094\n",
      "shuffle-insert     275715\n",
      "shuffle-replace    275715\n",
      "dtype: int64\n",
      "\n",
      "SAMPLES WITH EXCEEDING TOKENS:\n",
      "\n",
      "BERT:\n",
      "n-toks-bert-replace            0.000069\n",
      "n-toks-bert-shuffle-insert     0.004326\n",
      "n-toks-bert-shuffle-replace    0.000065\n",
      "dtype: float64\n",
      "\n",
      "RoBERTa:\n",
      "n-toks-roberta-replace            0.000055\n",
      "n-toks-roberta-shuffle-insert     0.004144\n",
      "n-toks-roberta-shuffle-replace    0.000051\n",
      "dtype: float64\n",
      "\n",
      "RetroMAE:\n",
      "n-toks-retromae-replace            0.000069\n",
      "n-toks-retromae-shuffle-insert     0.004326\n",
      "n-toks-retromae-shuffle-replace    0.000065\n",
      "dtype: float64\n"
     ]
    },
    {
     "data": {
      "image/png": "[encoded data removed]",
      "text/plain": [
       "<Figure size 800x400 with 2 Axes>"
      ]
     },
     "metadata": {},
     "output_type": "display_data"
    }
   ],
   "source": [
    "print_report('data/reports/crazy', aug_names=['replace', 'shuffle-insert', 'shuffle-replace'])"
   ]
  },
  {
   "cell_type": "markdown",
   "metadata": {},
   "source": [
    "## bench"
   ]
  },
  {
   "cell_type": "code",
   "execution_count": 1,
   "metadata": {},
   "outputs": [
    {
     "name": "stderr",
     "output_type": "stream",
     "text": [
      "/home/alekseev/dialogue-augmentation/.venv/lib/python3.8/site-packages/tqdm/auto.py:21: TqdmWarning: IProgress not found. Please update jupyter and ipywidgets. See https://ipywidgets.readthedocs.io/en/stable/user_install.html\n",
      "  from .autonotebook import tqdm as notebook_tqdm\n"
     ]
    },
    {
     "ename": "ModuleNotFoundError",
     "evalue": "No module named 'src'",
     "output_type": "error",
     "traceback": [
      "\u001b[0;31m---------------------------------------------------------------------------\u001b[0m",
      "\u001b[0;31mModuleNotFoundError\u001b[0m                       Traceback (most recent call last)",
      "Cell \u001b[0;32mIn[1], line 1\u001b[0m\n\u001b[0;32m----> 1\u001b[0m \u001b[38;5;28;01mfrom\u001b[39;00m \u001b[38;5;21;01mruconveval\u001b[39;00m\u001b[38;5;21;01m.\u001b[39;00m\u001b[38;5;21;01msrc\u001b[39;00m\u001b[38;5;21;01m.\u001b[39;00m\u001b[38;5;21;01mtask\u001b[39;00m \u001b[38;5;28;01mimport\u001b[39;00m Task, TaskConfig, TaskType, DatasetConfig\n\u001b[1;32m      3\u001b[0m dataset_config \u001b[38;5;241m=\u001b[39m DatasetConfig(\n\u001b[1;32m      4\u001b[0m     dataset\u001b[38;5;241m=\u001b[39m\u001b[38;5;124m'\u001b[39m\u001b[38;5;124mmassive\u001b[39m\u001b[38;5;124m'\u001b[39m,\n\u001b[1;32m      5\u001b[0m     language\u001b[38;5;241m=\u001b[39m\u001b[38;5;124m'\u001b[39m\u001b[38;5;124men\u001b[39m\u001b[38;5;124m'\u001b[39m\n\u001b[1;32m      6\u001b[0m )\n\u001b[1;32m      8\u001b[0m task_config \u001b[38;5;241m=\u001b[39m TaskConfig(\n\u001b[1;32m      9\u001b[0m     task\u001b[38;5;241m=\u001b[39mTaskType\u001b[38;5;241m.\u001b[39mclassification,\n\u001b[1;32m     10\u001b[0m     dataset_config\u001b[38;5;241m=\u001b[39mdataset_config\n\u001b[1;32m     11\u001b[0m )\n",
      "File \u001b[0;32m/cephfs/home/alekseev/dialogue-augmentation/ruconveval/src/task.py:10\u001b[0m\n\u001b[1;32m      8\u001b[0m \u001b[38;5;28;01mfrom\u001b[39;00m \u001b[38;5;21;01m.\u001b[39;00m\u001b[38;5;21;01mdata\u001b[39;00m\u001b[38;5;21;01m.\u001b[39;00m\u001b[38;5;21;01mbase\u001b[39;00m \u001b[38;5;28;01mimport\u001b[39;00m BaseDataset\n\u001b[1;32m      9\u001b[0m \u001b[38;5;28;01mfrom\u001b[39;00m \u001b[38;5;21;01m.\u001b[39;00m\u001b[38;5;21;01mdata\u001b[39;00m\u001b[38;5;21;01m.\u001b[39;00m\u001b[38;5;21;01mclassification\u001b[39;00m \u001b[38;5;28;01mimport\u001b[39;00m Banking77, Clinc150, Massive, Minds14\n\u001b[0;32m---> 10\u001b[0m \u001b[38;5;28;01mfrom\u001b[39;00m \u001b[38;5;21;01m.\u001b[39;00m\u001b[38;5;21;01mdata\u001b[39;00m\u001b[38;5;21;01m.\u001b[39;00m\u001b[38;5;21;01moos_detection\u001b[39;00m \u001b[38;5;28;01mimport\u001b[39;00m Clinc150OOSDetection\n\u001b[1;32m     11\u001b[0m \u001b[38;5;28;01mfrom\u001b[39;00m \u001b[38;5;21;01m.\u001b[39;00m\u001b[38;5;21;01mdata\u001b[39;00m\u001b[38;5;21;01m.\u001b[39;00m\u001b[38;5;21;01mresponse_selection\u001b[39;00m \u001b[38;5;28;01mimport\u001b[39;00m AmazonQA, Ubuntu\n\u001b[1;32m     12\u001b[0m \u001b[38;5;28;01mfrom\u001b[39;00m \u001b[38;5;21;01m.\u001b[39;00m\u001b[38;5;21;01mevaluation\u001b[39;00m\u001b[38;5;21;01m.\u001b[39;00m\u001b[38;5;21;01mbase\u001b[39;00m \u001b[38;5;28;01mimport\u001b[39;00m BaseEvaluator\n",
      "File \u001b[0;32m/cephfs/home/alekseev/dialogue-augmentation/ruconveval/src/data/oos_detection.py:1\u001b[0m\n\u001b[0;32m----> 1\u001b[0m \u001b[38;5;28;01mfrom\u001b[39;00m \u001b[38;5;21;01msrc\u001b[39;00m\u001b[38;5;21;01m.\u001b[39;00m\u001b[38;5;21;01mdata\u001b[39;00m\u001b[38;5;21;01m.\u001b[39;00m\u001b[38;5;21;01mbase\u001b[39;00m \u001b[38;5;28;01mimport\u001b[39;00m ClassificationDatasetSplit\n\u001b[1;32m      2\u001b[0m \u001b[38;5;28;01mfrom\u001b[39;00m \u001b[38;5;21;01msrc\u001b[39;00m\u001b[38;5;21;01m.\u001b[39;00m\u001b[38;5;21;01mdata\u001b[39;00m\u001b[38;5;21;01m.\u001b[39;00m\u001b[38;5;21;01mclassification\u001b[39;00m \u001b[38;5;28;01mimport\u001b[39;00m Clinc150\n\u001b[1;32m      5\u001b[0m \u001b[38;5;28;01mclass\u001b[39;00m \u001b[38;5;21;01mClinc150OOSDetection\u001b[39;00m(Clinc150):\n",
      "\u001b[0;31mModuleNotFoundError\u001b[0m: No module named 'src'"
     ]
    }
   ],
   "source": [
    "from ruconveval.src.task import Task, TaskConfig, TaskType, DatasetConfig\n",
    "\n",
    "dataset_config = DatasetConfig(\n",
    "    dataset='massive',\n",
    "    language='en'\n",
    ")\n",
    "\n",
    "task_config = TaskConfig(\n",
    "    task=TaskType.classification,\n",
    "    dataset_config=dataset_config\n",
    ")"
   ]
  },
  {
   "cell_type": "markdown",
   "metadata": {},
   "source": [
    "## save model"
   ]
  },
  {
   "cell_type": "code",
   "execution_count": 1,
   "metadata": {},
   "outputs": [],
   "source": [
    "from mylib.learners import DialogueEncoderLearner as Learner, DialogueEncoderLearnerConfig as LearnerConfig\n",
    "from mylib.modeling.dialogue import BaselineDialogueEncoder as Model, BaselineDialogueEncoderConfig as ModelConfig\n",
    "\n",
    "model_config = ModelConfig(hf_model='google-bert/bert-base-uncased')\n",
    "model = Model(model_config)\n",
    "\n",
    "ckpt_path = 'logs/comet/dialogue-encoder/ba6388e710684d94af81ebab88c2ff5a/checkpoints/epoch=4-step=8460.ckpt'\n",
    "learner_config = LearnerConfig()\n",
    "learner = Learner.load_from_checkpoint(\n",
    "    checkpoint_path=ckpt_path,\n",
    "    map_location='cpu',\n",
    "    model=model,\n",
    "    config=learner_config\n",
    ")"
   ]
  },
  {
   "cell_type": "code",
   "execution_count": 3,
   "metadata": {},
   "outputs": [
    {
     "data": {
      "text/plain": [
       "transformers.models.bert.modeling_bert.BertModel"
      ]
     },
     "execution_count": 3,
     "metadata": {},
     "output_type": "execute_result"
    }
   ],
   "source": [
    "model = learner.model.model\n",
    "type(model)"
   ]
  },
  {
   "cell_type": "code",
   "execution_count": 4,
   "metadata": {},
   "outputs": [],
   "source": [
    "model.save_pretrained('pretrained/bert-fair-trivial')"
   ]
  },
  {
   "cell_type": "code",
   "execution_count": 6,
   "metadata": {},
   "outputs": [
    {
     "data": {
      "text/plain": [
       "('pretrained/bert-fair-trivial/tokenizer_config.json',\n",
       " 'pretrained/bert-fair-trivial/special_tokens_map.json',\n",
       " 'pretrained/bert-fair-trivial/vocab.txt',\n",
       " 'pretrained/bert-fair-trivial/added_tokens.json',\n",
       " 'pretrained/bert-fair-trivial/tokenizer.json')"
      ]
     },
     "execution_count": 6,
     "metadata": {},
     "output_type": "execute_result"
    }
   ],
   "source": [
    "learner.model.tokenizer.save_pretrained('pretrained/bert-fair-trivial')"
   ]
  },
  {
   "cell_type": "markdown",
   "metadata": {},
   "source": [
    "## filter by source"
   ]
  },
  {
   "cell_type": "code",
   "execution_count": 1,
   "metadata": {},
   "outputs": [
    {
     "data": {
      "application/vnd.jupyter.widget-view+json": {
       "model_id": "15abc1f12f464e9b88fa720568f19163",
       "version_major": 2,
       "version_minor": 0
      },
      "text/plain": [
       "Loading dataset from disk:   0%|          | 0/64 [00:00<?, ?it/s]"
      ]
     },
     "metadata": {},
     "output_type": "display_data"
    },
    {
     "data": {
      "text/plain": [
       "433340"
      ]
     },
     "execution_count": 1,
     "metadata": {},
     "output_type": "execute_result"
    }
   ],
   "source": [
    "from datasets import load_from_disk\n",
    "\n",
    "dataset = load_from_disk('data/train-bert/trivial')\n",
    "len(dataset)"
   ]
  },
  {
   "cell_type": "code",
   "execution_count": 3,
   "metadata": {},
   "outputs": [
    {
     "data": {
      "text/plain": [
       "['back-translate', 'insert', 'replace']"
      ]
     },
     "execution_count": 3,
     "metadata": {},
     "output_type": "execute_result"
    }
   ],
   "source": [
    "augs = [aug['augmentation'] for aug in dataset[0]['pos']]\n",
    "augs"
   ]
  },
  {
   "cell_type": "code",
   "execution_count": 4,
   "metadata": {},
   "outputs": [
    {
     "data": {
      "application/vnd.jupyter.widget-view+json": {
       "model_id": "17656626b475450d994acfd4981795e8",
       "version_major": 2,
       "version_minor": 0
      },
      "text/plain": [
       "Map:   0%|          | 0/433340 [00:00<?, ? examples/s]"
      ]
     },
     "metadata": {},
     "output_type": "display_data"
    }
   ],
   "source": [
    "mapped = dataset.map(\n",
    "    lambda pos: {'pos': [aug for aug in pos if aug['augmentation'] != 'back-translate']},\n",
    "    input_columns='pos',\n",
    ")"
   ]
  },
  {
   "cell_type": "code",
   "execution_count": 5,
   "metadata": {},
   "outputs": [
    {
     "data": {
      "text/plain": [
       "{'source_dataset_name': 'AirDialogue',\n",
       " 'idx_within_source': 185688,\n",
       " 'id': 360925,\n",
       " 'pos': [{'augmentation': 'insert',\n",
       "   'content': [{'speaker': 0, 'utterance': 'Hello Hello.'},\n",
       "    {'speaker': 1, 'utterance': 'Hello, How can I assist you?'},\n",
       "    {'speaker': 0,\n",
       "     'utterance': 'I am very much excited to visit Ellenville Fault ed Ice Caves in New York - EWR, can you please reserve a flight from Houston - IAH?'},\n",
       "    {'speaker': 1, 'utterance': 'Sure, May I know the travelling dates?'},\n",
       "    {'speaker': 0, 'utterance': 'PS My travel dates are Apr 28th and 30th.'},\n",
       "    {'speaker': 1, 'utterance': 'Do ing you have any connection limit?'},\n",
       "    {'speaker': 0,\n",
       "     'utterance': 'Yes I am fine with maximum one GB connection.'},\n",
       "    {'speaker': 1, 'utterance': 'May I know your name?'},\n",
       "    {'speaker': 0, 'utterance': 'My name is Gary Evans.'},\n",
       "    {'speaker': 1, 'utterance': 'Â Please wait a minute.'},\n",
       "    {'speaker': 0,\n",
       "     'utterance': 'Q Please make sure, I want to depart in the evening.'},\n",
       "    {'speaker': 1,\n",
       "     'utterance': 'Sorry, No flights found with your chosen dates.'},\n",
       "    {'speaker': 0, 'utterance': 'No problem, thank you for the information.'},\n",
       "    {'speaker': 1, 'utterance': 'Thank ing you for availing us.'}]},\n",
       "  {'augmentation': 'replace',\n",
       "   'content': [{'speaker': 0, 'utterance': 'Hello.'},\n",
       "    {'speaker': 1, 'utterance': 'Hello, How can I help you?'},\n",
       "    {'speaker': 0,\n",
       "     'utterance': 'I am very oooo ative to visit Ellenville Fault Ice Caves in New AR - EWR, can you please ate a flight from Houston - IAH?'},\n",
       "    {'speaker': 1, 'utterance': 'Sure, May I know the travelling dates?'},\n",
       "    {'speaker': 0, 'utterance': 'My travel days are Apr 28th and 30th.'},\n",
       "    {'speaker': 1, 'utterance': 'Do you have any connection limit?'},\n",
       "    {'speaker': 0, 'utterance': 'I am fine with maximum one connection.'},\n",
       "    {'speaker': 1, 'utterance': 'May I know your name?'},\n",
       "    {'speaker': 0, 'utterance': 'My Name is Gary Evans.'},\n",
       "    {'speaker': 1, 'utterance': 'Please wait a minute.'},\n",
       "    {'speaker': 0,\n",
       "     'utterance': 'Please make sure, I want to depart in the evening.'},\n",
       "    {'speaker': 1, 'utterance': 'Sorry, No ont ups with your chosen dates.'},\n",
       "    {'speaker': 0, 'utterance': 'No problem, thank you for the information.'},\n",
       "    {'speaker': 1, 'utterance': 'Thank you for availing us.'}]}],\n",
       " 'orig': {'augmentation': None,\n",
       "  'content': [{'speaker': 0, 'utterance': 'Hello.'},\n",
       "   {'speaker': 1, 'utterance': 'Hello, How can I assist you?'},\n",
       "   {'speaker': 0,\n",
       "    'utterance': 'I am very much excited to visit Ellenville Fault Ice Caves in New York - EWR, can you please reserve a flight from Houston - IAH?'},\n",
       "   {'speaker': 1, 'utterance': 'Sure, May I know the travelling dates?'},\n",
       "   {'speaker': 0, 'utterance': 'My travel dates are Apr 28th and 30th.'},\n",
       "   {'speaker': 1, 'utterance': 'Do you have any connection limit?'},\n",
       "   {'speaker': 0, 'utterance': 'I am fine with maximum one connection.'},\n",
       "   {'speaker': 1, 'utterance': 'May I know your name?'},\n",
       "   {'speaker': 0, 'utterance': 'My name is Gary Evans.'},\n",
       "   {'speaker': 1, 'utterance': 'Please wait a minute.'},\n",
       "   {'speaker': 0,\n",
       "    'utterance': 'Please make sure, I want to depart in the evening.'},\n",
       "   {'speaker': 1,\n",
       "    'utterance': 'Sorry, No flights found with your chosen dates.'},\n",
       "   {'speaker': 0, 'utterance': 'No problem, thank you for the information.'},\n",
       "   {'speaker': 1, 'utterance': 'Thank you for availing us.'}]}}"
      ]
     },
     "execution_count": 5,
     "metadata": {},
     "output_type": "execute_result"
    }
   ],
   "source": [
    "mapped[0]"
   ]
  },
  {
   "cell_type": "markdown",
   "metadata": {},
   "source": [
    "## lightning to hugging face"
   ]
  },
  {
   "cell_type": "code",
   "execution_count": 1,
   "metadata": {},
   "outputs": [],
   "source": [
    "from mylib.modeling.dialogue import BaselineDialogueEncoderConfig, BaselineDialogueEncoder\n",
    "\n",
    "\n",
    "def get_raw_model(model_config: BaselineDialogueEncoderConfig):\n",
    "    model = BaselineDialogueEncoder(model_config)\n",
    "    model.requires_grad_(False)\n",
    "    return model"
   ]
  },
  {
   "cell_type": "code",
   "execution_count": 2,
   "metadata": {},
   "outputs": [],
   "source": [
    "from mylib.learners import DialogueEncoderLearner, DialogueEncoderLearnerConfig\n",
    "\n",
    "\n",
    "def get_pretrained_model(model, init_from):\n",
    "    return DialogueEncoderLearner.load_from_checkpoint(\n",
    "        checkpoint_path=init_from,\n",
    "        model=model,\n",
    "        config=DialogueEncoderLearnerConfig()\n",
    "    ).model.model"
   ]
  },
  {
   "cell_type": "code",
   "execution_count": 3,
   "metadata": {},
   "outputs": [],
   "source": [
    "checkpoint_codenames ={\n",
    "    'google-bert/bert-base-uncased':\n",
    "    {\n",
    "        'trivial': \"ba6388e710684d94af81ebab88c2ff5a\",\n",
    "        'advanced': \"0d0b24e2d3864cf8a6c8b7d5e15b1c83\",\n",
    "        'crazy' :\"d7e24b7b434e486d866f35d70ac0c503\"\n",
    "    },\n",
    "    'FacebookAI/roberta-base':\n",
    "    {\n",
    "        'trivial': \"e4fa2d98923e4c8ca4fbe20c7ccc4c67\",\n",
    "        'advanced': \"849fa15859484683a4341837e7d1dd1d\",\n",
    "        'crazy': \"523da04c3c5a41379acc298ee09c7a0a\"\n",
    "    },\n",
    "    'Shitao/RetroMAE':\n",
    "    {\n",
    "        'trivial': \"408af9ac5d114a9da1fa007277343f15\",\n",
    "        'advanced': \"e2de548066f14753bdf9a646e992c02f\",\n",
    "        'crazy' :\"ca66a8cd07c4418daea805093d00cdd3\"\n",
    "    }\n",
    "}"
   ]
  },
  {
   "cell_type": "code",
   "execution_count": 4,
   "metadata": {},
   "outputs": [
    {
     "data": {
      "text/plain": [
       "['logs/comet/dialogue-encoder/ca66a8cd07c4418daea805093d00cdd3/checkpoints/epoch=2-step=5055.ckpt',\n",
       " 'logs/comet/dialogue-encoder/ca66a8cd07c4418daea805093d00cdd3/checkpoints/epoch=3-step=6740.ckpt',\n",
       " 'logs/comet/dialogue-encoder/ca66a8cd07c4418daea805093d00cdd3/checkpoints/epoch=0-step=1685.ckpt',\n",
       " 'logs/comet/dialogue-encoder/ca66a8cd07c4418daea805093d00cdd3/checkpoints/epoch=4-step=8425.ckpt',\n",
       " 'logs/comet/dialogue-encoder/ca66a8cd07c4418daea805093d00cdd3/checkpoints/epoch=1-step=3370.ckpt']"
      ]
     },
     "execution_count": 4,
     "metadata": {},
     "output_type": "execute_result"
    }
   ],
   "source": [
    "from glob import glob\n",
    "\n",
    "def get_files(ckpt_code):\n",
    "    return glob(f\"logs/comet/dialogue-encoder/{ckpt_code}/checkpoints/*.ckpt\")\n",
    "\n",
    "get_files('ca66a8cd07c4418daea805093d00cdd3')"
   ]
  },
  {
   "cell_type": "code",
   "execution_count": 5,
   "metadata": {},
   "outputs": [],
   "source": [
    "from transformers import AutoTokenizer\n",
    "\n",
    "def to_hugging_face(ckpt_path, model_config, path_out):\n",
    "    model = get_raw_model(model_config)\n",
    "    model = get_pretrained_model(model, ckpt_path)\n",
    "    model.save_pretrained(path_out)\n",
    "    tok = AutoTokenizer.from_pretrained(model_config.hf_model)\n",
    "    tok.save_pretrained(path_out)"
   ]
  },
  {
   "cell_type": "code",
   "execution_count": 10,
   "metadata": {},
   "outputs": [
    {
     "name": "stderr",
     "output_type": "stream",
     "text": [
      "Some weights of RobertaModel were not initialized from the model checkpoint at FacebookAI/roberta-base and are newly initialized: ['roberta.pooler.dense.bias', 'roberta.pooler.dense.weight']\n",
      "You should probably TRAIN this model on a down-stream task to be able to use it for predictions and inference.\n",
      "Some weights of RobertaModel were not initialized from the model checkpoint at FacebookAI/roberta-base and are newly initialized: ['roberta.pooler.dense.bias', 'roberta.pooler.dense.weight']\n",
      "You should probably TRAIN this model on a down-stream task to be able to use it for predictions and inference.\n",
      "Some weights of RobertaModel were not initialized from the model checkpoint at FacebookAI/roberta-base and are newly initialized: ['roberta.pooler.dense.bias', 'roberta.pooler.dense.weight']\n",
      "You should probably TRAIN this model on a down-stream task to be able to use it for predictions and inference.\n",
      "Some weights of RobertaModel were not initialized from the model checkpoint at FacebookAI/roberta-base and are newly initialized: ['roberta.pooler.dense.bias', 'roberta.pooler.dense.weight']\n",
      "You should probably TRAIN this model on a down-stream task to be able to use it for predictions and inference.\n",
      "Some weights of RobertaModel were not initialized from the model checkpoint at FacebookAI/roberta-base and are newly initialized: ['roberta.pooler.dense.bias', 'roberta.pooler.dense.weight']\n",
      "You should probably TRAIN this model on a down-stream task to be able to use it for predictions and inference.\n",
      "Some weights of RobertaModel were not initialized from the model checkpoint at FacebookAI/roberta-base and are newly initialized: ['roberta.pooler.dense.bias', 'roberta.pooler.dense.weight']\n",
      "You should probably TRAIN this model on a down-stream task to be able to use it for predictions and inference.\n",
      "Some weights of RobertaModel were not initialized from the model checkpoint at FacebookAI/roberta-base and are newly initialized: ['roberta.pooler.dense.bias', 'roberta.pooler.dense.weight']\n",
      "You should probably TRAIN this model on a down-stream task to be able to use it for predictions and inference.\n",
      "Some weights of RobertaModel were not initialized from the model checkpoint at FacebookAI/roberta-base and are newly initialized: ['roberta.pooler.dense.bias', 'roberta.pooler.dense.weight']\n",
      "You should probably TRAIN this model on a down-stream task to be able to use it for predictions and inference.\n",
      "Some weights of RobertaModel were not initialized from the model checkpoint at FacebookAI/roberta-base and are newly initialized: ['roberta.pooler.dense.bias', 'roberta.pooler.dense.weight']\n",
      "You should probably TRAIN this model on a down-stream task to be able to use it for predictions and inference.\n",
      "Some weights of RobertaModel were not initialized from the model checkpoint at FacebookAI/roberta-base and are newly initialized: ['roberta.pooler.dense.bias', 'roberta.pooler.dense.weight']\n",
      "You should probably TRAIN this model on a down-stream task to be able to use it for predictions and inference.\n",
      "Some weights of RobertaModel were not initialized from the model checkpoint at FacebookAI/roberta-base and are newly initialized: ['roberta.pooler.dense.bias', 'roberta.pooler.dense.weight']\n",
      "You should probably TRAIN this model on a down-stream task to be able to use it for predictions and inference.\n",
      "Some weights of RobertaModel were not initialized from the model checkpoint at FacebookAI/roberta-base and are newly initialized: ['roberta.pooler.dense.bias', 'roberta.pooler.dense.weight']\n",
      "You should probably TRAIN this model on a down-stream task to be able to use it for predictions and inference.\n",
      "Some weights of RobertaModel were not initialized from the model checkpoint at FacebookAI/roberta-base and are newly initialized: ['roberta.pooler.dense.bias', 'roberta.pooler.dense.weight']\n",
      "You should probably TRAIN this model on a down-stream task to be able to use it for predictions and inference.\n",
      "Some weights of RobertaModel were not initialized from the model checkpoint at FacebookAI/roberta-base and are newly initialized: ['roberta.pooler.dense.bias', 'roberta.pooler.dense.weight']\n",
      "You should probably TRAIN this model on a down-stream task to be able to use it for predictions and inference.\n",
      "Some weights of RobertaModel were not initialized from the model checkpoint at FacebookAI/roberta-base and are newly initialized: ['roberta.pooler.dense.bias', 'roberta.pooler.dense.weight']\n",
      "You should probably TRAIN this model on a down-stream task to be able to use it for predictions and inference.\n",
      "Some weights of BertModel were not initialized from the model checkpoint at Shitao/RetroMAE and are newly initialized: ['bert.pooler.dense.bias', 'bert.pooler.dense.weight']\n",
      "You should probably TRAIN this model on a down-stream task to be able to use it for predictions and inference.\n",
      "Some weights of BertModel were not initialized from the model checkpoint at Shitao/RetroMAE and are newly initialized: ['bert.pooler.dense.bias', 'bert.pooler.dense.weight']\n",
      "You should probably TRAIN this model on a down-stream task to be able to use it for predictions and inference.\n",
      "Some weights of BertModel were not initialized from the model checkpoint at Shitao/RetroMAE and are newly initialized: ['bert.pooler.dense.bias', 'bert.pooler.dense.weight']\n",
      "You should probably TRAIN this model on a down-stream task to be able to use it for predictions and inference.\n",
      "Some weights of BertModel were not initialized from the model checkpoint at Shitao/RetroMAE and are newly initialized: ['bert.pooler.dense.bias', 'bert.pooler.dense.weight']\n",
      "You should probably TRAIN this model on a down-stream task to be able to use it for predictions and inference.\n",
      "Some weights of BertModel were not initialized from the model checkpoint at Shitao/RetroMAE and are newly initialized: ['bert.pooler.dense.bias', 'bert.pooler.dense.weight']\n",
      "You should probably TRAIN this model on a down-stream task to be able to use it for predictions and inference.\n",
      "Some weights of BertModel were not initialized from the model checkpoint at Shitao/RetroMAE and are newly initialized: ['bert.pooler.dense.bias', 'bert.pooler.dense.weight']\n",
      "You should probably TRAIN this model on a down-stream task to be able to use it for predictions and inference.\n",
      "Some weights of BertModel were not initialized from the model checkpoint at Shitao/RetroMAE and are newly initialized: ['bert.pooler.dense.bias', 'bert.pooler.dense.weight']\n",
      "You should probably TRAIN this model on a down-stream task to be able to use it for predictions and inference.\n",
      "Some weights of BertModel were not initialized from the model checkpoint at Shitao/RetroMAE and are newly initialized: ['bert.pooler.dense.bias', 'bert.pooler.dense.weight']\n",
      "You should probably TRAIN this model on a down-stream task to be able to use it for predictions and inference.\n",
      "Some weights of BertModel were not initialized from the model checkpoint at Shitao/RetroMAE and are newly initialized: ['bert.pooler.dense.bias', 'bert.pooler.dense.weight']\n",
      "You should probably TRAIN this model on a down-stream task to be able to use it for predictions and inference.\n",
      "Some weights of BertModel were not initialized from the model checkpoint at Shitao/RetroMAE and are newly initialized: ['bert.pooler.dense.bias', 'bert.pooler.dense.weight']\n",
      "You should probably TRAIN this model on a down-stream task to be able to use it for predictions and inference.\n",
      "Some weights of BertModel were not initialized from the model checkpoint at Shitao/RetroMAE and are newly initialized: ['bert.pooler.dense.bias', 'bert.pooler.dense.weight']\n",
      "You should probably TRAIN this model on a down-stream task to be able to use it for predictions and inference.\n",
      "Some weights of BertModel were not initialized from the model checkpoint at Shitao/RetroMAE and are newly initialized: ['bert.pooler.dense.bias', 'bert.pooler.dense.weight']\n",
      "You should probably TRAIN this model on a down-stream task to be able to use it for predictions and inference.\n",
      "Some weights of BertModel were not initialized from the model checkpoint at Shitao/RetroMAE and are newly initialized: ['bert.pooler.dense.bias', 'bert.pooler.dense.weight']\n",
      "You should probably TRAIN this model on a down-stream task to be able to use it for predictions and inference.\n",
      "Some weights of BertModel were not initialized from the model checkpoint at Shitao/RetroMAE and are newly initialized: ['bert.pooler.dense.bias', 'bert.pooler.dense.weight']\n",
      "You should probably TRAIN this model on a down-stream task to be able to use it for predictions and inference.\n",
      "Some weights of BertModel were not initialized from the model checkpoint at Shitao/RetroMAE and are newly initialized: ['bert.pooler.dense.bias', 'bert.pooler.dense.weight']\n",
      "You should probably TRAIN this model on a down-stream task to be able to use it for predictions and inference.\n"
     ]
    }
   ],
   "source": [
    "for backbone_name in checkpoint_codenames.keys():\n",
    "    model_config = BaselineDialogueEncoderConfig(hf_model=backbone_name)\n",
    "    for aug_set in ['trivial', 'advanced', 'crazy']:\n",
    "        for ckpt in get_files(checkpoint_codenames[backbone_name][aug_set]):\n",
    "            backbone_for_path = backbone_name.replace('/', '-')\n",
    "            ckpt_for_path = ckpt.split('/')[-1].split('-')[0]\n",
    "            to_hugging_face(ckpt, model_config, f'pretrained/{backbone_for_path}/{aug_set}/{ckpt_for_path}')"
   ]
  },
  {
   "cell_type": "markdown",
   "metadata": {},
   "source": [
    "## inspecting sgd"
   ]
  },
  {
   "cell_type": "code",
   "execution_count": 22,
   "metadata": {},
   "outputs": [
    {
     "data": {
      "text/plain": [
       "DatasetDict({\n",
       "    train: Dataset({\n",
       "        features: ['content', 'source_dataset_name', 'idx_within_source', 'services'],\n",
       "        num_rows: 2979\n",
       "    })\n",
       "    validation: Dataset({\n",
       "        features: ['content', 'source_dataset_name', 'idx_within_source', 'services'],\n",
       "        num_rows: 204\n",
       "    })\n",
       "    test: Dataset({\n",
       "        features: ['content', 'source_dataset_name', 'idx_within_source', 'services'],\n",
       "        num_rows: 226\n",
       "    })\n",
       "})"
      ]
     },
     "execution_count": 22,
     "metadata": {},
     "output_type": "execute_result"
    }
   ],
   "source": [
    "from datasets import load_from_disk\n",
    "\n",
    "dataset = load_from_disk('data/benchmarks/MultiWOZ_2.1')\n",
    "dataset"
   ]
  },
  {
   "cell_type": "code",
   "execution_count": 23,
   "metadata": {},
   "outputs": [
    {
     "data": {
      "text/plain": [
       "array([ 127,  287,  513, 1199,  326,  282])"
      ]
     },
     "execution_count": 23,
     "metadata": {},
     "output_type": "execute_result"
    }
   ],
   "source": [
    "import numpy as np\n",
    "\n",
    "a = dataset['train']['services']\n",
    "np.sum(a, axis=0)"
   ]
  },
  {
   "cell_type": "code",
   "execution_count": 24,
   "metadata": {},
   "outputs": [
    {
     "data": {
      "text/plain": [
       "array([12,  0, 67, 62, 52, 33])"
      ]
     },
     "execution_count": 24,
     "metadata": {},
     "output_type": "execute_result"
    }
   ],
   "source": [
    "a = dataset['test']['services']\n",
    "np.sum(a, axis=0)"
   ]
  },
  {
   "cell_type": "code",
   "execution_count": 25,
   "metadata": {},
   "outputs": [
    {
     "data": {
      "text/plain": [
       "array([11,  0, 56, 50, 57, 30])"
      ]
     },
     "execution_count": 25,
     "metadata": {},
     "output_type": "execute_result"
    }
   ],
   "source": [
    "a = dataset['validation']['services']\n",
    "np.sum(a, axis=0)"
   ]
  },
  {
   "cell_type": "markdown",
   "metadata": {},
   "source": [
    "## SFR Embeddings"
   ]
  },
  {
   "cell_type": "code",
   "execution_count": 2,
   "metadata": {},
   "outputs": [
    {
     "data": {
      "application/vnd.jupyter.widget-view+json": {
       "model_id": "8906ed8a2c2f469db2052a8f4f181af8",
       "version_major": 2,
       "version_minor": 0
      },
      "text/plain": [
       "Loading checkpoint shards:   0%|          | 0/3 [00:00<?, ?it/s]"
      ]
     },
     "metadata": {},
     "output_type": "display_data"
    },
    {
     "data": {
      "application/vnd.jupyter.widget-view+json": {
       "model_id": "8e627eec902f4c1c948f9a420f1b9d84",
       "version_major": 2,
       "version_minor": 0
      },
      "text/plain": [
       "Map:   0%|          | 0/6911 [00:00<?, ? examples/s]"
      ]
     },
     "metadata": {},
     "output_type": "display_data"
    },
    {
     "ename": "KeyboardInterrupt",
     "evalue": "",
     "output_type": "error",
     "traceback": [
      "\u001b[0;31m---------------------------------------------------------------------------\u001b[0m",
      "\u001b[0;31mKeyboardInterrupt\u001b[0m                         Traceback (most recent call last)",
      "Cell \u001b[0;32mIn[2], line 59\u001b[0m\n\u001b[1;32m     56\u001b[0m \u001b[38;5;28;01mfrom\u001b[39;00m \u001b[38;5;21;01mtorch\u001b[39;00m \u001b[38;5;28;01mimport\u001b[39;00m no_grad\n\u001b[1;32m     58\u001b[0m \u001b[38;5;28;01mwith\u001b[39;00m no_grad():\n\u001b[0;32m---> 59\u001b[0m     dataset \u001b[38;5;241m=\u001b[39m \u001b[43mdataset\u001b[49m\u001b[38;5;241;43m.\u001b[39;49m\u001b[43mmap\u001b[49m\u001b[43m(\u001b[49m\n\u001b[1;32m     60\u001b[0m \u001b[43m        \u001b[49m\u001b[38;5;28;43;01mlambda\u001b[39;49;00m\u001b[43m \u001b[49m\u001b[43mbatch\u001b[49m\u001b[43m:\u001b[49m\u001b[43m \u001b[49m\u001b[43m{\u001b[49m\u001b[38;5;124;43m'\u001b[39;49m\u001b[38;5;124;43membedding\u001b[39;49m\u001b[38;5;124;43m'\u001b[39;49m\u001b[43m:\u001b[49m\u001b[43m \u001b[49m\u001b[43mencoder\u001b[49m\u001b[43m(\u001b[49m\u001b[43mbatch\u001b[49m\u001b[43m)\u001b[49m\u001b[38;5;241;43m.\u001b[39;49m\u001b[43mdetach\u001b[49m\u001b[43m(\u001b[49m\u001b[43m)\u001b[49m\u001b[38;5;241;43m.\u001b[39;49m\u001b[43mcpu\u001b[49m\u001b[43m(\u001b[49m\u001b[43m)\u001b[49m\u001b[38;5;241;43m.\u001b[39;49m\u001b[43mnumpy\u001b[49m\u001b[43m(\u001b[49m\u001b[43m)\u001b[49m\u001b[43m}\u001b[49m\u001b[43m,\u001b[49m\n\u001b[1;32m     61\u001b[0m \u001b[43m        \u001b[49m\u001b[43minput_columns\u001b[49m\u001b[38;5;241;43m=\u001b[39;49m\u001b[38;5;124;43m'\u001b[39;49m\u001b[38;5;124;43mcontent\u001b[39;49m\u001b[38;5;124;43m'\u001b[39;49m\u001b[43m,\u001b[49m\n\u001b[1;32m     62\u001b[0m \u001b[43m        \u001b[49m\u001b[43mbatched\u001b[49m\u001b[38;5;241;43m=\u001b[39;49m\u001b[38;5;28;43;01mTrue\u001b[39;49;00m\u001b[43m,\u001b[49m\n\u001b[1;32m     63\u001b[0m \u001b[43m        \u001b[49m\u001b[43mbatch_size\u001b[49m\u001b[38;5;241;43m=\u001b[39;49m\u001b[43margs\u001b[49m\u001b[38;5;241;43m.\u001b[39;49m\u001b[43mbatch_size\u001b[49m\n\u001b[1;32m     64\u001b[0m \u001b[43m    \u001b[49m\u001b[43m)\u001b[49m\n\u001b[1;32m     66\u001b[0m \u001b[38;5;66;03m# save to disk\u001b[39;00m\n\u001b[1;32m     67\u001b[0m dataset\u001b[38;5;241m.\u001b[39msave_to_disk(args\u001b[38;5;241m.\u001b[39mpath_out)\n",
      "File \u001b[0;32m~/dialogue-augmentation/.venv/lib/python3.8/site-packages/datasets/arrow_dataset.py:593\u001b[0m, in \u001b[0;36mtransmit_tasks.<locals>.wrapper\u001b[0;34m(*args, **kwargs)\u001b[0m\n\u001b[1;32m    591\u001b[0m     \u001b[38;5;28mself\u001b[39m: \u001b[38;5;124m\"\u001b[39m\u001b[38;5;124mDataset\u001b[39m\u001b[38;5;124m\"\u001b[39m \u001b[38;5;241m=\u001b[39m kwargs\u001b[38;5;241m.\u001b[39mpop(\u001b[38;5;124m\"\u001b[39m\u001b[38;5;124mself\u001b[39m\u001b[38;5;124m\"\u001b[39m)\n\u001b[1;32m    592\u001b[0m \u001b[38;5;66;03m# apply actual function\u001b[39;00m\n\u001b[0;32m--> 593\u001b[0m out: Union[\u001b[38;5;124m\"\u001b[39m\u001b[38;5;124mDataset\u001b[39m\u001b[38;5;124m\"\u001b[39m, \u001b[38;5;124m\"\u001b[39m\u001b[38;5;124mDatasetDict\u001b[39m\u001b[38;5;124m\"\u001b[39m] \u001b[38;5;241m=\u001b[39m \u001b[43mfunc\u001b[49m\u001b[43m(\u001b[49m\u001b[38;5;28;43mself\u001b[39;49m\u001b[43m,\u001b[49m\u001b[43m \u001b[49m\u001b[38;5;241;43m*\u001b[39;49m\u001b[43margs\u001b[49m\u001b[43m,\u001b[49m\u001b[43m \u001b[49m\u001b[38;5;241;43m*\u001b[39;49m\u001b[38;5;241;43m*\u001b[39;49m\u001b[43mkwargs\u001b[49m\u001b[43m)\u001b[49m\n\u001b[1;32m    594\u001b[0m datasets: List[\u001b[38;5;124m\"\u001b[39m\u001b[38;5;124mDataset\u001b[39m\u001b[38;5;124m\"\u001b[39m] \u001b[38;5;241m=\u001b[39m \u001b[38;5;28mlist\u001b[39m(out\u001b[38;5;241m.\u001b[39mvalues()) \u001b[38;5;28;01mif\u001b[39;00m \u001b[38;5;28misinstance\u001b[39m(out, \u001b[38;5;28mdict\u001b[39m) \u001b[38;5;28;01melse\u001b[39;00m [out]\n\u001b[1;32m    595\u001b[0m \u001b[38;5;28;01mfor\u001b[39;00m dataset \u001b[38;5;129;01min\u001b[39;00m datasets:\n\u001b[1;32m    596\u001b[0m     \u001b[38;5;66;03m# Remove task templates if a column mapping of the template is no longer valid\u001b[39;00m\n",
      "File \u001b[0;32m~/dialogue-augmentation/.venv/lib/python3.8/site-packages/datasets/arrow_dataset.py:558\u001b[0m, in \u001b[0;36mtransmit_format.<locals>.wrapper\u001b[0;34m(*args, **kwargs)\u001b[0m\n\u001b[1;32m    551\u001b[0m self_format \u001b[38;5;241m=\u001b[39m {\n\u001b[1;32m    552\u001b[0m     \u001b[38;5;124m\"\u001b[39m\u001b[38;5;124mtype\u001b[39m\u001b[38;5;124m\"\u001b[39m: \u001b[38;5;28mself\u001b[39m\u001b[38;5;241m.\u001b[39m_format_type,\n\u001b[1;32m    553\u001b[0m     \u001b[38;5;124m\"\u001b[39m\u001b[38;5;124mformat_kwargs\u001b[39m\u001b[38;5;124m\"\u001b[39m: \u001b[38;5;28mself\u001b[39m\u001b[38;5;241m.\u001b[39m_format_kwargs,\n\u001b[1;32m    554\u001b[0m     \u001b[38;5;124m\"\u001b[39m\u001b[38;5;124mcolumns\u001b[39m\u001b[38;5;124m\"\u001b[39m: \u001b[38;5;28mself\u001b[39m\u001b[38;5;241m.\u001b[39m_format_columns,\n\u001b[1;32m    555\u001b[0m     \u001b[38;5;124m\"\u001b[39m\u001b[38;5;124moutput_all_columns\u001b[39m\u001b[38;5;124m\"\u001b[39m: \u001b[38;5;28mself\u001b[39m\u001b[38;5;241m.\u001b[39m_output_all_columns,\n\u001b[1;32m    556\u001b[0m }\n\u001b[1;32m    557\u001b[0m \u001b[38;5;66;03m# apply actual function\u001b[39;00m\n\u001b[0;32m--> 558\u001b[0m out: Union[\u001b[38;5;124m\"\u001b[39m\u001b[38;5;124mDataset\u001b[39m\u001b[38;5;124m\"\u001b[39m, \u001b[38;5;124m\"\u001b[39m\u001b[38;5;124mDatasetDict\u001b[39m\u001b[38;5;124m\"\u001b[39m] \u001b[38;5;241m=\u001b[39m \u001b[43mfunc\u001b[49m\u001b[43m(\u001b[49m\u001b[38;5;28;43mself\u001b[39;49m\u001b[43m,\u001b[49m\u001b[43m \u001b[49m\u001b[38;5;241;43m*\u001b[39;49m\u001b[43margs\u001b[49m\u001b[43m,\u001b[49m\u001b[43m \u001b[49m\u001b[38;5;241;43m*\u001b[39;49m\u001b[38;5;241;43m*\u001b[39;49m\u001b[43mkwargs\u001b[49m\u001b[43m)\u001b[49m\n\u001b[1;32m    559\u001b[0m datasets: List[\u001b[38;5;124m\"\u001b[39m\u001b[38;5;124mDataset\u001b[39m\u001b[38;5;124m\"\u001b[39m] \u001b[38;5;241m=\u001b[39m \u001b[38;5;28mlist\u001b[39m(out\u001b[38;5;241m.\u001b[39mvalues()) \u001b[38;5;28;01mif\u001b[39;00m \u001b[38;5;28misinstance\u001b[39m(out, \u001b[38;5;28mdict\u001b[39m) \u001b[38;5;28;01melse\u001b[39;00m [out]\n\u001b[1;32m    560\u001b[0m \u001b[38;5;66;03m# re-apply format to the output\u001b[39;00m\n",
      "File \u001b[0;32m~/dialogue-augmentation/.venv/lib/python3.8/site-packages/datasets/arrow_dataset.py:3105\u001b[0m, in \u001b[0;36mDataset.map\u001b[0;34m(self, function, with_indices, with_rank, input_columns, batched, batch_size, drop_last_batch, remove_columns, keep_in_memory, load_from_cache_file, cache_file_name, writer_batch_size, features, disable_nullable, fn_kwargs, num_proc, suffix_template, new_fingerprint, desc)\u001b[0m\n\u001b[1;32m   3099\u001b[0m \u001b[38;5;28;01mif\u001b[39;00m transformed_dataset \u001b[38;5;129;01mis\u001b[39;00m \u001b[38;5;28;01mNone\u001b[39;00m:\n\u001b[1;32m   3100\u001b[0m     \u001b[38;5;28;01mwith\u001b[39;00m hf_tqdm(\n\u001b[1;32m   3101\u001b[0m         unit\u001b[38;5;241m=\u001b[39m\u001b[38;5;124m\"\u001b[39m\u001b[38;5;124m examples\u001b[39m\u001b[38;5;124m\"\u001b[39m,\n\u001b[1;32m   3102\u001b[0m         total\u001b[38;5;241m=\u001b[39mpbar_total,\n\u001b[1;32m   3103\u001b[0m         desc\u001b[38;5;241m=\u001b[39mdesc \u001b[38;5;129;01mor\u001b[39;00m \u001b[38;5;124m\"\u001b[39m\u001b[38;5;124mMap\u001b[39m\u001b[38;5;124m\"\u001b[39m,\n\u001b[1;32m   3104\u001b[0m     ) \u001b[38;5;28;01mas\u001b[39;00m pbar:\n\u001b[0;32m-> 3105\u001b[0m         \u001b[38;5;28;01mfor\u001b[39;00m rank, done, content \u001b[38;5;129;01min\u001b[39;00m Dataset\u001b[38;5;241m.\u001b[39m_map_single(\u001b[38;5;241m*\u001b[39m\u001b[38;5;241m*\u001b[39mdataset_kwargs):\n\u001b[1;32m   3106\u001b[0m             \u001b[38;5;28;01mif\u001b[39;00m done:\n\u001b[1;32m   3107\u001b[0m                 shards_done \u001b[38;5;241m+\u001b[39m\u001b[38;5;241m=\u001b[39m \u001b[38;5;241m1\u001b[39m\n",
      "File \u001b[0;32m~/dialogue-augmentation/.venv/lib/python3.8/site-packages/datasets/arrow_dataset.py:3482\u001b[0m, in \u001b[0;36mDataset._map_single\u001b[0;34m(shard, function, with_indices, with_rank, input_columns, batched, batch_size, drop_last_batch, remove_columns, keep_in_memory, cache_file_name, writer_batch_size, features, disable_nullable, fn_kwargs, new_fingerprint, rank, offset)\u001b[0m\n\u001b[1;32m   3478\u001b[0m indices \u001b[38;5;241m=\u001b[39m \u001b[38;5;28mlist\u001b[39m(\n\u001b[1;32m   3479\u001b[0m     \u001b[38;5;28mrange\u001b[39m(\u001b[38;5;241m*\u001b[39m(\u001b[38;5;28mslice\u001b[39m(i, i \u001b[38;5;241m+\u001b[39m batch_size)\u001b[38;5;241m.\u001b[39mindices(shard\u001b[38;5;241m.\u001b[39mnum_rows)))\n\u001b[1;32m   3480\u001b[0m )  \u001b[38;5;66;03m# Something simpler?\u001b[39;00m\n\u001b[1;32m   3481\u001b[0m \u001b[38;5;28;01mtry\u001b[39;00m:\n\u001b[0;32m-> 3482\u001b[0m     batch \u001b[38;5;241m=\u001b[39m \u001b[43mapply_function_on_filtered_inputs\u001b[49m\u001b[43m(\u001b[49m\n\u001b[1;32m   3483\u001b[0m \u001b[43m        \u001b[49m\u001b[43mbatch\u001b[49m\u001b[43m,\u001b[49m\n\u001b[1;32m   3484\u001b[0m \u001b[43m        \u001b[49m\u001b[43mindices\u001b[49m\u001b[43m,\u001b[49m\n\u001b[1;32m   3485\u001b[0m \u001b[43m        \u001b[49m\u001b[43mcheck_same_num_examples\u001b[49m\u001b[38;5;241;43m=\u001b[39;49m\u001b[38;5;28;43mlen\u001b[39;49m\u001b[43m(\u001b[49m\u001b[43mshard\u001b[49m\u001b[38;5;241;43m.\u001b[39;49m\u001b[43mlist_indexes\u001b[49m\u001b[43m(\u001b[49m\u001b[43m)\u001b[49m\u001b[43m)\u001b[49m\u001b[43m \u001b[49m\u001b[38;5;241;43m>\u001b[39;49m\u001b[43m \u001b[49m\u001b[38;5;241;43m0\u001b[39;49m\u001b[43m,\u001b[49m\n\u001b[1;32m   3486\u001b[0m \u001b[43m        \u001b[49m\u001b[43moffset\u001b[49m\u001b[38;5;241;43m=\u001b[39;49m\u001b[43moffset\u001b[49m\u001b[43m,\u001b[49m\n\u001b[1;32m   3487\u001b[0m \u001b[43m    \u001b[49m\u001b[43m)\u001b[49m\n\u001b[1;32m   3488\u001b[0m \u001b[38;5;28;01mexcept\u001b[39;00m NumExamplesMismatchError:\n\u001b[1;32m   3489\u001b[0m     \u001b[38;5;28;01mraise\u001b[39;00m DatasetTransformationNotAllowedError(\n\u001b[1;32m   3490\u001b[0m         \u001b[38;5;124m\"\u001b[39m\u001b[38;5;124mUsing `.map` in batched mode on a dataset with attached indexes is allowed only if it doesn\u001b[39m\u001b[38;5;124m'\u001b[39m\u001b[38;5;124mt create or remove existing examples. You can first run `.drop_index() to remove your index and then re-add it.\u001b[39m\u001b[38;5;124m\"\u001b[39m\n\u001b[1;32m   3491\u001b[0m     ) \u001b[38;5;28;01mfrom\u001b[39;00m \u001b[38;5;28;01mNone\u001b[39;00m\n",
      "File \u001b[0;32m~/dialogue-augmentation/.venv/lib/python3.8/site-packages/datasets/arrow_dataset.py:3361\u001b[0m, in \u001b[0;36mDataset._map_single.<locals>.apply_function_on_filtered_inputs\u001b[0;34m(pa_inputs, indices, check_same_num_examples, offset)\u001b[0m\n\u001b[1;32m   3359\u001b[0m \u001b[38;5;28;01mif\u001b[39;00m with_rank:\n\u001b[1;32m   3360\u001b[0m     additional_args \u001b[38;5;241m+\u001b[39m\u001b[38;5;241m=\u001b[39m (rank,)\n\u001b[0;32m-> 3361\u001b[0m processed_inputs \u001b[38;5;241m=\u001b[39m \u001b[43mfunction\u001b[49m\u001b[43m(\u001b[49m\u001b[38;5;241;43m*\u001b[39;49m\u001b[43mfn_args\u001b[49m\u001b[43m,\u001b[49m\u001b[43m \u001b[49m\u001b[38;5;241;43m*\u001b[39;49m\u001b[43madditional_args\u001b[49m\u001b[43m,\u001b[49m\u001b[43m \u001b[49m\u001b[38;5;241;43m*\u001b[39;49m\u001b[38;5;241;43m*\u001b[39;49m\u001b[43mfn_kwargs\u001b[49m\u001b[43m)\u001b[49m\n\u001b[1;32m   3362\u001b[0m \u001b[38;5;28;01mif\u001b[39;00m \u001b[38;5;28misinstance\u001b[39m(processed_inputs, LazyDict):\n\u001b[1;32m   3363\u001b[0m     processed_inputs \u001b[38;5;241m=\u001b[39m {\n\u001b[1;32m   3364\u001b[0m         k: v \u001b[38;5;28;01mfor\u001b[39;00m k, v \u001b[38;5;129;01min\u001b[39;00m processed_inputs\u001b[38;5;241m.\u001b[39mdata\u001b[38;5;241m.\u001b[39mitems() \u001b[38;5;28;01mif\u001b[39;00m k \u001b[38;5;129;01mnot\u001b[39;00m \u001b[38;5;129;01min\u001b[39;00m processed_inputs\u001b[38;5;241m.\u001b[39mkeys_to_format\n\u001b[1;32m   3365\u001b[0m     }\n",
      "Cell \u001b[0;32mIn[2], line 60\u001b[0m, in \u001b[0;36m<lambda>\u001b[0;34m(batch)\u001b[0m\n\u001b[1;32m     56\u001b[0m \u001b[38;5;28;01mfrom\u001b[39;00m \u001b[38;5;21;01mtorch\u001b[39;00m \u001b[38;5;28;01mimport\u001b[39;00m no_grad\n\u001b[1;32m     58\u001b[0m \u001b[38;5;28;01mwith\u001b[39;00m no_grad():\n\u001b[1;32m     59\u001b[0m     dataset \u001b[38;5;241m=\u001b[39m dataset\u001b[38;5;241m.\u001b[39mmap(\n\u001b[0;32m---> 60\u001b[0m         \u001b[38;5;28;01mlambda\u001b[39;00m batch: {\u001b[38;5;124m'\u001b[39m\u001b[38;5;124membedding\u001b[39m\u001b[38;5;124m'\u001b[39m: \u001b[43mencoder\u001b[49m\u001b[43m(\u001b[49m\u001b[43mbatch\u001b[49m\u001b[43m)\u001b[49m\u001b[38;5;241m.\u001b[39mdetach()\u001b[38;5;241m.\u001b[39mcpu()\u001b[38;5;241m.\u001b[39mnumpy()},\n\u001b[1;32m     61\u001b[0m         input_columns\u001b[38;5;241m=\u001b[39m\u001b[38;5;124m'\u001b[39m\u001b[38;5;124mcontent\u001b[39m\u001b[38;5;124m'\u001b[39m,\n\u001b[1;32m     62\u001b[0m         batched\u001b[38;5;241m=\u001b[39m\u001b[38;5;28;01mTrue\u001b[39;00m,\n\u001b[1;32m     63\u001b[0m         batch_size\u001b[38;5;241m=\u001b[39margs\u001b[38;5;241m.\u001b[39mbatch_size\n\u001b[1;32m     64\u001b[0m     )\n\u001b[1;32m     66\u001b[0m \u001b[38;5;66;03m# save to disk\u001b[39;00m\n\u001b[1;32m     67\u001b[0m dataset\u001b[38;5;241m.\u001b[39msave_to_disk(args\u001b[38;5;241m.\u001b[39mpath_out)\n",
      "File \u001b[0;32m~/dialogue-augmentation/.venv/lib/python3.8/site-packages/torch/nn/modules/module.py:1511\u001b[0m, in \u001b[0;36mModule._wrapped_call_impl\u001b[0;34m(self, *args, **kwargs)\u001b[0m\n\u001b[1;32m   1509\u001b[0m     \u001b[38;5;28;01mreturn\u001b[39;00m \u001b[38;5;28mself\u001b[39m\u001b[38;5;241m.\u001b[39m_compiled_call_impl(\u001b[38;5;241m*\u001b[39margs, \u001b[38;5;241m*\u001b[39m\u001b[38;5;241m*\u001b[39mkwargs)  \u001b[38;5;66;03m# type: ignore[misc]\u001b[39;00m\n\u001b[1;32m   1510\u001b[0m \u001b[38;5;28;01melse\u001b[39;00m:\n\u001b[0;32m-> 1511\u001b[0m     \u001b[38;5;28;01mreturn\u001b[39;00m \u001b[38;5;28;43mself\u001b[39;49m\u001b[38;5;241;43m.\u001b[39;49m\u001b[43m_call_impl\u001b[49m\u001b[43m(\u001b[49m\u001b[38;5;241;43m*\u001b[39;49m\u001b[43margs\u001b[49m\u001b[43m,\u001b[49m\u001b[43m \u001b[49m\u001b[38;5;241;43m*\u001b[39;49m\u001b[38;5;241;43m*\u001b[39;49m\u001b[43mkwargs\u001b[49m\u001b[43m)\u001b[49m\n",
      "File \u001b[0;32m~/dialogue-augmentation/.venv/lib/python3.8/site-packages/torch/nn/modules/module.py:1520\u001b[0m, in \u001b[0;36mModule._call_impl\u001b[0;34m(self, *args, **kwargs)\u001b[0m\n\u001b[1;32m   1515\u001b[0m \u001b[38;5;66;03m# If we don't have any hooks, we want to skip the rest of the logic in\u001b[39;00m\n\u001b[1;32m   1516\u001b[0m \u001b[38;5;66;03m# this function, and just call forward.\u001b[39;00m\n\u001b[1;32m   1517\u001b[0m \u001b[38;5;28;01mif\u001b[39;00m \u001b[38;5;129;01mnot\u001b[39;00m (\u001b[38;5;28mself\u001b[39m\u001b[38;5;241m.\u001b[39m_backward_hooks \u001b[38;5;129;01mor\u001b[39;00m \u001b[38;5;28mself\u001b[39m\u001b[38;5;241m.\u001b[39m_backward_pre_hooks \u001b[38;5;129;01mor\u001b[39;00m \u001b[38;5;28mself\u001b[39m\u001b[38;5;241m.\u001b[39m_forward_hooks \u001b[38;5;129;01mor\u001b[39;00m \u001b[38;5;28mself\u001b[39m\u001b[38;5;241m.\u001b[39m_forward_pre_hooks\n\u001b[1;32m   1518\u001b[0m         \u001b[38;5;129;01mor\u001b[39;00m _global_backward_pre_hooks \u001b[38;5;129;01mor\u001b[39;00m _global_backward_hooks\n\u001b[1;32m   1519\u001b[0m         \u001b[38;5;129;01mor\u001b[39;00m _global_forward_hooks \u001b[38;5;129;01mor\u001b[39;00m _global_forward_pre_hooks):\n\u001b[0;32m-> 1520\u001b[0m     \u001b[38;5;28;01mreturn\u001b[39;00m \u001b[43mforward_call\u001b[49m\u001b[43m(\u001b[49m\u001b[38;5;241;43m*\u001b[39;49m\u001b[43margs\u001b[49m\u001b[43m,\u001b[49m\u001b[43m \u001b[49m\u001b[38;5;241;43m*\u001b[39;49m\u001b[38;5;241;43m*\u001b[39;49m\u001b[43mkwargs\u001b[49m\u001b[43m)\u001b[49m\n\u001b[1;32m   1522\u001b[0m \u001b[38;5;28;01mtry\u001b[39;00m:\n\u001b[1;32m   1523\u001b[0m     result \u001b[38;5;241m=\u001b[39m \u001b[38;5;28;01mNone\u001b[39;00m\n",
      "File \u001b[0;32m/cephfs/home/alekseev/dialogue-augmentation/mylib/modeling/dialogue/baseline_dialogue_encoder.py:80\u001b[0m, in \u001b[0;36mBaselineDialogueEncoder.forward\u001b[0;34m(self, batch)\u001b[0m\n\u001b[1;32m     70\u001b[0m \u001b[38;5;250m\u001b[39m\u001b[38;5;124;03m\"\"\"\u001b[39;00m\n\u001b[1;32m     71\u001b[0m \u001b[38;5;124;03minput: batch of dialogues\u001b[39;00m\n\u001b[1;32m     72\u001b[0m \u001b[38;5;124;03moutput: (B,H)\u001b[39;00m\n\u001b[1;32m     73\u001b[0m \u001b[38;5;124;03m\"\"\"\u001b[39;00m\n\u001b[1;32m     74\u001b[0m inputs \u001b[38;5;241m=\u001b[39m \u001b[38;5;28mself\u001b[39m\u001b[38;5;241m.\u001b[39m_tokenize(\n\u001b[1;32m     75\u001b[0m     \u001b[38;5;28mself\u001b[39m\u001b[38;5;241m.\u001b[39mtokenizer,\n\u001b[1;32m     76\u001b[0m     batch,\n\u001b[1;32m     77\u001b[0m     truncation\u001b[38;5;241m=\u001b[39m\u001b[38;5;28mself\u001b[39m\u001b[38;5;241m.\u001b[39mconfig\u001b[38;5;241m.\u001b[39mtruncation,\n\u001b[1;32m     78\u001b[0m     max_length\u001b[38;5;241m=\u001b[39m\u001b[38;5;28mself\u001b[39m\u001b[38;5;241m.\u001b[39mconfig\u001b[38;5;241m.\u001b[39mmax_length\n\u001b[1;32m     79\u001b[0m )\u001b[38;5;241m.\u001b[39mto(\u001b[38;5;28mself\u001b[39m\u001b[38;5;241m.\u001b[39mdevice)\n\u001b[0;32m---> 80\u001b[0m outputs \u001b[38;5;241m=\u001b[39m \u001b[38;5;28;43mself\u001b[39;49m\u001b[38;5;241;43m.\u001b[39;49m\u001b[43mmodel\u001b[49m\u001b[43m(\u001b[49m\u001b[38;5;241;43m*\u001b[39;49m\u001b[38;5;241;43m*\u001b[39;49m\u001b[43minputs\u001b[49m\u001b[43m)\u001b[49m\n\u001b[1;32m     81\u001b[0m encodings \u001b[38;5;241m=\u001b[39m \u001b[38;5;28mself\u001b[39m\u001b[38;5;241m.\u001b[39mpooler(outputs\u001b[38;5;241m.\u001b[39mlast_hidden_state, inputs\u001b[38;5;241m.\u001b[39mattention_mask)\n\u001b[1;32m     82\u001b[0m \u001b[38;5;28;01mreturn\u001b[39;00m encodings\n",
      "File \u001b[0;32m~/dialogue-augmentation/.venv/lib/python3.8/site-packages/torch/nn/modules/module.py:1511\u001b[0m, in \u001b[0;36mModule._wrapped_call_impl\u001b[0;34m(self, *args, **kwargs)\u001b[0m\n\u001b[1;32m   1509\u001b[0m     \u001b[38;5;28;01mreturn\u001b[39;00m \u001b[38;5;28mself\u001b[39m\u001b[38;5;241m.\u001b[39m_compiled_call_impl(\u001b[38;5;241m*\u001b[39margs, \u001b[38;5;241m*\u001b[39m\u001b[38;5;241m*\u001b[39mkwargs)  \u001b[38;5;66;03m# type: ignore[misc]\u001b[39;00m\n\u001b[1;32m   1510\u001b[0m \u001b[38;5;28;01melse\u001b[39;00m:\n\u001b[0;32m-> 1511\u001b[0m     \u001b[38;5;28;01mreturn\u001b[39;00m \u001b[38;5;28;43mself\u001b[39;49m\u001b[38;5;241;43m.\u001b[39;49m\u001b[43m_call_impl\u001b[49m\u001b[43m(\u001b[49m\u001b[38;5;241;43m*\u001b[39;49m\u001b[43margs\u001b[49m\u001b[43m,\u001b[49m\u001b[43m \u001b[49m\u001b[38;5;241;43m*\u001b[39;49m\u001b[38;5;241;43m*\u001b[39;49m\u001b[43mkwargs\u001b[49m\u001b[43m)\u001b[49m\n",
      "File \u001b[0;32m~/dialogue-augmentation/.venv/lib/python3.8/site-packages/torch/nn/modules/module.py:1520\u001b[0m, in \u001b[0;36mModule._call_impl\u001b[0;34m(self, *args, **kwargs)\u001b[0m\n\u001b[1;32m   1515\u001b[0m \u001b[38;5;66;03m# If we don't have any hooks, we want to skip the rest of the logic in\u001b[39;00m\n\u001b[1;32m   1516\u001b[0m \u001b[38;5;66;03m# this function, and just call forward.\u001b[39;00m\n\u001b[1;32m   1517\u001b[0m \u001b[38;5;28;01mif\u001b[39;00m \u001b[38;5;129;01mnot\u001b[39;00m (\u001b[38;5;28mself\u001b[39m\u001b[38;5;241m.\u001b[39m_backward_hooks \u001b[38;5;129;01mor\u001b[39;00m \u001b[38;5;28mself\u001b[39m\u001b[38;5;241m.\u001b[39m_backward_pre_hooks \u001b[38;5;129;01mor\u001b[39;00m \u001b[38;5;28mself\u001b[39m\u001b[38;5;241m.\u001b[39m_forward_hooks \u001b[38;5;129;01mor\u001b[39;00m \u001b[38;5;28mself\u001b[39m\u001b[38;5;241m.\u001b[39m_forward_pre_hooks\n\u001b[1;32m   1518\u001b[0m         \u001b[38;5;129;01mor\u001b[39;00m _global_backward_pre_hooks \u001b[38;5;129;01mor\u001b[39;00m _global_backward_hooks\n\u001b[1;32m   1519\u001b[0m         \u001b[38;5;129;01mor\u001b[39;00m _global_forward_hooks \u001b[38;5;129;01mor\u001b[39;00m _global_forward_pre_hooks):\n\u001b[0;32m-> 1520\u001b[0m     \u001b[38;5;28;01mreturn\u001b[39;00m \u001b[43mforward_call\u001b[49m\u001b[43m(\u001b[49m\u001b[38;5;241;43m*\u001b[39;49m\u001b[43margs\u001b[49m\u001b[43m,\u001b[49m\u001b[43m \u001b[49m\u001b[38;5;241;43m*\u001b[39;49m\u001b[38;5;241;43m*\u001b[39;49m\u001b[43mkwargs\u001b[49m\u001b[43m)\u001b[49m\n\u001b[1;32m   1522\u001b[0m \u001b[38;5;28;01mtry\u001b[39;00m:\n\u001b[1;32m   1523\u001b[0m     result \u001b[38;5;241m=\u001b[39m \u001b[38;5;28;01mNone\u001b[39;00m\n",
      "File \u001b[0;32m~/dialogue-augmentation/.venv/lib/python3.8/site-packages/transformers/models/mistral/modeling_mistral.py:1039\u001b[0m, in \u001b[0;36mMistralModel.forward\u001b[0;34m(self, input_ids, attention_mask, position_ids, past_key_values, inputs_embeds, use_cache, output_attentions, output_hidden_states, return_dict)\u001b[0m\n\u001b[1;32m   1029\u001b[0m     layer_outputs \u001b[38;5;241m=\u001b[39m \u001b[38;5;28mself\u001b[39m\u001b[38;5;241m.\u001b[39m_gradient_checkpointing_func(\n\u001b[1;32m   1030\u001b[0m         decoder_layer\u001b[38;5;241m.\u001b[39m\u001b[38;5;21m__call__\u001b[39m,\n\u001b[1;32m   1031\u001b[0m         hidden_states,\n\u001b[0;32m   (...)\u001b[0m\n\u001b[1;32m   1036\u001b[0m         use_cache,\n\u001b[1;32m   1037\u001b[0m     )\n\u001b[1;32m   1038\u001b[0m \u001b[38;5;28;01melse\u001b[39;00m:\n\u001b[0;32m-> 1039\u001b[0m     layer_outputs \u001b[38;5;241m=\u001b[39m \u001b[43mdecoder_layer\u001b[49m\u001b[43m(\u001b[49m\n\u001b[1;32m   1040\u001b[0m \u001b[43m        \u001b[49m\u001b[43mhidden_states\u001b[49m\u001b[43m,\u001b[49m\n\u001b[1;32m   1041\u001b[0m \u001b[43m        \u001b[49m\u001b[43mattention_mask\u001b[49m\u001b[38;5;241;43m=\u001b[39;49m\u001b[43mattention_mask\u001b[49m\u001b[43m,\u001b[49m\n\u001b[1;32m   1042\u001b[0m \u001b[43m        \u001b[49m\u001b[43mposition_ids\u001b[49m\u001b[38;5;241;43m=\u001b[39;49m\u001b[43mposition_ids\u001b[49m\u001b[43m,\u001b[49m\n\u001b[1;32m   1043\u001b[0m \u001b[43m        \u001b[49m\u001b[43mpast_key_value\u001b[49m\u001b[38;5;241;43m=\u001b[39;49m\u001b[43mpast_key_values\u001b[49m\u001b[43m,\u001b[49m\n\u001b[1;32m   1044\u001b[0m \u001b[43m        \u001b[49m\u001b[43moutput_attentions\u001b[49m\u001b[38;5;241;43m=\u001b[39;49m\u001b[43moutput_attentions\u001b[49m\u001b[43m,\u001b[49m\n\u001b[1;32m   1045\u001b[0m \u001b[43m        \u001b[49m\u001b[43muse_cache\u001b[49m\u001b[38;5;241;43m=\u001b[39;49m\u001b[43muse_cache\u001b[49m\u001b[43m,\u001b[49m\n\u001b[1;32m   1046\u001b[0m \u001b[43m    \u001b[49m\u001b[43m)\u001b[49m\n\u001b[1;32m   1048\u001b[0m hidden_states \u001b[38;5;241m=\u001b[39m layer_outputs[\u001b[38;5;241m0\u001b[39m]\n\u001b[1;32m   1050\u001b[0m \u001b[38;5;28;01mif\u001b[39;00m use_cache:\n",
      "File \u001b[0;32m~/dialogue-augmentation/.venv/lib/python3.8/site-packages/torch/nn/modules/module.py:1511\u001b[0m, in \u001b[0;36mModule._wrapped_call_impl\u001b[0;34m(self, *args, **kwargs)\u001b[0m\n\u001b[1;32m   1509\u001b[0m     \u001b[38;5;28;01mreturn\u001b[39;00m \u001b[38;5;28mself\u001b[39m\u001b[38;5;241m.\u001b[39m_compiled_call_impl(\u001b[38;5;241m*\u001b[39margs, \u001b[38;5;241m*\u001b[39m\u001b[38;5;241m*\u001b[39mkwargs)  \u001b[38;5;66;03m# type: ignore[misc]\u001b[39;00m\n\u001b[1;32m   1510\u001b[0m \u001b[38;5;28;01melse\u001b[39;00m:\n\u001b[0;32m-> 1511\u001b[0m     \u001b[38;5;28;01mreturn\u001b[39;00m \u001b[38;5;28;43mself\u001b[39;49m\u001b[38;5;241;43m.\u001b[39;49m\u001b[43m_call_impl\u001b[49m\u001b[43m(\u001b[49m\u001b[38;5;241;43m*\u001b[39;49m\u001b[43margs\u001b[49m\u001b[43m,\u001b[49m\u001b[43m \u001b[49m\u001b[38;5;241;43m*\u001b[39;49m\u001b[38;5;241;43m*\u001b[39;49m\u001b[43mkwargs\u001b[49m\u001b[43m)\u001b[49m\n",
      "File \u001b[0;32m~/dialogue-augmentation/.venv/lib/python3.8/site-packages/torch/nn/modules/module.py:1520\u001b[0m, in \u001b[0;36mModule._call_impl\u001b[0;34m(self, *args, **kwargs)\u001b[0m\n\u001b[1;32m   1515\u001b[0m \u001b[38;5;66;03m# If we don't have any hooks, we want to skip the rest of the logic in\u001b[39;00m\n\u001b[1;32m   1516\u001b[0m \u001b[38;5;66;03m# this function, and just call forward.\u001b[39;00m\n\u001b[1;32m   1517\u001b[0m \u001b[38;5;28;01mif\u001b[39;00m \u001b[38;5;129;01mnot\u001b[39;00m (\u001b[38;5;28mself\u001b[39m\u001b[38;5;241m.\u001b[39m_backward_hooks \u001b[38;5;129;01mor\u001b[39;00m \u001b[38;5;28mself\u001b[39m\u001b[38;5;241m.\u001b[39m_backward_pre_hooks \u001b[38;5;129;01mor\u001b[39;00m \u001b[38;5;28mself\u001b[39m\u001b[38;5;241m.\u001b[39m_forward_hooks \u001b[38;5;129;01mor\u001b[39;00m \u001b[38;5;28mself\u001b[39m\u001b[38;5;241m.\u001b[39m_forward_pre_hooks\n\u001b[1;32m   1518\u001b[0m         \u001b[38;5;129;01mor\u001b[39;00m _global_backward_pre_hooks \u001b[38;5;129;01mor\u001b[39;00m _global_backward_hooks\n\u001b[1;32m   1519\u001b[0m         \u001b[38;5;129;01mor\u001b[39;00m _global_forward_hooks \u001b[38;5;129;01mor\u001b[39;00m _global_forward_pre_hooks):\n\u001b[0;32m-> 1520\u001b[0m     \u001b[38;5;28;01mreturn\u001b[39;00m \u001b[43mforward_call\u001b[49m\u001b[43m(\u001b[49m\u001b[38;5;241;43m*\u001b[39;49m\u001b[43margs\u001b[49m\u001b[43m,\u001b[49m\u001b[43m \u001b[49m\u001b[38;5;241;43m*\u001b[39;49m\u001b[38;5;241;43m*\u001b[39;49m\u001b[43mkwargs\u001b[49m\u001b[43m)\u001b[49m\n\u001b[1;32m   1522\u001b[0m \u001b[38;5;28;01mtry\u001b[39;00m:\n\u001b[1;32m   1523\u001b[0m     result \u001b[38;5;241m=\u001b[39m \u001b[38;5;28;01mNone\u001b[39;00m\n",
      "File \u001b[0;32m~/dialogue-augmentation/.venv/lib/python3.8/site-packages/transformers/models/mistral/modeling_mistral.py:754\u001b[0m, in \u001b[0;36mMistralDecoderLayer.forward\u001b[0;34m(self, hidden_states, attention_mask, position_ids, past_key_value, output_attentions, use_cache, **kwargs)\u001b[0m\n\u001b[1;32m    751\u001b[0m hidden_states \u001b[38;5;241m=\u001b[39m \u001b[38;5;28mself\u001b[39m\u001b[38;5;241m.\u001b[39minput_layernorm(hidden_states)\n\u001b[1;32m    753\u001b[0m \u001b[38;5;66;03m# Self Attention\u001b[39;00m\n\u001b[0;32m--> 754\u001b[0m hidden_states, self_attn_weights, present_key_value \u001b[38;5;241m=\u001b[39m \u001b[38;5;28;43mself\u001b[39;49m\u001b[38;5;241;43m.\u001b[39;49m\u001b[43mself_attn\u001b[49m\u001b[43m(\u001b[49m\n\u001b[1;32m    755\u001b[0m \u001b[43m    \u001b[49m\u001b[43mhidden_states\u001b[49m\u001b[38;5;241;43m=\u001b[39;49m\u001b[43mhidden_states\u001b[49m\u001b[43m,\u001b[49m\n\u001b[1;32m    756\u001b[0m \u001b[43m    \u001b[49m\u001b[43mattention_mask\u001b[49m\u001b[38;5;241;43m=\u001b[39;49m\u001b[43mattention_mask\u001b[49m\u001b[43m,\u001b[49m\n\u001b[1;32m    757\u001b[0m \u001b[43m    \u001b[49m\u001b[43mposition_ids\u001b[49m\u001b[38;5;241;43m=\u001b[39;49m\u001b[43mposition_ids\u001b[49m\u001b[43m,\u001b[49m\n\u001b[1;32m    758\u001b[0m \u001b[43m    \u001b[49m\u001b[43mpast_key_value\u001b[49m\u001b[38;5;241;43m=\u001b[39;49m\u001b[43mpast_key_value\u001b[49m\u001b[43m,\u001b[49m\n\u001b[1;32m    759\u001b[0m \u001b[43m    \u001b[49m\u001b[43moutput_attentions\u001b[49m\u001b[38;5;241;43m=\u001b[39;49m\u001b[43moutput_attentions\u001b[49m\u001b[43m,\u001b[49m\n\u001b[1;32m    760\u001b[0m \u001b[43m    \u001b[49m\u001b[43muse_cache\u001b[49m\u001b[38;5;241;43m=\u001b[39;49m\u001b[43muse_cache\u001b[49m\u001b[43m,\u001b[49m\n\u001b[1;32m    761\u001b[0m \u001b[43m\u001b[49m\u001b[43m)\u001b[49m\n\u001b[1;32m    762\u001b[0m hidden_states \u001b[38;5;241m=\u001b[39m residual \u001b[38;5;241m+\u001b[39m hidden_states\n\u001b[1;32m    764\u001b[0m \u001b[38;5;66;03m# Fully Connected\u001b[39;00m\n",
      "File \u001b[0;32m~/dialogue-augmentation/.venv/lib/python3.8/site-packages/torch/nn/modules/module.py:1511\u001b[0m, in \u001b[0;36mModule._wrapped_call_impl\u001b[0;34m(self, *args, **kwargs)\u001b[0m\n\u001b[1;32m   1509\u001b[0m     \u001b[38;5;28;01mreturn\u001b[39;00m \u001b[38;5;28mself\u001b[39m\u001b[38;5;241m.\u001b[39m_compiled_call_impl(\u001b[38;5;241m*\u001b[39margs, \u001b[38;5;241m*\u001b[39m\u001b[38;5;241m*\u001b[39mkwargs)  \u001b[38;5;66;03m# type: ignore[misc]\u001b[39;00m\n\u001b[1;32m   1510\u001b[0m \u001b[38;5;28;01melse\u001b[39;00m:\n\u001b[0;32m-> 1511\u001b[0m     \u001b[38;5;28;01mreturn\u001b[39;00m \u001b[38;5;28;43mself\u001b[39;49m\u001b[38;5;241;43m.\u001b[39;49m\u001b[43m_call_impl\u001b[49m\u001b[43m(\u001b[49m\u001b[38;5;241;43m*\u001b[39;49m\u001b[43margs\u001b[49m\u001b[43m,\u001b[49m\u001b[43m \u001b[49m\u001b[38;5;241;43m*\u001b[39;49m\u001b[38;5;241;43m*\u001b[39;49m\u001b[43mkwargs\u001b[49m\u001b[43m)\u001b[49m\n",
      "File \u001b[0;32m~/dialogue-augmentation/.venv/lib/python3.8/site-packages/torch/nn/modules/module.py:1520\u001b[0m, in \u001b[0;36mModule._call_impl\u001b[0;34m(self, *args, **kwargs)\u001b[0m\n\u001b[1;32m   1515\u001b[0m \u001b[38;5;66;03m# If we don't have any hooks, we want to skip the rest of the logic in\u001b[39;00m\n\u001b[1;32m   1516\u001b[0m \u001b[38;5;66;03m# this function, and just call forward.\u001b[39;00m\n\u001b[1;32m   1517\u001b[0m \u001b[38;5;28;01mif\u001b[39;00m \u001b[38;5;129;01mnot\u001b[39;00m (\u001b[38;5;28mself\u001b[39m\u001b[38;5;241m.\u001b[39m_backward_hooks \u001b[38;5;129;01mor\u001b[39;00m \u001b[38;5;28mself\u001b[39m\u001b[38;5;241m.\u001b[39m_backward_pre_hooks \u001b[38;5;129;01mor\u001b[39;00m \u001b[38;5;28mself\u001b[39m\u001b[38;5;241m.\u001b[39m_forward_hooks \u001b[38;5;129;01mor\u001b[39;00m \u001b[38;5;28mself\u001b[39m\u001b[38;5;241m.\u001b[39m_forward_pre_hooks\n\u001b[1;32m   1518\u001b[0m         \u001b[38;5;129;01mor\u001b[39;00m _global_backward_pre_hooks \u001b[38;5;129;01mor\u001b[39;00m _global_backward_hooks\n\u001b[1;32m   1519\u001b[0m         \u001b[38;5;129;01mor\u001b[39;00m _global_forward_hooks \u001b[38;5;129;01mor\u001b[39;00m _global_forward_pre_hooks):\n\u001b[0;32m-> 1520\u001b[0m     \u001b[38;5;28;01mreturn\u001b[39;00m \u001b[43mforward_call\u001b[49m\u001b[43m(\u001b[49m\u001b[38;5;241;43m*\u001b[39;49m\u001b[43margs\u001b[49m\u001b[43m,\u001b[49m\u001b[43m \u001b[49m\u001b[38;5;241;43m*\u001b[39;49m\u001b[38;5;241;43m*\u001b[39;49m\u001b[43mkwargs\u001b[49m\u001b[43m)\u001b[49m\n\u001b[1;32m   1522\u001b[0m \u001b[38;5;28;01mtry\u001b[39;00m:\n\u001b[1;32m   1523\u001b[0m     result \u001b[38;5;241m=\u001b[39m \u001b[38;5;28;01mNone\u001b[39;00m\n",
      "File \u001b[0;32m~/dialogue-augmentation/.venv/lib/python3.8/site-packages/transformers/models/mistral/modeling_mistral.py:663\u001b[0m, in \u001b[0;36mMistralSdpaAttention.forward\u001b[0;34m(self, hidden_states, attention_mask, position_ids, past_key_value, output_attentions, use_cache)\u001b[0m\n\u001b[1;32m    660\u001b[0m     kv_seq_len \u001b[38;5;241m+\u001b[39m\u001b[38;5;241m=\u001b[39m past_key_value\u001b[38;5;241m.\u001b[39mget_usable_length(kv_seq_len, \u001b[38;5;28mself\u001b[39m\u001b[38;5;241m.\u001b[39mlayer_idx)\n\u001b[1;32m    661\u001b[0m cos, sin \u001b[38;5;241m=\u001b[39m \u001b[38;5;28mself\u001b[39m\u001b[38;5;241m.\u001b[39mrotary_emb(value_states, seq_len\u001b[38;5;241m=\u001b[39mkv_seq_len)\n\u001b[0;32m--> 663\u001b[0m query_states, key_states \u001b[38;5;241m=\u001b[39m \u001b[43mapply_rotary_pos_emb\u001b[49m\u001b[43m(\u001b[49m\u001b[43mquery_states\u001b[49m\u001b[43m,\u001b[49m\u001b[43m \u001b[49m\u001b[43mkey_states\u001b[49m\u001b[43m,\u001b[49m\u001b[43m \u001b[49m\u001b[43mcos\u001b[49m\u001b[43m,\u001b[49m\u001b[43m \u001b[49m\u001b[43msin\u001b[49m\u001b[43m,\u001b[49m\u001b[43m \u001b[49m\u001b[43mposition_ids\u001b[49m\u001b[43m)\u001b[49m\n\u001b[1;32m    665\u001b[0m \u001b[38;5;28;01mif\u001b[39;00m past_key_value \u001b[38;5;129;01mis\u001b[39;00m \u001b[38;5;129;01mnot\u001b[39;00m \u001b[38;5;28;01mNone\u001b[39;00m:\n\u001b[1;32m    666\u001b[0m     cache_kwargs \u001b[38;5;241m=\u001b[39m {\u001b[38;5;124m\"\u001b[39m\u001b[38;5;124msin\u001b[39m\u001b[38;5;124m\"\u001b[39m: sin, \u001b[38;5;124m\"\u001b[39m\u001b[38;5;124mcos\u001b[39m\u001b[38;5;124m\"\u001b[39m: cos}  \u001b[38;5;66;03m# Specific to RoPE models\u001b[39;00m\n",
      "File \u001b[0;32m~/dialogue-augmentation/.venv/lib/python3.8/site-packages/transformers/models/mistral/modeling_mistral.py:160\u001b[0m, in \u001b[0;36mapply_rotary_pos_emb\u001b[0;34m(q, k, cos, sin, position_ids, unsqueeze_dim)\u001b[0m\n\u001b[1;32m    158\u001b[0m cos \u001b[38;5;241m=\u001b[39m cos[position_ids]\u001b[38;5;241m.\u001b[39munsqueeze(unsqueeze_dim)\n\u001b[1;32m    159\u001b[0m sin \u001b[38;5;241m=\u001b[39m sin[position_ids]\u001b[38;5;241m.\u001b[39munsqueeze(unsqueeze_dim)\n\u001b[0;32m--> 160\u001b[0m q_embed \u001b[38;5;241m=\u001b[39m (q \u001b[38;5;241m*\u001b[39m cos) \u001b[38;5;241m+\u001b[39m (\u001b[43mrotate_half\u001b[49m\u001b[43m(\u001b[49m\u001b[43mq\u001b[49m\u001b[43m)\u001b[49m \u001b[38;5;241m*\u001b[39m sin)\n\u001b[1;32m    161\u001b[0m k_embed \u001b[38;5;241m=\u001b[39m (k \u001b[38;5;241m*\u001b[39m cos) \u001b[38;5;241m+\u001b[39m (rotate_half(k) \u001b[38;5;241m*\u001b[39m sin)\n\u001b[1;32m    162\u001b[0m \u001b[38;5;28;01mreturn\u001b[39;00m q_embed, k_embed\n",
      "File \u001b[0;32m~/dialogue-augmentation/.venv/lib/python3.8/site-packages/transformers/models/mistral/modeling_mistral.py:133\u001b[0m, in \u001b[0;36mrotate_half\u001b[0;34m(x)\u001b[0m\n\u001b[1;32m    131\u001b[0m x1 \u001b[38;5;241m=\u001b[39m x[\u001b[38;5;241m.\u001b[39m\u001b[38;5;241m.\u001b[39m\u001b[38;5;241m.\u001b[39m, : x\u001b[38;5;241m.\u001b[39mshape[\u001b[38;5;241m-\u001b[39m\u001b[38;5;241m1\u001b[39m] \u001b[38;5;241m/\u001b[39m\u001b[38;5;241m/\u001b[39m \u001b[38;5;241m2\u001b[39m]\n\u001b[1;32m    132\u001b[0m x2 \u001b[38;5;241m=\u001b[39m x[\u001b[38;5;241m.\u001b[39m\u001b[38;5;241m.\u001b[39m\u001b[38;5;241m.\u001b[39m, x\u001b[38;5;241m.\u001b[39mshape[\u001b[38;5;241m-\u001b[39m\u001b[38;5;241m1\u001b[39m] \u001b[38;5;241m/\u001b[39m\u001b[38;5;241m/\u001b[39m \u001b[38;5;241m2\u001b[39m :]\n\u001b[0;32m--> 133\u001b[0m \u001b[38;5;28;01mreturn\u001b[39;00m torch\u001b[38;5;241m.\u001b[39mcat((\u001b[38;5;241;43m-\u001b[39;49m\u001b[43mx2\u001b[49m, x1), dim\u001b[38;5;241m=\u001b[39m\u001b[38;5;241m-\u001b[39m\u001b[38;5;241m1\u001b[39m)\n",
      "\u001b[0;31mKeyboardInterrupt\u001b[0m: "
     ]
    }
   ],
   "source": [
    "\n",
    "# from argparse import ArgumentParser\n",
    "\n",
    "# ap = ArgumentParser()\n",
    "# ap.add_argument('--seed', default=0, type=int)\n",
    "# ap.add_argument('--path-in', required=True)\n",
    "# ap.add_argument('--path-out', required=True)\n",
    "# ap.add_argument('--model', required=True)\n",
    "# ap.add_argument('--pooling', choices=['cls', 'avg', 'last'], required=True)\n",
    "# ap.add_argument('--batch-size', required=True, type=int)\n",
    "# ap.add_argument('--cuda', required=True)\n",
    "# args = ap.parse_args()\n",
    "\n",
    "from dataclasses import dataclass\n",
    "\n",
    "@dataclass\n",
    "class Args:\n",
    "    seed=0\n",
    "    path_in='data/benchmarks-bert/sgd/train'\n",
    "    path_out='data/scatter-analysis/sfrtest-embedded/sgd'\n",
    "    model='Salesforce/SFR-Embedding-Mistral'\n",
    "    pooling='last'\n",
    "    batch_size=16\n",
    "    cuda=\"0\"\n",
    "\n",
    "args = Args()\n",
    "\n",
    "\n",
    "from mylib.utils.training import init_environment\n",
    "init_environment(args)\n",
    "\n",
    "# load model\n",
    "from mylib.modeling.dialogue import BaselineDialogueEncoder, BaselineDialogueEncoderConfig\n",
    "\n",
    "config = BaselineDialogueEncoderConfig(\n",
    "    hf_model=args.model,\n",
    "    pooling=args.pooling,\n",
    "    truncation=True,\n",
    "    max_length=4096 if args.pooling == 'last' else 512\n",
    ")\n",
    "if args.pooling == 'last':\n",
    "    # LLM\n",
    "    kwargs = dict()\n",
    "else:\n",
    "    # BERT-like\n",
    "    kwargs = {}\n",
    "encoder = BaselineDialogueEncoder(config, **kwargs).cuda().eval()\n",
    "\n",
    "# load data\n",
    "from datasets import load_from_disk, disable_caching\n",
    "disable_caching()\n",
    "\n",
    "dataset = load_from_disk(args.path_in)\n",
    "\n",
    "# feed to model and collect embeddings\n",
    "from torch import no_grad\n",
    "\n",
    "with no_grad():\n",
    "    dataset = dataset.map(\n",
    "        lambda batch: {'embedding': encoder(batch).detach().cpu().numpy()},\n",
    "        input_columns='content',\n",
    "        batched=True,\n",
    "        batch_size=args.batch_size\n",
    "    )\n",
    "\n",
    "# save to disk\n",
    "dataset.save_to_disk(args.path_out)\n"
   ]
  },
  {
   "cell_type": "code",
   "execution_count": 2,
   "metadata": {},
   "outputs": [],
   "source": [
    "batch_dict = batch_dict.to('cuda')"
   ]
  },
  {
   "cell_type": "code",
   "execution_count": 3,
   "metadata": {},
   "outputs": [
    {
     "data": {
      "application/vnd.jupyter.widget-view+json": {
       "model_id": "542dd1f3d7b6433c9a5f24470200bb67",
       "version_major": 2,
       "version_minor": 0
      },
      "text/plain": [
       "Loading checkpoint shards:   0%|          | 0/3 [00:00<?, ?it/s]"
      ]
     },
     "metadata": {},
     "output_type": "display_data"
    }
   ],
   "source": [
    "model = AutoModel.from_pretrained(\n",
    "    \"Salesforce/SFR-Embedding-Mistral\",\n",
    "    device_map='auto',\n",
    "    load_in_8bit=True\n",
    ")"
   ]
  },
  {
   "cell_type": "code",
   "execution_count": 4,
   "metadata": {},
   "outputs": [
    {
     "name": "stdout",
     "output_type": "stream",
     "text": [
      "[[86.5625, 36.75], [34.84375, 82.0625]]\n"
     ]
    }
   ],
   "source": [
    "\n",
    "outputs = model(**batch_dict)\n",
    "embeddings = last_token_pool(outputs.last_hidden_state, batch_dict[\"attention_mask\"])\n",
    "\n",
    "# normalize embeddings\n",
    "embeddings = F.normalize(embeddings, p=2, dim=1)\n",
    "scores = (embeddings[:2] @ embeddings[2:].T) * 100\n",
    "print(scores.tolist())\n",
    "# [[86.7153549194336, 36.64569091796875], [35.00493621826172, 82.0738525390625]]\n"
   ]
  }
 ],
 "metadata": {
  "kernelspec": {
   "display_name": "VENV",
   "language": "python",
   "name": "python3"
  },
  "language_info": {
   "codemirror_mode": {
    "name": "ipython",
    "version": 3
   },
   "file_extension": ".py",
   "mimetype": "text/x-python",
   "name": "python",
   "nbconvert_exporter": "python",
   "pygments_lexer": "ipython3",
   "version": "3.8.10"
  }
 },
 "nbformat": 4,
 "nbformat_minor": 2
}
