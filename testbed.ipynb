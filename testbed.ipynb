{
 "cells": [
  {
   "cell_type": "code",
   "execution_count": 6,
   "metadata": {},
   "outputs": [
    {
     "name": "stderr",
     "output_type": "stream",
     "text": [
      "Downloading (…)lve/main/config.json: 100%|██████████| 615/615 [00:00<00:00, 80.3kB/s]\n",
      "Downloading (…)tencepiece.bpe.model: 100%|██████████| 5.07M/5.07M [00:00<00:00, 21.4MB/s]\n",
      "Downloading (…)/main/tokenizer.json: 100%|██████████| 9.10M/9.10M [00:00<00:00, 34.0MB/s]\n"
     ]
    },
    {
     "data": {
      "text/plain": [
       "250002"
      ]
     },
     "execution_count": 6,
     "metadata": {},
     "output_type": "execute_result"
    }
   ],
   "source": [
    "from transformers import AutoTokenizer\n",
    "\n",
    "tok = AutoTokenizer.from_pretrained('xlm-roberta-base')\n",
    "len(tok)"
   ]
  },
  {
   "cell_type": "code",
   "execution_count": 4,
   "metadata": {},
   "outputs": [
    {
     "name": "stderr",
     "output_type": "stream",
     "text": [
      "Downloading (…)okenizer_config.json: 100%|██████████| 300/300 [00:00<00:00, 45.1kB/s]\n",
      "Downloading (…)lve/main/config.json: 100%|██████████| 670/670 [00:00<00:00, 282kB/s]\n",
      "Downloading (…)solve/main/vocab.txt: 100%|██████████| 232k/232k [00:00<00:00, 22.3MB/s]\n",
      "Downloading (…)cial_tokens_map.json: 100%|██████████| 112/112 [00:00<00:00, 50.5kB/s]\n"
     ]
    },
    {
     "data": {
      "text/plain": [
       "30522"
      ]
     },
     "execution_count": 4,
     "metadata": {},
     "output_type": "execute_result"
    }
   ],
   "source": [
    "tok = AutoTokenizer.from_pretrained('Shitao/RetroMAE_MSMARCO')\n",
    "len(tok)"
   ]
  },
  {
   "cell_type": "code",
   "execution_count": 1,
   "metadata": {},
   "outputs": [
    {
     "data": {
      "text/plain": [
       "'500.json'"
      ]
     },
     "execution_count": 1,
     "metadata": {},
     "output_type": "execute_result"
    }
   ],
   "source": [
    "import os\n",
    "import json\n",
    "chunk_names = [fname for fname in os.listdir('data/augmented/back-translate/') if fname.endswith('.json')]\n",
    "chunk_names[414]"
   ]
  },
  {
   "cell_type": "markdown",
   "metadata": {},
   "source": [
    "## pyarrow dataset"
   ]
  },
  {
   "cell_type": "code",
   "execution_count": 13,
   "metadata": {},
   "outputs": [
    {
     "data": {
      "text/plain": [
       "content: string\n",
       "source_dataset_name: string\n",
       "idx_within_source: int64\n",
       "id: int64\n",
       "-- schema metadata --\n",
       "huggingface: '{\"info\": {\"features\": {\"content\": {\"dtype\": \"string\", \"_typ' + 180"
      ]
     },
     "execution_count": 13,
     "metadata": {},
     "output_type": "execute_result"
    }
   ],
   "source": [
    "import pyarrow.parquet as pq\n",
    "import pyarrow as pa\n",
    "\n",
    "table = pq.read_table('data-2/augmented/replace-test.parquet')\n",
    "table.schema"
   ]
  },
  {
   "cell_type": "code",
   "execution_count": 14,
   "metadata": {},
   "outputs": [
    {
     "data": {
      "text/plain": [
       "Dataset({\n",
       "    features: ['source_dataset_name', 'idx_within_source', 'id', 'pos', 'orig'],\n",
       "    num_rows: 192\n",
       "})"
      ]
     },
     "execution_count": 14,
     "metadata": {},
     "output_type": "execute_result"
    }
   ],
   "source": [
    "from datasets import load_from_disk\n",
    "\n",
    "dataset = load_from_disk('data-2/joined')\n",
    "dataset"
   ]
  },
  {
   "cell_type": "code",
   "execution_count": 15,
   "metadata": {},
   "outputs": [
    {
     "data": {
      "text/plain": [
       "{'source_dataset_name': 'AirDialogue',\n",
       " 'idx_within_source': 44062,\n",
       " 'id': 220179,\n",
       " 'pos': [{'augmentation': 'replace-test',\n",
       "   'content': [{'speaker': 0, 'utterance': 'Hi. I am john Anderson.'},\n",
       "    {'speaker': 1, 'utterance': 'Hello, how can I help you today?'},\n",
       "    {'speaker': 0,\n",
       "     'utterance': 'I need to cancel my job as my last job already cancelled. Can you help me with cancellation?'},\n",
       "    {'speaker': 1, 'utterance': 'Sure, hang think for a moment.'},\n",
       "    {'speaker': 0, 'utterance': 'Ok.'},\n",
       "    {'speaker': 1, 'utterance': 'Sorry, no spoil problems with your name.'},\n",
       "    {'speaker': 0, 'utterance': \"It's Ok. thanks for your response.\"},\n",
       "    {'speaker': 1, 'utterance': 'Thank you for joining us.'}]},\n",
       "  {'augmentation': 'replace-test2',\n",
       "   'content': [{'speaker': 0, 'utterance': 'Hi. I am john Anderson.'},\n",
       "    {'speaker': 1, 'utterance': 'Hello, how can I help you today?'},\n",
       "    {'speaker': 0,\n",
       "     'utterance': 'I need to cancel my job as my last job already cancelled. Can you help me with cancellation?'},\n",
       "    {'speaker': 1, 'utterance': 'Sure, hang think for a moment.'},\n",
       "    {'speaker': 0, 'utterance': 'Ok.'},\n",
       "    {'speaker': 1, 'utterance': 'Sorry, no spoil problems with your name.'},\n",
       "    {'speaker': 0, 'utterance': \"It's Ok. thanks for your response.\"},\n",
       "    {'speaker': 1, 'utterance': 'Thank you for joining us.'}]}],\n",
       " 'orig': {'augmentation': None,\n",
       "  'content': [{'speaker': 0, 'utterance': 'Hi. I am Dorothy Anderson.'},\n",
       "   {'speaker': 1, 'utterance': 'Hello, how can I assist you today?'},\n",
       "   {'speaker': 0,\n",
       "    'utterance': 'I want to cancel my reservation as my lab exam got cancelled. Can you help me with cancellation?'},\n",
       "   {'speaker': 1, 'utterance': 'Sure, please wait for a moment.'},\n",
       "   {'speaker': 0, 'utterance': 'Ok.'},\n",
       "   {'speaker': 1, 'utterance': 'Sorry, no reservation found with your name.'},\n",
       "   {'speaker': 0, 'utterance': \"It's Ok. Thanks for your response.\"},\n",
       "   {'speaker': 1, 'utterance': 'Thank you for choosing us.'}]}}"
      ]
     },
     "execution_count": 15,
     "metadata": {},
     "output_type": "execute_result"
    }
   ],
   "source": [
    "dataset[0]"
   ]
  },
  {
   "cell_type": "code",
   "execution_count": 18,
   "metadata": {},
   "outputs": [
    {
     "data": {
      "text/plain": [
       "Dataset({\n",
       "    features: ['source_dataset_name', 'idx_within_source', 'id', 'pos', 'orig'],\n",
       "    num_rows: 192\n",
       "})"
      ]
     },
     "execution_count": 18,
     "metadata": {},
     "output_type": "execute_result"
    }
   ],
   "source": [
    "from datasets import load_from_disk\n",
    "\n",
    "dataset = load_from_disk('data-2/train/joined-bert-base-uncased')\n",
    "dataset"
   ]
  },
  {
   "cell_type": "code",
   "execution_count": 17,
   "metadata": {},
   "outputs": [
    {
     "data": {
      "text/plain": [
       "{'source_dataset_name': 'AirDialogue',\n",
       " 'idx_within_source': 44062,\n",
       " 'id': 220179,\n",
       " 'pos': [{'augmentation': 'replace-test',\n",
       "   'content': [{'speaker': 0, 'utterance': 'Hi. I am john Anderson.'},\n",
       "    {'speaker': 1, 'utterance': 'Hello, how can I help you today?'},\n",
       "    {'speaker': 0,\n",
       "     'utterance': 'I need to cancel my job as my last job already cancelled. Can you help me with cancellation?'},\n",
       "    {'speaker': 1, 'utterance': 'Sure, hang think for a moment.'},\n",
       "    {'speaker': 0, 'utterance': 'Ok.'},\n",
       "    {'speaker': 1, 'utterance': 'Sorry, no spoil problems with your name.'},\n",
       "    {'speaker': 0, 'utterance': \"It's Ok. thanks for your response.\"},\n",
       "    {'speaker': 1, 'utterance': 'Thank you for joining us.'}]},\n",
       "  {'augmentation': 'replace-test2',\n",
       "   'content': [{'speaker': 0, 'utterance': 'Hi. I am john Anderson.'},\n",
       "    {'speaker': 1, 'utterance': 'Hello, how can I help you today?'},\n",
       "    {'speaker': 0,\n",
       "     'utterance': 'I need to cancel my job as my last job already cancelled. Can you help me with cancellation?'},\n",
       "    {'speaker': 1, 'utterance': 'Sure, hang think for a moment.'},\n",
       "    {'speaker': 0, 'utterance': 'Ok.'},\n",
       "    {'speaker': 1, 'utterance': 'Sorry, no spoil problems with your name.'},\n",
       "    {'speaker': 0, 'utterance': \"It's Ok. thanks for your response.\"},\n",
       "    {'speaker': 1, 'utterance': 'Thank you for joining us.'}]}],\n",
       " 'orig': {'augmentation': None,\n",
       "  'content': [{'speaker': 0, 'utterance': 'Hi. I am Dorothy Anderson.'},\n",
       "   {'speaker': 1, 'utterance': 'Hello, how can I assist you today?'},\n",
       "   {'speaker': 0,\n",
       "    'utterance': 'I want to cancel my reservation as my lab exam got cancelled. Can you help me with cancellation?'},\n",
       "   {'speaker': 1, 'utterance': 'Sure, please wait for a moment.'},\n",
       "   {'speaker': 0, 'utterance': 'Ok.'},\n",
       "   {'speaker': 1, 'utterance': 'Sorry, no reservation found with your name.'},\n",
       "   {'speaker': 0, 'utterance': \"It's Ok. Thanks for your response.\"},\n",
       "   {'speaker': 1, 'utterance': 'Thank you for choosing us.'}]}}"
      ]
     },
     "execution_count": 17,
     "metadata": {},
     "output_type": "execute_result"
    }
   ],
   "source": [
    "dataset[0]"
   ]
  }
 ],
 "metadata": {
  "kernelspec": {
   "display_name": "VENV",
   "language": "python",
   "name": "python3"
  },
  "language_info": {
   "codemirror_mode": {
    "name": "ipython",
    "version": 3
   },
   "file_extension": ".py",
   "mimetype": "text/x-python",
   "name": "python",
   "nbconvert_exporter": "python",
   "pygments_lexer": "ipython3",
   "version": "3.8.10"
  }
 },
 "nbformat": 4,
 "nbformat_minor": 2
}
