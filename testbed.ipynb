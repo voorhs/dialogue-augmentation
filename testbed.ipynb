{
 "cells": [
  {
   "cell_type": "markdown",
   "metadata": {},
   "source": [
    "# save my precious data"
   ]
  },
  {
   "cell_type": "code",
   "execution_count": 4,
   "metadata": {},
   "outputs": [],
   "source": [
    "from datasets import load_from_disk\n",
    "\n",
    "back_translate = load_from_disk('data/augmented/back-translate-collected')\n",
    "insert = load_from_disk('data/augmented/insert-collected')\n",
    "replace = load_from_disk('data/augmented/replace-collected')"
   ]
  },
  {
   "cell_type": "code",
   "execution_count": 7,
   "metadata": {},
   "outputs": [],
   "source": [
    "from datasets import DatasetDict\n",
    "\n",
    "dataset = DatasetDict({\n",
    "    'back_translate': back_translate,\n",
    "    'insert': insert,\n",
    "    'replace': replace\n",
    "})"
   ]
  },
  {
   "cell_type": "code",
   "execution_count": 8,
   "metadata": {},
   "outputs": [
    {
     "name": "stderr",
     "output_type": "stream",
     "text": [
      "Creating parquet from Arrow format: 100%|██████████| 451/451 [00:01<00:00, 286.60ba/s]\n",
      "Uploading the dataset shards: 100%|██████████| 1/1 [00:23<00:00, 23.95s/it]\n",
      "Creating parquet from Arrow format: 100%|██████████| 451/451 [00:01<00:00, 247.73ba/s]\n",
      "Uploading the dataset shards: 100%|██████████| 1/1 [00:28<00:00, 28.70s/it]\n",
      "Creating parquet from Arrow format: 100%|██████████| 451/451 [00:01<00:00, 253.06ba/s]\n",
      "Uploading the dataset shards: 100%|██████████| 1/1 [00:26<00:00, 26.56s/it]\n"
     ]
    },
    {
     "data": {
      "text/plain": [
       "CommitInfo(commit_url='https://huggingface.co/datasets/voorhs/augmented/commit/133f760cc905ecd231b2e606bb556289541fead6', commit_message='Upload dataset', commit_description='', oid='133f760cc905ecd231b2e606bb556289541fead6', pr_url=None, pr_revision=None, pr_num=None)"
      ]
     },
     "execution_count": 8,
     "metadata": {},
     "output_type": "execute_result"
    }
   ],
   "source": [
    "dataset.push_to_hub('voorhs/augmented')"
   ]
  },
  {
   "cell_type": "markdown",
   "metadata": {},
   "source": [
    "## testing multiwoz-1-domain"
   ]
  },
  {
   "cell_type": "code",
   "execution_count": 1,
   "metadata": {},
   "outputs": [
    {
     "data": {
      "text/plain": [
       "8437"
      ]
     },
     "execution_count": 1,
     "metadata": {},
     "output_type": "execute_result"
    }
   ],
   "source": [
    "from mylib.datasets import MultiWOZServiceClfDataset\n",
    "\n",
    "dataset = MultiWOZServiceClfDataset(path='data/multiwoz', split='train')\n",
    "len(dataset)"
   ]
  },
  {
   "cell_type": "code",
   "execution_count": 3,
   "metadata": {},
   "outputs": [
    {
     "data": {
      "text/plain": [
       "1000"
      ]
     },
     "execution_count": 3,
     "metadata": {},
     "output_type": "execute_result"
    }
   ],
   "source": [
    "dataset = MultiWOZServiceClfDataset(path='data/multiwoz', split='validation')\n",
    "len(dataset)"
   ]
  },
  {
   "cell_type": "code",
   "execution_count": 2,
   "metadata": {},
   "outputs": [
    {
     "data": {
      "text/plain": [
       "3250"
      ]
     },
     "execution_count": 2,
     "metadata": {},
     "output_type": "execute_result"
    }
   ],
   "source": [
    "dataset = MultiWOZServiceClfDataset(path='data/multiwoz-1-domain', split='train')\n",
    "len(dataset)"
   ]
  },
  {
   "cell_type": "code",
   "execution_count": 5,
   "metadata": {},
   "outputs": [
    {
     "data": {
      "text/plain": [
       "209"
      ]
     },
     "execution_count": 5,
     "metadata": {},
     "output_type": "execute_result"
    }
   ],
   "source": [
    "dataset = MultiWOZServiceClfDataset(path='data/multiwoz-1-domain', split='validation')\n",
    "len(dataset)"
   ]
  },
  {
   "cell_type": "markdown",
   "metadata": {},
   "source": [
    "## backbone list"
   ]
  },
  {
   "cell_type": "code",
   "execution_count": 1,
   "metadata": {},
   "outputs": [],
   "source": [
    "hf_models = [\n",
    "    'google-bert/bert-base-uncased',\n",
    "    'Shitao/RetroMAE',\n",
    "    'FacebookAI/roberta-base',\n",
    "    'WhereIsAI/UAE-Large-V1'\n",
    "]"
   ]
  },
  {
   "cell_type": "code",
   "execution_count": 3,
   "metadata": {},
   "outputs": [
    {
     "name": "stdout",
     "output_type": "stream",
     "text": [
      "google-bert/bert-base-uncased ['[UNK]', '[SEP]', '[PAD]', '[CLS]', '[MASK]']\n",
      "Shitao/RetroMAE ['[UNK]', '[SEP]', '[PAD]', '[CLS]', '[MASK]']\n",
      "FacebookAI/roberta-base ['<s>', '</s>', '<unk>', '<pad>', '<mask>']\n",
      "WhereIsAI/UAE-Large-V1 ['[UNK]', '[SEP]', '[PAD]', '[CLS]', '[MASK]']\n"
     ]
    }
   ],
   "source": [
    "from transformers import AutoTokenizer\n",
    "\n",
    "for m in hf_models:\n",
    "    tokenizer = AutoTokenizer.from_pretrained(m)\n",
    "    print(m, tokenizer.all_special_tokens)\n"
   ]
  },
  {
   "cell_type": "code",
   "execution_count": 4,
   "metadata": {},
   "outputs": [
    {
     "data": {
      "text/plain": [
       "'<s>'"
      ]
     },
     "execution_count": 4,
     "metadata": {},
     "output_type": "execute_result"
    }
   ],
   "source": [
    "t = AutoTokenizer.from_pretrained('FacebookAI/roberta-base')\n",
    "t.cls_token"
   ]
  },
  {
   "cell_type": "markdown",
   "metadata": {},
   "source": [
    "## prune demo"
   ]
  },
  {
   "cell_type": "code",
   "execution_count": 4,
   "metadata": {},
   "outputs": [],
   "source": [
    "import json\n",
    "\n",
    "dias = json.load(open('data/augmented/prune-test/00000.json', 'r'))"
   ]
  },
  {
   "cell_type": "code",
   "execution_count": 7,
   "metadata": {},
   "outputs": [
    {
     "data": {
      "text/plain": [
       "{'content': [{'speaker': 0, 'utterance': 'Hello.'},\n",
       "  {'speaker': 0,\n",
       "   'utterance': 'I am looking for a flight from JFK to MSP, can you help me in booking?'},\n",
       "  {'speaker': 0, 'utterance': 'Myself Katherine Jones.'},\n",
       "  {'speaker': 0,\n",
       "   'utterance': 'I would like to return my journey for the morning flight.'},\n",
       "  {'speaker': 0,\n",
       "   'utterance': \"That's ok, no problem. Thank you for the information.\"}],\n",
       " 'source_dataset_name': 'AirDialogue',\n",
       " 'idx_within_source': 268933,\n",
       " 'id': 443619}"
      ]
     },
     "execution_count": 7,
     "metadata": {},
     "output_type": "execute_result"
    }
   ],
   "source": [
    "dias[2]"
   ]
  },
  {
   "cell_type": "markdown",
   "metadata": {},
   "source": [
    "## domain datasets"
   ]
  },
  {
   "cell_type": "code",
   "execution_count": 3,
   "metadata": {},
   "outputs": [
    {
     "data": {
      "text/plain": [
       "DatasetDict({\n",
       "    train: Dataset({\n",
       "        features: ['content', 'source_dataset_name', 'idx_within_source', 'services'],\n",
       "        num_rows: 8434\n",
       "    })\n",
       "    validation: Dataset({\n",
       "        features: ['content', 'source_dataset_name', 'idx_within_source', 'services'],\n",
       "        num_rows: 999\n",
       "    })\n",
       "    test: Dataset({\n",
       "        features: ['content', 'source_dataset_name', 'idx_within_source', 'services'],\n",
       "        num_rows: 1000\n",
       "    })\n",
       "})"
      ]
     },
     "execution_count": 3,
     "metadata": {},
     "output_type": "execute_result"
    }
   ],
   "source": [
    "from datasets import load_from_disk\n",
    "\n",
    "dataset = load_from_disk('data/benchmarks/MultiWOZ_2.1')\n",
    "dataset"
   ]
  },
  {
   "cell_type": "code",
   "execution_count": 6,
   "metadata": {},
   "outputs": [
    {
     "data": {
      "text/plain": [
       "16142"
      ]
     },
     "execution_count": 6,
     "metadata": {},
     "output_type": "execute_result"
    }
   ],
   "source": [
    "from mylib.datasets import DomainDataset\n",
    "\n",
    "dataset = DomainDataset('data/benchmarks/SGD', 'train')\n",
    "len(dataset)"
   ]
  },
  {
   "cell_type": "code",
   "execution_count": 7,
   "metadata": {},
   "outputs": [
    {
     "data": {
      "text/plain": [
       "([{'speaker': 0,\n",
       "   'utterance': \"I'm starving! Can you help me find a restaurant that serves Breakfast in Fairfield?\"},\n",
       "  {'speaker': 1,\n",
       "   'utterance': \"There is 1 restaurant that meets your needs. Mimi's Cafe in Fairfield serves breakfast.\"},\n",
       "  {'speaker': 0, 'utterance': 'Is there a band playing there?'},\n",
       "  {'speaker': 1,\n",
       "   'utterance': \"No, unfortunately, they don't offer live music.\"},\n",
       "  {'speaker': 0, 'utterance': \"That's okay. It will work anyway.\"},\n",
       "  {'speaker': 1, 'utterance': 'Do you wish to make a reservation?'},\n",
       "  {'speaker': 0,\n",
       "   'utterance': \"Yes, I'll need to make a reservation for a table for 2.\"},\n",
       "  {'speaker': 1, 'utterance': 'What time will you be visiting?'},\n",
       "  {'speaker': 0,\n",
       "   'utterance': 'Please make it for half past 5 in the evening.'},\n",
       "  {'speaker': 1,\n",
       "   'utterance': \"You'd like a table for 2 today at Mimi's Cafe in Fairfield at 5:30 pm. Is this correct?\"},\n",
       "  {'speaker': 0,\n",
       "   'utterance': \"I'm sorry, I need to change that. I'd like it on the 9th and it will be for 3 people.\"},\n",
       "  {'speaker': 1,\n",
       "   'utterance': \"Let's review those changes. You'd like the reservation on March 9th for 3. Have I got it right?\"},\n",
       "  {'speaker': 0,\n",
       "   'utterance': \"I'm sorry. I need to make it on Monday next week at half past 12 in the afternoon.\"},\n",
       "  {'speaker': 1,\n",
       "   'utterance': \"You'd like your reservation for 3 next Monday at 12:30 pm. Is that correct?\"},\n",
       "  {'speaker': 0,\n",
       "   'utterance': \"Yes, I'm sorry for the confusion. Can you tell me their phone number please?\"},\n",
       "  {'speaker': 1,\n",
       "   'utterance': 'The phone number is 707-421-0835. Your reservation is confirmed.'},\n",
       "  {'speaker': 0, 'utterance': 'Great! Thank you so much for your help.'},\n",
       "  {'speaker': 1, 'utterance': \"You're welcome. Have a nice day!\"}],\n",
       " tensor([0, 0, 0, 0, 0, 0, 0, 0, 0, 0, 0, 1, 0, 0, 0, 0]))"
      ]
     },
     "execution_count": 7,
     "metadata": {},
     "output_type": "execute_result"
    }
   ],
   "source": [
    "dataset[10]"
   ]
  }
 ],
 "metadata": {
  "kernelspec": {
   "display_name": "VENV",
   "language": "python",
   "name": "python3"
  },
  "language_info": {
   "codemirror_mode": {
    "name": "ipython",
    "version": 3
   },
   "file_extension": ".py",
   "mimetype": "text/x-python",
   "name": "python",
   "nbconvert_exporter": "python",
   "pygments_lexer": "ipython3",
   "version": "3.8.10"
  }
 },
 "nbformat": 4,
 "nbformat_minor": 2
}
