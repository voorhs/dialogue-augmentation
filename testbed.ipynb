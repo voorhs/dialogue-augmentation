{
 "cells": [
  {
   "cell_type": "code",
   "execution_count": 6,
   "metadata": {},
   "outputs": [
    {
     "name": "stderr",
     "output_type": "stream",
     "text": [
      "Downloading (…)lve/main/config.json: 100%|██████████| 615/615 [00:00<00:00, 80.3kB/s]\n",
      "Downloading (…)tencepiece.bpe.model: 100%|██████████| 5.07M/5.07M [00:00<00:00, 21.4MB/s]\n",
      "Downloading (…)/main/tokenizer.json: 100%|██████████| 9.10M/9.10M [00:00<00:00, 34.0MB/s]\n"
     ]
    },
    {
     "data": {
      "text/plain": [
       "250002"
      ]
     },
     "execution_count": 6,
     "metadata": {},
     "output_type": "execute_result"
    }
   ],
   "source": [
    "from transformers import AutoTokenizer\n",
    "\n",
    "tok = AutoTokenizer.from_pretrained('xlm-roberta-base')\n",
    "len(tok)"
   ]
  },
  {
   "cell_type": "code",
   "execution_count": 4,
   "metadata": {},
   "outputs": [
    {
     "name": "stderr",
     "output_type": "stream",
     "text": [
      "Downloading (…)okenizer_config.json: 100%|██████████| 300/300 [00:00<00:00, 45.1kB/s]\n",
      "Downloading (…)lve/main/config.json: 100%|██████████| 670/670 [00:00<00:00, 282kB/s]\n",
      "Downloading (…)solve/main/vocab.txt: 100%|██████████| 232k/232k [00:00<00:00, 22.3MB/s]\n",
      "Downloading (…)cial_tokens_map.json: 100%|██████████| 112/112 [00:00<00:00, 50.5kB/s]\n"
     ]
    },
    {
     "data": {
      "text/plain": [
       "30522"
      ]
     },
     "execution_count": 4,
     "metadata": {},
     "output_type": "execute_result"
    }
   ],
   "source": [
    "tok = AutoTokenizer.from_pretrained('Shitao/RetroMAE_MSMARCO')\n",
    "len(tok)"
   ]
  },
  {
   "cell_type": "code",
   "execution_count": 1,
   "metadata": {},
   "outputs": [
    {
     "data": {
      "text/plain": [
       "'500.json'"
      ]
     },
     "execution_count": 1,
     "metadata": {},
     "output_type": "execute_result"
    }
   ],
   "source": [
    "import os\n",
    "import json\n",
    "chunk_names = [fname for fname in os.listdir('data/augmented/back-translate/') if fname.endswith('.json')]\n",
    "chunk_names[414]"
   ]
  },
  {
   "cell_type": "markdown",
   "metadata": {},
   "source": [
    "## pyarrow dataset"
   ]
  },
  {
   "cell_type": "code",
   "execution_count": null,
   "metadata": {},
   "outputs": [],
   "source": []
  },
  {
   "cell_type": "code",
   "execution_count": 22,
   "metadata": {},
   "outputs": [
    {
     "data": {
      "text/plain": [
       "8437"
      ]
     },
     "execution_count": 22,
     "metadata": {},
     "output_type": "execute_result"
    }
   ],
   "source": [
    "from mylib.datasets import MultiWOZServiceClfDataset as Ds\n",
    "\n",
    "dataset = Ds('data-2/multiwoz/', split='train')\n",
    "len(dataset)"
   ]
  },
  {
   "cell_type": "code",
   "execution_count": 24,
   "metadata": {},
   "outputs": [
    {
     "data": {
      "text/plain": [
       "([{'speaker': 0,\n",
       "   'utterance': 'i need a place to dine in the center thats expensive'},\n",
       "  {'speaker': 1,\n",
       "   'utterance': 'I have several options for you; do you prefer African, Asian, or British food?'},\n",
       "  {'speaker': 0,\n",
       "   'utterance': 'Any sort of food would be fine, as long as it is a bit expensive. Could I get the phone number for your recommendation?'},\n",
       "  {'speaker': 1,\n",
       "   'utterance': 'There is an Afrian place named Bedouin in the centre. How does that sound?'},\n",
       "  {'speaker': 0,\n",
       "   'utterance': 'Sounds good, could I get that phone number? Also, could you recommend me an expensive hotel?'},\n",
       "  {'speaker': 1,\n",
       "   'utterance': \"Bedouin's phone is 01223367660. As far as hotels go, I recommend the University Arms Hotel in the center of town.\"},\n",
       "  {'speaker': 0, 'utterance': 'Yes. Can you book it for me?'},\n",
       "  {'speaker': 1, 'utterance': 'Sure, when would you like that reservation?'},\n",
       "  {'speaker': 0,\n",
       "   'utterance': 'i want to book it for 2 people and 2 nights starting from saturday.'},\n",
       "  {'speaker': 1,\n",
       "   'utterance': 'Your booking was successful. Your reference number is FRGZWQL2 . May I help you further?'},\n",
       "  {'speaker': 0, 'utterance': 'That is all I need to know. Thanks, good bye.'},\n",
       "  {'speaker': 1,\n",
       "   'utterance': 'Thank you so much for Cambridge TownInfo centre. Have a great day!'}],\n",
       " tensor([0., 0., 0., 1., 1., 0., 0.]))"
      ]
     },
     "execution_count": 24,
     "metadata": {},
     "output_type": "execute_result"
    }
   ],
   "source": [
    "dataset[0]"
   ]
  }
 ],
 "metadata": {
  "kernelspec": {
   "display_name": "VENV",
   "language": "python",
   "name": "python3"
  },
  "language_info": {
   "codemirror_mode": {
    "name": "ipython",
    "version": 3
   },
   "file_extension": ".py",
   "mimetype": "text/x-python",
   "name": "python",
   "nbconvert_exporter": "python",
   "pygments_lexer": "ipython3",
   "version": "3.8.10"
  }
 },
 "nbformat": 4,
 "nbformat_minor": 2
}
