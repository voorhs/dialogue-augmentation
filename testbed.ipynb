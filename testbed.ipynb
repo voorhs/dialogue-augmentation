{
 "cells": [
  {
   "cell_type": "markdown",
   "metadata": {},
   "source": [
    "# Variuos Stuff"
   ]
  },
  {
   "cell_type": "markdown",
   "metadata": {},
   "source": [
    "## Load Data"
   ]
  },
  {
   "cell_type": "code",
   "execution_count": 1,
   "metadata": {},
   "outputs": [
    {
     "name": "stderr",
     "output_type": "stream",
     "text": [
      "No config specified, defaulting to: multi_woz_v22/v2.2_active_only\n",
      "Reusing dataset multi_woz_v22 (/home/ilya/.cache/huggingface/datasets/multi_woz_v22/v2.2_active_only/2.2.0/7452f16a8b502e97df5c04cc4ee5436464762fa93b1ce778dd14181e79d8b51a)\n"
     ]
    },
    {
     "data": {
      "application/vnd.jupyter.widget-view+json": {
       "model_id": "09eae68161374358a20a08c767c0164f",
       "version_major": 2,
       "version_minor": 0
      },
      "text/plain": [
       "  0%|          | 0/3 [00:00<?, ?it/s]"
      ]
     },
     "metadata": {},
     "output_type": "display_data"
    },
    {
     "data": {
      "text/plain": [
       "DatasetDict({\n",
       "    train: Dataset({\n",
       "        features: ['dialogue_id', 'services', 'turns'],\n",
       "        num_rows: 8437\n",
       "    })\n",
       "    validation: Dataset({\n",
       "        features: ['dialogue_id', 'services', 'turns'],\n",
       "        num_rows: 1000\n",
       "    })\n",
       "    test: Dataset({\n",
       "        features: ['dialogue_id', 'services', 'turns'],\n",
       "        num_rows: 1000\n",
       "    })\n",
       "})"
      ]
     },
     "execution_count": 1,
     "metadata": {},
     "output_type": "execute_result"
    }
   ],
   "source": [
    "from datasets import load_dataset\n",
    "\n",
    "dataset = load_dataset(\"multi_woz_v22\")\n",
    "dataset"
   ]
  },
  {
   "cell_type": "markdown",
   "metadata": {},
   "source": [
    "## Extract Utterances"
   ]
  },
  {
   "cell_type": "code",
   "execution_count": 2,
   "metadata": {},
   "outputs": [],
   "source": [
    "topics = dataset['validation']['services']"
   ]
  },
  {
   "cell_type": "code",
   "execution_count": 3,
   "metadata": {},
   "outputs": [],
   "source": [
    "dialogues = []\n",
    "speaker_alias = \"AB\"\n",
    "for dia in dataset['validation']['turns']:\n",
    "    dialogues.append('\\n'.join([f'[{speaker_alias[s]}] {ut}' for ut, s in zip(dia['utterance'], dia['speaker'])]))"
   ]
  },
  {
   "cell_type": "code",
   "execution_count": 4,
   "metadata": {},
   "outputs": [
    {
     "name": "stdout",
     "output_type": "stream",
     "text": [
      "[A] I'm looking to get some information on the worth house hotel.\n",
      "[B] Its a guesthouse located in the north and very cheap. 4 star rating & offer free internet access & parking. Phone is 01223363682.\n",
      "[A] What's the postcode for it?\n",
      "[B] Sorry about that the postcode is cb41da. And they are located at 152 chesterton road.\n",
      "[A] Thank you. I also need a train going to Cambridge that arrives by 13:00.\n",
      "[B] There are a 546 trains traveling to Cambridge that arrives no later than 13:00. Where would you like to depart from?\n",
      "[A] I'll be leaving from Peterborough on Friday. Is there anything that arrives in Cambridge by 13:00?\n",
      "[B] Yes, TR6691 arrives by 12:38 and costs 16.50 pounds. Shall I book it for you?\n",
      "[A] No thank you, I just need to know the departure time.\n",
      "[B] 11:48. Anything else?\n",
      "[A] That's all I need. Thanks!\n",
      "[B] Glad I could help. Goodbye.\n"
     ]
    }
   ],
   "source": [
    "print(dialogues[100])"
   ]
  },
  {
   "cell_type": "code",
   "execution_count": 6,
   "metadata": {},
   "outputs": [
    {
     "data": {
      "text/plain": [
       "['train', 'hotel']"
      ]
     },
     "execution_count": 6,
     "metadata": {},
     "output_type": "execute_result"
    }
   ],
   "source": [
    "topics[100]"
   ]
  },
  {
   "cell_type": "code",
   "execution_count": 19,
   "metadata": {},
   "outputs": [],
   "source": [
    "n_dialogues = 15\n",
    "data = dataset['validation']['turns'][:n_dialogues]"
   ]
  },
  {
   "cell_type": "code",
   "execution_count": 20,
   "metadata": {},
   "outputs": [],
   "source": [
    "import pandas as pd\n",
    "\n",
    "\n",
    "utterances = []\n",
    "for dia in data:\n",
    "    utterances.extend(dia['utterance'])\n",
    "df = pd.DataFrame({'text': utterances})\n",
    "df.to_csv('utterances.csv')"
   ]
  },
  {
   "cell_type": "code",
   "execution_count": 21,
   "metadata": {},
   "outputs": [],
   "source": [
    "import json\n",
    "\n",
    "\n",
    "rle = [len(dia['utterance']) for dia in data]\n",
    "json.dump(rle, open('rle_utterances.json', 'w'))"
   ]
  },
  {
   "cell_type": "markdown",
   "metadata": {},
   "source": [
    "## `textattack` package"
   ]
  },
  {
   "cell_type": "markdown",
   "metadata": {},
   "source": [
    "[textattack augment](https://github.com/QData/TextAttack#augmenting-text-textattack-augment\n",
    ")"
   ]
  },
  {
   "cell_type": "code",
   "execution_count": 22,
   "metadata": {},
   "outputs": [],
   "source": [
    "from redlines import Redlines\n",
    "from IPython.display import Markdown, display\n",
    "\n",
    "\n",
    "speaker = \"AB\"\n",
    "def show_augmented(i, augmented):\n",
    "    orig = '\\n'.join([f'[{speaker[j%2]}] {ut}' for j, ut in enumerate(dataset['validation']['turns'][i]['utterance'])])\n",
    "    start = sum(rle[:i])\n",
    "    end = start + rle[i]\n",
    "    new = '\\n'.join([f'[{speaker[j%2]}] {ut}' for j, ut in enumerate(augmented[start:end])])\n",
    "\n",
    "    display(Markdown(Redlines(orig, new).output_markdown))"
   ]
  },
  {
   "cell_type": "code",
   "execution_count": 43,
   "metadata": {},
   "outputs": [],
   "source": [
    "def load_augmented(path, n_augs=3):\n",
    "    res = [[] for _ in range(n_augs)]\n",
    "    with open(path, 'r') as f:\n",
    "        f.readline()    # name of column\n",
    "        lines = f.readlines()\n",
    "        for j in range(n_augs):\n",
    "            for line in lines[j::n_augs]:\n",
    "                line = line.split(',')\n",
    "                res[j].append(','.join(line[1:]).rstrip())\n",
    "    return res"
   ]
  },
  {
   "cell_type": "markdown",
   "metadata": {},
   "source": [
    "### Embedding"
   ]
  },
  {
   "cell_type": "markdown",
   "metadata": {},
   "source": [
    "Заменяем слово на другое слово, эмбеддинг которого ближе всех к эмбеддингу заменяемого слова "
   ]
  },
  {
   "cell_type": "code",
   "execution_count": 24,
   "metadata": {},
   "outputs": [
    {
     "name": "stdout",
     "output_type": "stream",
     "text": [
      "\u001b[34;1mtextattack\u001b[0m: Read 240 rows from utterances.csv. Found columns {'', 'text'}.\n",
      "Augmenting rows: 100%|████████████████████████| 240/240 [00:35<00:00,  6.71it/s]\n",
      "\u001b[34;1mtextattack\u001b[0m: Wrote 720 augmentations to aug-embedding.csv in 38.22308373451233s.\n"
     ]
    }
   ],
   "source": [
    "! textattack augment\\\n",
    "    --input-csv utterances.csv\\\n",
    "    --output-csv aug-embedding.csv\\\n",
    "    --input-column text\\\n",
    "    --recipe embedding\\\n",
    "    --pct-words-to-swap .1\\\n",
    "    --transformations-per-example 3\\\n",
    "    --exclude-original"
   ]
  },
  {
   "cell_type": "code",
   "execution_count": 38,
   "metadata": {},
   "outputs": [
    {
     "data": {
      "text/markdown": [
       "[A] <span style='color:red;font-weight:700;text-decoration:line-through;'>I need </span><span style='color:green;font-weight:700;'>\"I necessary </span>a train from birmingham new street to cambridge, <span style='color:red;font-weight:700;text-decoration:line-through;'>please. </span><span style='color:green;font-weight:700;'>please.\" </span>\n",
       "\n",
       "[B] There are 133 trains traveling that <span style='color:red;font-weight:700;text-decoration:line-through;'>path. </span><span style='color:green;font-weight:700;'>camino. </span>What day would you like to travel on? \n",
       "\n",
       "[A] I would like to leave on Wednesday <span style='color:red;font-weight:700;text-decoration:line-through;'>sometime </span><span style='color:green;font-weight:700;'>occasionally </span>after 11:30. \n",
       "\n",
       "[B] How about the TR1670? It <span style='color:red;font-weight:700;text-decoration:line-through;'>meets </span><span style='color:green;font-weight:700;'>conforms </span>your specifications and leaves at 11:40. \n",
       "\n",
       "[A] How <span style='color:red;font-weight:700;text-decoration:line-through;'>long </span><span style='color:green;font-weight:700;'>lengthy </span>is the train ride? \n",
       "\n",
       "[B] <span style='color:red;font-weight:700;text-decoration:line-through;'>The </span><span style='color:green;font-weight:700;'>\"The </span>train ride is 163 minutes, does this suit your <span style='color:red;font-weight:700;text-decoration:line-through;'>needs? </span><span style='color:green;font-weight:700;'>needed?\" </span>\n",
       "\n",
       "[A] How much is the fare on that <span style='color:red;font-weight:700;text-decoration:line-through;'>train? </span><span style='color:green;font-weight:700;'>forming? </span>\n",
       "\n",
       "[B] It is 75.10 <span style='color:red;font-weight:700;text-decoration:line-through;'>pounds. </span><span style='color:green;font-weight:700;'>lb. </span>\n",
       "\n",
       "[A] What is the exact arrival time? I'm also looking for a place to dine in the <span style='color:red;font-weight:700;text-decoration:line-through;'>centre </span><span style='color:green;font-weight:700;'>centro </span>of town. I'm looking for an expensive <span style='color:red;font-weight:700;text-decoration:line-through;'>modern </span><span style='color:green;font-weight:700;'>modernity </span>european restaurant. \n",
       "\n",
       "[B] Let's take care of the train first. The train will arrive by 14:23 in Cambridge. <span style='color:red;font-weight:700;text-decoration:line-through;'>Would you like </span><span style='color:green;font-weight:700;'>Could you loves </span>to book a ticket? \n",
       "\n",
       "[A] <span style='color:red;font-weight:700;text-decoration:line-through;'>Thank </span><span style='color:green;font-weight:700;'>\"Thank </span>you I do not need to book the <span style='color:red;font-weight:700;text-decoration:line-through;'>train, </span><span style='color:green;font-weight:700;'>forming, </span>but I am looking for an expensive <span style='color:red;font-weight:700;text-decoration:line-through;'>restaurant </span><span style='color:green;font-weight:700;'>diner </span>in the centre of <span style='color:red;font-weight:700;text-decoration:line-through;'>town. </span><span style='color:green;font-weight:700;'>town.\" </span>\n",
       "\n",
       "[B] We have many expensive places in the center of <span style='color:red;font-weight:700;text-decoration:line-through;'>town! </span><span style='color:green;font-weight:700;'>municipality! </span>Is there a <span style='color:red;font-weight:700;text-decoration:line-through;'>particular </span><span style='color:green;font-weight:700;'>peculiar </span>type of cuisine you'd like to try? \n",
       "\n",
       "[A] I would like modern European <span style='color:red;font-weight:700;text-decoration:line-through;'>food. </span><span style='color:green;font-weight:700;'>alimentary. </span>\n",
       "\n",
       "[B] How about darrys cookhouse and <span style='color:red;font-weight:700;text-decoration:line-through;'>wine </span><span style='color:green;font-weight:700;'>vin </span>shop? \n",
       "\n",
       "[A] Yeah that should <span style='color:red;font-weight:700;text-decoration:line-through;'>work </span><span style='color:green;font-weight:700;'>cooperation </span>can I please get the address post code and phone number? \n",
       "\n",
       "[B] They are located at 40270 King Street City Centre. Postcode is cb11ln. <span style='color:red;font-weight:700;text-decoration:line-through;'>Phone </span><span style='color:green;font-weight:700;'>Phoned </span>number is 01223505015. Can I <span style='color:red;font-weight:700;text-decoration:line-through;'>book </span><span style='color:green;font-weight:700;'>cookbook </span>a table for you? \n",
       "\n",
       "[A] No <span style='color:red;font-weight:700;text-decoration:line-through;'>thank </span><span style='color:green;font-weight:700;'>gratitude </span>you. I will go ahead and book myself. <span style='color:red;font-weight:700;text-decoration:line-through;'>Thank </span><span style='color:green;font-weight:700;'>Thanked </span>you so much. This was all the info I needed. Have a good day. \n",
       "\n",
       "[B] <span style='color:red;font-weight:700;text-decoration:line-through;'>We </span><span style='color:green;font-weight:700;'>Ours </span>appreciate your business. Thank for using the Cambridge Towninfo centre! Have a great day!"
      ],
      "text/plain": [
       "<IPython.core.display.Markdown object>"
      ]
     },
     "metadata": {},
     "output_type": "display_data"
    }
   ],
   "source": [
    "augmented_emb = load_augmented('aug-embedding.csv')\n",
    "show_augmented(14, augmented_emb[0])"
   ]
  },
  {
   "cell_type": "markdown",
   "metadata": {},
   "source": [
    "Безконтекстная замена создает грамматические ошибки"
   ]
  },
  {
   "cell_type": "markdown",
   "metadata": {},
   "source": [
    "### Checklist"
   ]
  },
  {
   "cell_type": "markdown",
   "metadata": {},
   "source": [
    "Заменить названия, числа, удлиннить или укоротить фразы."
   ]
  },
  {
   "cell_type": "code",
   "execution_count": 46,
   "metadata": {},
   "outputs": [
    {
     "name": "stdout",
     "output_type": "stream",
     "text": [
      "\u001b[34;1mtextattack\u001b[0m: Read 240 rows from utterances.csv. Found columns {'', 'text'}.\n",
      "Augmenting rows:   0%|                                  | 0/240 [00:00<?, ?it/s]2023-07-28 16:09:20,729 SequenceTagger predicts: Dictionary with 20 tags: <unk>, O, S-ORG, S-MISC, B-PER, E-PER, S-LOC, B-ORG, E-ORG, I-PER, S-PER, B-MISC, I-MISC, E-MISC, I-ORG, B-LOC, E-LOC, I-LOC, <START>, <STOP>\n",
      "Augmenting rows: 100%|████████████████████████| 240/240 [00:14<00:00, 16.61it/s]\n",
      "\u001b[34;1mtextattack\u001b[0m: Wrote 240 augmentations to aug-checklist.csv in 14.455964088439941s.\n"
     ]
    }
   ],
   "source": [
    "! textattack augment\\\n",
    "    --input-csv utterances.csv\\\n",
    "    --output-csv aug-checklist.csv\\\n",
    "    --input-column text\\\n",
    "    --recipe checklist\\\n",
    "    --pct-words-to-swap .1\\\n",
    "    --transformations-per-example 1\\\n",
    "    --exclude-original"
   ]
  },
  {
   "cell_type": "code",
   "execution_count": 48,
   "metadata": {},
   "outputs": [
    {
     "data": {
      "text/markdown": [
       "[A] <span style='color:red;font-weight:700;text-decoration:line-through;'>I </span><span style='color:green;font-weight:700;'>\"I </span>need a train from <span style='color:red;font-weight:700;text-decoration:line-through;'>birmingham </span><span style='color:green;font-weight:700;'>St. Cloud </span>new street to cambridge, <span style='color:red;font-weight:700;text-decoration:line-through;'>please. </span><span style='color:green;font-weight:700;'>please.\" </span>\n",
       "\n",
       "[B] There are <span style='color:red;font-weight:700;text-decoration:line-through;'>133 </span><span style='color:green;font-weight:700;'>93 </span>trains traveling that path. What day would you like to travel on? \n",
       "\n",
       "[A] I would like to leave on Wednesday sometime after <span style='color:red;font-weight:700;text-decoration:line-through;'>11:30. </span><span style='color:green;font-weight:700;'>11:4. </span>\n",
       "\n",
       "[B] How about the TR1670? It meets your specifications and leaves at <span style='color:red;font-weight:700;text-decoration:line-through;'>11:40. </span><span style='color:green;font-weight:700;'>13:40. </span>\n",
       "\n",
       "[A] How long is the train ride? \n",
       "\n",
       "[B] <span style='color:red;font-weight:700;text-decoration:line-through;'>The </span><span style='color:green;font-weight:700;'>\"The </span>train ride is <span style='color:red;font-weight:700;text-decoration:line-through;'>163 </span><span style='color:green;font-weight:700;'>249 </span>minutes, does this suit your <span style='color:red;font-weight:700;text-decoration:line-through;'>needs? </span><span style='color:green;font-weight:700;'>needs?\" </span>\n",
       "\n",
       "[A] How much is the fare on that train? \n",
       "\n",
       "[B] It is <span style='color:red;font-weight:700;text-decoration:line-through;'>75.10 </span><span style='color:green;font-weight:700;'>75.16 </span>pounds. \n",
       "\n",
       "[A] What is the exact arrival time? I'm also looking for a place to dine in the centre of town. <span style='color:red;font-weight:700;text-decoration:line-through;'>I'm </span><span style='color:green;font-weight:700;'>I am </span>looking for an expensive modern european restaurant. \n",
       "\n",
       "[B] <span style='color:red;font-weight:700;text-decoration:line-through;'>Let's </span><span style='color:green;font-weight:700;'>Shon </span>take care of the train first. The train will arrive by <span style='color:red;font-weight:700;text-decoration:line-through;'>14:23 </span><span style='color:green;font-weight:700;'>14:37 </span>in Cambridge. Would you like to book a ticket? \n",
       "\n",
       "[A] <span style='color:red;font-weight:700;text-decoration:line-through;'>Thank you I do not </span><span style='color:green;font-weight:700;'>\"Thank you I don't </span>need to book the train, but <span style='color:red;font-weight:700;text-decoration:line-through;'>I am </span><span style='color:green;font-weight:700;'>I'm </span>looking for an expensive restaurant in the centre of <span style='color:red;font-weight:700;text-decoration:line-through;'>town. </span><span style='color:green;font-weight:700;'>town.\" </span>\n",
       "\n",
       "[B] We have many expensive places in the center of town! Is there a particular type of cuisine <span style='color:red;font-weight:700;text-decoration:line-through;'>you'd </span><span style='color:green;font-weight:700;'>you would </span>like to try? \n",
       "\n",
       "[A] <span style='color:red;font-weight:700;text-decoration:line-through;'>I would </span><span style='color:green;font-weight:700;'>I'd </span>like modern European food. \n",
       "\n",
       "[B] How about darrys cookhouse and wine shop? \n",
       "\n",
       "[A] Yeah that should work can I please get the address post code and phone number? \n",
       "\n",
       "[B] They are located at <span style='color:red;font-weight:700;text-decoration:line-through;'>40270 </span><span style='color:green;font-weight:700;'>35271 </span>King Street City Centre. Postcode is cb11ln. Phone number is <span style='color:red;font-weight:700;text-decoration:line-through;'>01223505015. </span><span style='color:green;font-weight:700;'>46547340. </span>Can I book a table for you? \n",
       "\n",
       "[A] No thank you. <span style='color:red;font-weight:700;text-decoration:line-through;'>I will </span><span style='color:green;font-weight:700;'>I'll </span>go ahead and book myself. Thank you so much. This was all the info I needed. Have a good day. \n",
       "\n",
       "[B] We appreciate your business. Thank for using the Cambridge Towninfo centre! Have a great day!"
      ],
      "text/plain": [
       "<IPython.core.display.Markdown object>"
      ]
     },
     "metadata": {},
     "output_type": "display_data"
    }
   ],
   "source": [
    "augmented_checklist = load_augmented('aug-checklist.csv', n_augs=1)\n",
    "show_augmented(14, augmented_checklist[0])"
   ]
  },
  {
   "cell_type": "markdown",
   "metadata": {},
   "source": [
    "### CLARE"
   ]
  },
  {
   "cell_type": "markdown",
   "metadata": {},
   "source": [
    "Заменяем токены, вставляем, соединяем и заменяем --- с помощью MLM."
   ]
  },
  {
   "cell_type": "code",
   "execution_count": 54,
   "metadata": {},
   "outputs": [
    {
     "name": "stdout",
     "output_type": "stream",
     "text": [
      "2023-07-28 16:24:01.653839: I tensorflow/core/platform/cpu_feature_guard.cc:182] This TensorFlow binary is optimized to use available CPU instructions in performance-critical operations.\n",
      "To enable the following instructions: AVX2 FMA, in other operations, rebuild TensorFlow with the appropriate compiler flags.\n",
      "2023-07-28 16:24:02.255426: W tensorflow/compiler/tf2tensorrt/utils/py_utils.cc:38] TF-TRT Warning: Could not find TensorRT\n",
      "2023-07-28 16:24:04.327086: I tensorflow/compiler/xla/stream_executor/cuda/cuda_gpu_executor.cc:995] successful NUMA node read from SysFS had negative value (-1), but there must be at least one NUMA node, so returning NUMA node zero. See more at https://github.com/torvalds/linux/blob/v6.0/Documentation/ABI/testing/sysfs-bus-pci#L344-L355\n",
      "2023-07-28 16:24:04.327460: W tensorflow/core/common_runtime/gpu/gpu_device.cc:1960] Cannot dlopen some GPU libraries. Please make sure the missing libraries mentioned above are installed properly if you would like to use GPU. Follow the guide at https://www.tensorflow.org/install/gpu for how to download and setup the required libraries for your platform.\n",
      "Skipping registering GPU devices...\n",
      "\u001b[34;1mtextattack\u001b[0m: Read 240 rows from utterances.csv. Found columns {'', 'text'}.\n",
      "If you want to use `RobertaLMHeadModel` as a standalone, add `is_decoder=True.`\n",
      "Augmenting rows:   0%|                                  | 0/240 [00:00<?, ?it/s]2023-07-28 16:24:12,118 SequenceTagger predicts: Dictionary with 19 tags: <unk>, NOUN, VERB, PUNCT, ADP, DET, PROPN, PRON, ADJ, ADV, CCONJ, PART, NUM, AUX, INTJ, SYM, X, <START>, <STOP>\n",
      "2023-07-28 16:26:55.027545: W tensorflow/tsl/framework/cpu_allocator_impl.cc:83] Allocation of 34133760 exceeds 10% of free system memory.\n",
      "2023-07-28 16:26:55.042949: W tensorflow/tsl/framework/cpu_allocator_impl.cc:83] Allocation of 34133760 exceeds 10% of free system memory.\n",
      "2023-07-28 16:26:55.056589: W tensorflow/tsl/framework/cpu_allocator_impl.cc:83] Allocation of 34133760 exceeds 10% of free system memory.\n",
      "2023-07-28 16:26:55.069804: W tensorflow/tsl/framework/cpu_allocator_impl.cc:83] Allocation of 34133760 exceeds 10% of free system memory.\n",
      "2023-07-28 16:26:55.082965: W tensorflow/tsl/framework/cpu_allocator_impl.cc:83] Allocation of 34133760 exceeds 10% of free system memory.\n",
      "Augmenting rows:  49%|███████████▋            | 117/240 [08:15<04:37,  2.26s/it]"
     ]
    }
   ],
   "source": [
    "! textattack augment\\\n",
    "    --input-csv utterances.csv\\\n",
    "    --output-csv aug-clare.csv\\\n",
    "    --input-column text\\\n",
    "    --recipe clare\\\n",
    "    --pct-words-to-swap .1\\\n",
    "    --transformations-per-example 1\\\n",
    "    --exclude-original"
   ]
  },
  {
   "cell_type": "markdown",
   "metadata": {},
   "source": [
    "## ChatGPT API"
   ]
  },
  {
   "cell_type": "code",
   "execution_count": 72,
   "metadata": {},
   "outputs": [
    {
     "data": {
      "text/plain": [
       "True"
      ]
     },
     "execution_count": 72,
     "metadata": {},
     "output_type": "execute_result"
    }
   ],
   "source": [
    "from dotenv import load_dotenv\n",
    "\n",
    "load_dotenv()"
   ]
  },
  {
   "cell_type": "code",
   "execution_count": 73,
   "metadata": {},
   "outputs": [],
   "source": [
    "import os\n",
    "import openai\n",
    "\n",
    "\n",
    "openai.api_key = os.environ['OPENAI_KEY']"
   ]
  },
  {
   "cell_type": "code",
   "execution_count": 74,
   "metadata": {},
   "outputs": [],
   "source": [
    "def get_completion(prompt, model=\"gpt-3.5-turbo\"):\n",
    "    messages = [{\"role\": \"user\", \"content\": prompt}]\n",
    "    response = openai.ChatCompletion.create(\n",
    "        model=model,\n",
    "        messages=messages,\n",
    "        temperature=0, # this is the degree of randomness of the model's output\n",
    "    )\n",
    "    return response.choices[0].message[\"content\"]"
   ]
  },
  {
   "cell_type": "code",
   "execution_count": 75,
   "metadata": {},
   "outputs": [],
   "source": [
    "prompt = \"\"\"\n",
    "Below, in triple backticks, is a dialogue between a client and a service worker on the topic of {topic}. The symbols [A] and [B] indicate the belonging of the remarks to the client and the employee (which of them specifically is unknown).\n",
    "\n",
    "Your task is to rewrite the original dialogue in an informal style. You can change the vocabulary. You can not change the order of the lines, change the meaning of the dialogue and phrases in general.\n",
    "\n",
    "Respond only with dialogue, without any additional comments.\n",
    "\n",
    "```{dialogue}```\n",
    "\"\"\""
   ]
  },
  {
   "cell_type": "code",
   "execution_count": 77,
   "metadata": {},
   "outputs": [
    {
     "ename": "RateLimitError",
     "evalue": "You exceeded your current quota, please check your plan and billing details.",
     "output_type": "error",
     "traceback": [
      "\u001b[0;31m---------------------------------------------------------------------------\u001b[0m",
      "\u001b[0;31mRateLimitError\u001b[0m                            Traceback (most recent call last)",
      "Cell \u001b[0;32mIn[77], line 5\u001b[0m\n\u001b[1;32m      3\u001b[0m \u001b[39mif\u001b[39;00m i \u001b[39m>\u001b[39m \u001b[39m10\u001b[39m:\n\u001b[1;32m      4\u001b[0m     \u001b[39mbreak\u001b[39;00m\n\u001b[0;32m----> 5\u001b[0m response \u001b[39m=\u001b[39m get_completion(prompt\u001b[39m.\u001b[39;49mformat(topic\u001b[39m=\u001b[39;49m\u001b[39m'\u001b[39;49m\u001b[39m, \u001b[39;49m\u001b[39m'\u001b[39;49m\u001b[39m.\u001b[39;49mjoin(topic), dialogue\u001b[39m=\u001b[39;49mdialogue))\n\u001b[1;32m      6\u001b[0m responses\u001b[39m.\u001b[39mappend(response)\n",
      "Cell \u001b[0;32mIn[74], line 3\u001b[0m, in \u001b[0;36mget_completion\u001b[0;34m(prompt, model)\u001b[0m\n\u001b[1;32m      1\u001b[0m \u001b[39mdef\u001b[39;00m \u001b[39mget_completion\u001b[39m(prompt, model\u001b[39m=\u001b[39m\u001b[39m\"\u001b[39m\u001b[39mgpt-3.5-turbo\u001b[39m\u001b[39m\"\u001b[39m):\n\u001b[1;32m      2\u001b[0m     messages \u001b[39m=\u001b[39m [{\u001b[39m\"\u001b[39m\u001b[39mrole\u001b[39m\u001b[39m\"\u001b[39m: \u001b[39m\"\u001b[39m\u001b[39muser\u001b[39m\u001b[39m\"\u001b[39m, \u001b[39m\"\u001b[39m\u001b[39mcontent\u001b[39m\u001b[39m\"\u001b[39m: prompt}]\n\u001b[0;32m----> 3\u001b[0m     response \u001b[39m=\u001b[39m openai\u001b[39m.\u001b[39;49mChatCompletion\u001b[39m.\u001b[39;49mcreate(\n\u001b[1;32m      4\u001b[0m         model\u001b[39m=\u001b[39;49mmodel,\n\u001b[1;32m      5\u001b[0m         messages\u001b[39m=\u001b[39;49mmessages,\n\u001b[1;32m      6\u001b[0m         temperature\u001b[39m=\u001b[39;49m\u001b[39m0\u001b[39;49m, \u001b[39m# this is the degree of randomness of the model's output\u001b[39;49;00m\n\u001b[1;32m      7\u001b[0m     )\n\u001b[1;32m      8\u001b[0m     \u001b[39mreturn\u001b[39;00m response\u001b[39m.\u001b[39mchoices[\u001b[39m0\u001b[39m]\u001b[39m.\u001b[39mmessage[\u001b[39m\"\u001b[39m\u001b[39mcontent\u001b[39m\u001b[39m\"\u001b[39m]\n",
      "File \u001b[0;32m~/.local/lib/python3.10/site-packages/openai/api_resources/chat_completion.py:25\u001b[0m, in \u001b[0;36mChatCompletion.create\u001b[0;34m(cls, *args, **kwargs)\u001b[0m\n\u001b[1;32m     23\u001b[0m \u001b[39mwhile\u001b[39;00m \u001b[39mTrue\u001b[39;00m:\n\u001b[1;32m     24\u001b[0m     \u001b[39mtry\u001b[39;00m:\n\u001b[0;32m---> 25\u001b[0m         \u001b[39mreturn\u001b[39;00m \u001b[39msuper\u001b[39;49m()\u001b[39m.\u001b[39;49mcreate(\u001b[39m*\u001b[39;49margs, \u001b[39m*\u001b[39;49m\u001b[39m*\u001b[39;49mkwargs)\n\u001b[1;32m     26\u001b[0m     \u001b[39mexcept\u001b[39;00m TryAgain \u001b[39mas\u001b[39;00m e:\n\u001b[1;32m     27\u001b[0m         \u001b[39mif\u001b[39;00m timeout \u001b[39mis\u001b[39;00m \u001b[39mnot\u001b[39;00m \u001b[39mNone\u001b[39;00m \u001b[39mand\u001b[39;00m time\u001b[39m.\u001b[39mtime() \u001b[39m>\u001b[39m start \u001b[39m+\u001b[39m timeout:\n",
      "File \u001b[0;32m~/.local/lib/python3.10/site-packages/openai/api_resources/abstract/engine_api_resource.py:153\u001b[0m, in \u001b[0;36mEngineAPIResource.create\u001b[0;34m(cls, api_key, api_base, api_type, request_id, api_version, organization, **params)\u001b[0m\n\u001b[1;32m    127\u001b[0m \u001b[39m@classmethod\u001b[39m\n\u001b[1;32m    128\u001b[0m \u001b[39mdef\u001b[39;00m \u001b[39mcreate\u001b[39m(\n\u001b[1;32m    129\u001b[0m     \u001b[39mcls\u001b[39m,\n\u001b[0;32m   (...)\u001b[0m\n\u001b[1;32m    136\u001b[0m     \u001b[39m*\u001b[39m\u001b[39m*\u001b[39mparams,\n\u001b[1;32m    137\u001b[0m ):\n\u001b[1;32m    138\u001b[0m     (\n\u001b[1;32m    139\u001b[0m         deployment_id,\n\u001b[1;32m    140\u001b[0m         engine,\n\u001b[0;32m   (...)\u001b[0m\n\u001b[1;32m    150\u001b[0m         api_key, api_base, api_type, api_version, organization, \u001b[39m*\u001b[39m\u001b[39m*\u001b[39mparams\n\u001b[1;32m    151\u001b[0m     )\n\u001b[0;32m--> 153\u001b[0m     response, _, api_key \u001b[39m=\u001b[39m requestor\u001b[39m.\u001b[39;49mrequest(\n\u001b[1;32m    154\u001b[0m         \u001b[39m\"\u001b[39;49m\u001b[39mpost\u001b[39;49m\u001b[39m\"\u001b[39;49m,\n\u001b[1;32m    155\u001b[0m         url,\n\u001b[1;32m    156\u001b[0m         params\u001b[39m=\u001b[39;49mparams,\n\u001b[1;32m    157\u001b[0m         headers\u001b[39m=\u001b[39;49mheaders,\n\u001b[1;32m    158\u001b[0m         stream\u001b[39m=\u001b[39;49mstream,\n\u001b[1;32m    159\u001b[0m         request_id\u001b[39m=\u001b[39;49mrequest_id,\n\u001b[1;32m    160\u001b[0m         request_timeout\u001b[39m=\u001b[39;49mrequest_timeout,\n\u001b[1;32m    161\u001b[0m     )\n\u001b[1;32m    163\u001b[0m     \u001b[39mif\u001b[39;00m stream:\n\u001b[1;32m    164\u001b[0m         \u001b[39m# must be an iterator\u001b[39;00m\n\u001b[1;32m    165\u001b[0m         \u001b[39massert\u001b[39;00m \u001b[39mnot\u001b[39;00m \u001b[39misinstance\u001b[39m(response, OpenAIResponse)\n",
      "File \u001b[0;32m~/.local/lib/python3.10/site-packages/openai/api_requestor.py:298\u001b[0m, in \u001b[0;36mAPIRequestor.request\u001b[0;34m(self, method, url, params, headers, files, stream, request_id, request_timeout)\u001b[0m\n\u001b[1;32m    277\u001b[0m \u001b[39mdef\u001b[39;00m \u001b[39mrequest\u001b[39m(\n\u001b[1;32m    278\u001b[0m     \u001b[39mself\u001b[39m,\n\u001b[1;32m    279\u001b[0m     method,\n\u001b[0;32m   (...)\u001b[0m\n\u001b[1;32m    286\u001b[0m     request_timeout: Optional[Union[\u001b[39mfloat\u001b[39m, Tuple[\u001b[39mfloat\u001b[39m, \u001b[39mfloat\u001b[39m]]] \u001b[39m=\u001b[39m \u001b[39mNone\u001b[39;00m,\n\u001b[1;32m    287\u001b[0m ) \u001b[39m-\u001b[39m\u001b[39m>\u001b[39m Tuple[Union[OpenAIResponse, Iterator[OpenAIResponse]], \u001b[39mbool\u001b[39m, \u001b[39mstr\u001b[39m]:\n\u001b[1;32m    288\u001b[0m     result \u001b[39m=\u001b[39m \u001b[39mself\u001b[39m\u001b[39m.\u001b[39mrequest_raw(\n\u001b[1;32m    289\u001b[0m         method\u001b[39m.\u001b[39mlower(),\n\u001b[1;32m    290\u001b[0m         url,\n\u001b[0;32m   (...)\u001b[0m\n\u001b[1;32m    296\u001b[0m         request_timeout\u001b[39m=\u001b[39mrequest_timeout,\n\u001b[1;32m    297\u001b[0m     )\n\u001b[0;32m--> 298\u001b[0m     resp, got_stream \u001b[39m=\u001b[39m \u001b[39mself\u001b[39;49m\u001b[39m.\u001b[39;49m_interpret_response(result, stream)\n\u001b[1;32m    299\u001b[0m     \u001b[39mreturn\u001b[39;00m resp, got_stream, \u001b[39mself\u001b[39m\u001b[39m.\u001b[39mapi_key\n",
      "File \u001b[0;32m~/.local/lib/python3.10/site-packages/openai/api_requestor.py:700\u001b[0m, in \u001b[0;36mAPIRequestor._interpret_response\u001b[0;34m(self, result, stream)\u001b[0m\n\u001b[1;32m    692\u001b[0m     \u001b[39mreturn\u001b[39;00m (\n\u001b[1;32m    693\u001b[0m         \u001b[39mself\u001b[39m\u001b[39m.\u001b[39m_interpret_response_line(\n\u001b[1;32m    694\u001b[0m             line, result\u001b[39m.\u001b[39mstatus_code, result\u001b[39m.\u001b[39mheaders, stream\u001b[39m=\u001b[39m\u001b[39mTrue\u001b[39;00m\n\u001b[1;32m    695\u001b[0m         )\n\u001b[1;32m    696\u001b[0m         \u001b[39mfor\u001b[39;00m line \u001b[39min\u001b[39;00m parse_stream(result\u001b[39m.\u001b[39miter_lines())\n\u001b[1;32m    697\u001b[0m     ), \u001b[39mTrue\u001b[39;00m\n\u001b[1;32m    698\u001b[0m \u001b[39melse\u001b[39;00m:\n\u001b[1;32m    699\u001b[0m     \u001b[39mreturn\u001b[39;00m (\n\u001b[0;32m--> 700\u001b[0m         \u001b[39mself\u001b[39;49m\u001b[39m.\u001b[39;49m_interpret_response_line(\n\u001b[1;32m    701\u001b[0m             result\u001b[39m.\u001b[39;49mcontent\u001b[39m.\u001b[39;49mdecode(\u001b[39m\"\u001b[39;49m\u001b[39mutf-8\u001b[39;49m\u001b[39m\"\u001b[39;49m),\n\u001b[1;32m    702\u001b[0m             result\u001b[39m.\u001b[39;49mstatus_code,\n\u001b[1;32m    703\u001b[0m             result\u001b[39m.\u001b[39;49mheaders,\n\u001b[1;32m    704\u001b[0m             stream\u001b[39m=\u001b[39;49m\u001b[39mFalse\u001b[39;49;00m,\n\u001b[1;32m    705\u001b[0m         ),\n\u001b[1;32m    706\u001b[0m         \u001b[39mFalse\u001b[39;00m,\n\u001b[1;32m    707\u001b[0m     )\n",
      "File \u001b[0;32m~/.local/lib/python3.10/site-packages/openai/api_requestor.py:763\u001b[0m, in \u001b[0;36mAPIRequestor._interpret_response_line\u001b[0;34m(self, rbody, rcode, rheaders, stream)\u001b[0m\n\u001b[1;32m    761\u001b[0m stream_error \u001b[39m=\u001b[39m stream \u001b[39mand\u001b[39;00m \u001b[39m\"\u001b[39m\u001b[39merror\u001b[39m\u001b[39m\"\u001b[39m \u001b[39min\u001b[39;00m resp\u001b[39m.\u001b[39mdata\n\u001b[1;32m    762\u001b[0m \u001b[39mif\u001b[39;00m stream_error \u001b[39mor\u001b[39;00m \u001b[39mnot\u001b[39;00m \u001b[39m200\u001b[39m \u001b[39m<\u001b[39m\u001b[39m=\u001b[39m rcode \u001b[39m<\u001b[39m \u001b[39m300\u001b[39m:\n\u001b[0;32m--> 763\u001b[0m     \u001b[39mraise\u001b[39;00m \u001b[39mself\u001b[39m\u001b[39m.\u001b[39mhandle_error_response(\n\u001b[1;32m    764\u001b[0m         rbody, rcode, resp\u001b[39m.\u001b[39mdata, rheaders, stream_error\u001b[39m=\u001b[39mstream_error\n\u001b[1;32m    765\u001b[0m     )\n\u001b[1;32m    766\u001b[0m \u001b[39mreturn\u001b[39;00m resp\n",
      "\u001b[0;31mRateLimitError\u001b[0m: You exceeded your current quota, please check your plan and billing details."
     ]
    }
   ],
   "source": [
    "responses = []\n",
    "for i, (topic, dialogue) in enumerate(zip(topics, dialogues)):\n",
    "    if i > 10:\n",
    "        break\n",
    "    response = get_completion(prompt.format(topic=', '.join(topic), dialogue=dialogue))\n",
    "    responses.append(response)"
   ]
  },
  {
   "cell_type": "code",
   "execution_count": 78,
   "metadata": {},
   "outputs": [
    {
     "data": {
      "text/plain": [
       "[]"
      ]
     },
     "execution_count": 78,
     "metadata": {},
     "output_type": "execute_result"
    }
   ],
   "source": [
    "responses"
   ]
  },
  {
   "cell_type": "markdown",
   "metadata": {},
   "source": [
    "## ChatGPT Web UI"
   ]
  },
  {
   "cell_type": "code",
   "execution_count": 69,
   "metadata": {},
   "outputs": [],
   "source": [
    "from redlines import Redlines\n",
    "from IPython.display import Markdown, display\n",
    "\n",
    "\n",
    "def test(orig, new):\n",
    "    test = Redlines(orig, new)\n",
    "    display(Markdown(test.output_markdown))"
   ]
  },
  {
   "cell_type": "markdown",
   "metadata": {},
   "source": [
    "### Stop Utterances"
   ]
  },
  {
   "cell_type": "markdown",
   "metadata": {},
   "source": [
    "Промт такой:\n",
    "```\n",
    "Below, in triple quotes, is a dialogue between a client and a service worker on the topic of hotel, taxi and entertainment. The symbols [A] and [B] indicate the belonging of the replicas to the client and the employee (which of them specifically is unknown).\n",
    "\n",
    "Your task is to add to some replicas such phrases that do not add or distort the meaning of the dialogue as a whole, do not change the sequence of replies of the speakers. Added phrases should be no longer than 5-10 words. You can add to any part of the dialogue and to any part of phrases.\n",
    "\n",
    "You are not allowed to delete words and phrases or change the words of the original dialogue in any way. The final dialogue must comply with the rules of grammar.\n",
    "\n",
    "Are you ready to get dialogue in triple quotes? Say yes or no\n",
    "```"
   ]
  },
  {
   "cell_type": "code",
   "execution_count": 49,
   "metadata": {},
   "outputs": [],
   "source": [
    "orig = \"\"\"\n",
    "[A] My husband and I are celebrating our anniversary and want to find a great place to stay in town.\n",
    "[B] Congratulations on your upcoming anniversary! Cambridge offers a variety of lodging options, what is your price range?\n",
    "[A] I would like a 4 star guesthouse that includes free parking.\n",
    "[B] I have several options for you, is there a particular area you are interested in during your stay?\n",
    "[A] yes should be in the west\n",
    "[B] I have one guesthouse that fits that criteria, Finches Bed and Breakfast. Would you like me to book for you?\n",
    "[A] Yes, please! We'll arrive on Monday and stay 2 nights. Just the two of us, of course!\n",
    "[B] Ok, your hotel stay at Finches Bed and Breakfast is booked, Reference number FKRO2HOW . Will there be anything else?\n",
    "[A] I am wanting to know more about the Cambridge Museum of Technology.\n",
    "[B] Sure, it's located in the centre area of town. The phone number is 01223368650. The entrance fee is 5 pounds.\n",
    "[A] What is the address, please.\n",
    "[B] The address is the old pumping station, cheddars lane. Did you want any more information about the museum?\n",
    "[A] Yes, I need the entrance fee. I will also need a taxi to pick me up by 24:30. I need the contact number and car type please.\n",
    "[B] The entrance fee is 5 pounds.\n",
    "[A] Can you book the taxi for me at 24:30 leaving from the museum please. I will need the contact number and the car type.\n",
    "[B] and what is your destination ?\n",
    "[A] I will leave the Cambridge Museum at 24:30, going to the the Finches Bed and Breakfast.\n",
    "[B] Your taxi has been booked. It will be a grey volvo and the contact number is 07239297218.\n",
    "[A] Thanks so much. That is all I need for today. Bye.\n",
    "[B] Have a nice stay!\n",
    "\"\"\""
   ]
  },
  {
   "cell_type": "code",
   "execution_count": 50,
   "metadata": {},
   "outputs": [],
   "source": [
    "new = \"\"\"\n",
    "<A> My husband and I are celebrating our anniversary and want to find a great place to stay in town.\n",
    "<B> Congratulations on your upcoming anniversary! Cambridge offers a variety of lodging options, what is your price range?\n",
    "<A> I would like a 4-star guesthouse that includes free parking, please.\n",
    "<B> I have several options for you. Is there a particular area you are interested in during your stay?\n",
    "<A> Yes, it should be in the west, please.\n",
    "<B> I have one guesthouse that fits that criteria, Finches Bed and Breakfast. Would you like me to book it for you?\n",
    "<A> Yes, please! We'll arrive on Monday and stay 2 nights. Just the two of us, of course!\n",
    "<B> Ok, your hotel stay at Finches Bed and Breakfast is booked, Reference number FKRO2HOW. Will there be anything else?\n",
    "<A> I am wanting to know more about the Cambridge Museum of Technology, actually.\n",
    "<B> Sure, it's located in the center area of town. The phone number is 01223368650. The entrance fee is 5 pounds.\n",
    "<A> What is the address, please.\n",
    "<B> The address is the old pumping station, Cheddars Lane. Did you want any more information about the museum?\n",
    "<A> Yes, I need the entrance fee. Also, I will need a taxi to pick me up by 24:30. Can you provide the contact number and car type, please?\n",
    "<B> The entrance fee is 5 pounds.\n",
    "<A> Can you book the taxi for me at 24:30, leaving from the museum, please? I will need the contact number and the car type.\n",
    "<B> Sure, and what is your destination?\n",
    "<A> I will leave the Cambridge Museum at 24:30, going to Finches Bed and Breakfast.\n",
    "<B> Your taxi has been booked. It will be a grey Volvo, and the contact number is 07239297218.\n",
    "<A> Thanks so much. That is all I need for today. Bye.\n",
    "<B> Have a nice stay!\n",
    "\"\"\""
   ]
  },
  {
   "cell_type": "code",
   "execution_count": 55,
   "metadata": {},
   "outputs": [],
   "source": [
    "def repl(txt):\n",
    "    txt = txt.replace('<', '[')\n",
    "    return txt.replace('>', ']')"
   ]
  },
  {
   "cell_type": "code",
   "execution_count": 56,
   "metadata": {},
   "outputs": [],
   "source": [
    "new = repl(new)"
   ]
  },
  {
   "cell_type": "code",
   "execution_count": 61,
   "metadata": {},
   "outputs": [
    {
     "data": {
      "text/markdown": [
       "[A] My husband and I are celebrating our anniversary and want to find a great place to stay in town. \n",
       "\n",
       "[B] Congratulations on your upcoming anniversary! Cambridge offers a variety of lodging options, what is your price range? \n",
       "\n",
       "[A] I would like a <span style='color:red;font-weight:700;text-decoration:line-through;'>4 star </span><span style='color:green;font-weight:700;'>4-star </span>guesthouse that includes free <span style='color:red;font-weight:700;text-decoration:line-through;'>parking. </span><span style='color:green;font-weight:700;'>parking, please. </span>\n",
       "\n",
       "[B] I have several options for <span style='color:red;font-weight:700;text-decoration:line-through;'>you, is </span><span style='color:green;font-weight:700;'>you. Is </span>there a particular area you are interested in during your stay? \n",
       "\n",
       "[A] <span style='color:red;font-weight:700;text-decoration:line-through;'>yes </span><span style='color:green;font-weight:700;'>Yes, it </span>should be in the <span style='color:red;font-weight:700;text-decoration:line-through;'>west </span><span style='color:green;font-weight:700;'>west, please. </span>\n",
       "\n",
       "[B] I have one guesthouse that fits that criteria, Finches Bed and Breakfast. Would you like me to book <span style='color:green;font-weight:700;'>it </span>for you? \n",
       "\n",
       "[A] Yes, please! We'll arrive on Monday and stay 2 nights. Just the two of us, of course! \n",
       "\n",
       "[B] Ok, your hotel stay at Finches Bed and Breakfast is booked, Reference number <span style='color:red;font-weight:700;text-decoration:line-through;'>FKRO2HOW . </span><span style='color:green;font-weight:700;'>FKRO2HOW. </span>Will there be anything else? \n",
       "\n",
       "[A] I am wanting to know more about the Cambridge Museum of <span style='color:red;font-weight:700;text-decoration:line-through;'>Technology. </span><span style='color:green;font-weight:700;'>Technology, actually. </span>\n",
       "\n",
       "[B] Sure, it's located in the <span style='color:red;font-weight:700;text-decoration:line-through;'>centre </span><span style='color:green;font-weight:700;'>center </span>area of town. The phone number is 01223368650. The entrance fee is 5 pounds. \n",
       "\n",
       "[A] What is the address, please. \n",
       "\n",
       "[B] The address is the old pumping station, <span style='color:red;font-weight:700;text-decoration:line-through;'>cheddars lane. </span><span style='color:green;font-weight:700;'>Cheddars Lane. </span>Did you want any more information about the museum? \n",
       "\n",
       "[A] Yes, I need the entrance fee. <span style='color:green;font-weight:700;'>Also, </span>I will <span style='color:red;font-weight:700;text-decoration:line-through;'>also </span>need a taxi to pick me up by 24:30. <span style='color:red;font-weight:700;text-decoration:line-through;'>I need </span><span style='color:green;font-weight:700;'>Can you provide </span>the contact number and car <span style='color:red;font-weight:700;text-decoration:line-through;'>type please. </span><span style='color:green;font-weight:700;'>type, please? </span>\n",
       "\n",
       "[B] The entrance fee is 5 pounds. \n",
       "\n",
       "[A] Can you book the taxi for me at <span style='color:red;font-weight:700;text-decoration:line-through;'>24:30 </span><span style='color:green;font-weight:700;'>24:30, </span>leaving from the <span style='color:red;font-weight:700;text-decoration:line-through;'>museum please. </span><span style='color:green;font-weight:700;'>museum, please? </span>I will need the contact number and the car type. \n",
       "\n",
       "[B] <span style='color:green;font-weight:700;'>Sure, </span>and what is your <span style='color:red;font-weight:700;text-decoration:line-through;'>destination ? </span><span style='color:green;font-weight:700;'>destination? </span>\n",
       "\n",
       "[A] I will leave the Cambridge Museum at 24:30, going to <span style='color:red;font-weight:700;text-decoration:line-through;'>the the </span>Finches Bed and Breakfast. \n",
       "\n",
       "[B] Your taxi has been booked. It will be a grey <span style='color:red;font-weight:700;text-decoration:line-through;'>volvo </span><span style='color:green;font-weight:700;'>Volvo, </span>and the contact number is 07239297218. \n",
       "\n",
       "[A] Thanks so much. That is all I need for today. Bye. \n",
       "\n",
       "[B] Have a nice stay!"
      ],
      "text/plain": [
       "<IPython.core.display.Markdown object>"
      ]
     },
     "metadata": {},
     "output_type": "display_data"
    }
   ],
   "source": [
    "test(orig, new)"
   ]
  },
  {
   "cell_type": "code",
   "execution_count": 63,
   "metadata": {},
   "outputs": [],
   "source": [
    "new2 = \"\"\"\n",
    "<A> My husband and I are celebrating our anniversary and want to find a great place to stay in town.\n",
    "<B> Congratulations on your upcoming anniversary! Cambridge offers a variety of lodging options, what is your price range?\n",
    "<A> I would like a 4-star guesthouse that includes free parking, please.\n",
    "<B> I have several options for you. Is there a particular area in the west you are interested in during your stay?\n",
    "<A> Yes, it should be in the west.\n",
    "<B> I have one guesthouse that fits that criteria, Finches Bed and Breakfast. Would you like me to book it for you?\n",
    "<A> Yes, please! We'll arrive on Monday and stay 2 nights, just the two of us, of course!\n",
    "<B> Ok, your hotel stay at Finches Bed and Breakfast is booked. Here is the reference number FKRO2HOW. Will there be anything else?\n",
    "<A> I am wanting to know more about the Cambridge Museum of Technology.\n",
    "<B> Sure, it's located in the center area of town. The phone number is 01223368650. The entrance fee is 5 pounds.\n",
    "<A> What is the address, please?\n",
    "<B> The address is the old pumping station, Cheddars Lane. Did you want any more information about the museum?\n",
    "<A> Yes, I need to know the entrance fee. I will also need a taxi to pick me up by 24:30. Could you provide the contact number and car type, please?\n",
    "<B> The entrance fee is 5 pounds.\n",
    "<A> Can you please book the taxi for me at 24:30, leaving from the museum? I will need the contact number and the car type.\n",
    "<B> Sure, your taxi has been booked. It will be a grey Volvo, and the contact number is 07239297218.\n",
    "<A> Thanks so much. That is all I need for today. Bye.\n",
    "<B> Have a nice stay!\n",
    "\"\"\""
   ]
  },
  {
   "cell_type": "code",
   "execution_count": 64,
   "metadata": {},
   "outputs": [
    {
     "data": {
      "text/markdown": [
       "[A] My husband and I are celebrating our anniversary and want to find a great place to stay in town. \n",
       "\n",
       "[B] Congratulations on your upcoming anniversary! Cambridge offers a variety of lodging options, what is your price range? \n",
       "\n",
       "[A] I would like a <span style='color:red;font-weight:700;text-decoration:line-through;'>4 star </span><span style='color:green;font-weight:700;'>4-star </span>guesthouse that includes free <span style='color:red;font-weight:700;text-decoration:line-through;'>parking. </span><span style='color:green;font-weight:700;'>parking, please. </span>\n",
       "\n",
       "[B] I have several options for <span style='color:red;font-weight:700;text-decoration:line-through;'>you, is </span><span style='color:green;font-weight:700;'>you. Is </span>there a particular area <span style='color:green;font-weight:700;'>in the west </span>you are interested in during your stay? \n",
       "\n",
       "[A] <span style='color:red;font-weight:700;text-decoration:line-through;'>yes </span><span style='color:green;font-weight:700;'>Yes, it </span>should be in the <span style='color:red;font-weight:700;text-decoration:line-through;'>west </span><span style='color:green;font-weight:700;'>west. </span>\n",
       "\n",
       "[B] I have one guesthouse that fits that criteria, Finches Bed and Breakfast. Would you like me to book <span style='color:green;font-weight:700;'>it </span>for you? \n",
       "\n",
       "[A] Yes, please! We'll arrive on Monday and stay 2 <span style='color:red;font-weight:700;text-decoration:line-through;'>nights. Just </span><span style='color:green;font-weight:700;'>nights, just </span>the two of us, of course! \n",
       "\n",
       "[B] Ok, your hotel stay at Finches Bed and Breakfast is <span style='color:red;font-weight:700;text-decoration:line-through;'>booked, Reference number FKRO2HOW . </span><span style='color:green;font-weight:700;'>booked. Here is the reference number FKRO2HOW. </span>Will there be anything else? \n",
       "\n",
       "[A] I am wanting to know more about the Cambridge Museum of Technology. \n",
       "\n",
       "[B] Sure, it's located in the <span style='color:red;font-weight:700;text-decoration:line-through;'>centre </span><span style='color:green;font-weight:700;'>center </span>area of town. The phone number is 01223368650. The entrance fee is 5 pounds. \n",
       "\n",
       "[A] What is the address, <span style='color:red;font-weight:700;text-decoration:line-through;'>please. </span><span style='color:green;font-weight:700;'>please? </span>\n",
       "\n",
       "[B] The address is the old pumping station, <span style='color:red;font-weight:700;text-decoration:line-through;'>cheddars lane. </span><span style='color:green;font-weight:700;'>Cheddars Lane. </span>Did you want any more information about the museum? \n",
       "\n",
       "[A] Yes, I need <span style='color:green;font-weight:700;'>to know </span>the entrance fee. I will also need a taxi to pick me up by 24:30. <span style='color:red;font-weight:700;text-decoration:line-through;'>I need </span><span style='color:green;font-weight:700;'>Could you provide </span>the contact number and car <span style='color:red;font-weight:700;text-decoration:line-through;'>type please. </span><span style='color:green;font-weight:700;'>type, please? </span>\n",
       "\n",
       "[B] The entrance fee is 5 pounds. \n",
       "\n",
       "[A] Can you <span style='color:green;font-weight:700;'>please </span>book the taxi for me at <span style='color:red;font-weight:700;text-decoration:line-through;'>24:30 </span><span style='color:green;font-weight:700;'>24:30, </span>leaving from the <span style='color:red;font-weight:700;text-decoration:line-through;'>museum please. </span><span style='color:green;font-weight:700;'>museum? </span>I will need the contact number and the car type. \n",
       "\n",
       "[B] <span style='color:red;font-weight:700;text-decoration:line-through;'>and what is your destination ? ¶ [A] I will leave the Cambridge Museum at 24:30, going to the the Finches Bed and Breakfast. ¶ [B] Your </span><span style='color:green;font-weight:700;'>Sure, your </span>taxi has been booked. It will be a grey <span style='color:red;font-weight:700;text-decoration:line-through;'>volvo </span><span style='color:green;font-weight:700;'>Volvo, </span>and the contact number is 07239297218. \n",
       "\n",
       "[A] Thanks so much. That is all I need for today. Bye. \n",
       "\n",
       "[B] Have a nice stay!"
      ],
      "text/plain": [
       "<IPython.core.display.Markdown object>"
      ]
     },
     "metadata": {},
     "output_type": "display_data"
    }
   ],
   "source": [
    "test(orig, new2)"
   ]
  },
  {
   "cell_type": "markdown",
   "metadata": {},
   "source": [
    "### Informal Style"
   ]
  },
  {
   "cell_type": "markdown",
   "metadata": {},
   "source": [
    "Промт:\n",
    "```\n",
    "Below, in triple quotes, is a dialogue between a client and a service worker on the topic of a hotel, taxi and entertainment. The symbols [A] and [B] indicate the belonging of the remarks to the client and the employee (which of them specifically is unknown).\n",
    "\n",
    "Your task is to rewrite the original dialogue in an informal style. You can change the vocabulary. You can not change the order of the lines, change the meaning of the dialogue and phrases in general.\n",
    "\n",
    "Are you ready to get the dialogue in triple quotes? Say yes or no\n",
    "```"
   ]
  },
  {
   "cell_type": "code",
   "execution_count": null,
   "metadata": {},
   "outputs": [],
   "source": [
    "new = \"\"\"\n",
    "[A] Hey, my hubby and I are gonna celebrate our anniversary and we're on the hunt for an awesome place to crash in town.\n",
    "[B] Oh, congrats on your upcoming anniversary! Cambridge has lots of places to stay. What's your budget like?\n",
    "[A] I'm thinking a 4-star guesthouse with free parking.\n",
    "[B] Gotcha! Any specific area you wanna be in during your stay?\n",
    "[A] Yeah, somewhere in the west would be perfect.\n",
    "[B] Cool, I've got one option that fits the bill: Finches Bed and Breakfast. Wanna book it?\n",
    "[A] Absolutely! We'll be rolling in on Monday and staying for 2 nights. Just us two, ya know!\n",
    "[B] Awesome! I've booked your stay at Finches Bed and Breakfast. Your reference number is FKRO2HOW. Need anything else?\n",
    "[A] Yeah, I wanna know more about the Cambridge Museum of Technology.\n",
    "[B] No problemo! It's in the center of town. You can reach them at 01223368650, and the entrance fee is 5 quid.\n",
    "[A] Sweet, thanks! And where exactly is it located?\n",
    "[B] The address is the old pumping station, Cheddars Lane. Need more info about the museum?\n",
    "[A] Yeah, I need the entrance fee again. Oh, and I'll also need a cab to pick us up at 24:30. Can you give me the contact number and car type, please?\n",
    "[B] Entrance fee is 5 quid, just to remind ya. And sure thing, I've booked the taxi for ya. It'll be a grey Volvo, and the contact number is 07239297218.\n",
    "[A] Thanks a bunch! That's all I needed for today. Bye!\n",
    "[B] Have a blast during your stay! Enjoy!\n",
    "\"\"\""
   ]
  }
 ],
 "metadata": {
  "kernelspec": {
   "display_name": "Python 3",
   "language": "python",
   "name": "python3"
  },
  "language_info": {
   "codemirror_mode": {
    "name": "ipython",
    "version": 3
   },
   "file_extension": ".py",
   "mimetype": "text/x-python",
   "name": "python",
   "nbconvert_exporter": "python",
   "pygments_lexer": "ipython3",
   "version": "3.10.6"
  },
  "orig_nbformat": 4
 },
 "nbformat": 4,
 "nbformat_minor": 2
}
